{
 "cells": [
  {
   "cell_type": "markdown",
   "metadata": {},
   "source": [
    "# Load Packages"
   ]
  },
  {
   "cell_type": "code",
   "execution_count": 54,
   "metadata": {},
   "outputs": [
    {
     "name": "stdout",
     "output_type": "stream",
     "text": [
      "Collecting keras-metrics\n",
      "  Downloading https://files.pythonhosted.org/packages/01/07/ec2bde74ed865b56cbeb44fc1cf414d17cc828ac68e4998a8106717d282b/keras_metrics-0.0.5-py2.py3-none-any.whl\n",
      "Requirement already satisfied: Keras>=2.1.5 in /home/raymondleemids/anaconda3/lib/python3.6/site-packages (from keras-metrics) (2.2.4)\n",
      "Requirement already satisfied: six>=1.9.0 in /home/raymondleemids/anaconda3/lib/python3.6/site-packages (from Keras>=2.1.5->keras-metrics) (1.11.0)\n",
      "Requirement already satisfied: numpy>=1.9.1 in /home/raymondleemids/anaconda3/lib/python3.6/site-packages (from Keras>=2.1.5->keras-metrics) (1.14.3)\n",
      "Requirement already satisfied: keras-preprocessing>=1.0.5 in /home/raymondleemids/anaconda3/lib/python3.6/site-packages (from Keras>=2.1.5->keras-metrics) (1.0.5)\n",
      "Requirement already satisfied: pyyaml in /home/raymondleemids/anaconda3/lib/python3.6/site-packages (from Keras>=2.1.5->keras-metrics) (3.12)\n",
      "Requirement already satisfied: h5py in /home/raymondleemids/anaconda3/lib/python3.6/site-packages (from Keras>=2.1.5->keras-metrics) (2.7.1)\n",
      "Requirement already satisfied: scipy>=0.14 in /home/raymondleemids/anaconda3/lib/python3.6/site-packages (from Keras>=2.1.5->keras-metrics) (1.1.0)\n",
      "Requirement already satisfied: keras-applications>=1.0.6 in /home/raymondleemids/anaconda3/lib/python3.6/site-packages (from Keras>=2.1.5->keras-metrics) (1.0.6)\n",
      "Installing collected packages: keras-metrics\n",
      "Successfully installed keras-metrics-0.0.5\n",
      "\u001b[33mYou are using pip version 18.0, however version 18.1 is available.\n",
      "You should consider upgrading via the 'pip install --upgrade pip' command.\u001b[0m\n"
     ]
    }
   ],
   "source": [
    "# !pip install pydot\n",
    "# !pip install keras-metrics"
   ]
  },
  {
   "cell_type": "code",
   "execution_count": 1,
   "metadata": {},
   "outputs": [
    {
     "name": "stderr",
     "output_type": "stream",
     "text": [
      "/home/raymondleemids/anaconda3/lib/python3.6/site-packages/h5py/__init__.py:36: FutureWarning: Conversion of the second argument of issubdtype from `float` to `np.floating` is deprecated. In future, it will be treated as `np.float64 == np.dtype(float).type`.\n",
      "  from ._conv import register_converters as _register_converters\n",
      "Using TensorFlow backend.\n"
     ]
    },
    {
     "data": {
      "text/html": [
       "<script type=\"text/javascript\">window.PlotlyConfig = {MathJaxConfig: 'local'};</script><script type=\"text/javascript\">if (window.MathJax) {MathJax.Hub.Config({SVG: {font: \"STIX-Web\"}});}</script><script>requirejs.config({paths: { 'plotly': ['https://cdn.plot.ly/plotly-latest.min']},});if(!window._Plotly) {require(['plotly'],function(plotly) {window._Plotly=plotly;});}</script>"
      ],
      "text/vnd.plotly.v1+html": [
       "<script type=\"text/javascript\">window.PlotlyConfig = {MathJaxConfig: 'local'};</script><script type=\"text/javascript\">if (window.MathJax) {MathJax.Hub.Config({SVG: {font: \"STIX-Web\"}});}</script><script>requirejs.config({paths: { 'plotly': ['https://cdn.plot.ly/plotly-latest.min']},});if(!window._Plotly) {require(['plotly'],function(plotly) {window._Plotly=plotly;});}</script>"
      ]
     },
     "metadata": {},
     "output_type": "display_data"
    }
   ],
   "source": [
    "# Keras\n",
    "from keras.preprocessing.text import Tokenizer\n",
    "from keras.preprocessing.sequence import pad_sequences\n",
    "from keras.models import Sequential\n",
    "from keras.layers import Dense, Flatten, LSTM, Conv1D, MaxPooling1D, Dropout, Activation\n",
    "from keras.layers.embeddings import Embedding\n",
    "from keras.models import model_from_json\n",
    "from keras.preprocessing.text import text_to_word_sequence\n",
    "from keras.utils.vis_utils import plot_model\n",
    "from keras import metrics\n",
    "# from keras import history\n",
    "import pydot\n",
    "\n",
    "## Plot\n",
    "import plotly.offline as py\n",
    "import plotly.graph_objs as go\n",
    "py.init_notebook_mode(connected=True)\n",
    "import matplotlib as plt\n",
    "# import matplotlib.pyplot\n",
    "\n",
    "# # NLTK\n",
    "# import nltk\n",
    "# from nltk.corpus import stopwords\n",
    "# nltk.download('stopwords')\n",
    "# from nltk.stem import SnowballStemmer\n",
    "\n",
    "\n",
    "\n",
    "\n",
    "# Other\n",
    "import re\n",
    "import string\n",
    "import numpy as np\n",
    "import pandas as pd\n",
    "from sklearn.manifold import TSNE\n",
    "from sklearn.preprocessing import LabelEncoder\n",
    "from sklearn.preprocessing import LabelBinarizer\n",
    "from sklearn.model_selection import train_test_split\n",
    "from sklearn.utils import shuffle\n",
    "# from sklearn import metrics\n",
    "# from numpy import util\n",
    "\n",
    "\n",
    "# Word2Vec\n",
    "from gensim.test.utils import common_texts, get_tmpfile # not working\n",
    "from gensim.models import Word2Vec\n",
    "\n",
    "import re\n",
    "from collections import Counter\n",
    "import os\n"
   ]
  },
  {
   "cell_type": "markdown",
   "metadata": {},
   "source": [
    "# Baseline Model 3,000 sequence (wip)\n",
    "## not sure if i still have model json and h5, but we do have screenshot"
   ]
  },
  {
   "cell_type": "markdown",
   "metadata": {},
   "source": [
    "# Baseline LSTM and LSTM CNN"
   ]
  },
  {
   "cell_type": "code",
   "execution_count": null,
   "metadata": {},
   "outputs": [],
   "source": [
    "original_csv = pd.read_csv('final_shuffled.csv')"
   ]
  },
  {
   "cell_type": "code",
   "execution_count": null,
   "metadata": {},
   "outputs": [],
   "source": [
    "# tokenize text. update this when you update sequence length\n",
    "\n",
    "tokenizer = Tokenizer()\n",
    "tokenizer.fit_on_texts(original_csv['8K_Content_cleaned'])\n",
    "\n",
    "sequences = tokenizer.texts_to_sequences(original_csv['8K_Content_cleaned'])\n",
    "data = pad_sequences(sequences, maxlen=400) # takes about 5-10 mins"
   ]
  },
  {
   "cell_type": "code",
   "execution_count": null,
   "metadata": {},
   "outputs": [],
   "source": [
    "# vocab size\n",
    "vocabulary_size = max(tokenizer.word_index.values())\n",
    "vocabulary_size"
   ]
  },
  {
   "cell_type": "code",
   "execution_count": null,
   "metadata": {},
   "outputs": [],
   "source": [
    "original_csv['8K_Content_sequences'] = data.tolist()"
   ]
  },
  {
   "cell_type": "code",
   "execution_count": null,
   "metadata": {},
   "outputs": [],
   "source": [
    "original_csv_test = original_csv[original_csv['Year'] >= 2011]"
   ]
  },
  {
   "cell_type": "code",
   "execution_count": null,
   "metadata": {},
   "outputs": [],
   "source": [
    "original_csv_test.shape"
   ]
  },
  {
   "cell_type": "code",
   "execution_count": null,
   "metadata": {},
   "outputs": [],
   "source": [
    "X_test = original_csv_test['8K_Content_sequences']\n",
    "y_test = original_csv_test[['down','stay','up']]"
   ]
  },
  {
   "cell_type": "code",
   "execution_count": 234,
   "metadata": {},
   "outputs": [
    {
     "data": {
      "text/plain": [
       "Unnamed: 0                                                                       90889\n",
       "Unnamed: 0.1                                                                     91227\n",
       "Unnamed: 0.1.1                                                                  147088\n",
       "8K_Content                                        Check the appropriate box below i...\n",
       "Adj Close_GSPC                                                                 1347.32\n",
       "Adj Close_stock                                                                  33.08\n",
       "Close_GSPC                                                                     1347.32\n",
       "Close_stock                                                                      33.08\n",
       "Date                                                                        2011-05-04\n",
       "Day Change_GSPC                                                                  -8.58\n",
       "Day Change_stock                                                                 -0.77\n",
       "Day Change_stock percentage                                                 -0.0227474\n",
       "High_GSPC                                                                       1355.9\n",
       "High_stock                                                                       34.08\n",
       "Industry                                                                   Health Care\n",
       "Low_GSPC                                                                        1341.5\n",
       "Low_stock                                                                        32.98\n",
       "Open_GSPC                                                                       1355.9\n",
       "Open_stock                                                                       33.85\n",
       "Overnight Change_GSPC                                                            -0.72\n",
       "Overnight Change_stock                                                            0.04\n",
       "Overnight Change_stock percentage                                           0.00118308\n",
       "Ticker                                                                            AMED\n",
       "Time                                                                       2.01105e+13\n",
       "Time_of_day                                                              out_of_market\n",
       "Volume_GSPC                                                                4.22374e+09\n",
       "Volume_stock                                                                    210100\n",
       "Year                                                                              2011\n",
       "stock_overnight_movement_tag                                                      stay\n",
       "8K_Content_cleaned                   ['check', 'the', 'appropriate', 'box', 'below'...\n",
       "down                                                                                 0\n",
       "stay                                                                                 1\n",
       "up                                                                                   0\n",
       "8K_Content_sequences                 [753, 1, 369, 727, 234, 40, 1, 102, 74, 210, 2...\n",
       "Name: 210, dtype: object"
      ]
     },
     "execution_count": 234,
     "metadata": {},
     "output_type": "execute_result"
    }
   ],
   "source": [
    "original_csv_test.iloc[50]"
   ]
  },
  {
   "cell_type": "markdown",
   "metadata": {},
   "source": [
    "## Baseline LSTM"
   ]
  },
  {
   "cell_type": "code",
   "execution_count": 31,
   "metadata": {},
   "outputs": [
    {
     "name": "stdout",
     "output_type": "stream",
     "text": [
      "Loaded model from disk\n"
     ]
    }
   ],
   "source": [
    "# load model\n",
    "# note: latest file updated 11/30. 3,000 word sequence.\n",
    "\n",
    "# load json and create model\n",
    "json_file = open('model_lstm_1.json', 'r')\n",
    "loaded_model_json = json_file.read()\n",
    "json_file.close()\n",
    "loaded_model = model_from_json(loaded_model_json)\n",
    "\n",
    "# load weights into new model\n",
    "loaded_model.load_weights(\"model_lstm_1.h5\")\n",
    "print(\"Loaded model from disk\")"
   ]
  },
  {
   "cell_type": "code",
   "execution_count": 139,
   "metadata": {},
   "outputs": [
    {
     "ename": "InvalidArgumentError",
     "evalue": "indices[22,329] = 407400 is not in [0, 370769)\n\t [[Node: embedding_1_4/embedding_lookup = GatherV2[Taxis=DT_INT32, Tindices=DT_INT32, Tparams=DT_FLOAT, _device=\"/job:localhost/replica:0/task:0/device:CPU:0\"](embedding_1_4/embeddings/read, embedding_1_4/Cast, embedding_1_4/embedding_lookup/axis)]]",
     "output_type": "error",
     "traceback": [
      "\u001b[0;31m---------------------------------------------------------------------------\u001b[0m",
      "\u001b[0;31mInvalidArgumentError\u001b[0m                      Traceback (most recent call last)",
      "\u001b[0;32m<ipython-input-139-17d409035eea>\u001b[0m in \u001b[0;36m<module>\u001b[0;34m()\u001b[0m\n\u001b[1;32m      3\u001b[0m \u001b[0;31m# loaded_model.compile(loss='categorical_crossentropy', optimizer='adam', metrics=['accuracy'])\u001b[0m\u001b[0;34m\u001b[0m\u001b[0;34m\u001b[0m\u001b[0m\n\u001b[1;32m      4\u001b[0m score = loaded_model.evaluate(np.array(X_test.values.tolist()), \n\u001b[0;32m----> 5\u001b[0;31m                               np.array(y_test.values.tolist()), verbose=0)\n\u001b[0m\u001b[1;32m      6\u001b[0m \u001b[0mprint\u001b[0m\u001b[0;34m(\u001b[0m\u001b[0;34m\"%s: %.2f%%\"\u001b[0m \u001b[0;34m%\u001b[0m \u001b[0;34m(\u001b[0m\u001b[0mloaded_model\u001b[0m\u001b[0;34m.\u001b[0m\u001b[0mmetrics_names\u001b[0m\u001b[0;34m[\u001b[0m\u001b[0;36m1\u001b[0m\u001b[0;34m]\u001b[0m\u001b[0;34m,\u001b[0m \u001b[0mscore\u001b[0m\u001b[0;34m[\u001b[0m\u001b[0;36m1\u001b[0m\u001b[0;34m]\u001b[0m\u001b[0;34m*\u001b[0m\u001b[0;36m100\u001b[0m\u001b[0;34m)\u001b[0m\u001b[0;34m)\u001b[0m\u001b[0;34m\u001b[0m\u001b[0m\n",
      "\u001b[0;32m~/anaconda3/lib/python3.6/site-packages/keras/engine/training.py\u001b[0m in \u001b[0;36mevaluate\u001b[0;34m(self, x, y, batch_size, verbose, sample_weight, steps)\u001b[0m\n\u001b[1;32m   1111\u001b[0m                                          \u001b[0mbatch_size\u001b[0m\u001b[0;34m=\u001b[0m\u001b[0mbatch_size\u001b[0m\u001b[0;34m,\u001b[0m\u001b[0;34m\u001b[0m\u001b[0m\n\u001b[1;32m   1112\u001b[0m                                          \u001b[0mverbose\u001b[0m\u001b[0;34m=\u001b[0m\u001b[0mverbose\u001b[0m\u001b[0;34m,\u001b[0m\u001b[0;34m\u001b[0m\u001b[0m\n\u001b[0;32m-> 1113\u001b[0;31m                                          steps=steps)\n\u001b[0m\u001b[1;32m   1114\u001b[0m \u001b[0;34m\u001b[0m\u001b[0m\n\u001b[1;32m   1115\u001b[0m     def predict(self, x,\n",
      "\u001b[0;32m~/anaconda3/lib/python3.6/site-packages/keras/engine/training_arrays.py\u001b[0m in \u001b[0;36mtest_loop\u001b[0;34m(model, f, ins, batch_size, verbose, steps)\u001b[0m\n\u001b[1;32m    390\u001b[0m                 \u001b[0mins_batch\u001b[0m\u001b[0;34m[\u001b[0m\u001b[0mi\u001b[0m\u001b[0;34m]\u001b[0m \u001b[0;34m=\u001b[0m \u001b[0mins_batch\u001b[0m\u001b[0;34m[\u001b[0m\u001b[0mi\u001b[0m\u001b[0;34m]\u001b[0m\u001b[0;34m.\u001b[0m\u001b[0mtoarray\u001b[0m\u001b[0;34m(\u001b[0m\u001b[0;34m)\u001b[0m\u001b[0;34m\u001b[0m\u001b[0m\n\u001b[1;32m    391\u001b[0m \u001b[0;34m\u001b[0m\u001b[0m\n\u001b[0;32m--> 392\u001b[0;31m             \u001b[0mbatch_outs\u001b[0m \u001b[0;34m=\u001b[0m \u001b[0mf\u001b[0m\u001b[0;34m(\u001b[0m\u001b[0mins_batch\u001b[0m\u001b[0;34m)\u001b[0m\u001b[0;34m\u001b[0m\u001b[0m\n\u001b[0m\u001b[1;32m    393\u001b[0m             \u001b[0;32mif\u001b[0m \u001b[0misinstance\u001b[0m\u001b[0;34m(\u001b[0m\u001b[0mbatch_outs\u001b[0m\u001b[0;34m,\u001b[0m \u001b[0mlist\u001b[0m\u001b[0;34m)\u001b[0m\u001b[0;34m:\u001b[0m\u001b[0;34m\u001b[0m\u001b[0m\n\u001b[1;32m    394\u001b[0m                 \u001b[0;32mif\u001b[0m \u001b[0mbatch_index\u001b[0m \u001b[0;34m==\u001b[0m \u001b[0;36m0\u001b[0m\u001b[0;34m:\u001b[0m\u001b[0;34m\u001b[0m\u001b[0m\n",
      "\u001b[0;32m~/anaconda3/lib/python3.6/site-packages/keras/backend/tensorflow_backend.py\u001b[0m in \u001b[0;36m__call__\u001b[0;34m(self, inputs)\u001b[0m\n\u001b[1;32m   2713\u001b[0m                 \u001b[0;32mreturn\u001b[0m \u001b[0mself\u001b[0m\u001b[0;34m.\u001b[0m\u001b[0m_legacy_call\u001b[0m\u001b[0;34m(\u001b[0m\u001b[0minputs\u001b[0m\u001b[0;34m)\u001b[0m\u001b[0;34m\u001b[0m\u001b[0m\n\u001b[1;32m   2714\u001b[0m \u001b[0;34m\u001b[0m\u001b[0m\n\u001b[0;32m-> 2715\u001b[0;31m             \u001b[0;32mreturn\u001b[0m \u001b[0mself\u001b[0m\u001b[0;34m.\u001b[0m\u001b[0m_call\u001b[0m\u001b[0;34m(\u001b[0m\u001b[0minputs\u001b[0m\u001b[0;34m)\u001b[0m\u001b[0;34m\u001b[0m\u001b[0m\n\u001b[0m\u001b[1;32m   2716\u001b[0m         \u001b[0;32melse\u001b[0m\u001b[0;34m:\u001b[0m\u001b[0;34m\u001b[0m\u001b[0m\n\u001b[1;32m   2717\u001b[0m             \u001b[0;32mif\u001b[0m \u001b[0mpy_any\u001b[0m\u001b[0;34m(\u001b[0m\u001b[0mis_tensor\u001b[0m\u001b[0;34m(\u001b[0m\u001b[0mx\u001b[0m\u001b[0;34m)\u001b[0m \u001b[0;32mfor\u001b[0m \u001b[0mx\u001b[0m \u001b[0;32min\u001b[0m \u001b[0minputs\u001b[0m\u001b[0;34m)\u001b[0m\u001b[0;34m:\u001b[0m\u001b[0;34m\u001b[0m\u001b[0m\n",
      "\u001b[0;32m~/anaconda3/lib/python3.6/site-packages/keras/backend/tensorflow_backend.py\u001b[0m in \u001b[0;36m_call\u001b[0;34m(self, inputs)\u001b[0m\n\u001b[1;32m   2673\u001b[0m             \u001b[0mfetched\u001b[0m \u001b[0;34m=\u001b[0m \u001b[0mself\u001b[0m\u001b[0;34m.\u001b[0m\u001b[0m_callable_fn\u001b[0m\u001b[0;34m(\u001b[0m\u001b[0;34m*\u001b[0m\u001b[0marray_vals\u001b[0m\u001b[0;34m,\u001b[0m \u001b[0mrun_metadata\u001b[0m\u001b[0;34m=\u001b[0m\u001b[0mself\u001b[0m\u001b[0;34m.\u001b[0m\u001b[0mrun_metadata\u001b[0m\u001b[0;34m)\u001b[0m\u001b[0;34m\u001b[0m\u001b[0m\n\u001b[1;32m   2674\u001b[0m         \u001b[0;32melse\u001b[0m\u001b[0;34m:\u001b[0m\u001b[0;34m\u001b[0m\u001b[0m\n\u001b[0;32m-> 2675\u001b[0;31m             \u001b[0mfetched\u001b[0m \u001b[0;34m=\u001b[0m \u001b[0mself\u001b[0m\u001b[0;34m.\u001b[0m\u001b[0m_callable_fn\u001b[0m\u001b[0;34m(\u001b[0m\u001b[0;34m*\u001b[0m\u001b[0marray_vals\u001b[0m\u001b[0;34m)\u001b[0m\u001b[0;34m\u001b[0m\u001b[0m\n\u001b[0m\u001b[1;32m   2676\u001b[0m         \u001b[0;32mreturn\u001b[0m \u001b[0mfetched\u001b[0m\u001b[0;34m[\u001b[0m\u001b[0;34m:\u001b[0m\u001b[0mlen\u001b[0m\u001b[0;34m(\u001b[0m\u001b[0mself\u001b[0m\u001b[0;34m.\u001b[0m\u001b[0moutputs\u001b[0m\u001b[0;34m)\u001b[0m\u001b[0;34m]\u001b[0m\u001b[0;34m\u001b[0m\u001b[0m\n\u001b[1;32m   2677\u001b[0m \u001b[0;34m\u001b[0m\u001b[0m\n",
      "\u001b[0;32m~/anaconda3/lib/python3.6/site-packages/tensorflow/python/client/session.py\u001b[0m in \u001b[0;36m__call__\u001b[0;34m(self, *args, **kwargs)\u001b[0m\n\u001b[1;32m   1380\u001b[0m           ret = tf_session.TF_SessionRunCallable(\n\u001b[1;32m   1381\u001b[0m               \u001b[0mself\u001b[0m\u001b[0;34m.\u001b[0m\u001b[0m_session\u001b[0m\u001b[0;34m.\u001b[0m\u001b[0m_session\u001b[0m\u001b[0;34m,\u001b[0m \u001b[0mself\u001b[0m\u001b[0;34m.\u001b[0m\u001b[0m_handle\u001b[0m\u001b[0;34m,\u001b[0m \u001b[0margs\u001b[0m\u001b[0;34m,\u001b[0m \u001b[0mstatus\u001b[0m\u001b[0;34m,\u001b[0m\u001b[0;34m\u001b[0m\u001b[0m\n\u001b[0;32m-> 1382\u001b[0;31m               run_metadata_ptr)\n\u001b[0m\u001b[1;32m   1383\u001b[0m         \u001b[0;32mif\u001b[0m \u001b[0mrun_metadata\u001b[0m\u001b[0;34m:\u001b[0m\u001b[0;34m\u001b[0m\u001b[0m\n\u001b[1;32m   1384\u001b[0m           \u001b[0mproto_data\u001b[0m \u001b[0;34m=\u001b[0m \u001b[0mtf_session\u001b[0m\u001b[0;34m.\u001b[0m\u001b[0mTF_GetBuffer\u001b[0m\u001b[0;34m(\u001b[0m\u001b[0mrun_metadata_ptr\u001b[0m\u001b[0;34m)\u001b[0m\u001b[0;34m\u001b[0m\u001b[0m\n",
      "\u001b[0;32m~/anaconda3/lib/python3.6/site-packages/tensorflow/python/framework/errors_impl.py\u001b[0m in \u001b[0;36m__exit__\u001b[0;34m(self, type_arg, value_arg, traceback_arg)\u001b[0m\n\u001b[1;32m    517\u001b[0m             \u001b[0;32mNone\u001b[0m\u001b[0;34m,\u001b[0m \u001b[0;32mNone\u001b[0m\u001b[0;34m,\u001b[0m\u001b[0;34m\u001b[0m\u001b[0m\n\u001b[1;32m    518\u001b[0m             \u001b[0mcompat\u001b[0m\u001b[0;34m.\u001b[0m\u001b[0mas_text\u001b[0m\u001b[0;34m(\u001b[0m\u001b[0mc_api\u001b[0m\u001b[0;34m.\u001b[0m\u001b[0mTF_Message\u001b[0m\u001b[0;34m(\u001b[0m\u001b[0mself\u001b[0m\u001b[0;34m.\u001b[0m\u001b[0mstatus\u001b[0m\u001b[0;34m.\u001b[0m\u001b[0mstatus\u001b[0m\u001b[0;34m)\u001b[0m\u001b[0;34m)\u001b[0m\u001b[0;34m,\u001b[0m\u001b[0;34m\u001b[0m\u001b[0m\n\u001b[0;32m--> 519\u001b[0;31m             c_api.TF_GetCode(self.status.status))\n\u001b[0m\u001b[1;32m    520\u001b[0m     \u001b[0;31m# Delete the underlying status object from memory otherwise it stays alive\u001b[0m\u001b[0;34m\u001b[0m\u001b[0;34m\u001b[0m\u001b[0m\n\u001b[1;32m    521\u001b[0m     \u001b[0;31m# as there is a reference to status from this from the traceback due to\u001b[0m\u001b[0;34m\u001b[0m\u001b[0;34m\u001b[0m\u001b[0m\n",
      "\u001b[0;31mInvalidArgumentError\u001b[0m: indices[22,329] = 407400 is not in [0, 370769)\n\t [[Node: embedding_1_4/embedding_lookup = GatherV2[Taxis=DT_INT32, Tindices=DT_INT32, Tparams=DT_FLOAT, _device=\"/job:localhost/replica:0/task:0/device:CPU:0\"](embedding_1_4/embeddings/read, embedding_1_4/Cast, embedding_1_4/embedding_lookup/axis)]]"
     ]
    }
   ],
   "source": [
    "# evaluate loaded model on test data\n",
    "loaded_model.compile(loss='categorical_crossentropy', optimizer='adam', metrics=['accuracy'])\n",
    "# loaded_model.compile(loss='categorical_crossentropy', optimizer='adam', metrics=['accuracy'])\n",
    "score = loaded_model.evaluate(np.array(X_test.values.tolist()), \n",
    "                              np.array(y_test.values.tolist()), verbose=0)\n",
    "print(\"%s: %.2f%%\" % (loaded_model.metrics_names[1], score[1]*100))"
   ]
  },
  {
   "cell_type": "code",
   "execution_count": 34,
   "metadata": {},
   "outputs": [],
   "source": [
    "# predict\n",
    "preds = loaded_model.predict(np.array(X_test.values.tolist()))"
   ]
  },
  {
   "cell_type": "code",
   "execution_count": 52,
   "metadata": {
    "scrolled": false
   },
   "outputs": [
    {
     "name": "stderr",
     "output_type": "stream",
     "text": [
      "/home/raymondleemids/anaconda3/lib/python3.6/site-packages/pandas/core/frame.py:3137: SettingWithCopyWarning:\n",
      "\n",
      "\n",
      "A value is trying to be set on a copy of a slice from a DataFrame.\n",
      "Try using .loc[row_indexer,col_indexer] = value instead\n",
      "\n",
      "See the caveats in the documentation: http://pandas.pydata.org/pandas-docs/stable/indexing.html#indexing-view-versus-copy\n",
      "\n"
     ]
    }
   ],
   "source": [
    "original_csv_test[['pred down', 'pred stay', 'pred up']] = pd.DataFrame(preds, \n",
    "                                                                        columns=['pred down', 'pred stay', 'pred up'])"
   ]
  },
  {
   "cell_type": "code",
   "execution_count": 40,
   "metadata": {
    "scrolled": true
   },
   "outputs": [
    {
     "name": "stderr",
     "output_type": "stream",
     "text": [
      "/home/raymondleemids/anaconda3/lib/python3.6/site-packages/ipykernel_launcher.py:1: SettingWithCopyWarning:\n",
      "\n",
      "\n",
      "A value is trying to be set on a copy of a slice from a DataFrame.\n",
      "Try using .loc[row_indexer,col_indexer] = value instead\n",
      "\n",
      "See the caveats in the documentation: http://pandas.pydata.org/pandas-docs/stable/indexing.html#indexing-view-versus-copy\n",
      "\n"
     ]
    }
   ],
   "source": [
    "original_csv_test['8K_Content_length'] = original_csv_test['8K_Content'].str.split().str.len()"
   ]
  },
  {
   "cell_type": "code",
   "execution_count": 41,
   "metadata": {},
   "outputs": [
    {
     "data": {
      "text/plain": [
       "5424.346266087998"
      ]
     },
     "execution_count": 41,
     "metadata": {},
     "output_type": "execute_result"
    }
   ],
   "source": [
    "original_csv_test['8K_Content_length'].mean()"
   ]
  },
  {
   "cell_type": "code",
   "execution_count": 53,
   "metadata": {},
   "outputs": [
    {
     "data": {
      "text/plain": [
       "Index(['Unnamed: 0', 'Unnamed: 0.1', 'Unnamed: 0.1.1', '8K_Content',\n",
       "       'Adj Close_GSPC', 'Adj Close_stock', 'Close_GSPC', 'Close_stock',\n",
       "       'Date', 'Day Change_GSPC', 'Day Change_stock',\n",
       "       'Day Change_stock percentage', 'High_GSPC', 'High_stock', 'Industry',\n",
       "       'Low_GSPC', 'Low_stock', 'Open_GSPC', 'Open_stock',\n",
       "       'Overnight Change_GSPC', 'Overnight Change_stock',\n",
       "       'Overnight Change_stock percentage', 'Ticker', 'Time', 'Time_of_day',\n",
       "       'Volume_GSPC', 'Volume_stock', 'Year', 'stock_overnight_movement_tag',\n",
       "       '8K_Content_cleaned', 'down', 'stay', 'up', '8K_Content_sequences',\n",
       "       '8K_Content_length', 'pred down', 'pred stay', 'pred up'],\n",
       "      dtype='object')"
      ]
     },
     "execution_count": 53,
     "metadata": {},
     "output_type": "execute_result"
    }
   ],
   "source": [
    "original_csv_test.columns"
   ]
  },
  {
   "cell_type": "code",
   "execution_count": 56,
   "metadata": {},
   "outputs": [],
   "source": [
    "test_predictions = original_csv_test[['Industry','stock_overnight_movement_tag', '8K_Content_length', \n",
    "                   'down','stay', 'up', 'pred down', 'pred stay', 'pred up']]"
   ]
  },
  {
   "cell_type": "code",
   "execution_count": 59,
   "metadata": {},
   "outputs": [],
   "source": [
    "test_predictions.to_csv('test_predictions_baseline_lstm.csv')"
   ]
  },
  {
   "cell_type": "code",
   "execution_count": 617,
   "metadata": {},
   "outputs": [
    {
     "data": {
      "text/plain": [
       "[array([[-0.07070465, -0.00917439,  0.03232068, ...,  0.01715133,\n",
       "          0.12209878,  0.01355659],\n",
       "        [-0.02263543,  0.01588114,  0.09343538, ...,  0.09331463,\n",
       "         -0.02216953,  0.00250749],\n",
       "        [ 0.05986104,  0.03569997,  0.08553953, ...,  0.01429692,\n",
       "          0.02698578, -0.0529383 ],\n",
       "        ...,\n",
       "        [ 0.01152556, -0.00051832, -0.0259519 , ...,  0.01247851,\n",
       "          0.00380006, -0.00384425],\n",
       "        [-0.00836451, -0.0405136 ,  0.00927811, ..., -0.0413026 ,\n",
       "          0.03822276, -0.00377365],\n",
       "        [ 0.04126212,  0.00445509, -0.0368361 , ...,  0.00777707,\n",
       "         -0.02103027, -0.03208836]], dtype=float32),\n",
       " array([[-0.14661574, -0.01171798, -0.12261956, ..., -0.10293844,\n",
       "         -0.14335886,  0.17654204],\n",
       "        [-0.03627533, -0.06190253, -0.07222076, ..., -0.09341929,\n",
       "         -0.27246454,  0.05354163],\n",
       "        [ 0.05236375,  0.07661155, -0.4493429 , ..., -0.28433117,\n",
       "         -0.14049554, -0.13370423],\n",
       "        ...,\n",
       "        [ 0.0509134 ,  0.02492067, -0.09620845, ..., -0.09034674,\n",
       "         -0.15664645, -0.3348671 ],\n",
       "        [ 0.02400811,  0.01179878,  0.09558216, ..., -0.1199436 ,\n",
       "          0.19522962,  0.02678567],\n",
       "        [-0.15955801, -0.10625538,  0.21049926, ...,  0.2545117 ,\n",
       "         -0.07678684,  0.23202853]], dtype=float32),\n",
       " array([[-0.1234532 ,  0.0053049 , -0.03860901, ..., -0.00752832,\n",
       "          0.12132937, -0.03516153],\n",
       "        [ 0.05666271,  0.00786093, -0.00967524, ..., -0.03318235,\n",
       "          0.14399953,  0.02744733],\n",
       "        [ 0.0268382 , -0.07330007,  0.02252748, ..., -0.08040993,\n",
       "         -0.0350102 ,  0.00280657],\n",
       "        ...,\n",
       "        [-0.14814979, -0.0646545 , -0.09189038, ..., -0.01247175,\n",
       "         -0.02314205, -0.2987879 ],\n",
       "        [-0.00069631, -0.06781699,  0.02262146, ..., -0.02502027,\n",
       "          0.00141541,  0.09403747],\n",
       "        [ 0.13045016,  0.12806223,  0.2753865 , ...,  0.00637338,\n",
       "          0.03568232,  0.13306634]], dtype=float32),\n",
       " array([-2.35604793e-01, -1.98970526e-01, -9.90825742e-02, -1.60688430e-01,\n",
       "        -1.71928599e-01, -2.30529383e-01, -2.30712488e-01, -2.61636287e-01,\n",
       "        -5.26091531e-02, -2.48270139e-01, -7.46457204e-02, -1.22380450e-01,\n",
       "        -1.41157493e-01, -2.63206273e-01, -1.60311013e-01, -2.35876501e-01,\n",
       "        -2.51922607e-01, -1.41683325e-01, -3.57142746e-01, -2.45333657e-01,\n",
       "        -9.27046835e-02, -2.70848602e-01, -1.95093721e-01, -1.35612622e-01,\n",
       "        -1.71174690e-01, -8.06304961e-02, -2.13661879e-01, -1.03182815e-01,\n",
       "        -2.81485647e-01, -1.79942936e-01, -4.96510938e-02, -2.18422696e-01,\n",
       "        -1.85860381e-01, -8.23392272e-02, -2.03433484e-01, -1.44495443e-01,\n",
       "        -2.07210541e-01, -1.15051150e-01, -1.50278002e-01, -7.96030611e-02,\n",
       "        -1.46409109e-01, -1.23488471e-01, -3.40002209e-01, -1.49802968e-01,\n",
       "        -1.20916247e-01, -1.97462186e-01, -2.27551982e-01, -2.20856935e-01,\n",
       "        -1.45771980e-01, -1.81201011e-01, -1.94817618e-01, -1.72107026e-01,\n",
       "        -2.31427133e-01, -3.03591877e-01, -1.75601110e-01, -1.25048354e-01,\n",
       "        -1.46756873e-01, -1.44226953e-01, -1.35915771e-01, -1.38177052e-01,\n",
       "        -2.19739631e-01, -1.77598357e-01, -8.24955478e-02, -1.94869727e-01,\n",
       "        -1.71724260e-01, -9.79261622e-02, -1.78190663e-01, -3.36174220e-01,\n",
       "        -1.59323692e-01, -1.38427719e-01, -2.02209845e-01, -1.97825849e-01,\n",
       "        -2.34627664e-01, -9.33835804e-02, -1.23418510e-01, -2.49922648e-01,\n",
       "        -2.54605800e-01, -2.53141910e-01, -4.02278841e-01, -5.82389794e-02,\n",
       "        -2.59043455e-01, -2.32974440e-01, -1.02613300e-01, -1.45514175e-01,\n",
       "        -2.67973155e-01, -1.69688776e-01, -1.76442310e-01, -3.18172067e-01,\n",
       "        -1.91183239e-01, -2.21241653e-01, -1.19786784e-01, -3.11967909e-01,\n",
       "        -1.15937792e-01, -1.32295936e-01, -2.58948445e-01, -8.79061222e-02,\n",
       "        -1.89995602e-01, -1.86654285e-01, -2.50329465e-01, -1.41206831e-01,\n",
       "         1.01002634e+00,  9.86113787e-01,  8.79286408e-01,  9.90581512e-01,\n",
       "         9.03036773e-01,  1.05132961e+00,  8.91657054e-01,  9.70015466e-01,\n",
       "         1.04011106e+00,  1.13791597e+00,  9.23394263e-01,  8.91343117e-01,\n",
       "         9.14291382e-01,  1.01566148e+00,  1.02557290e+00,  9.68923390e-01,\n",
       "         9.23740566e-01,  8.69568110e-01,  9.82994676e-01,  9.48832273e-01,\n",
       "         1.02878046e+00,  8.79691541e-01,  9.09435928e-01,  9.61048484e-01,\n",
       "         9.35424805e-01,  1.00930166e+00,  1.01635075e+00,  9.50938463e-01,\n",
       "         8.94691229e-01,  9.88681912e-01,  1.14895439e+00,  9.02851224e-01,\n",
       "         9.72043753e-01,  9.45153832e-01,  1.08026576e+00,  1.07152164e+00,\n",
       "         9.21875358e-01,  1.28054869e+00,  9.27774072e-01,  1.00981212e+00,\n",
       "         9.41757858e-01,  1.07868743e+00,  1.03029835e+00,  1.05000544e+00,\n",
       "         9.86419916e-01,  8.62792194e-01,  1.02845263e+00,  1.01759791e+00,\n",
       "         8.74535918e-01,  9.70503032e-01,  8.87412369e-01,  9.16496634e-01,\n",
       "         8.78091097e-01,  9.72417235e-01,  9.08931911e-01,  9.75848794e-01,\n",
       "         9.08379674e-01,  9.71336842e-01,  8.92835140e-01,  1.10987854e+00,\n",
       "         1.08494115e+00,  9.82992291e-01,  1.02300024e+00,  8.08622062e-01,\n",
       "         1.02833939e+00,  9.24767196e-01,  8.86823773e-01,  8.62323582e-01,\n",
       "         1.06290925e+00,  9.20954943e-01,  1.12226343e+00,  9.80010748e-01,\n",
       "         9.56969798e-01,  1.03481174e+00,  9.89108026e-01,  1.01901400e+00,\n",
       "         8.50536764e-01,  8.91608417e-01,  1.32409739e+00,  1.00200486e+00,\n",
       "         8.72903824e-01,  8.47118080e-01,  9.82323587e-01,  9.93206978e-01,\n",
       "         1.13538039e+00,  9.76563990e-01,  9.36196268e-01,  1.07724679e+00,\n",
       "         9.47597742e-01,  9.79984641e-01,  9.96137023e-01,  1.01461589e+00,\n",
       "         9.47093844e-01,  9.49049175e-01,  1.25030863e+00,  1.01369512e+00,\n",
       "         1.03056133e+00,  9.81593192e-01,  9.45838869e-01,  9.68553305e-01,\n",
       "        -7.16697127e-02,  1.98906008e-02, -8.81064534e-02, -4.19726260e-02,\n",
       "        -1.05302827e-02, -3.66624184e-02, -1.51513275e-02, -6.48177117e-02,\n",
       "         3.85357477e-02, -6.26770332e-02,  9.17381942e-02,  8.34327489e-02,\n",
       "         6.71826228e-02,  4.37888838e-02,  3.40237073e-03,  2.02704258e-02,\n",
       "        -4.13765907e-02, -3.26463282e-02,  2.20783856e-02,  5.15247211e-02,\n",
       "        -9.32205766e-02, -7.43843091e-04, -8.89599696e-02, -2.27837171e-02,\n",
       "         5.75836226e-02, -9.82327163e-02, -3.55296209e-02, -1.10127375e-01,\n",
       "        -1.05190173e-01,  1.83353182e-02,  4.64073084e-02,  2.71966972e-04,\n",
       "         3.55861709e-02, -2.92635970e-02,  1.43211437e-02,  3.72011401e-02,\n",
       "         3.37067023e-02, -6.52234489e-03, -1.09906413e-01,  9.53383744e-02,\n",
       "         5.80134951e-02, -5.04405722e-02, -2.12841518e-02,  5.76101020e-02,\n",
       "        -3.53288352e-02, -9.18973759e-02,  2.98152100e-02,  5.75889684e-02,\n",
       "         8.01090971e-02,  7.77962729e-02,  6.80839419e-02, -7.30851367e-02,\n",
       "        -5.53039387e-02,  6.68185353e-02,  1.15976535e-01, -1.38910441e-03,\n",
       "         5.29599264e-02,  8.34515318e-02, -4.66195233e-02,  5.82873300e-02,\n",
       "        -6.11642636e-02, -3.25567983e-02,  9.93807763e-02, -6.26601698e-03,\n",
       "        -9.81114339e-03,  5.95102683e-02,  8.70001838e-02,  9.98941213e-02,\n",
       "        -2.39904802e-02, -1.22851260e-01, -6.07458912e-02,  3.50335836e-02,\n",
       "        -1.54922027e-02,  1.37063852e-02,  5.27890548e-02, -5.98346032e-02,\n",
       "         4.79210988e-02,  2.10645217e-02, -6.46453723e-02, -6.96950182e-02,\n",
       "         2.17214767e-02,  1.15158722e-01, -4.24209163e-02,  9.95394588e-03,\n",
       "         7.86560774e-02, -8.85516927e-02, -2.05315463e-02,  5.16585596e-02,\n",
       "        -2.66766418e-02, -2.79767122e-02,  6.19712919e-02, -1.98511779e-02,\n",
       "        -1.28166229e-01,  4.57795747e-02, -5.83712421e-02, -4.41303216e-02,\n",
       "         8.92578140e-02,  8.69573429e-02,  3.26720774e-02, -1.32389873e-01,\n",
       "        -1.11773908e-01, -1.80338398e-01, -7.75546059e-02, -1.63135394e-01,\n",
       "        -1.52972013e-01, -1.32505357e-01, -1.36455119e-01, -2.04941317e-01,\n",
       "        -7.94040412e-02, -8.90352353e-02, -1.11567475e-01, -1.67395949e-01,\n",
       "        -1.18127733e-01, -1.29328296e-01, -1.09499812e-01, -1.23869456e-01,\n",
       "        -2.28512943e-01, -1.14695698e-01, -1.46251142e-01, -1.24262497e-01,\n",
       "        -1.46219969e-01, -2.30829746e-01, -2.16871008e-01, -1.44473106e-01,\n",
       "        -1.63569346e-01, -1.22356884e-01, -1.14873610e-01, -9.67030004e-02,\n",
       "        -2.38432214e-01, -1.29505321e-01, -1.32532656e-01, -1.53378636e-01,\n",
       "        -1.82262227e-01, -6.95485249e-02, -8.21460485e-02, -1.19483188e-01,\n",
       "        -1.88204765e-01, -4.19893563e-02, -1.33236721e-01, -9.16194916e-02,\n",
       "        -1.53890356e-01, -1.00995965e-01, -1.53754652e-01, -1.12913832e-01,\n",
       "        -1.12292528e-01, -1.76505491e-01, -1.37825310e-01, -1.27176628e-01,\n",
       "        -1.41476810e-01, -1.42793342e-01, -1.33586943e-01, -1.69066563e-01,\n",
       "        -1.16538174e-01, -1.34660050e-01, -1.70671269e-01, -8.44139606e-02,\n",
       "        -1.24516606e-01, -1.77833050e-01, -1.00287884e-01, -6.09772317e-02,\n",
       "        -1.59632653e-01, -1.34140566e-01, -9.67130885e-02, -2.03702301e-01,\n",
       "        -1.28351182e-01, -3.31163183e-02, -1.79314807e-01, -1.51864186e-01,\n",
       "        -9.72868204e-02, -1.61249474e-01, -1.33142456e-01, -1.14347875e-01,\n",
       "        -1.89769924e-01, -1.05814248e-01, -6.22236803e-02, -1.56098187e-01,\n",
       "        -1.84228271e-01, -1.93755955e-01, -5.24187237e-02, -1.06634729e-01,\n",
       "        -2.05128446e-01, -2.22610012e-01, -6.96737245e-02, -4.90041822e-02,\n",
       "        -5.83675541e-02, -1.16149038e-01, -1.44113362e-01, -9.81702656e-02,\n",
       "        -1.56892955e-01, -1.75188720e-01, -9.93582532e-02, -1.42882854e-01,\n",
       "        -6.20067939e-02, -1.33752033e-01, -4.38310429e-02, -7.98587501e-02,\n",
       "        -1.01804934e-01, -1.92239091e-01, -1.48871168e-01, -1.55136630e-01],\n",
       "       dtype=float32),\n",
       " array([[-0.12574288,  0.06243313,  0.18006045],\n",
       "        [ 0.06014523, -0.20622633,  0.07748751],\n",
       "        [ 0.07627651,  0.18385553,  0.05820009],\n",
       "        [ 0.25946808, -0.1987086 , -0.0279611 ],\n",
       "        [ 0.13214795, -0.05434535, -0.20171443],\n",
       "        [-0.03681173,  0.03597805,  0.07145263],\n",
       "        [ 0.23094615, -0.07591975, -0.09663144],\n",
       "        [ 0.13884942,  0.09501105,  0.07296725],\n",
       "        [ 0.10744809, -0.06237983, -0.18273427],\n",
       "        [ 0.14989571,  0.24030562, -0.13518594],\n",
       "        [ 0.0469454 ,  0.18049812,  0.03663161],\n",
       "        [ 0.12867512,  0.28276137,  0.09935141],\n",
       "        [-0.3175817 ,  0.24100035,  0.19385597],\n",
       "        [-0.01862099,  0.05475936,  0.01999305],\n",
       "        [-0.14496094,  0.24948637, -0.22682652],\n",
       "        [ 0.15731572, -0.13064873,  0.23845251],\n",
       "        [ 0.0214261 ,  0.02274401,  0.19512658],\n",
       "        [-0.27370173, -0.09017846,  0.30828124],\n",
       "        [ 0.02112082, -0.155121  ,  0.26131693],\n",
       "        [ 0.00712269, -0.26226318, -0.03317507],\n",
       "        [-0.09293909, -0.16280682, -0.01911911],\n",
       "        [ 0.07597452, -0.00190711, -0.19421826],\n",
       "        [ 0.26959932, -0.12050163, -0.08371013],\n",
       "        [-0.05072016, -0.07224782,  0.28129128],\n",
       "        [ 0.09845325,  0.01355993, -0.1661265 ],\n",
       "        [ 0.22197284, -0.0365901 ,  0.15966202],\n",
       "        [-0.2196723 ,  0.24162899,  0.17325859],\n",
       "        [-0.24071148, -0.12774442,  0.33577907],\n",
       "        [ 0.03047304,  0.01232903,  0.1874333 ],\n",
       "        [ 0.11101911, -0.16673237,  0.13499616],\n",
       "        [-0.04361374,  0.33048692,  0.05229511],\n",
       "        [ 0.15625837, -0.08601081, -0.06622553],\n",
       "        [ 0.11669312,  0.13284388, -0.13916406],\n",
       "        [ 0.03244071,  0.15512583, -0.19679752],\n",
       "        [-0.10960689, -0.3022986 ,  0.2801692 ],\n",
       "        [-0.29481712,  0.1880404 , -0.29123145],\n",
       "        [-0.2130173 ,  0.14230616, -0.01797879],\n",
       "        [ 0.27261996, -0.3373184 ,  0.19726089],\n",
       "        [-0.07093633, -0.16686825,  0.12517758],\n",
       "        [-0.00868659,  0.20884766, -0.1428246 ],\n",
       "        [-0.11229287,  0.22313848,  0.17633832],\n",
       "        [ 0.18137804, -0.16379115,  0.21146041],\n",
       "        [-0.17669138, -0.01252816, -0.13596852],\n",
       "        [-0.16786446,  0.30093843, -0.17595254],\n",
       "        [ 0.16145161, -0.20658115, -0.0925848 ],\n",
       "        [-0.05800947,  0.00498403, -0.2078015 ],\n",
       "        [ 0.08619344, -0.29047763, -0.0415644 ],\n",
       "        [ 0.12719546, -0.1833968 , -0.12272791],\n",
       "        [-0.00110796,  0.186623  , -0.09699162],\n",
       "        [-0.20737585,  0.24475797,  0.26011908],\n",
       "        [-0.35230127, -0.02977052,  0.12740068],\n",
       "        [ 0.12824494, -0.04712268,  0.27329007],\n",
       "        [ 0.19671054,  0.10557721, -0.12668824],\n",
       "        [ 0.1162145 , -0.06370154,  0.29323202],\n",
       "        [ 0.10877408,  0.08736249, -0.18142307],\n",
       "        [-0.18112364, -0.2825972 ,  0.30894506],\n",
       "        [ 0.21122299,  0.07487117, -0.2618927 ],\n",
       "        [-0.24625999,  0.09173147,  0.12897211],\n",
       "        [ 0.27276313, -0.14898348,  0.20169504],\n",
       "        [-0.05523281,  0.14344092,  0.15447704],\n",
       "        [-0.2610537 ,  0.07537933, -0.04476844],\n",
       "        [-0.02187106, -0.29033494,  0.23858729],\n",
       "        [-0.24778348,  0.05436213, -0.08296545],\n",
       "        [-0.301636  , -0.17321554,  0.0240659 ],\n",
       "        [-0.26726484, -0.17837802,  0.23704013],\n",
       "        [-0.16838168, -0.28572392,  0.07924325],\n",
       "        [ 0.15139158,  0.24459884, -0.06845202],\n",
       "        [ 0.13767645,  0.08148701,  0.11303358],\n",
       "        [-0.26610583,  0.2944609 ,  0.01073223],\n",
       "        [-0.18426682, -0.1952579 ,  0.17991738],\n",
       "        [-0.01715371,  0.02940178, -0.18543991],\n",
       "        [ 0.199922  , -0.33417252,  0.09014077],\n",
       "        [-0.1815248 , -0.02992195,  0.10865624],\n",
       "        [ 0.25457633, -0.13246067,  0.07589813],\n",
       "        [-0.04911806, -0.09621787,  0.02000239],\n",
       "        [-0.09338067,  0.10525667,  0.13545221],\n",
       "        [-0.26128483,  0.0604123 , -0.02174184],\n",
       "        [ 0.13159847,  0.15206616,  0.14920658],\n",
       "        [-0.15011434,  0.38461468, -0.21367803],\n",
       "        [ 0.15976839, -0.24556832, -0.07465788],\n",
       "        [-0.11677344, -0.08463325, -0.13127455],\n",
       "        [ 0.11906138,  0.1104015 , -0.03094993],\n",
       "        [-0.12555592,  0.20323095,  0.02940116],\n",
       "        [ 0.35568544, -0.11584441, -0.34815872],\n",
       "        [ 0.20653619, -0.10083816,  0.2518941 ],\n",
       "        [-0.14947684,  0.04664078, -0.14927028],\n",
       "        [ 0.2669465 , -0.2177156 , -0.16822556],\n",
       "        [ 0.15789075, -0.29742634,  0.03738668],\n",
       "        [-0.01909755, -0.1998706 ,  0.05871804],\n",
       "        [ 0.08983288, -0.23512313,  0.01233364],\n",
       "        [ 0.01188424,  0.17998993, -0.30664518],\n",
       "        [-0.0838057 ,  0.19927816, -0.19318652],\n",
       "        [ 0.13264398, -0.09755017, -0.16891822],\n",
       "        [-0.15234385,  0.26893345,  0.02857529],\n",
       "        [-0.34352294,  0.1455466 , -0.38670954],\n",
       "        [-0.19126269, -0.0632994 ,  0.08029772],\n",
       "        [ 0.21624687, -0.24107793,  0.20550989],\n",
       "        [-0.10399876, -0.10886221,  0.06367353],\n",
       "        [-0.22190066, -0.1353617 , -0.00698   ],\n",
       "        [ 0.19711234,  0.01695   ,  0.11131054]], dtype=float32),\n",
       " array([-0.05196359,  0.0713337 , -0.07148996], dtype=float32)]"
      ]
     },
     "execution_count": 617,
     "metadata": {},
     "output_type": "execute_result"
    }
   ],
   "source": [
    "loaded_model.get_weights()"
   ]
  },
  {
   "cell_type": "code",
   "execution_count": 618,
   "metadata": {},
   "outputs": [
    {
     "name": "stdout",
     "output_type": "stream",
     "text": [
      "Loaded model from disk\n"
     ]
    }
   ],
   "source": []
  },
  {
   "cell_type": "code",
   "execution_count": null,
   "metadata": {},
   "outputs": [],
   "source": []
  },
  {
   "cell_type": "code",
   "execution_count": 621,
   "metadata": {},
   "outputs": [
    {
     "data": {
      "text/plain": [
       "[array([[-0.18765105,  0.02113663,  0.05330363, ...,  0.00587572,\n",
       "         -0.01088541, -0.05756954],\n",
       "        [-0.04216601, -0.03054796, -0.00640755, ...,  0.04377861,\n",
       "          0.02161095,  0.04907181],\n",
       "        [-0.21260482, -0.04655924,  0.03209248, ...,  0.06309989,\n",
       "         -0.00608729, -0.02288668],\n",
       "        ...,\n",
       "        [-0.00682   , -0.02638962, -0.01070151, ..., -0.03091487,\n",
       "          0.02736964, -0.02686552],\n",
       "        [ 0.01304621, -0.02840837, -0.046765  , ...,  0.00046714,\n",
       "          0.02168662,  0.02928528],\n",
       "        [-0.00542587,  0.03420682,  0.01582766, ..., -0.03755423,\n",
       "          0.00461514,  0.04726381]], dtype=float32),\n",
       " array([[[ 0.00312293,  0.07403961, -0.0767318 , ...,  0.02274477,\n",
       "          -0.0448827 ,  0.01002793],\n",
       "         [ 0.12271268,  0.20594603,  0.13240431, ...,  0.18475625,\n",
       "           0.14331491,  0.07270304],\n",
       "         [-0.01872139, -0.15011245,  0.00523971, ...,  0.20359485,\n",
       "          -0.1181167 , -0.0063534 ],\n",
       "         ...,\n",
       "         [ 0.0615383 , -0.01862641, -0.00525809, ...,  0.05411317,\n",
       "          -0.14096522,  0.00313118],\n",
       "         [-0.16810928, -0.09141159, -0.10059671, ..., -0.05061812,\n",
       "           0.18222046, -0.1638327 ],\n",
       "         [ 0.01695261,  0.13306886, -0.01670117, ...,  0.03892086,\n",
       "          -0.09285802,  0.06290316]],\n",
       " \n",
       "        [[ 0.03680383,  0.05928943,  0.22738779, ...,  0.13706726,\n",
       "          -0.25531515,  0.27363044],\n",
       "         [-0.06509241, -0.06733511, -0.02581459, ...,  0.12939233,\n",
       "          -0.03323561, -0.00572078],\n",
       "         [-0.18909883,  0.0082894 , -0.04635948, ..., -0.17435367,\n",
       "           0.11377858, -0.32705742],\n",
       "         ...,\n",
       "         [-0.05060427, -0.04348003, -0.06430901, ...,  0.19138968,\n",
       "           0.01540242,  0.04150684],\n",
       "         [ 0.05475008,  0.12106922,  0.09912786, ..., -0.00471041,\n",
       "          -0.22624134,  0.0546423 ],\n",
       "         [ 0.17734379, -0.00765517, -0.1019986 , ..., -0.07586093,\n",
       "          -0.0549751 ,  0.01171518]],\n",
       " \n",
       "        [[-0.08697527,  0.02429776, -0.08536372, ...,  0.03700248,\n",
       "          -0.20177859,  0.08642662],\n",
       "         [-0.15419357,  0.03156147, -0.01055356, ...,  0.00740851,\n",
       "           0.11564928, -0.00523281],\n",
       "         [ 0.13100317,  0.19362299,  0.23492974, ..., -0.21514158,\n",
       "           0.01643512, -0.03474954],\n",
       "         ...,\n",
       "         [-0.00779441, -0.00577816, -0.05169889, ...,  0.13784575,\n",
       "          -0.0531978 ,  0.07309114],\n",
       "         [ 0.08251793, -0.09378342,  0.18645783, ...,  0.10152029,\n",
       "          -0.09163117,  0.01777516],\n",
       "         [ 0.10239442,  0.15874839,  0.05056588, ...,  0.15126644,\n",
       "          -0.02971588, -0.11245984]],\n",
       " \n",
       "        [[-0.18278278, -0.15367976,  0.02069406, ...,  0.15941265,\n",
       "           0.17240869, -0.15648739],\n",
       "         [-0.027961  , -0.01669933,  0.1451396 , ...,  0.06323862,\n",
       "          -0.11823639, -0.04878296],\n",
       "         [ 0.05909147,  0.03504245,  0.1491879 , ..., -0.15144643,\n",
       "           0.01063941, -0.1323451 ],\n",
       "         ...,\n",
       "         [-0.0058155 , -0.04711581,  0.1066253 , ...,  0.07045723,\n",
       "          -0.1575734 , -0.0029657 ],\n",
       "         [-0.02962255, -0.02382259, -0.15618275, ...,  0.08368727,\n",
       "           0.15980205, -0.07168268],\n",
       "         [ 0.0032279 , -0.24773599, -0.07852878, ...,  0.11805433,\n",
       "          -0.27927408,  0.03252966]],\n",
       " \n",
       "        [[ 0.03711559,  0.10584675,  0.15564933, ...,  0.01246395,\n",
       "           0.24601483, -0.03847111],\n",
       "         [ 0.02710226,  0.0194243 ,  0.08378455, ...,  0.09283667,\n",
       "           0.02856094,  0.02155695],\n",
       "         [-0.10443114, -0.12987904,  0.02468912, ..., -0.08729199,\n",
       "           0.04435376, -0.07382856],\n",
       "         ...,\n",
       "         [-0.14817534, -0.0321584 , -0.10829435, ...,  0.15455976,\n",
       "          -0.10127423, -0.1283072 ],\n",
       "         [-0.02376433, -0.01455481, -0.13407405, ..., -0.04754184,\n",
       "           0.08909234, -0.23337282],\n",
       "         [-0.08132046,  0.00697797, -0.08444478, ..., -0.36993864,\n",
       "          -0.16006601, -0.04926419]]], dtype=float32),\n",
       " array([-0.15377653, -0.11341654, -0.1912683 , -0.12033483, -0.15819368,\n",
       "        -0.11400498, -0.06389051, -0.126926  , -0.07325405, -0.14133012,\n",
       "        -0.07651455, -0.10863238, -0.10520571, -0.0448496 , -0.16457675,\n",
       "        -0.17309083, -0.08378422, -0.08864247, -0.1395092 , -0.11947548,\n",
       "        -0.10897923, -0.09143561, -0.1545518 , -0.14693739, -0.1909749 ,\n",
       "        -0.18310842, -0.12987359, -0.1061376 , -0.133754  , -0.14222053,\n",
       "        -0.1754164 , -0.11621644, -0.12616421, -0.13071543, -0.08764926,\n",
       "        -0.01592643,  0.00412956, -0.14270356, -0.12946591, -0.1095658 ,\n",
       "        -0.15570718, -0.10753087, -0.09755   , -0.13622367, -0.15049617,\n",
       "        -0.03830205, -0.06516235, -0.14747848, -0.10001884, -0.06064438,\n",
       "        -0.10564543, -0.09278854, -0.17253321, -0.08321358, -0.02741311,\n",
       "        -0.08524892, -0.1318681 , -0.07707167, -0.12945783, -0.12890667,\n",
       "        -0.11147441, -0.02539522, -0.07470059, -0.14038044], dtype=float32),\n",
       " array([[ 0.00475483, -0.0114387 , -0.08171087, ...,  0.08754738,\n",
       "         -0.07225168, -0.2207629 ],\n",
       "        [ 0.01632484, -0.06798244, -0.11287467, ...,  0.05399226,\n",
       "          0.12539092,  0.04532227],\n",
       "        [ 0.17131867, -0.0927842 ,  0.04352343, ...,  0.02727182,\n",
       "         -0.04720839, -0.06810345],\n",
       "        ...,\n",
       "        [ 0.09924982, -0.14323007, -0.05085797, ..., -0.18837008,\n",
       "         -0.1920485 , -0.04493725],\n",
       "        [-0.26224753, -0.1779659 , -0.24019498, ...,  0.01315844,\n",
       "         -0.07672027, -0.07615668],\n",
       "        [-0.10982932, -0.10928339, -0.01697383, ..., -0.07363562,\n",
       "         -0.01685419, -0.2618079 ]], dtype=float32),\n",
       " array([[-0.20640114, -0.10123034, -0.07725942, ...,  0.00954832,\n",
       "          0.02892058, -0.0505552 ],\n",
       "        [ 0.15018414,  0.02601685,  0.11501795, ...,  0.01165604,\n",
       "          0.05487737,  0.27886373],\n",
       "        [-0.08938783,  0.14074905, -0.11971612, ..., -0.08384138,\n",
       "          0.00732989, -0.05753231],\n",
       "        ...,\n",
       "        [-0.02874039, -0.16460839, -0.04340876, ..., -0.11312099,\n",
       "         -0.10637888, -0.15071122],\n",
       "        [ 0.05785248, -0.04831494, -0.02037251, ...,  0.01778116,\n",
       "         -0.03797938,  0.01590492],\n",
       "        [-0.07790013, -0.08395291,  0.0288114 , ...,  0.01061998,\n",
       "          0.07788005, -0.09710028]], dtype=float32),\n",
       " array([-9.50554088e-02,  1.56760949e-03, -1.88809305e-01, -1.58155337e-01,\n",
       "        -1.01214856e-01,  2.71684509e-02, -1.28605574e-01, -9.57741067e-02,\n",
       "        -1.11749098e-01, -8.48573670e-02, -1.32894546e-01, -1.73466459e-01,\n",
       "        -8.94168839e-02, -1.35451972e-01, -3.05942506e-01, -1.45865351e-01,\n",
       "        -2.60877579e-01, -2.98377015e-02, -9.19992179e-02, -8.48576650e-02,\n",
       "        -1.39333889e-01, -1.87843591e-01, -1.55066893e-01, -2.19614565e-01,\n",
       "        -7.93109741e-03, -6.01467080e-02, -8.09837803e-02, -1.84788361e-01,\n",
       "        -9.99665856e-02, -3.46802652e-01, -1.12893105e-01, -2.30439916e-01,\n",
       "        -1.20913364e-01, -3.63019630e-02, -1.60730451e-01, -1.19371533e-01,\n",
       "        -1.75398365e-01,  3.12696546e-02, -7.40845352e-02, -3.22051018e-01,\n",
       "        -1.10125504e-01, -1.81686535e-01, -1.50708139e-01, -1.60233691e-01,\n",
       "        -1.47376195e-01, -1.81175604e-01, -9.97052640e-02, -2.51658887e-01,\n",
       "        -1.78104863e-01,  3.09808366e-02,  1.87528459e-03, -5.39086349e-02,\n",
       "        -9.07169431e-02, -6.33582398e-02, -7.71434531e-02, -1.49309710e-01,\n",
       "        -8.17568749e-02, -8.19192901e-02, -1.54093444e-01,  6.28357232e-02,\n",
       "        -1.50924891e-01, -1.00179367e-01, -1.79317608e-01, -4.79824916e-02,\n",
       "        -3.36680785e-02, -9.43102315e-02, -1.21365309e-01, -2.82425493e-01,\n",
       "        -1.30445212e-01,  1.92138180e-02, -1.89451188e-01, -1.72220722e-01,\n",
       "        -6.93141520e-02, -1.43918782e-01, -1.73978090e-01,  1.68254450e-02,\n",
       "        -9.46491286e-02, -6.59633381e-03, -2.24557251e-01, -6.41836897e-02,\n",
       "        -4.16611731e-02, -1.13518976e-01, -8.72529522e-02, -1.27610564e-01,\n",
       "        -2.65052766e-01, -8.79877284e-02, -5.61371148e-02, -7.61764646e-02,\n",
       "        -1.16406150e-01, -1.81560606e-01, -3.92849935e-04, -2.00857550e-01,\n",
       "        -5.88915758e-02, -9.94979814e-02, -1.42380118e-01, -1.72509193e-01,\n",
       "        -1.26500860e-01, -1.53027833e-01, -2.55814940e-01, -1.80737600e-01,\n",
       "         9.32989717e-01,  9.97285068e-01,  8.48639846e-01,  8.61443996e-01,\n",
       "         1.00820959e+00,  1.05552387e+00,  9.41495121e-01,  9.20874834e-01,\n",
       "         8.83215725e-01,  8.99984717e-01,  9.44148660e-01,  9.60538626e-01,\n",
       "         9.72936809e-01,  7.69702375e-01,  8.04903626e-01,  8.72623384e-01,\n",
       "         8.24915707e-01,  9.08689857e-01,  1.01921678e+00,  9.17893350e-01,\n",
       "         1.00736928e+00,  7.71848440e-01,  9.63274777e-01,  9.60301280e-01,\n",
       "         8.93573403e-01,  9.91040647e-01,  8.81488144e-01,  8.82184327e-01,\n",
       "         8.96989524e-01,  1.15323186e+00,  8.95145953e-01,  8.88939142e-01,\n",
       "         1.03209591e+00,  9.70228910e-01,  9.35901403e-01,  9.20201242e-01,\n",
       "         9.12648261e-01,  9.49026048e-01,  1.04101992e+00,  8.00442994e-01,\n",
       "         9.73394632e-01,  9.41114664e-01,  9.22351062e-01,  8.52741539e-01,\n",
       "         9.63544071e-01,  9.47066426e-01,  9.13420200e-01,  1.09562242e+00,\n",
       "         8.90663922e-01,  8.78086567e-01,  9.23361361e-01,  9.78907585e-01,\n",
       "         9.26985264e-01,  9.36266541e-01,  9.15409505e-01,  9.05738890e-01,\n",
       "         9.00651038e-01,  1.10493982e+00,  7.90116251e-01,  1.10767341e+00,\n",
       "         9.83782232e-01,  8.26965749e-01,  8.15844357e-01,  9.46687937e-01,\n",
       "         8.68336976e-01,  8.05619955e-01,  9.63423371e-01,  8.34809005e-01,\n",
       "         8.69747937e-01,  9.88676965e-01,  1.03579605e+00,  8.97180736e-01,\n",
       "         8.97105992e-01,  9.83102202e-01,  9.30503011e-01,  8.93582463e-01,\n",
       "         9.21786249e-01,  9.77036417e-01,  8.49825501e-01,  1.10979521e+00,\n",
       "         9.45784032e-01,  9.22123969e-01,  1.00332403e+00,  9.76248085e-01,\n",
       "         8.32793713e-01,  9.46183026e-01,  8.82171571e-01,  8.77307475e-01,\n",
       "         8.78407001e-01,  8.83876741e-01,  9.50228751e-01,  7.88661063e-01,\n",
       "         8.87372971e-01,  9.78878319e-01,  9.28706586e-01,  1.09106314e+00,\n",
       "         8.77943099e-01,  1.10673237e+00,  1.04460502e+00,  8.98570001e-01,\n",
       "        -3.31773213e-03, -1.93440113e-02,  1.55056221e-02, -2.37798523e-02,\n",
       "         4.79864180e-02, -1.01206705e-01,  8.22777394e-03,  1.10401232e-02,\n",
       "         2.26774216e-02,  3.10035516e-02,  2.83882506e-02, -1.03535868e-01,\n",
       "        -5.21284491e-02,  5.13614267e-02,  7.76023492e-02,  2.47254800e-02,\n",
       "         5.90084819e-03,  5.96776158e-02, -1.53500857e-02, -1.01193029e-03,\n",
       "         6.73462227e-02, -3.93955819e-02, -2.71017198e-02, -8.29493552e-02,\n",
       "        -1.32538266e-02, -8.45047012e-02,  1.21000502e-02, -1.15781426e-02,\n",
       "        -3.33756767e-02,  4.88009192e-02,  2.77401451e-02, -4.97710472e-03,\n",
       "         1.13946527e-01, -2.75811995e-03, -1.02320805e-01, -2.43173037e-02,\n",
       "         1.63617581e-02,  7.10118935e-02,  9.78509057e-03,  7.25685200e-03,\n",
       "        -3.53487618e-02,  3.23102460e-03,  6.02486655e-02,  6.11154959e-02,\n",
       "        -7.62577057e-02, -3.63913737e-02, -2.14683358e-02,  1.07571304e-01,\n",
       "        -3.64906453e-02, -1.58651695e-02,  4.97540180e-03,  4.41034734e-02,\n",
       "        -4.20050137e-03, -4.05165628e-02, -3.17654349e-02, -1.71772614e-02,\n",
       "        -2.71984190e-02, -1.01397261e-02, -1.19298166e-02, -1.07138641e-01,\n",
       "        -4.33020703e-02, -9.36217420e-03, -1.31703019e-02,  2.69145276e-02,\n",
       "        -5.16135842e-02,  3.89218330e-03, -6.56878054e-02,  2.64123082e-02,\n",
       "         3.54311503e-02,  2.65536848e-02,  7.09578693e-02, -3.18503380e-03,\n",
       "        -1.80618111e-02, -4.94084321e-02,  2.78389193e-02, -5.26254904e-03,\n",
       "        -3.23630087e-02, -2.22225115e-02,  1.10734953e-04, -6.49799639e-03,\n",
       "         5.05784489e-02, -3.67174409e-02,  4.00195047e-02,  1.88696440e-02,\n",
       "        -1.95955043e-04, -1.53151983e-02, -4.99673188e-02,  1.23719852e-02,\n",
       "        -3.85732464e-02, -1.56418104e-02, -2.92802020e-03,  1.66526530e-02,\n",
       "        -1.66353956e-02, -4.48257513e-02,  5.02270274e-02,  1.16102234e-01,\n",
       "         5.15631586e-02,  7.43174879e-03,  6.89347610e-02,  5.45954145e-02,\n",
       "        -1.50365636e-01, -6.40756916e-03, -2.16447860e-01, -1.99778348e-01,\n",
       "        -4.65831161e-02, -2.80323729e-05, -1.30398318e-01, -9.33670029e-02,\n",
       "        -1.28461182e-01, -7.61963502e-02, -1.33708447e-01,  2.35618767e-03,\n",
       "        -6.15330040e-02, -1.68164223e-01, -2.98334986e-01, -1.28821239e-01,\n",
       "        -2.55191326e-01, -3.17273475e-02, -6.77530393e-02, -1.03839427e-01,\n",
       "        -1.12389803e-01, -2.05353230e-01, -8.82744566e-02, -7.83246681e-02,\n",
       "        -9.70281567e-03,  4.01541516e-02, -8.39926675e-02, -1.98117882e-01,\n",
       "        -8.76709521e-02,  6.30004704e-02, -1.44128725e-01, -2.03419730e-01,\n",
       "        -1.17411762e-01, -5.43157794e-02, -5.55989742e-02, -1.27526745e-01,\n",
       "        -1.50435969e-01,  5.43327071e-02, -5.53802960e-02, -2.87403196e-01,\n",
       "        -8.52522999e-02, -2.10601375e-01, -1.24030747e-01, -1.42093107e-01,\n",
       "        -3.96133624e-02, -1.39446765e-01, -1.18346475e-01,  3.52114253e-02,\n",
       "        -1.50130078e-01,  2.74550654e-02, -1.64432656e-02, -7.87755400e-02,\n",
       "        -1.05395854e-01, -9.36933607e-02, -8.04928392e-02, -1.18598342e-01,\n",
       "        -6.18691444e-02, -5.68661429e-02, -1.87978685e-01,  1.76942740e-02,\n",
       "        -1.06680050e-01, -1.21722467e-01, -1.83256552e-01, -6.82749748e-02,\n",
       "        -1.48231280e-03, -9.44651961e-02, -1.53016195e-01, -2.99560785e-01,\n",
       "        -1.51248232e-01,  5.88231571e-02, -3.22055593e-02, -1.68282345e-01,\n",
       "        -3.61446030e-02, -1.00345649e-01, -1.43548220e-01,  3.40903215e-02,\n",
       "        -9.25050080e-02, -2.99776774e-02, -2.37458766e-01, -6.35948330e-02,\n",
       "        -1.77498125e-02, -1.25810727e-01, -4.91845720e-02, -1.35820851e-01,\n",
       "        -2.42258966e-01, -9.09588784e-02, -4.55982499e-02, -8.71488154e-02,\n",
       "        -1.40504733e-01, -1.57137185e-01,  8.29980522e-03, -2.15654254e-01,\n",
       "        -5.56622744e-02, -4.43646610e-02, -3.32913063e-02,  5.71231730e-03,\n",
       "        -1.48102924e-01,  1.31274937e-02, -3.96915041e-02, -2.22008735e-01],\n",
       "       dtype=float32),\n",
       " array([[-0.06145571, -0.28024358, -0.14328998],\n",
       "        [ 0.13072747, -0.26051146,  0.09081691],\n",
       "        [-0.04786174, -0.28265616, -0.02192482],\n",
       "        [ 0.05092691, -0.13140135,  0.01503269],\n",
       "        [ 0.17441091, -0.31052563,  0.07968386],\n",
       "        [ 0.10649032, -0.12715437,  0.04019841],\n",
       "        [-0.20047247,  0.03476175, -0.04230282],\n",
       "        [ 0.03713312, -0.26096016, -0.02552543],\n",
       "        [ 0.15791558, -0.18974711,  0.06927727],\n",
       "        [ 0.01650826,  0.14329785, -0.19551465],\n",
       "        [ 0.13070239,  0.20641182, -0.16698962],\n",
       "        [-0.20529182,  0.35010526,  0.16233401],\n",
       "        [-0.2848271 ,  0.1861003 ,  0.10150473],\n",
       "        [ 0.0793316 ,  0.02936033, -0.20544253],\n",
       "        [-0.1142908 ,  0.06077589,  0.06756423],\n",
       "        [ 0.14231896, -0.1294897 , -0.03533123],\n",
       "        [ 0.22540158,  0.1255935 ,  0.16481352],\n",
       "        [-0.13728108,  0.14194445, -0.02644597],\n",
       "        [-0.24147403,  0.19697559, -0.04189152],\n",
       "        [ 0.12400024,  0.29030898,  0.17686687],\n",
       "        [ 0.23377885, -0.16442713,  0.20203322],\n",
       "        [-0.05982111, -0.11842328,  0.0831965 ],\n",
       "        [ 0.17293334,  0.23190165, -0.2201755 ],\n",
       "        [-0.24255794,  0.08387788, -0.16207823],\n",
       "        [-0.14750835,  0.28083825,  0.04228494],\n",
       "        [-0.3413176 ,  0.27638644, -0.1591932 ],\n",
       "        [ 0.3227468 ,  0.06823393, -0.18287878],\n",
       "        [ 0.22907877,  0.10187394,  0.25368476],\n",
       "        [-0.19909222,  0.05726422,  0.16644242],\n",
       "        [ 0.05331676, -0.32170328,  0.02365478],\n",
       "        [ 0.19803989,  0.23666751,  0.02478303],\n",
       "        [-0.06891292, -0.09180248, -0.10313615],\n",
       "        [-0.12255643, -0.1199154 ,  0.10839963],\n",
       "        [ 0.23924151, -0.14365312, -0.24242191],\n",
       "        [-0.20333232,  0.2144614 , -0.1929132 ],\n",
       "        [-0.06203213, -0.24508928,  0.1203212 ],\n",
       "        [-0.01293354, -0.15144126, -0.11397105],\n",
       "        [ 0.3959788 , -0.02862819, -0.20154133],\n",
       "        [ 0.14256741, -0.24903272,  0.00525244],\n",
       "        [-0.06222279, -0.09929736,  0.02110659],\n",
       "        [-0.05032368,  0.18204507, -0.21924382],\n",
       "        [ 0.09520219,  0.13165492, -0.07044701],\n",
       "        [ 0.06794754, -0.10843243,  0.23238774],\n",
       "        [ 0.2593533 ,  0.04592302,  0.01835784],\n",
       "        [-0.11611611,  0.34066108, -0.10378496],\n",
       "        [-0.00136434,  0.30078405,  0.17639266],\n",
       "        [-0.16613577, -0.26176044,  0.10364815],\n",
       "        [ 0.20195004, -0.02468761,  0.24917582],\n",
       "        [-0.14100228,  0.11881845, -0.04310074],\n",
       "        [-0.18727946, -0.15686698,  0.3404077 ],\n",
       "        [-0.14079767,  0.2469107 , -0.17573994],\n",
       "        [ 0.0111911 ,  0.1152643 , -0.15533818],\n",
       "        [ 0.14422594, -0.0873003 , -0.21265018],\n",
       "        [-0.09814856, -0.20021088, -0.05996595],\n",
       "        [ 0.0411605 , -0.02694952,  0.1965065 ],\n",
       "        [ 0.18116565,  0.13073564,  0.05695799],\n",
       "        [ 0.26950827, -0.17777982, -0.23968491],\n",
       "        [ 0.18875653, -0.21081477,  0.11023769],\n",
       "        [ 0.07660344,  0.16931313, -0.09755541],\n",
       "        [ 0.23028328, -0.12057007,  0.20713818],\n",
       "        [-0.11358303,  0.26026392, -0.11277736],\n",
       "        [-0.25911766,  0.09045725, -0.11162391],\n",
       "        [-0.17856465, -0.14597121, -0.02168071],\n",
       "        [ 0.1211938 ,  0.06852474,  0.04941816],\n",
       "        [-0.1892644 ,  0.32500625, -0.00221295],\n",
       "        [-0.24388416, -0.25978714,  0.07748831],\n",
       "        [-0.02060468,  0.22442818, -0.13368751],\n",
       "        [-0.1108413 , -0.03927322, -0.09796301],\n",
       "        [ 0.08884571,  0.14310247, -0.06475623],\n",
       "        [ 0.36855012, -0.06590661, -0.16908084],\n",
       "        [ 0.11580907, -0.25048956,  0.26358667],\n",
       "        [-0.25296572,  0.02285056, -0.00681716],\n",
       "        [-0.00837351, -0.1522105 ,  0.29328623],\n",
       "        [-0.2458872 ,  0.16452672, -0.2624998 ],\n",
       "        [ 0.20667763,  0.09792509,  0.18365113],\n",
       "        [-0.27082485,  0.18904689, -0.09773441],\n",
       "        [-0.08425227,  0.23764111,  0.10828944],\n",
       "        [-0.19942822,  0.27251887, -0.08544303],\n",
       "        [-0.07490633,  0.14123712,  0.12090866],\n",
       "        [ 0.14021528, -0.1370688 ,  0.190078  ],\n",
       "        [-0.10555448, -0.344517  ,  0.22224627],\n",
       "        [-0.02653593,  0.01637144,  0.04631622],\n",
       "        [ 0.23770937, -0.0964155 ,  0.25788772],\n",
       "        [-0.04103967, -0.26433343, -0.00369796],\n",
       "        [ 0.21613368,  0.12701   ,  0.19135842],\n",
       "        [ 0.04206983,  0.21964027, -0.11981347],\n",
       "        [-0.19318795, -0.06699427,  0.24712782],\n",
       "        [ 0.10936835,  0.06733637, -0.2590694 ],\n",
       "        [ 0.10728906, -0.09679334,  0.06233479],\n",
       "        [-0.06852524, -0.02591896,  0.20569639],\n",
       "        [-0.18201989, -0.04905151,  0.3423614 ],\n",
       "        [-0.14571434,  0.14047615,  0.02751018],\n",
       "        [-0.32650608,  0.08819616,  0.03287922],\n",
       "        [-0.25235662,  0.18832625, -0.24434121],\n",
       "        [ 0.021372  , -0.31292233,  0.14483893],\n",
       "        [-0.05193816, -0.25526595,  0.10032898],\n",
       "        [ 0.00422179,  0.10484543, -0.13857563],\n",
       "        [ 0.07850423, -0.40231636,  0.21147451],\n",
       "        [ 0.18969554, -0.29544705,  0.29693276],\n",
       "        [-0.01879734,  0.1271649 , -0.02072957]], dtype=float32),\n",
       " array([-0.00382362,  0.01314507, -0.029754  ], dtype=float32)]"
      ]
     },
     "execution_count": 621,
     "metadata": {},
     "output_type": "execute_result"
    }
   ],
   "source": [
    "loaded_model.get_weights()"
   ]
  },
  {
   "cell_type": "code",
   "execution_count": 177,
   "metadata": {},
   "outputs": [],
   "source": [
    "pred_original_lstm = pd.read_csv('predictions_lstm_1.csv')"
   ]
  },
  {
   "cell_type": "code",
   "execution_count": 196,
   "metadata": {},
   "outputs": [
    {
     "data": {
      "text/plain": [
       "0"
      ]
     },
     "execution_count": 196,
     "metadata": {},
     "output_type": "execute_result"
    }
   ],
   "source": [
    "sum(np.isnan(pred_original_lstm.iloc[:,0]))"
   ]
  },
  {
   "cell_type": "code",
   "execution_count": null,
   "metadata": {},
   "outputs": [],
   "source": [
    "X_test.shape"
   ]
  },
  {
   "cell_type": "markdown",
   "metadata": {},
   "source": [
    "## Baseline CNN"
   ]
  },
  {
   "cell_type": "code",
   "execution_count": 60,
   "metadata": {},
   "outputs": [
    {
     "name": "stdout",
     "output_type": "stream",
     "text": [
      "Loaded model from disk\n"
     ]
    }
   ],
   "source": [
    "# load model\n",
    "\n",
    "# load json and create model\n",
    "json_file = open('model_conv_1.json', 'r')\n",
    "loaded_model_json = json_file.read()\n",
    "json_file.close()\n",
    "loaded_model = model_from_json(loaded_model_json)\n",
    "\n",
    "# load weights into new model\n",
    "loaded_model.load_weights(\"model_conv_1.h5\")\n",
    "print(\"Loaded model from disk\")"
   ]
  },
  {
   "cell_type": "code",
   "execution_count": 61,
   "metadata": {},
   "outputs": [
    {
     "name": "stdout",
     "output_type": "stream",
     "text": [
      "acc: 77.10%\n"
     ]
    }
   ],
   "source": [
    "# evaluate loaded model on test data\n",
    "loaded_model.compile(loss='categorical_crossentropy', optimizer='adam', metrics=['accuracy'])\n",
    "#loaded_model.compile(loss='categorical_crossentropy', optimizer='adam', metrics=['accuracy'])\n",
    "score = loaded_model.evaluate(np.array(X_test.values.tolist()), \n",
    "                              np.array(y_test.values.tolist()), verbose=0)\n",
    "print(\"%s: %.2f%%\" % (loaded_model.metrics_names[1], score[1]*100))"
   ]
  },
  {
   "cell_type": "code",
   "execution_count": 62,
   "metadata": {},
   "outputs": [],
   "source": [
    "# predict\n",
    "preds = loaded_model.predict(np.array(X_test.values.tolist()))"
   ]
  },
  {
   "cell_type": "code",
   "execution_count": 63,
   "metadata": {
    "scrolled": false
   },
   "outputs": [
    {
     "name": "stderr",
     "output_type": "stream",
     "text": [
      "/home/raymondleemids/anaconda3/lib/python3.6/site-packages/pandas/core/frame.py:3137: SettingWithCopyWarning:\n",
      "\n",
      "\n",
      "A value is trying to be set on a copy of a slice from a DataFrame.\n",
      "Try using .loc[row_indexer,col_indexer] = value instead\n",
      "\n",
      "See the caveats in the documentation: http://pandas.pydata.org/pandas-docs/stable/indexing.html#indexing-view-versus-copy\n",
      "\n"
     ]
    }
   ],
   "source": [
    "original_csv_test[['pred down', 'pred stay', 'pred up']] = pd.DataFrame(preds, \n",
    "                                                                        columns=['pred down', 'pred stay', 'pred up'])"
   ]
  },
  {
   "cell_type": "code",
   "execution_count": 64,
   "metadata": {
    "scrolled": true
   },
   "outputs": [
    {
     "name": "stderr",
     "output_type": "stream",
     "text": [
      "/home/raymondleemids/anaconda3/lib/python3.6/site-packages/ipykernel_launcher.py:1: SettingWithCopyWarning:\n",
      "\n",
      "\n",
      "A value is trying to be set on a copy of a slice from a DataFrame.\n",
      "Try using .loc[row_indexer,col_indexer] = value instead\n",
      "\n",
      "See the caveats in the documentation: http://pandas.pydata.org/pandas-docs/stable/indexing.html#indexing-view-versus-copy\n",
      "\n"
     ]
    }
   ],
   "source": [
    "original_csv_test['8K_Content_length'] = original_csv_test['8K_Content'].str.split().str.len()"
   ]
  },
  {
   "cell_type": "code",
   "execution_count": 65,
   "metadata": {},
   "outputs": [
    {
     "data": {
      "text/plain": [
       "5424.346266087998"
      ]
     },
     "execution_count": 65,
     "metadata": {},
     "output_type": "execute_result"
    }
   ],
   "source": [
    "original_csv_test['8K_Content_length'].mean()"
   ]
  },
  {
   "cell_type": "code",
   "execution_count": 66,
   "metadata": {},
   "outputs": [
    {
     "data": {
      "text/plain": [
       "Index(['Unnamed: 0', 'Unnamed: 0.1', 'Unnamed: 0.1.1', '8K_Content',\n",
       "       'Adj Close_GSPC', 'Adj Close_stock', 'Close_GSPC', 'Close_stock',\n",
       "       'Date', 'Day Change_GSPC', 'Day Change_stock',\n",
       "       'Day Change_stock percentage', 'High_GSPC', 'High_stock', 'Industry',\n",
       "       'Low_GSPC', 'Low_stock', 'Open_GSPC', 'Open_stock',\n",
       "       'Overnight Change_GSPC', 'Overnight Change_stock',\n",
       "       'Overnight Change_stock percentage', 'Ticker', 'Time', 'Time_of_day',\n",
       "       'Volume_GSPC', 'Volume_stock', 'Year', 'stock_overnight_movement_tag',\n",
       "       '8K_Content_cleaned', 'down', 'stay', 'up', '8K_Content_sequences',\n",
       "       '8K_Content_length', 'pred down', 'pred stay', 'pred up'],\n",
       "      dtype='object')"
      ]
     },
     "execution_count": 66,
     "metadata": {},
     "output_type": "execute_result"
    }
   ],
   "source": [
    "original_csv_test.columns"
   ]
  },
  {
   "cell_type": "code",
   "execution_count": 67,
   "metadata": {},
   "outputs": [],
   "source": [
    "test_predictions = original_csv_test[['Industry','stock_overnight_movement_tag', '8K_Content_length', \n",
    "                   'down','stay', 'up', 'pred down', 'pred stay', 'pred up']]"
   ]
  },
  {
   "cell_type": "code",
   "execution_count": 68,
   "metadata": {},
   "outputs": [],
   "source": [
    "test_predictions.to_csv('test_predictions_baseline_conv.csv')"
   ]
  },
  {
   "cell_type": "code",
   "execution_count": null,
   "metadata": {},
   "outputs": [],
   "source": []
  },
  {
   "cell_type": "code",
   "execution_count": 97,
   "metadata": {},
   "outputs": [],
   "source": [
    "# troubleshoot = original_csv_test[['8K_Content', 'stock_overnight_movement_tag', '8K_Content_sequences', '8K_Content_length']][test_predictions['pred down'].isna()]"
   ]
  },
  {
   "cell_type": "code",
   "execution_count": 104,
   "metadata": {},
   "outputs": [],
   "source": [
    "# troubleshoot = original_csv_test[['8K_Content', 'stock_overnight_movement_tag', '8K_Content_sequences', '8K_Content_length','pred down', 'pred stay', 'pred up']]"
   ]
  },
  {
   "cell_type": "code",
   "execution_count": 106,
   "metadata": {},
   "outputs": [],
   "source": [
    "# troubleshoot.to_csv('troubleshoot_predictions_baseline_cnn_full.csv')"
   ]
  },
  {
   "cell_type": "code",
   "execution_count": 111,
   "metadata": {},
   "outputs": [
    {
     "data": {
      "text/plain": [
       "19922"
      ]
     },
     "execution_count": 111,
     "metadata": {},
     "output_type": "execute_result"
    }
   ],
   "source": [
    "# troubleshoot['pred down'].isna()\n",
    "sum(troubleshoot['pred down'].isna())"
   ]
  },
  {
   "cell_type": "code",
   "execution_count": 114,
   "metadata": {},
   "outputs": [
    {
     "data": {
      "text/plain": [
       "26728"
      ]
     },
     "execution_count": 114,
     "metadata": {},
     "output_type": "execute_result"
    }
   ],
   "source": [
    "X_test.shape[0] "
   ]
  },
  {
   "cell_type": "code",
   "execution_count": 115,
   "metadata": {},
   "outputs": [
    {
     "data": {
      "text/plain": [
       "0.7453606704579467"
      ]
     },
     "execution_count": 115,
     "metadata": {},
     "output_type": "execute_result"
    }
   ],
   "source": [
    "sum(troubleshoot['pred down'].isna()) / X_test.shape[0] "
   ]
  },
  {
   "cell_type": "markdown",
   "metadata": {},
   "source": [
    "# LSTM and LSTM CNN: Downsampled"
   ]
  },
  {
   "cell_type": "code",
   "execution_count": null,
   "metadata": {},
   "outputs": [],
   "source": []
  },
  {
   "cell_type": "code",
   "execution_count": null,
   "metadata": {},
   "outputs": [],
   "source": []
  },
  {
   "cell_type": "code",
   "execution_count": 117,
   "metadata": {},
   "outputs": [],
   "source": [
    "original_csv = pd.read_csv('final_shuffled.csv')"
   ]
  },
  {
   "cell_type": "code",
   "execution_count": 118,
   "metadata": {},
   "outputs": [],
   "source": [
    "# tokenize text. update this when you update sequence length\n",
    "\n",
    "tokenizer = Tokenizer()\n",
    "tokenizer.fit_on_texts(original_csv['8K_Content_cleaned'])\n",
    "\n",
    "sequences = tokenizer.texts_to_sequences(original_csv['8K_Content_cleaned'])\n",
    "data = pad_sequences(sequences, maxlen=400) # takes about 5-10 mins"
   ]
  },
  {
   "cell_type": "code",
   "execution_count": 131,
   "metadata": {},
   "outputs": [
    {
     "data": {
      "text/plain": [
       "926195"
      ]
     },
     "execution_count": 131,
     "metadata": {},
     "output_type": "execute_result"
    }
   ],
   "source": [
    "# vocab size\n",
    "vocabulary_size = max(tokenizer.word_index.values())\n",
    "vocabulary_size"
   ]
  },
  {
   "cell_type": "code",
   "execution_count": 134,
   "metadata": {},
   "outputs": [],
   "source": [
    "original_csv['8K_Content_sequences'] = data.tolist()"
   ]
  },
  {
   "cell_type": "code",
   "execution_count": 135,
   "metadata": {},
   "outputs": [],
   "source": [
    "original_csv_test = original_csv[original_csv['Year'] >= 2011]"
   ]
  },
  {
   "cell_type": "code",
   "execution_count": 136,
   "metadata": {},
   "outputs": [],
   "source": [
    "X_test = original_csv_test['8K_Content_sequences']\n",
    "y_test = original_csv_test[['down','stay','up']]"
   ]
  },
  {
   "cell_type": "code",
   "execution_count": null,
   "metadata": {},
   "outputs": [],
   "source": []
  },
  {
   "cell_type": "code",
   "execution_count": null,
   "metadata": {},
   "outputs": [],
   "source": []
  },
  {
   "cell_type": "code",
   "execution_count": 228,
   "metadata": {},
   "outputs": [
    {
     "data": {
      "text/plain": [
       "(26728, 34)"
      ]
     },
     "execution_count": 228,
     "metadata": {},
     "output_type": "execute_result"
    }
   ],
   "source": [
    "original_csv_test.shape"
   ]
  },
  {
   "cell_type": "code",
   "execution_count": 123,
   "metadata": {},
   "outputs": [
    {
     "data": {
      "text/plain": [
       "(26728, 34)"
      ]
     },
     "execution_count": 123,
     "metadata": {},
     "output_type": "execute_result"
    }
   ],
   "source": [
    "original_csv_test.shape"
   ]
  },
  {
   "cell_type": "code",
   "execution_count": 130,
   "metadata": {},
   "outputs": [
    {
     "data": {
      "text/plain": [
       "400"
      ]
     },
     "execution_count": 130,
     "metadata": {},
     "output_type": "execute_result"
    }
   ],
   "source": []
  },
  {
   "cell_type": "markdown",
   "metadata": {},
   "source": [
    "# Downsampled LSTM"
   ]
  },
  {
   "cell_type": "code",
   "execution_count": 141,
   "metadata": {},
   "outputs": [
    {
     "name": "stdout",
     "output_type": "stream",
     "text": [
      "Loaded model from disk:  model_lstm_2.json and model_lstm_2.h5\n"
     ]
    }
   ],
   "source": [
    "# load model\n",
    "# note: latest file updated 11/30. 3,000 word sequence.\n",
    "\n",
    "# load json and create model\n",
    "json_file = open('model_lstm_2.json', 'r')\n",
    "loaded_model_json = json_file.read()\n",
    "json_file.close()\n",
    "loaded_model = model_from_json(loaded_model_json)\n",
    "\n",
    "# load weights into new model\n",
    "loaded_model.load_weights(\"model_lstm_2.h5\")\n",
    "print(\"Loaded model from disk: \", 'model_lstm_2.json and model_lstm_2.h5')"
   ]
  },
  {
   "cell_type": "code",
   "execution_count": 142,
   "metadata": {},
   "outputs": [
    {
     "name": "stdout",
     "output_type": "stream",
     "text": [
      "acc: 53.51%\n"
     ]
    }
   ],
   "source": [
    "# evaluate loaded model on test data\n",
    "loaded_model.compile(loss='categorical_crossentropy', optimizer='adam', metrics=['accuracy'])\n",
    "# loaded_model.compile(loss='categorical_crossentropy', optimizer='adam', metrics=['accuracy'])\n",
    "score = loaded_model.evaluate(np.array(X_test.values.tolist()), \n",
    "                              np.array(y_test.values.tolist()), verbose=0)\n",
    "print(\"%s: %.2f%%\" % (loaded_model.metrics_names[1], score[1]*100))"
   ]
  },
  {
   "cell_type": "code",
   "execution_count": null,
   "metadata": {},
   "outputs": [],
   "source": []
  },
  {
   "cell_type": "code",
   "execution_count": 143,
   "metadata": {},
   "outputs": [],
   "source": [
    "# predict\n",
    "preds = loaded_model.predict(np.array(X_test.values.tolist()))"
   ]
  },
  {
   "cell_type": "code",
   "execution_count": 144,
   "metadata": {
    "scrolled": false
   },
   "outputs": [
    {
     "name": "stderr",
     "output_type": "stream",
     "text": [
      "/home/raymondleemids/anaconda3/lib/python3.6/site-packages/pandas/core/frame.py:3137: SettingWithCopyWarning:\n",
      "\n",
      "\n",
      "A value is trying to be set on a copy of a slice from a DataFrame.\n",
      "Try using .loc[row_indexer,col_indexer] = value instead\n",
      "\n",
      "See the caveats in the documentation: http://pandas.pydata.org/pandas-docs/stable/indexing.html#indexing-view-versus-copy\n",
      "\n"
     ]
    }
   ],
   "source": [
    "original_csv_test[['pred down', 'pred stay', 'pred up']] = pd.DataFrame(preds, \n",
    "                                                                        columns=['pred down', 'pred stay', 'pred up'])"
   ]
  },
  {
   "cell_type": "code",
   "execution_count": 145,
   "metadata": {
    "scrolled": true
   },
   "outputs": [
    {
     "name": "stderr",
     "output_type": "stream",
     "text": [
      "/home/raymondleemids/anaconda3/lib/python3.6/site-packages/ipykernel_launcher.py:1: SettingWithCopyWarning:\n",
      "\n",
      "\n",
      "A value is trying to be set on a copy of a slice from a DataFrame.\n",
      "Try using .loc[row_indexer,col_indexer] = value instead\n",
      "\n",
      "See the caveats in the documentation: http://pandas.pydata.org/pandas-docs/stable/indexing.html#indexing-view-versus-copy\n",
      "\n"
     ]
    }
   ],
   "source": [
    "original_csv_test['8K_Content_length'] = original_csv_test['8K_Content'].str.split().str.len()"
   ]
  },
  {
   "cell_type": "code",
   "execution_count": 146,
   "metadata": {},
   "outputs": [
    {
     "data": {
      "text/plain": [
       "5424.346266087998"
      ]
     },
     "execution_count": 146,
     "metadata": {},
     "output_type": "execute_result"
    }
   ],
   "source": [
    "original_csv_test['8K_Content_length'].mean()"
   ]
  },
  {
   "cell_type": "code",
   "execution_count": 147,
   "metadata": {},
   "outputs": [
    {
     "data": {
      "text/plain": [
       "Index(['Unnamed: 0', 'Unnamed: 0.1', 'Unnamed: 0.1.1', '8K_Content',\n",
       "       'Adj Close_GSPC', 'Adj Close_stock', 'Close_GSPC', 'Close_stock',\n",
       "       'Date', 'Day Change_GSPC', 'Day Change_stock',\n",
       "       'Day Change_stock percentage', 'High_GSPC', 'High_stock', 'Industry',\n",
       "       'Low_GSPC', 'Low_stock', 'Open_GSPC', 'Open_stock',\n",
       "       'Overnight Change_GSPC', 'Overnight Change_stock',\n",
       "       'Overnight Change_stock percentage', 'Ticker', 'Time', 'Time_of_day',\n",
       "       'Volume_GSPC', 'Volume_stock', 'Year', 'stock_overnight_movement_tag',\n",
       "       '8K_Content_cleaned', 'down', 'stay', 'up', '8K_Content_sequences',\n",
       "       'pred down', 'pred stay', 'pred up', '8K_Content_length'],\n",
       "      dtype='object')"
      ]
     },
     "execution_count": 147,
     "metadata": {},
     "output_type": "execute_result"
    }
   ],
   "source": [
    "original_csv_test.columns"
   ]
  },
  {
   "cell_type": "code",
   "execution_count": 148,
   "metadata": {},
   "outputs": [],
   "source": [
    "test_predictions = original_csv_test[['Industry','stock_overnight_movement_tag', '8K_Content_length', \n",
    "                   'down','stay', 'up', 'pred down', 'pred stay', 'pred up']]"
   ]
  },
  {
   "cell_type": "code",
   "execution_count": 149,
   "metadata": {},
   "outputs": [],
   "source": [
    "test_predictions.to_csv('test_predictions_downsampled_lstm.csv')"
   ]
  },
  {
   "cell_type": "code",
   "execution_count": 164,
   "metadata": {},
   "outputs": [
    {
     "data": {
      "text/plain": [
       "19922"
      ]
     },
     "execution_count": 164,
     "metadata": {},
     "output_type": "execute_result"
    }
   ],
   "source": [
    "# how many NaNs?\n",
    "sum(test_predictions['pred down'].isna())"
   ]
  },
  {
   "cell_type": "code",
   "execution_count": 197,
   "metadata": {},
   "outputs": [
    {
     "name": "stdout",
     "output_type": "stream",
     "text": [
      "Saved predictions to disk:  predictions_lstm_2.csv\n"
     ]
    }
   ],
   "source": [
    "# predictions to csv\n",
    "np.savetxt('predictions_lstm_2.csv', preds, delimiter=',')\n",
    "print(\"Saved predictions to disk: \", 'predictions_lstm_2.csv')"
   ]
  },
  {
   "cell_type": "code",
   "execution_count": 172,
   "metadata": {},
   "outputs": [
    {
     "data": {
      "text/plain": [
       "(26728, 9)"
      ]
     },
     "execution_count": 172,
     "metadata": {},
     "output_type": "execute_result"
    }
   ],
   "source": [
    "test_predictions.shape"
   ]
  },
  {
   "cell_type": "code",
   "execution_count": 162,
   "metadata": {},
   "outputs": [
    {
     "data": {
      "text/plain": [
       "26728"
      ]
     },
     "execution_count": 162,
     "metadata": {},
     "output_type": "execute_result"
    }
   ],
   "source": [
    "len(preds)"
   ]
  },
  {
   "cell_type": "code",
   "execution_count": 155,
   "metadata": {},
   "outputs": [
    {
     "data": {
      "text/plain": [
       "array([0, 0, 0])"
      ]
     },
     "execution_count": 155,
     "metadata": {},
     "output_type": "execute_result"
    }
   ],
   "source": [
    "sum(np.isnan(preds)"
   ]
  },
  {
   "cell_type": "code",
   "execution_count": 169,
   "metadata": {},
   "outputs": [
    {
     "data": {
      "text/plain": [
       "0"
      ]
     },
     "execution_count": 169,
     "metadata": {},
     "output_type": "execute_result"
    }
   ],
   "source": [
    "sum(np.isnan(preds[:,0]))"
   ]
  },
  {
   "cell_type": "code",
   "execution_count": 170,
   "metadata": {},
   "outputs": [
    {
     "data": {
      "text/plain": [
       "0"
      ]
     },
     "execution_count": 170,
     "metadata": {},
     "output_type": "execute_result"
    }
   ],
   "source": [
    "sum(np.isnan(preds[:,1]))"
   ]
  },
  {
   "cell_type": "code",
   "execution_count": 171,
   "metadata": {},
   "outputs": [
    {
     "data": {
      "text/plain": [
       "0"
      ]
     },
     "execution_count": 171,
     "metadata": {},
     "output_type": "execute_result"
    }
   ],
   "source": [
    "sum(np.isnan(preds[:,2]))"
   ]
  },
  {
   "cell_type": "code",
   "execution_count": 175,
   "metadata": {},
   "outputs": [
    {
     "data": {
      "text/plain": [
       "'/home/raymondleemids/w266_project'"
      ]
     },
     "execution_count": 175,
     "metadata": {},
     "output_type": "execute_result"
    }
   ],
   "source": [
    "pwd"
   ]
  },
  {
   "cell_type": "code",
   "execution_count": 173,
   "metadata": {},
   "outputs": [],
   "source": [
    "predictions_file = pd.read_csv('predictions_lstm_2.csv')"
   ]
  },
  {
   "cell_type": "code",
   "execution_count": 174,
   "metadata": {},
   "outputs": [
    {
     "data": {
      "text/html": [
       "<div>\n",
       "<style scoped>\n",
       "    .dataframe tbody tr th:only-of-type {\n",
       "        vertical-align: middle;\n",
       "    }\n",
       "\n",
       "    .dataframe tbody tr th {\n",
       "        vertical-align: top;\n",
       "    }\n",
       "\n",
       "    .dataframe thead th {\n",
       "        text-align: right;\n",
       "    }\n",
       "</style>\n",
       "<table border=\"1\" class=\"dataframe\">\n",
       "  <thead>\n",
       "    <tr style=\"text-align: right;\">\n",
       "      <th></th>\n",
       "      <th>7.317891716957092285e-01</th>\n",
       "      <th>2.167503116652369499e-03</th>\n",
       "      <th>2.660433650016784668e-01</th>\n",
       "    </tr>\n",
       "  </thead>\n",
       "  <tbody>\n",
       "    <tr>\n",
       "      <th>0</th>\n",
       "      <td>0.505630</td>\n",
       "      <td>0.012645</td>\n",
       "      <td>0.481725</td>\n",
       "    </tr>\n",
       "    <tr>\n",
       "      <th>1</th>\n",
       "      <td>0.038279</td>\n",
       "      <td>0.659859</td>\n",
       "      <td>0.301862</td>\n",
       "    </tr>\n",
       "    <tr>\n",
       "      <th>2</th>\n",
       "      <td>0.661999</td>\n",
       "      <td>0.034501</td>\n",
       "      <td>0.303500</td>\n",
       "    </tr>\n",
       "    <tr>\n",
       "      <th>3</th>\n",
       "      <td>0.186858</td>\n",
       "      <td>0.783358</td>\n",
       "      <td>0.029785</td>\n",
       "    </tr>\n",
       "    <tr>\n",
       "      <th>4</th>\n",
       "      <td>0.044054</td>\n",
       "      <td>0.013035</td>\n",
       "      <td>0.942911</td>\n",
       "    </tr>\n",
       "    <tr>\n",
       "      <th>5</th>\n",
       "      <td>0.045142</td>\n",
       "      <td>0.031536</td>\n",
       "      <td>0.923322</td>\n",
       "    </tr>\n",
       "    <tr>\n",
       "      <th>6</th>\n",
       "      <td>0.059783</td>\n",
       "      <td>0.900116</td>\n",
       "      <td>0.040101</td>\n",
       "    </tr>\n",
       "    <tr>\n",
       "      <th>7</th>\n",
       "      <td>0.910800</td>\n",
       "      <td>0.004046</td>\n",
       "      <td>0.085154</td>\n",
       "    </tr>\n",
       "    <tr>\n",
       "      <th>8</th>\n",
       "      <td>0.307269</td>\n",
       "      <td>0.097381</td>\n",
       "      <td>0.595350</td>\n",
       "    </tr>\n",
       "    <tr>\n",
       "      <th>9</th>\n",
       "      <td>0.409266</td>\n",
       "      <td>0.010901</td>\n",
       "      <td>0.579833</td>\n",
       "    </tr>\n",
       "    <tr>\n",
       "      <th>10</th>\n",
       "      <td>0.216779</td>\n",
       "      <td>0.648498</td>\n",
       "      <td>0.134723</td>\n",
       "    </tr>\n",
       "    <tr>\n",
       "      <th>11</th>\n",
       "      <td>0.183951</td>\n",
       "      <td>0.016617</td>\n",
       "      <td>0.799432</td>\n",
       "    </tr>\n",
       "    <tr>\n",
       "      <th>12</th>\n",
       "      <td>0.679607</td>\n",
       "      <td>0.029282</td>\n",
       "      <td>0.291111</td>\n",
       "    </tr>\n",
       "    <tr>\n",
       "      <th>13</th>\n",
       "      <td>0.810353</td>\n",
       "      <td>0.062012</td>\n",
       "      <td>0.127636</td>\n",
       "    </tr>\n",
       "    <tr>\n",
       "      <th>14</th>\n",
       "      <td>0.129274</td>\n",
       "      <td>0.728874</td>\n",
       "      <td>0.141852</td>\n",
       "    </tr>\n",
       "    <tr>\n",
       "      <th>15</th>\n",
       "      <td>0.904482</td>\n",
       "      <td>0.014136</td>\n",
       "      <td>0.081382</td>\n",
       "    </tr>\n",
       "    <tr>\n",
       "      <th>16</th>\n",
       "      <td>0.601514</td>\n",
       "      <td>0.056285</td>\n",
       "      <td>0.342201</td>\n",
       "    </tr>\n",
       "    <tr>\n",
       "      <th>17</th>\n",
       "      <td>0.139602</td>\n",
       "      <td>0.769780</td>\n",
       "      <td>0.090618</td>\n",
       "    </tr>\n",
       "    <tr>\n",
       "      <th>18</th>\n",
       "      <td>0.148790</td>\n",
       "      <td>0.327511</td>\n",
       "      <td>0.523699</td>\n",
       "    </tr>\n",
       "    <tr>\n",
       "      <th>19</th>\n",
       "      <td>0.364315</td>\n",
       "      <td>0.050167</td>\n",
       "      <td>0.585518</td>\n",
       "    </tr>\n",
       "    <tr>\n",
       "      <th>20</th>\n",
       "      <td>0.347931</td>\n",
       "      <td>0.033326</td>\n",
       "      <td>0.618743</td>\n",
       "    </tr>\n",
       "    <tr>\n",
       "      <th>21</th>\n",
       "      <td>0.027248</td>\n",
       "      <td>0.963325</td>\n",
       "      <td>0.009427</td>\n",
       "    </tr>\n",
       "    <tr>\n",
       "      <th>22</th>\n",
       "      <td>0.389233</td>\n",
       "      <td>0.272320</td>\n",
       "      <td>0.338448</td>\n",
       "    </tr>\n",
       "    <tr>\n",
       "      <th>23</th>\n",
       "      <td>0.303820</td>\n",
       "      <td>0.024308</td>\n",
       "      <td>0.671872</td>\n",
       "    </tr>\n",
       "    <tr>\n",
       "      <th>24</th>\n",
       "      <td>0.555686</td>\n",
       "      <td>0.085372</td>\n",
       "      <td>0.358943</td>\n",
       "    </tr>\n",
       "    <tr>\n",
       "      <th>25</th>\n",
       "      <td>0.216779</td>\n",
       "      <td>0.648498</td>\n",
       "      <td>0.134723</td>\n",
       "    </tr>\n",
       "    <tr>\n",
       "      <th>26</th>\n",
       "      <td>0.780371</td>\n",
       "      <td>0.011349</td>\n",
       "      <td>0.208280</td>\n",
       "    </tr>\n",
       "    <tr>\n",
       "      <th>27</th>\n",
       "      <td>0.136309</td>\n",
       "      <td>0.793731</td>\n",
       "      <td>0.069961</td>\n",
       "    </tr>\n",
       "    <tr>\n",
       "      <th>28</th>\n",
       "      <td>0.300694</td>\n",
       "      <td>0.040414</td>\n",
       "      <td>0.658892</td>\n",
       "    </tr>\n",
       "    <tr>\n",
       "      <th>29</th>\n",
       "      <td>0.463117</td>\n",
       "      <td>0.008616</td>\n",
       "      <td>0.528268</td>\n",
       "    </tr>\n",
       "    <tr>\n",
       "      <th>...</th>\n",
       "      <td>...</td>\n",
       "      <td>...</td>\n",
       "      <td>...</td>\n",
       "    </tr>\n",
       "    <tr>\n",
       "      <th>7807</th>\n",
       "      <td>0.497369</td>\n",
       "      <td>0.151220</td>\n",
       "      <td>0.351411</td>\n",
       "    </tr>\n",
       "    <tr>\n",
       "      <th>7808</th>\n",
       "      <td>0.217033</td>\n",
       "      <td>0.035574</td>\n",
       "      <td>0.747393</td>\n",
       "    </tr>\n",
       "    <tr>\n",
       "      <th>7809</th>\n",
       "      <td>0.325273</td>\n",
       "      <td>0.391645</td>\n",
       "      <td>0.283082</td>\n",
       "    </tr>\n",
       "    <tr>\n",
       "      <th>7810</th>\n",
       "      <td>0.412047</td>\n",
       "      <td>0.283000</td>\n",
       "      <td>0.304953</td>\n",
       "    </tr>\n",
       "    <tr>\n",
       "      <th>7811</th>\n",
       "      <td>0.184874</td>\n",
       "      <td>0.146022</td>\n",
       "      <td>0.669104</td>\n",
       "    </tr>\n",
       "    <tr>\n",
       "      <th>7812</th>\n",
       "      <td>0.410590</td>\n",
       "      <td>0.493470</td>\n",
       "      <td>0.095940</td>\n",
       "    </tr>\n",
       "    <tr>\n",
       "      <th>7813</th>\n",
       "      <td>0.455434</td>\n",
       "      <td>0.192709</td>\n",
       "      <td>0.351857</td>\n",
       "    </tr>\n",
       "    <tr>\n",
       "      <th>7814</th>\n",
       "      <td>0.585200</td>\n",
       "      <td>0.146515</td>\n",
       "      <td>0.268285</td>\n",
       "    </tr>\n",
       "    <tr>\n",
       "      <th>7815</th>\n",
       "      <td>0.746013</td>\n",
       "      <td>0.057278</td>\n",
       "      <td>0.196709</td>\n",
       "    </tr>\n",
       "    <tr>\n",
       "      <th>7816</th>\n",
       "      <td>0.235881</td>\n",
       "      <td>0.207494</td>\n",
       "      <td>0.556625</td>\n",
       "    </tr>\n",
       "    <tr>\n",
       "      <th>7817</th>\n",
       "      <td>0.226576</td>\n",
       "      <td>0.389905</td>\n",
       "      <td>0.383519</td>\n",
       "    </tr>\n",
       "    <tr>\n",
       "      <th>7818</th>\n",
       "      <td>0.097450</td>\n",
       "      <td>0.709398</td>\n",
       "      <td>0.193152</td>\n",
       "    </tr>\n",
       "    <tr>\n",
       "      <th>7819</th>\n",
       "      <td>0.339938</td>\n",
       "      <td>0.019136</td>\n",
       "      <td>0.640926</td>\n",
       "    </tr>\n",
       "    <tr>\n",
       "      <th>7820</th>\n",
       "      <td>0.865617</td>\n",
       "      <td>0.056363</td>\n",
       "      <td>0.078021</td>\n",
       "    </tr>\n",
       "    <tr>\n",
       "      <th>7821</th>\n",
       "      <td>0.399484</td>\n",
       "      <td>0.539259</td>\n",
       "      <td>0.061257</td>\n",
       "    </tr>\n",
       "    <tr>\n",
       "      <th>7822</th>\n",
       "      <td>0.173227</td>\n",
       "      <td>0.418563</td>\n",
       "      <td>0.408211</td>\n",
       "    </tr>\n",
       "    <tr>\n",
       "      <th>7823</th>\n",
       "      <td>0.490432</td>\n",
       "      <td>0.104131</td>\n",
       "      <td>0.405437</td>\n",
       "    </tr>\n",
       "    <tr>\n",
       "      <th>7824</th>\n",
       "      <td>0.593601</td>\n",
       "      <td>0.014354</td>\n",
       "      <td>0.392045</td>\n",
       "    </tr>\n",
       "    <tr>\n",
       "      <th>7825</th>\n",
       "      <td>0.157562</td>\n",
       "      <td>0.058840</td>\n",
       "      <td>0.783598</td>\n",
       "    </tr>\n",
       "    <tr>\n",
       "      <th>7826</th>\n",
       "      <td>0.485718</td>\n",
       "      <td>0.059634</td>\n",
       "      <td>0.454648</td>\n",
       "    </tr>\n",
       "    <tr>\n",
       "      <th>7827</th>\n",
       "      <td>0.292084</td>\n",
       "      <td>0.157913</td>\n",
       "      <td>0.550003</td>\n",
       "    </tr>\n",
       "    <tr>\n",
       "      <th>7828</th>\n",
       "      <td>0.401112</td>\n",
       "      <td>0.286192</td>\n",
       "      <td>0.312696</td>\n",
       "    </tr>\n",
       "    <tr>\n",
       "      <th>7829</th>\n",
       "      <td>0.734933</td>\n",
       "      <td>0.072556</td>\n",
       "      <td>0.192511</td>\n",
       "    </tr>\n",
       "    <tr>\n",
       "      <th>7830</th>\n",
       "      <td>0.188130</td>\n",
       "      <td>0.105829</td>\n",
       "      <td>0.706041</td>\n",
       "    </tr>\n",
       "    <tr>\n",
       "      <th>7831</th>\n",
       "      <td>0.451714</td>\n",
       "      <td>0.247610</td>\n",
       "      <td>0.300676</td>\n",
       "    </tr>\n",
       "    <tr>\n",
       "      <th>7832</th>\n",
       "      <td>0.619003</td>\n",
       "      <td>0.048933</td>\n",
       "      <td>0.332064</td>\n",
       "    </tr>\n",
       "    <tr>\n",
       "      <th>7833</th>\n",
       "      <td>0.771860</td>\n",
       "      <td>0.031352</td>\n",
       "      <td>0.196787</td>\n",
       "    </tr>\n",
       "    <tr>\n",
       "      <th>7834</th>\n",
       "      <td>0.473499</td>\n",
       "      <td>0.174479</td>\n",
       "      <td>0.352022</td>\n",
       "    </tr>\n",
       "    <tr>\n",
       "      <th>7835</th>\n",
       "      <td>0.153430</td>\n",
       "      <td>0.711980</td>\n",
       "      <td>0.134591</td>\n",
       "    </tr>\n",
       "    <tr>\n",
       "      <th>7836</th>\n",
       "      <td>0.337087</td>\n",
       "      <td>0.269400</td>\n",
       "      <td>0.393513</td>\n",
       "    </tr>\n",
       "  </tbody>\n",
       "</table>\n",
       "<p>7837 rows × 3 columns</p>\n",
       "</div>"
      ],
      "text/plain": [
       "      7.317891716957092285e-01  2.167503116652369499e-03  \\\n",
       "0                     0.505630                  0.012645   \n",
       "1                     0.038279                  0.659859   \n",
       "2                     0.661999                  0.034501   \n",
       "3                     0.186858                  0.783358   \n",
       "4                     0.044054                  0.013035   \n",
       "5                     0.045142                  0.031536   \n",
       "6                     0.059783                  0.900116   \n",
       "7                     0.910800                  0.004046   \n",
       "8                     0.307269                  0.097381   \n",
       "9                     0.409266                  0.010901   \n",
       "10                    0.216779                  0.648498   \n",
       "11                    0.183951                  0.016617   \n",
       "12                    0.679607                  0.029282   \n",
       "13                    0.810353                  0.062012   \n",
       "14                    0.129274                  0.728874   \n",
       "15                    0.904482                  0.014136   \n",
       "16                    0.601514                  0.056285   \n",
       "17                    0.139602                  0.769780   \n",
       "18                    0.148790                  0.327511   \n",
       "19                    0.364315                  0.050167   \n",
       "20                    0.347931                  0.033326   \n",
       "21                    0.027248                  0.963325   \n",
       "22                    0.389233                  0.272320   \n",
       "23                    0.303820                  0.024308   \n",
       "24                    0.555686                  0.085372   \n",
       "25                    0.216779                  0.648498   \n",
       "26                    0.780371                  0.011349   \n",
       "27                    0.136309                  0.793731   \n",
       "28                    0.300694                  0.040414   \n",
       "29                    0.463117                  0.008616   \n",
       "...                        ...                       ...   \n",
       "7807                  0.497369                  0.151220   \n",
       "7808                  0.217033                  0.035574   \n",
       "7809                  0.325273                  0.391645   \n",
       "7810                  0.412047                  0.283000   \n",
       "7811                  0.184874                  0.146022   \n",
       "7812                  0.410590                  0.493470   \n",
       "7813                  0.455434                  0.192709   \n",
       "7814                  0.585200                  0.146515   \n",
       "7815                  0.746013                  0.057278   \n",
       "7816                  0.235881                  0.207494   \n",
       "7817                  0.226576                  0.389905   \n",
       "7818                  0.097450                  0.709398   \n",
       "7819                  0.339938                  0.019136   \n",
       "7820                  0.865617                  0.056363   \n",
       "7821                  0.399484                  0.539259   \n",
       "7822                  0.173227                  0.418563   \n",
       "7823                  0.490432                  0.104131   \n",
       "7824                  0.593601                  0.014354   \n",
       "7825                  0.157562                  0.058840   \n",
       "7826                  0.485718                  0.059634   \n",
       "7827                  0.292084                  0.157913   \n",
       "7828                  0.401112                  0.286192   \n",
       "7829                  0.734933                  0.072556   \n",
       "7830                  0.188130                  0.105829   \n",
       "7831                  0.451714                  0.247610   \n",
       "7832                  0.619003                  0.048933   \n",
       "7833                  0.771860                  0.031352   \n",
       "7834                  0.473499                  0.174479   \n",
       "7835                  0.153430                  0.711980   \n",
       "7836                  0.337087                  0.269400   \n",
       "\n",
       "      2.660433650016784668e-01  \n",
       "0                     0.481725  \n",
       "1                     0.301862  \n",
       "2                     0.303500  \n",
       "3                     0.029785  \n",
       "4                     0.942911  \n",
       "5                     0.923322  \n",
       "6                     0.040101  \n",
       "7                     0.085154  \n",
       "8                     0.595350  \n",
       "9                     0.579833  \n",
       "10                    0.134723  \n",
       "11                    0.799432  \n",
       "12                    0.291111  \n",
       "13                    0.127636  \n",
       "14                    0.141852  \n",
       "15                    0.081382  \n",
       "16                    0.342201  \n",
       "17                    0.090618  \n",
       "18                    0.523699  \n",
       "19                    0.585518  \n",
       "20                    0.618743  \n",
       "21                    0.009427  \n",
       "22                    0.338448  \n",
       "23                    0.671872  \n",
       "24                    0.358943  \n",
       "25                    0.134723  \n",
       "26                    0.208280  \n",
       "27                    0.069961  \n",
       "28                    0.658892  \n",
       "29                    0.528268  \n",
       "...                        ...  \n",
       "7807                  0.351411  \n",
       "7808                  0.747393  \n",
       "7809                  0.283082  \n",
       "7810                  0.304953  \n",
       "7811                  0.669104  \n",
       "7812                  0.095940  \n",
       "7813                  0.351857  \n",
       "7814                  0.268285  \n",
       "7815                  0.196709  \n",
       "7816                  0.556625  \n",
       "7817                  0.383519  \n",
       "7818                  0.193152  \n",
       "7819                  0.640926  \n",
       "7820                  0.078021  \n",
       "7821                  0.061257  \n",
       "7822                  0.408211  \n",
       "7823                  0.405437  \n",
       "7824                  0.392045  \n",
       "7825                  0.783598  \n",
       "7826                  0.454648  \n",
       "7827                  0.550003  \n",
       "7828                  0.312696  \n",
       "7829                  0.192511  \n",
       "7830                  0.706041  \n",
       "7831                  0.300676  \n",
       "7832                  0.332064  \n",
       "7833                  0.196787  \n",
       "7834                  0.352022  \n",
       "7835                  0.134591  \n",
       "7836                  0.393513  \n",
       "\n",
       "[7837 rows x 3 columns]"
      ]
     },
     "execution_count": 174,
     "metadata": {},
     "output_type": "execute_result"
    }
   ],
   "source": [
    "predictions_file"
   ]
  },
  {
   "cell_type": "code",
   "execution_count": 176,
   "metadata": {},
   "outputs": [
    {
     "data": {
      "text/plain": [
       "(26728,)"
      ]
     },
     "execution_count": 176,
     "metadata": {},
     "output_type": "execute_result"
    }
   ],
   "source": [
    "X_test.shape"
   ]
  },
  {
   "cell_type": "markdown",
   "metadata": {},
   "source": [
    "# Downsampled CNN"
   ]
  },
  {
   "cell_type": "code",
   "execution_count": 198,
   "metadata": {},
   "outputs": [
    {
     "name": "stdout",
     "output_type": "stream",
     "text": [
      "Loaded model from disk:  model_conv_2.json and model_conv_2.h5\n"
     ]
    }
   ],
   "source": [
    "# load model\n",
    "\n",
    "# load json and create model\n",
    "json_file = open('model_conv_2.json', 'r')\n",
    "loaded_model_json = json_file.read()\n",
    "json_file.close()\n",
    "loaded_model = model_from_json(loaded_model_json)\n",
    "\n",
    "# load weights into new model\n",
    "loaded_model.load_weights(\"model_conv_2.h5\")\n",
    "print(\"Loaded model from disk: \", 'model_conv_2.json and model_conv_2.h5')"
   ]
  },
  {
   "cell_type": "code",
   "execution_count": 199,
   "metadata": {},
   "outputs": [
    {
     "name": "stdout",
     "output_type": "stream",
     "text": [
      "acc: 51.06%\n"
     ]
    }
   ],
   "source": [
    "# evaluate loaded model on test data\n",
    "loaded_model.compile(loss='categorical_crossentropy', optimizer='adam', metrics=['accuracy'])\n",
    "#loaded_model.compile(loss='categorical_crossentropy', optimizer='adam', metrics=['accuracy'])\n",
    "score = loaded_model.evaluate(np.array(X_test.values.tolist()), \n",
    "                              np.array(y_test.values.tolist()), verbose=0)\n",
    "print(\"%s: %.2f%%\" % (loaded_model.metrics_names[1], score[1]*100))"
   ]
  },
  {
   "cell_type": "code",
   "execution_count": 201,
   "metadata": {},
   "outputs": [],
   "source": [
    "preds = loaded_model.predict(np.array(X_test.values.tolist()))"
   ]
  },
  {
   "cell_type": "code",
   "execution_count": 202,
   "metadata": {},
   "outputs": [
    {
     "name": "stdout",
     "output_type": "stream",
     "text": [
      "Saved predictions to disk:  predictions_conv_2.csv\n"
     ]
    }
   ],
   "source": [
    "# save predictions to csv\n",
    "np.savetxt('predictions_conv_2.csv', preds, delimiter=',')\n",
    "print(\"Saved predictions to disk: \", 'predictions_conv_2.csv')"
   ]
  },
  {
   "cell_type": "code",
   "execution_count": 208,
   "metadata": {},
   "outputs": [
    {
     "data": {
      "text/plain": [
       "0"
      ]
     },
     "execution_count": 208,
     "metadata": {},
     "output_type": "execute_result"
    }
   ],
   "source": [
    "sum(np.isnan(preds[:,2]))"
   ]
  },
  {
   "cell_type": "code",
   "execution_count": null,
   "metadata": {},
   "outputs": [],
   "source": []
  },
  {
   "cell_type": "code",
   "execution_count": null,
   "metadata": {},
   "outputs": [],
   "source": []
  },
  {
   "cell_type": "markdown",
   "metadata": {},
   "source": [
    "# Model_Downsampled_IncreaseSeqLen.ipynb (wip)"
   ]
  },
  {
   "cell_type": "code",
   "execution_count": null,
   "metadata": {},
   "outputs": [],
   "source": []
  },
  {
   "cell_type": "code",
   "execution_count": null,
   "metadata": {},
   "outputs": [],
   "source": []
  },
  {
   "cell_type": "code",
   "execution_count": null,
   "metadata": {},
   "outputs": [],
   "source": []
  },
  {
   "cell_type": "code",
   "execution_count": null,
   "metadata": {},
   "outputs": [],
   "source": []
  },
  {
   "cell_type": "code",
   "execution_count": null,
   "metadata": {},
   "outputs": [],
   "source": []
  },
  {
   "cell_type": "code",
   "execution_count": null,
   "metadata": {},
   "outputs": [],
   "source": []
  },
  {
   "cell_type": "code",
   "execution_count": null,
   "metadata": {},
   "outputs": [],
   "source": []
  },
  {
   "cell_type": "code",
   "execution_count": null,
   "metadata": {},
   "outputs": [],
   "source": []
  },
  {
   "cell_type": "code",
   "execution_count": null,
   "metadata": {},
   "outputs": [],
   "source": []
  },
  {
   "cell_type": "code",
   "execution_count": null,
   "metadata": {},
   "outputs": [],
   "source": []
  },
  {
   "cell_type": "code",
   "execution_count": null,
   "metadata": {},
   "outputs": [],
   "source": []
  },
  {
   "cell_type": "markdown",
   "metadata": {},
   "source": [
    "# Model_Downsampled_DecreaseSeqLen.ipynb (wip"
   ]
  },
  {
   "cell_type": "code",
   "execution_count": 2,
   "metadata": {},
   "outputs": [],
   "source": [
    "original_csv = pd.read_csv('final_shuffled.csv')"
   ]
  },
  {
   "cell_type": "code",
   "execution_count": 3,
   "metadata": {},
   "outputs": [],
   "source": [
    "# tokenize text. update this when you update sequence length\n",
    "\n",
    "tokenizer = Tokenizer()\n",
    "tokenizer.fit_on_texts(original_csv['8K_Content'])\n",
    "\n",
    "sequences = tokenizer.texts_to_sequences(original_csv['8K_Content'])\n",
    "data = pad_sequences(sequences, maxlen=300) # takes about 5-10 mins"
   ]
  },
  {
   "cell_type": "code",
   "execution_count": 4,
   "metadata": {},
   "outputs": [
    {
     "data": {
      "text/plain": [
       "926395"
      ]
     },
     "execution_count": 4,
     "metadata": {},
     "output_type": "execute_result"
    }
   ],
   "source": [
    "# vocab size\n",
    "vocabulary_size = max(tokenizer.word_index.values())\n",
    "vocabulary_size"
   ]
  },
  {
   "cell_type": "code",
   "execution_count": 5,
   "metadata": {},
   "outputs": [],
   "source": [
    "original_csv['8K_Content_sequences'] = data.tolist()"
   ]
  },
  {
   "cell_type": "code",
   "execution_count": 6,
   "metadata": {},
   "outputs": [],
   "source": [
    "original_csv_test = original_csv[original_csv['Year'] >= 2011]"
   ]
  },
  {
   "cell_type": "code",
   "execution_count": 7,
   "metadata": {},
   "outputs": [
    {
     "data": {
      "text/plain": [
       "(26728, 34)"
      ]
     },
     "execution_count": 7,
     "metadata": {},
     "output_type": "execute_result"
    }
   ],
   "source": [
    "original_csv_test.shape"
   ]
  },
  {
   "cell_type": "code",
   "execution_count": 8,
   "metadata": {},
   "outputs": [],
   "source": [
    "X_test = original_csv_test['8K_Content_sequences']\n",
    "y_test = original_csv_test[['down','stay','up']]"
   ]
  },
  {
   "cell_type": "code",
   "execution_count": 234,
   "metadata": {},
   "outputs": [
    {
     "data": {
      "text/plain": [
       "Unnamed: 0                                                                       90889\n",
       "Unnamed: 0.1                                                                     91227\n",
       "Unnamed: 0.1.1                                                                  147088\n",
       "8K_Content                                        Check the appropriate box below i...\n",
       "Adj Close_GSPC                                                                 1347.32\n",
       "Adj Close_stock                                                                  33.08\n",
       "Close_GSPC                                                                     1347.32\n",
       "Close_stock                                                                      33.08\n",
       "Date                                                                        2011-05-04\n",
       "Day Change_GSPC                                                                  -8.58\n",
       "Day Change_stock                                                                 -0.77\n",
       "Day Change_stock percentage                                                 -0.0227474\n",
       "High_GSPC                                                                       1355.9\n",
       "High_stock                                                                       34.08\n",
       "Industry                                                                   Health Care\n",
       "Low_GSPC                                                                        1341.5\n",
       "Low_stock                                                                        32.98\n",
       "Open_GSPC                                                                       1355.9\n",
       "Open_stock                                                                       33.85\n",
       "Overnight Change_GSPC                                                            -0.72\n",
       "Overnight Change_stock                                                            0.04\n",
       "Overnight Change_stock percentage                                           0.00118308\n",
       "Ticker                                                                            AMED\n",
       "Time                                                                       2.01105e+13\n",
       "Time_of_day                                                              out_of_market\n",
       "Volume_GSPC                                                                4.22374e+09\n",
       "Volume_stock                                                                    210100\n",
       "Year                                                                              2011\n",
       "stock_overnight_movement_tag                                                      stay\n",
       "8K_Content_cleaned                   ['check', 'the', 'appropriate', 'box', 'below'...\n",
       "down                                                                                 0\n",
       "stay                                                                                 1\n",
       "up                                                                                   0\n",
       "8K_Content_sequences                 [753, 1, 369, 727, 234, 40, 1, 102, 74, 210, 2...\n",
       "Name: 210, dtype: object"
      ]
     },
     "execution_count": 234,
     "metadata": {},
     "output_type": "execute_result"
    }
   ],
   "source": [
    "original_csv_test.iloc[50]"
   ]
  },
  {
   "cell_type": "markdown",
   "metadata": {},
   "source": [
    "# LSTM"
   ]
  },
  {
   "cell_type": "code",
   "execution_count": 9,
   "metadata": {},
   "outputs": [],
   "source": [
    "# set model # for saving the model and weights to json and h5\n",
    "model_num = 4"
   ]
  },
  {
   "cell_type": "code",
   "execution_count": 10,
   "metadata": {},
   "outputs": [
    {
     "name": "stdout",
     "output_type": "stream",
     "text": [
      "Loaded model from disk:  model_lstm_4.json and model_lstm_4.h5\n"
     ]
    }
   ],
   "source": [
    "# load model\n",
    "# note: latest file updated 11/30. 3,000 word sequence.\n",
    "\n",
    "# load json and create model\n",
    "json_file = open('model_lstm_%d.json' %model_num, 'r')\n",
    "loaded_model_json = json_file.read()\n",
    "json_file.close()\n",
    "loaded_model = model_from_json(loaded_model_json)\n",
    "\n",
    "# load weights into new model\n",
    "loaded_model.load_weights(\"model_lstm_%d.h5\" %model_num)\n",
    "print(\"Loaded model from disk: \", 'model_lstm_%d.json and model_lstm_%d.h5' %(model_num, model_num))"
   ]
  },
  {
   "cell_type": "code",
   "execution_count": 11,
   "metadata": {},
   "outputs": [
    {
     "name": "stdout",
     "output_type": "stream",
     "text": [
      "acc: 38.44%\n"
     ]
    }
   ],
   "source": [
    "# evaluate loaded model on test data\n",
    "loaded_model.compile(loss='categorical_crossentropy', optimizer='adam', metrics=['accuracy'])\n",
    "# loaded_model.compile(loss='categorical_crossentropy', optimizer='adam', metrics=['accuracy'])\n",
    "score = loaded_model.evaluate(np.array(X_test.values.tolist()), \n",
    "                              np.array(y_test.values.tolist()), verbose=0)\n",
    "print(\"%s: %.2f%%\" % (loaded_model.metrics_names[1], score[1]*100))"
   ]
  },
  {
   "cell_type": "code",
   "execution_count": 12,
   "metadata": {},
   "outputs": [],
   "source": [
    "# predictions \n",
    "preds = loaded_model.predict(np.array(X_test.values.tolist()))"
   ]
  },
  {
   "cell_type": "code",
   "execution_count": 13,
   "metadata": {},
   "outputs": [
    {
     "name": "stdout",
     "output_type": "stream",
     "text": [
      "Saved predictions to disk:  predictions_lstm_4.csv\n"
     ]
    }
   ],
   "source": [
    "# predictions to csv\n",
    "np.savetxt('predictions_lstm_%d.csv' %model_num, preds, delimiter=',')\n",
    "print(\"Saved predictions to disk: \", 'predictions_lstm_%d.csv' %model_num)"
   ]
  },
  {
   "cell_type": "code",
   "execution_count": null,
   "metadata": {},
   "outputs": [],
   "source": []
  },
  {
   "cell_type": "code",
   "execution_count": null,
   "metadata": {},
   "outputs": [],
   "source": []
  },
  {
   "cell_type": "markdown",
   "metadata": {},
   "source": [
    "# CNN"
   ]
  },
  {
   "cell_type": "code",
   "execution_count": null,
   "metadata": {},
   "outputs": [],
   "source": []
  },
  {
   "cell_type": "code",
   "execution_count": 14,
   "metadata": {},
   "outputs": [
    {
     "name": "stdout",
     "output_type": "stream",
     "text": [
      "Loaded model from disk:  model_conv_4.json and model_conv_4.h5\n"
     ]
    }
   ],
   "source": [
    "# load model\n",
    "\n",
    "# load json and create model\n",
    "json_file = open('model_conv_%d.json' %model_num, 'r')\n",
    "loaded_model_json = json_file.read()\n",
    "json_file.close()\n",
    "loaded_model = model_from_json(loaded_model_json)\n",
    "\n",
    "# load weights into new model\n",
    "loaded_model.load_weights(\"model_conv_%d.h5\" %model_num)\n",
    "print(\"Loaded model from disk: \", 'model_conv_%d.json and model_conv_%d.h5' %(model_num, model_num))"
   ]
  },
  {
   "cell_type": "code",
   "execution_count": 15,
   "metadata": {},
   "outputs": [
    {
     "name": "stdout",
     "output_type": "stream",
     "text": [
      "acc: 48.47%\n"
     ]
    }
   ],
   "source": [
    "# evaluate loaded model on test data\n",
    "loaded_model.compile(loss='categorical_crossentropy', optimizer='adam', metrics=['accuracy'])\n",
    "#loaded_model.compile(loss='categorical_crossentropy', optimizer='adam', metrics=['accuracy'])\n",
    "score = loaded_model.evaluate(np.array(X_test.values.tolist()), \n",
    "                              np.array(y_test.values.tolist()), verbose=0)\n",
    "print(\"%s: %.2f%%\" % (loaded_model.metrics_names[1], score[1]*100))"
   ]
  },
  {
   "cell_type": "code",
   "execution_count": 16,
   "metadata": {},
   "outputs": [],
   "source": [
    "# predictions \n",
    "preds = loaded_model.predict(np.array(X_test.values.tolist()))"
   ]
  },
  {
   "cell_type": "code",
   "execution_count": 17,
   "metadata": {},
   "outputs": [
    {
     "name": "stdout",
     "output_type": "stream",
     "text": [
      "Saved predictions to disk:  predictions_conv_4.csv\n"
     ]
    }
   ],
   "source": [
    "# predictions to csv\n",
    "np.savetxt('predictions_conv_%d.csv' %model_num, preds, delimiter=',')\n",
    "print(\"Saved predictions to disk: \", 'predictions_conv_%d.csv' %model_num)"
   ]
  },
  {
   "cell_type": "code",
   "execution_count": null,
   "metadata": {},
   "outputs": [],
   "source": []
  },
  {
   "cell_type": "code",
   "execution_count": null,
   "metadata": {},
   "outputs": [],
   "source": []
  },
  {
   "cell_type": "code",
   "execution_count": null,
   "metadata": {},
   "outputs": [],
   "source": []
  },
  {
   "cell_type": "markdown",
   "metadata": {},
   "source": [
    "# Note: using the whole test dataset, not just downsampled test dataset"
   ]
  },
  {
   "cell_type": "code",
   "execution_count": null,
   "metadata": {},
   "outputs": [],
   "source": [
    "downsampled_csv = pd.read_csv('final_shuffled_test.csv')"
   ]
  },
  {
   "cell_type": "code",
   "execution_count": 463,
   "metadata": {},
   "outputs": [],
   "source": [
    "# run this for downsampled\n",
    "\n",
    "# X_train = downsampled_csv['8K_Content_sequences'][downsampled_csv['Year'] <= 2008]\n",
    "# X_dev = downsampled_csv['8K_Content_sequences'][(downsampled_csv['Year'] >= 2009) & \n",
    "#                                        (downsampled_csv['Year'] <= 2010)]\n",
    "X_test = downsampled_csv['8K_Content_sequences']\n",
    "\n",
    "# y_train = downsampled_csv[['down','stay','up']][downsampled_csv['Year'] <= 2008]\n",
    "# y_dev = downsampled_csv[['down','stay','up']][(downsampled_csv['Year'] >= 2009) & \n",
    "#                                        (downsampled_csv['Year'] <= 2010)]\n",
    "y_test = downsampled_csv[['down','stay','up']]"
   ]
  },
  {
   "cell_type": "code",
   "execution_count": 464,
   "metadata": {},
   "outputs": [
    {
     "name": "stdout",
     "output_type": "stream",
     "text": [
      "Loaded model from disk:  model_lstm_4.json and model_lstm_4.h5\n"
     ]
    }
   ],
   "source": [
    "# load model\n",
    "\n",
    "model_num = 4\n",
    "\n",
    "# load json and create model\n",
    "json_file = open('model_lstm_%d.json' %model_num, 'r')\n",
    "loaded_model_json = json_file.read()\n",
    "json_file.close()\n",
    "loaded_model = model_from_json(loaded_model_json)\n",
    "\n",
    "# load weights into new model\n",
    "loaded_model.load_weights(\"model_lstm_%d.h5\" %model_num)\n",
    "print(\"Loaded model from disk: \", 'model_lstm_%d.json and model_lstm_%d.h5' %(model_num, model_num))"
   ]
  },
  {
   "cell_type": "code",
   "execution_count": 465,
   "metadata": {},
   "outputs": [
    {
     "name": "stdout",
     "output_type": "stream",
     "text": [
      "categorical_accuracy: 55.39%\n"
     ]
    }
   ],
   "source": [
    "# evaluate loaded model on test data\n",
    "loaded_model.compile(loss='categorical_crossentropy', optimizer='adam', \n",
    "                     metrics=[metrics.categorical_accuracy])\n",
    "# loaded_model.compile(loss='categorical_crossentropy', optimizer='adam', metrics=['accuracy'])\n",
    "score = loaded_model.evaluate(np.array(X_test.values.tolist()), \n",
    "                              np.array(y_test.values.tolist()), verbose=0, )\n",
    "print(\"%s: %.2f%%\" % (loaded_model.metrics_names[1], score[1]*100))"
   ]
  },
  {
   "cell_type": "code",
   "execution_count": 603,
   "metadata": {},
   "outputs": [
    {
     "data": {
      "text/plain": [
       "[array([[-0.00367473, -0.02088808,  0.01694283, ...,  0.0382294 ,\n",
       "          0.06129335, -0.05726746],\n",
       "        [-0.00293783,  0.02123083,  0.01325719, ..., -0.00312644,\n",
       "         -0.02758287, -0.04201415],\n",
       "        [-0.03869862, -0.01618148,  0.03070621, ..., -0.00343067,\n",
       "          0.0681109 , -0.0349002 ],\n",
       "        ...,\n",
       "        [-0.01968453,  0.00220312,  0.02710441, ..., -0.03476986,\n",
       "          0.03971416, -0.0151382 ],\n",
       "        [ 0.0188766 ,  0.03250143, -0.04442847, ...,  0.0035207 ,\n",
       "         -0.04256446, -0.00809176],\n",
       "        [ 0.04444511,  0.0409216 ,  0.0042822 , ..., -0.02145894,\n",
       "         -0.01956024,  0.01688626]], dtype=float32),\n",
       " array([[ 0.10757446, -0.01263964, -0.122892  , ..., -0.03312445,\n",
       "         -0.06958511, -0.05891024],\n",
       "        [-0.06804372, -0.00623634, -0.00784954, ...,  0.06119277,\n",
       "         -0.02179835, -0.1572602 ],\n",
       "        [-0.03968439, -0.06618002,  0.16520745, ...,  0.14307202,\n",
       "          0.09455083,  0.20708577],\n",
       "        ...,\n",
       "        [-0.24235013,  0.09674687, -0.02597152, ...,  0.05811461,\n",
       "         -0.11665212,  0.02726326],\n",
       "        [-0.1431382 , -0.1506019 , -0.14749111, ..., -0.03721308,\n",
       "          0.16931829,  0.15885682],\n",
       "        [ 0.01439777,  0.20121735,  0.12498667, ...,  0.08704522,\n",
       "          0.2285955 , -0.25928172]], dtype=float32),\n",
       " array([[ 0.02497824, -0.03465874,  0.07962376, ...,  0.01564182,\n",
       "          0.06198771, -0.07305346],\n",
       "        [ 0.03900702,  0.09636001,  0.02398246, ..., -0.0414274 ,\n",
       "         -0.01914435,  0.12933263],\n",
       "        [ 0.1274552 , -0.08473402, -0.02229856, ...,  0.01508377,\n",
       "         -0.04724877, -0.01573885],\n",
       "        ...,\n",
       "        [-0.12205969,  0.02237242, -0.07857751, ...,  0.04822404,\n",
       "          0.03002859, -0.1455119 ],\n",
       "        [ 0.12596878,  0.17577974, -0.01766918, ...,  0.02427144,\n",
       "          0.12558319,  0.00907919],\n",
       "        [ 0.04274536, -0.07261787, -0.02756656, ...,  0.02749898,\n",
       "          0.06405478,  0.01507169]], dtype=float32),\n",
       " array([-2.32539214e-02, -7.71863312e-02, -9.18784514e-02, -1.00643471e-01,\n",
       "        -1.62355825e-02, -5.79930469e-02, -9.44219157e-02, -1.33715682e-02,\n",
       "        -1.74779166e-02, -6.64863512e-02, -7.28898868e-02, -9.56357345e-02,\n",
       "        -4.09771688e-02, -1.13770470e-01, -5.42585365e-02, -2.26594266e-02,\n",
       "        -7.38625303e-02,  3.61427665e-02, -1.94960032e-02, -3.54913585e-02,\n",
       "        -8.83495584e-02, -3.92830633e-02,  8.65553021e-02, -6.65610284e-02,\n",
       "         2.91060545e-02, -6.25438541e-02, -2.46756505e-02, -5.47087677e-02,\n",
       "         2.30791382e-02, -2.66797431e-02, -6.99170828e-02, -1.82424095e-02,\n",
       "        -5.99935763e-02,  2.79320739e-02, -9.12465248e-03, -3.11445389e-02,\n",
       "        -1.70570880e-01, -1.85616408e-02, -3.08514927e-02,  8.00868571e-02,\n",
       "        -6.16119429e-02, -3.99840735e-02, -1.71542212e-01, -5.93213029e-02,\n",
       "        -2.68277600e-02, -6.89029917e-02, -4.07763198e-02, -9.21909790e-03,\n",
       "        -7.77030503e-03, -3.91826406e-02, -5.89052178e-02, -6.93009123e-02,\n",
       "        -4.03231122e-02, -2.50092484e-02, -1.01263531e-01, -8.05304348e-02,\n",
       "        -8.09782650e-03, -1.24666892e-01, -1.24012560e-01, -4.43879850e-02,\n",
       "        -3.52785811e-02,  3.69715467e-02, -2.17108503e-02, -5.16918041e-02,\n",
       "        -5.05428314e-02,  1.25892833e-02, -5.62896281e-02,  2.96223611e-02,\n",
       "        -5.71016818e-02, -2.40906291e-02, -6.80616125e-02, -6.46951348e-02,\n",
       "        -2.26536784e-02, -4.56423573e-02, -4.18085083e-02, -2.90548615e-03,\n",
       "        -1.86633989e-02, -6.21923208e-02, -1.31977320e-01,  4.65045199e-02,\n",
       "        -2.09483821e-02, -8.13081190e-02, -4.96961586e-02, -8.15688297e-02,\n",
       "        -7.69871920e-02,  2.69390806e-03, -6.36195242e-02, -2.54130270e-02,\n",
       "        -1.23035535e-01, -1.38872102e-01, -4.20000255e-02, -4.27009650e-02,\n",
       "        -8.12473819e-02, -5.08198254e-02, -4.34181057e-02, -1.01899207e-01,\n",
       "         2.95975022e-02, -7.84567446e-02, -6.04459383e-02, -1.84667557e-02,\n",
       "         1.06433809e+00,  9.06476140e-01,  8.81432533e-01,  8.83640945e-01,\n",
       "         8.79068494e-01,  9.19644237e-01,  8.80697131e-01,  1.09670246e+00,\n",
       "         1.00272691e+00,  9.84524548e-01,  9.44945395e-01,  8.76241207e-01,\n",
       "         1.00061846e+00,  8.36940110e-01,  9.89884794e-01,  9.83970344e-01,\n",
       "         9.94101942e-01,  9.03703153e-01,  9.80499804e-01,  1.03323841e+00,\n",
       "         9.28492308e-01,  8.84706199e-01,  9.26706135e-01,  9.55580473e-01,\n",
       "         9.69231129e-01,  9.68962610e-01,  1.07890058e+00,  1.01237702e+00,\n",
       "         8.86277735e-01,  9.38095629e-01,  9.40475047e-01,  8.78121376e-01,\n",
       "         1.04799402e+00,  8.30862284e-01,  1.08373570e+00,  1.01333678e+00,\n",
       "         8.48711789e-01,  1.06684399e+00,  1.02253866e+00,  9.36905622e-01,\n",
       "         9.83373940e-01,  1.03022909e+00,  8.80799592e-01,  1.02950191e+00,\n",
       "         9.85937357e-01,  9.48857129e-01,  1.03527331e+00,  9.80028808e-01,\n",
       "         9.84275997e-01,  9.83688056e-01,  1.03581643e+00,  1.01624382e+00,\n",
       "         8.45583618e-01,  9.53429759e-01,  8.43442142e-01,  8.69398057e-01,\n",
       "         9.73715305e-01,  8.92177880e-01,  9.75268781e-01,  1.02491796e+00,\n",
       "         9.90170062e-01,  8.87917995e-01,  9.39268291e-01,  9.47117984e-01,\n",
       "         9.84114528e-01,  9.20207500e-01,  9.03943777e-01,  9.17946041e-01,\n",
       "         9.64333892e-01,  1.10150015e+00,  9.17293966e-01,  1.01744664e+00,\n",
       "         9.88793612e-01,  9.93419707e-01,  9.91310000e-01,  1.12828147e+00,\n",
       "         1.00294614e+00,  8.52884412e-01,  9.03982818e-01,  1.18578100e+00,\n",
       "         1.00319576e+00,  9.58052754e-01,  1.02351820e+00,  9.93863940e-01,\n",
       "         9.46303010e-01,  1.09136903e+00,  1.00290000e+00,  1.02662754e+00,\n",
       "         9.01404440e-01,  9.15970862e-01,  9.82760131e-01,  1.04319549e+00,\n",
       "         9.89173293e-01,  1.02495015e+00,  1.04048228e+00,  9.59879100e-01,\n",
       "         1.14210153e+00,  9.56195831e-01,  9.15538907e-01,  8.95555615e-01,\n",
       "         2.23594364e-02,  1.03126019e-02, -8.69493524e-04,  7.43557885e-03,\n",
       "         6.66818907e-03,  8.23477749e-03, -2.09640991e-03,  1.88267429e-03,\n",
       "        -1.17385490e-02,  1.13604087e-02, -3.18316221e-02, -4.45541600e-03,\n",
       "         1.35873817e-02,  8.98087211e-03,  8.13550956e-04, -9.14259255e-03,\n",
       "        -1.01513602e-02, -6.16473937e-03, -1.16657307e-02,  4.52785939e-03,\n",
       "        -5.37243066e-03,  8.59657116e-03,  1.61877107e-02, -6.64915983e-03,\n",
       "        -3.55442706e-03,  6.80336030e-03, -6.71128568e-04, -1.42055005e-02,\n",
       "         1.13609694e-02,  2.08810400e-02,  4.88221133e-03, -4.72293235e-04,\n",
       "        -8.13128520e-03,  1.24464771e-02, -7.75683904e-03,  5.05919335e-03,\n",
       "         2.01080963e-02,  1.83606036e-02, -1.50612388e-02,  4.22814814e-03,\n",
       "        -1.08585402e-03,  6.42607221e-03, -9.73874703e-03, -1.71723384e-02,\n",
       "        -4.12858091e-03, -7.99080264e-03,  2.10365672e-02,  1.87140368e-02,\n",
       "        -4.56391787e-03, -1.85640957e-02,  1.33462464e-02,  2.00686348e-03,\n",
       "         1.40435733e-02, -1.05537716e-02, -1.45121282e-02, -1.15139189e-03,\n",
       "        -3.77792213e-03,  8.26334395e-03,  8.78437236e-03,  9.19566862e-03,\n",
       "        -1.39477178e-02, -8.60696950e-04,  2.05317475e-02, -3.21632326e-02,\n",
       "         5.19722234e-03, -2.66186949e-02, -1.24878976e-02, -2.81476625e-03,\n",
       "        -6.23009540e-03,  9.32653318e-04, -1.72424018e-02,  3.63046560e-03,\n",
       "         1.34828128e-02,  1.81972503e-03,  2.12179404e-03,  1.55477878e-02,\n",
       "        -6.11604052e-03,  3.05236364e-03, -6.44490728e-03, -1.08495196e-02,\n",
       "        -2.03144830e-02, -7.72246975e-04,  8.76239222e-03,  7.09443539e-03,\n",
       "        -2.40049157e-02, -9.92411003e-03, -1.26410350e-02, -1.19097633e-02,\n",
       "         4.01638681e-03, -5.74881537e-03,  2.82883365e-03, -2.08069757e-03,\n",
       "         4.32178192e-03, -2.45368876e-03,  1.25378203e-02,  8.31511803e-03,\n",
       "         3.00219189e-02, -2.77040224e-03, -9.30672046e-03,  1.44660426e-02,\n",
       "        -4.56429981e-02, -7.85667598e-02, -9.72070172e-02, -9.36218128e-02,\n",
       "        -9.54468455e-03, -5.80107793e-02, -9.14633349e-02, -4.30334099e-02,\n",
       "        -2.09753942e-02, -7.43466392e-02, -6.60047010e-02, -9.86944586e-02,\n",
       "        -4.28664461e-02, -1.17025137e-01, -5.92252985e-02, -2.76184622e-02,\n",
       "        -8.49470571e-02,  4.45302725e-02, -3.38590965e-02, -6.00160174e-02,\n",
       "        -9.58409309e-02, -3.81315686e-02,  7.93000162e-02, -6.46820962e-02,\n",
       "         2.88942195e-02, -7.17197582e-02, -5.04677743e-02, -6.90915361e-02,\n",
       "         1.64156631e-02, -3.10586523e-02, -6.75568283e-02, -1.45705426e-02,\n",
       "        -5.91782592e-02,  5.64627945e-02, -1.38772018e-02, -4.71836254e-02,\n",
       "        -1.75954729e-01, -5.00341840e-02, -4.26198281e-02,  8.21020678e-02,\n",
       "        -7.07736239e-02, -4.88299094e-02, -1.69503883e-01, -6.79030642e-02,\n",
       "        -3.47475111e-02, -7.31864795e-02, -4.50089797e-02, -1.69341955e-02,\n",
       "        -1.06533803e-02, -4.60643247e-02, -7.09184185e-02, -8.64657760e-02,\n",
       "        -4.12323214e-02, -3.23649123e-02, -1.06584430e-01, -9.31874588e-02,\n",
       "         8.40259623e-03, -1.27517119e-01, -1.14745513e-01, -6.47150949e-02,\n",
       "        -4.72721905e-02,  3.73905227e-02, -1.72882434e-02, -5.97371757e-02,\n",
       "        -5.92899695e-02,  1.75378080e-02, -4.06831168e-02,  3.78250219e-02,\n",
       "        -6.36624545e-02, -5.29327057e-02, -7.36465380e-02, -6.31743371e-02,\n",
       "        -3.54487672e-02, -3.84916626e-02, -5.80020770e-02, -2.45315507e-02,\n",
       "        -2.39146054e-02, -5.63969389e-02, -1.29505634e-01, -2.79670004e-02,\n",
       "        -2.43927073e-02, -7.30345622e-02, -4.32504714e-02, -8.40140507e-02,\n",
       "        -7.44391009e-02, -3.12190950e-02, -7.53334090e-02, -1.99838299e-02,\n",
       "        -1.28025636e-01, -1.47759333e-01, -5.27535565e-02, -6.89674765e-02,\n",
       "        -1.07918046e-01, -6.63144067e-02, -5.94628192e-02, -1.03248656e-01,\n",
       "        -1.68321431e-02, -8.00855458e-02, -5.25558516e-02, -1.96347386e-02],\n",
       "       dtype=float32),\n",
       " array([[-0.09936504, -0.16965972,  0.24222083],\n",
       "        [ 0.23267268,  0.20228998, -0.06812336],\n",
       "        [-0.0106039 ,  0.28803632,  0.12969173],\n",
       "        [-0.18004508, -0.25211173,  0.28751367],\n",
       "        [ 0.32179096,  0.0372596 , -0.29267842],\n",
       "        [ 0.01705959, -0.29808345, -0.10093395],\n",
       "        [-0.17610998,  0.16544506, -0.15122691],\n",
       "        [ 0.11109088, -0.3712108 ,  0.07951345],\n",
       "        [-0.27237526, -0.01450767,  0.17600748],\n",
       "        [ 0.07402215, -0.0581446 ,  0.1673109 ],\n",
       "        [-0.02543812,  0.0214615 , -0.3193641 ],\n",
       "        [-0.2066388 , -0.3168216 ,  0.25311467],\n",
       "        [ 0.05824221, -0.09865761, -0.1794515 ],\n",
       "        [ 0.19579197, -0.21591707,  0.15373455],\n",
       "        [-0.01492004, -0.04742714,  0.2987659 ],\n",
       "        [ 0.13355476, -0.2670687 , -0.01038425],\n",
       "        [-0.12484625,  0.06556515, -0.01385631],\n",
       "        [-0.08448726, -0.25039533,  0.3353433 ],\n",
       "        [-0.26246452,  0.35479134,  0.01354351],\n",
       "        [-0.2173784 ,  0.08926697,  0.02982407],\n",
       "        [-0.20035069,  0.1114083 ,  0.26895696],\n",
       "        [ 0.37495685, -0.29295826, -0.26434642],\n",
       "        [-0.04692053,  0.5107471 , -0.48378643],\n",
       "        [ 0.25991103, -0.17150906, -0.01468826],\n",
       "        [-0.15273093,  0.3887442 , -0.24009849],\n",
       "        [-0.07555474,  0.08810294,  0.16622342],\n",
       "        [ 0.10666434,  0.25583678,  0.01933922],\n",
       "        [-0.07642052,  0.19280717, -0.20352292],\n",
       "        [ 0.18485771,  0.08188765, -0.34289026],\n",
       "        [-0.22955282,  0.33984527,  0.21688035],\n",
       "        [ 0.1021748 ,  0.20077397, -0.12838784],\n",
       "        [-0.32031202,  0.27315667, -0.09529722],\n",
       "        [-0.23869921,  0.13946192,  0.1187065 ],\n",
       "        [ 0.361819  , -0.33919722, -0.34222558],\n",
       "        [ 0.2554334 , -0.16662006, -0.10497994],\n",
       "        [ 0.21495135,  0.0806571 , -0.06709436],\n",
       "        [-0.0225694 ,  0.03829755, -0.01763352],\n",
       "        [-0.16537209,  0.19016163,  0.09304217],\n",
       "        [ 0.22628634, -0.27981338,  0.17352262],\n",
       "        [-0.2523884 ,  0.47780785, -0.20839547],\n",
       "        [ 0.03591994,  0.16751137,  0.23403125],\n",
       "        [ 0.1532202 ,  0.01100348,  0.12408514],\n",
       "        [ 0.07744452,  0.03469088, -0.09112079],\n",
       "        [-0.17021172,  0.03241966, -0.03790563],\n",
       "        [-0.31661382, -0.03214951,  0.3027792 ],\n",
       "        [-0.1980089 , -0.22100031,  0.21995303],\n",
       "        [-0.06737386,  0.2518642 ,  0.0723656 ],\n",
       "        [-0.24873224,  0.3862909 , -0.13274293],\n",
       "        [-0.13809788, -0.13378775,  0.36385012],\n",
       "        [-0.04179509,  0.09605949, -0.24648674],\n",
       "        [-0.1261189 ,  0.1688819 , -0.18558148],\n",
       "        [-0.01490397, -0.02746544,  0.21407266],\n",
       "        [ 0.2300217 , -0.32023355,  0.31140092],\n",
       "        [-0.27869505,  0.11697265, -0.19471054],\n",
       "        [-0.03988209,  0.29277575, -0.13221738],\n",
       "        [-0.24590175, -0.02677006,  0.11622266],\n",
       "        [ 0.40663904, -0.17032167, -0.352952  ],\n",
       "        [-0.27753764,  0.03994969, -0.09878273],\n",
       "        [ 0.08600716, -0.17170091, -0.09302273],\n",
       "        [-0.01555618,  0.32673886, -0.26838523],\n",
       "        [ 0.27906176, -0.08818196,  0.19208384],\n",
       "        [ 0.31415486, -0.46176225,  0.18172318],\n",
       "        [ 0.04786346, -0.35261086,  0.3545218 ],\n",
       "        [ 0.25710168, -0.33573118, -0.09625071],\n",
       "        [ 0.16471957, -0.20353802,  0.06435416],\n",
       "        [-0.01679644, -0.23647739,  0.36284932],\n",
       "        [-0.05333721, -0.30250916,  0.15403408],\n",
       "        [-0.22118276,  0.38873348,  0.10229135],\n",
       "        [-0.06020616,  0.04719822,  0.09033515],\n",
       "        [ 0.11155602, -0.23836723,  0.30917892],\n",
       "        [-0.22892202,  0.20858338,  0.26635808],\n",
       "        [ 0.18343383, -0.25847027,  0.23130588],\n",
       "        [-0.18299569,  0.09433039, -0.30361402],\n",
       "        [-0.1853849 ,  0.05397274,  0.06932159],\n",
       "        [ 0.0380417 , -0.00781098, -0.2445211 ],\n",
       "        [-0.21732424,  0.25170553, -0.2892828 ],\n",
       "        [ 0.06557845, -0.0568902 ,  0.22517589],\n",
       "        [ 0.34157187, -0.0677368 , -0.26585147],\n",
       "        [-0.10509889,  0.10579435,  0.06104082],\n",
       "        [ 0.2028661 , -0.41672823,  0.3112789 ],\n",
       "        [ 0.16066766, -0.26675832, -0.14851421],\n",
       "        [ 0.27562338,  0.1755689 ,  0.03540706],\n",
       "        [-0.13472538,  0.16309083,  0.3048121 ],\n",
       "        [ 0.1056324 ,  0.14592285,  0.11752745],\n",
       "        [-0.10300366, -0.32045943, -0.19960423],\n",
       "        [-0.24944939,  0.24472786, -0.16629332],\n",
       "        [-0.2374041 ,  0.05299975, -0.20892659],\n",
       "        [ 0.26363054, -0.30033398, -0.13609156],\n",
       "        [-0.13121529,  0.13046016, -0.07635377],\n",
       "        [-0.2334816 , -0.07976235, -0.00370622],\n",
       "        [ 0.02823315, -0.02829754, -0.14689885],\n",
       "        [-0.13046533,  0.32837778, -0.09234235],\n",
       "        [-0.10111923, -0.16685218,  0.05877067],\n",
       "        [ 0.14410527,  0.10957181,  0.01369027],\n",
       "        [ 0.08841764, -0.2707121 , -0.07294736],\n",
       "        [-0.19868001, -0.10494125,  0.02028231],\n",
       "        [-0.01976943,  0.34029338, -0.20768926],\n",
       "        [-0.05623724,  0.01349285, -0.27001947],\n",
       "        [ 0.23600535, -0.4745483 , -0.15898971],\n",
       "        [-0.01433185, -0.4103829 ,  0.33046296]], dtype=float32),\n",
       " array([-0.00191545,  0.03957156, -0.04449867], dtype=float32)]"
      ]
     },
     "execution_count": 603,
     "metadata": {},
     "output_type": "execute_result"
    }
   ],
   "source": [
    "loaded_model.get_weights()"
   ]
  },
  {
   "cell_type": "code",
   "execution_count": 592,
   "metadata": {},
   "outputs": [
    {
     "data": {
      "text/plain": [
       "{'name': 'sequential_1',\n",
       " 'layers': [{'class_name': 'Embedding',\n",
       "   'config': {'name': 'embedding_1',\n",
       "    'trainable': True,\n",
       "    'batch_input_shape': (None, 300),\n",
       "    'dtype': 'float32',\n",
       "    'input_dim': 370849,\n",
       "    'output_dim': 100,\n",
       "    'embeddings_initializer': {'class_name': 'RandomUniform',\n",
       "     'config': {'minval': -0.05, 'maxval': 0.05, 'seed': None}},\n",
       "    'embeddings_regularizer': None,\n",
       "    'activity_regularizer': None,\n",
       "    'embeddings_constraint': None,\n",
       "    'mask_zero': False,\n",
       "    'input_length': 300}},\n",
       "  {'class_name': 'LSTM',\n",
       "   'config': {'name': 'lstm_1',\n",
       "    'trainable': True,\n",
       "    'return_sequences': False,\n",
       "    'return_state': False,\n",
       "    'go_backwards': False,\n",
       "    'stateful': False,\n",
       "    'unroll': False,\n",
       "    'units': 100,\n",
       "    'activation': 'tanh',\n",
       "    'recurrent_activation': 'hard_sigmoid',\n",
       "    'use_bias': True,\n",
       "    'kernel_initializer': {'class_name': 'VarianceScaling',\n",
       "     'config': {'scale': 1.0,\n",
       "      'mode': 'fan_avg',\n",
       "      'distribution': 'uniform',\n",
       "      'seed': None}},\n",
       "    'recurrent_initializer': {'class_name': 'Orthogonal',\n",
       "     'config': {'gain': 1.0, 'seed': None}},\n",
       "    'bias_initializer': {'class_name': 'Zeros', 'config': {}},\n",
       "    'unit_forget_bias': True,\n",
       "    'kernel_regularizer': None,\n",
       "    'recurrent_regularizer': None,\n",
       "    'bias_regularizer': None,\n",
       "    'activity_regularizer': None,\n",
       "    'kernel_constraint': None,\n",
       "    'recurrent_constraint': None,\n",
       "    'bias_constraint': None,\n",
       "    'dropout': 0.2,\n",
       "    'recurrent_dropout': 0.2,\n",
       "    'implementation': 1}},\n",
       "  {'class_name': 'Dense',\n",
       "   'config': {'name': 'dense_1',\n",
       "    'trainable': True,\n",
       "    'units': 3,\n",
       "    'activation': 'softmax',\n",
       "    'use_bias': True,\n",
       "    'kernel_initializer': {'class_name': 'VarianceScaling',\n",
       "     'config': {'scale': 1.0,\n",
       "      'mode': 'fan_avg',\n",
       "      'distribution': 'uniform',\n",
       "      'seed': None}},\n",
       "    'bias_initializer': {'class_name': 'Zeros', 'config': {}},\n",
       "    'kernel_regularizer': None,\n",
       "    'bias_regularizer': None,\n",
       "    'activity_regularizer': None,\n",
       "    'kernel_constraint': None,\n",
       "    'bias_constraint': None}}]}"
      ]
     },
     "execution_count": 592,
     "metadata": {},
     "output_type": "execute_result"
    }
   ],
   "source": [
    "loaded_model.get_config()"
   ]
  },
  {
   "cell_type": "code",
   "execution_count": 485,
   "metadata": {},
   "outputs": [],
   "source": [
    "# predictions \n",
    "preds = loaded_model.predict(np.array(X_test.values.tolist()))"
   ]
  },
  {
   "cell_type": "code",
   "execution_count": null,
   "metadata": {},
   "outputs": [],
   "source": []
  },
  {
   "cell_type": "code",
   "execution_count": null,
   "metadata": {},
   "outputs": [],
   "source": []
  },
  {
   "cell_type": "code",
   "execution_count": null,
   "metadata": {},
   "outputs": [],
   "source": []
  },
  {
   "cell_type": "markdown",
   "metadata": {},
   "source": [
    "## Compare these predictions to actuals. trend by industry?\n",
    "## Do this for LSTM CNN too"
   ]
  },
  {
   "cell_type": "code",
   "execution_count": 606,
   "metadata": {},
   "outputs": [
    {
     "name": "stdout",
     "output_type": "stream",
     "text": [
      "Loaded model from disk:  model_conv_4.json and model_conv_4.h5\n"
     ]
    }
   ],
   "source": [
    "# load model\n",
    "\n",
    "# load json and create model\n",
    "json_file = open('model_conv_%d.json' %model_num, 'r')\n",
    "loaded_model_json = json_file.read()\n",
    "json_file.close()\n",
    "loaded_model = model_from_json(loaded_model_json)\n",
    "\n",
    "# load weights into new model\n",
    "loaded_model.load_weights(\"model_conv_%d.h5\" %model_num)\n",
    "print(\"Loaded model from disk: \", 'model_conv_%d.json and model_conv_%d.h5' %(model_num, model_num))"
   ]
  },
  {
   "cell_type": "code",
   "execution_count": 607,
   "metadata": {},
   "outputs": [
    {
     "name": "stdout",
     "output_type": "stream",
     "text": [
      "acc: 49.99%\n"
     ]
    }
   ],
   "source": [
    "# evaluate loaded model on test data\n",
    "loaded_model.compile(loss='categorical_crossentropy', optimizer='adam', metrics=['accuracy'])\n",
    "#loaded_model.compile(loss='categorical_crossentropy', optimizer='adam', metrics=['accuracy'])\n",
    "score = loaded_model.evaluate(np.array(X_test.values.tolist()), \n",
    "                              np.array(y_test.values.tolist()), verbose=0)\n",
    "print(\"%s: %.2f%%\" % (loaded_model.metrics_names[1], score[1]*100))"
   ]
  },
  {
   "cell_type": "code",
   "execution_count": 608,
   "metadata": {},
   "outputs": [
    {
     "name": "stdout",
     "output_type": "stream",
     "text": [
      "_________________________________________________________________\n",
      "Layer (type)                 Output Shape              Param #   \n",
      "=================================================================\n",
      "embedding_2 (Embedding)      (None, 300, 100)          37084900  \n",
      "_________________________________________________________________\n",
      "dropout_1 (Dropout)          (None, 300, 100)          0         \n",
      "_________________________________________________________________\n",
      "conv1d_1 (Conv1D)            (None, 296, 64)           32064     \n",
      "_________________________________________________________________\n",
      "max_pooling1d_1 (MaxPooling1 (None, 74, 64)            0         \n",
      "_________________________________________________________________\n",
      "lstm_2 (LSTM)                (None, 100)               66000     \n",
      "_________________________________________________________________\n",
      "dense_2 (Dense)              (None, 3)                 303       \n",
      "=================================================================\n",
      "Total params: 37,183,267\n",
      "Trainable params: 37,183,267\n",
      "Non-trainable params: 0\n",
      "_________________________________________________________________\n"
     ]
    }
   ],
   "source": [
    "loaded_model.summary()"
   ]
  },
  {
   "cell_type": "code",
   "execution_count": 612,
   "metadata": {},
   "outputs": [
    {
     "data": {
      "text/plain": [
       "{'name': 'sequential_2',\n",
       " 'layers': [{'class_name': 'Embedding',\n",
       "   'config': {'name': 'embedding_2',\n",
       "    'trainable': True,\n",
       "    'batch_input_shape': (None, 300),\n",
       "    'dtype': 'float32',\n",
       "    'input_dim': 370849,\n",
       "    'output_dim': 100,\n",
       "    'embeddings_initializer': {'class_name': 'RandomUniform',\n",
       "     'config': {'minval': -0.05, 'maxval': 0.05, 'seed': None}},\n",
       "    'embeddings_regularizer': None,\n",
       "    'activity_regularizer': None,\n",
       "    'embeddings_constraint': None,\n",
       "    'mask_zero': False,\n",
       "    'input_length': 300}},\n",
       "  {'class_name': 'Dropout',\n",
       "   'config': {'name': 'dropout_1',\n",
       "    'trainable': True,\n",
       "    'rate': 0.2,\n",
       "    'noise_shape': None,\n",
       "    'seed': None}},\n",
       "  {'class_name': 'Conv1D',\n",
       "   'config': {'name': 'conv1d_1',\n",
       "    'trainable': True,\n",
       "    'filters': 64,\n",
       "    'kernel_size': (5,),\n",
       "    'strides': (1,),\n",
       "    'padding': 'valid',\n",
       "    'data_format': 'channels_last',\n",
       "    'dilation_rate': (1,),\n",
       "    'activation': 'relu',\n",
       "    'use_bias': True,\n",
       "    'kernel_initializer': {'class_name': 'VarianceScaling',\n",
       "     'config': {'scale': 1.0,\n",
       "      'mode': 'fan_avg',\n",
       "      'distribution': 'uniform',\n",
       "      'seed': None}},\n",
       "    'bias_initializer': {'class_name': 'Zeros', 'config': {}},\n",
       "    'kernel_regularizer': None,\n",
       "    'bias_regularizer': None,\n",
       "    'activity_regularizer': None,\n",
       "    'kernel_constraint': None,\n",
       "    'bias_constraint': None}},\n",
       "  {'class_name': 'MaxPooling1D',\n",
       "   'config': {'name': 'max_pooling1d_1',\n",
       "    'trainable': True,\n",
       "    'strides': (4,),\n",
       "    'pool_size': (4,),\n",
       "    'padding': 'valid',\n",
       "    'data_format': 'channels_last'}},\n",
       "  {'class_name': 'LSTM',\n",
       "   'config': {'name': 'lstm_2',\n",
       "    'trainable': True,\n",
       "    'return_sequences': False,\n",
       "    'return_state': False,\n",
       "    'go_backwards': False,\n",
       "    'stateful': False,\n",
       "    'unroll': False,\n",
       "    'units': 100,\n",
       "    'activation': 'tanh',\n",
       "    'recurrent_activation': 'hard_sigmoid',\n",
       "    'use_bias': True,\n",
       "    'kernel_initializer': {'class_name': 'VarianceScaling',\n",
       "     'config': {'scale': 1.0,\n",
       "      'mode': 'fan_avg',\n",
       "      'distribution': 'uniform',\n",
       "      'seed': None}},\n",
       "    'recurrent_initializer': {'class_name': 'Orthogonal',\n",
       "     'config': {'gain': 1.0, 'seed': None}},\n",
       "    'bias_initializer': {'class_name': 'Zeros', 'config': {}},\n",
       "    'unit_forget_bias': True,\n",
       "    'kernel_regularizer': None,\n",
       "    'recurrent_regularizer': None,\n",
       "    'bias_regularizer': None,\n",
       "    'activity_regularizer': None,\n",
       "    'kernel_constraint': None,\n",
       "    'recurrent_constraint': None,\n",
       "    'bias_constraint': None,\n",
       "    'dropout': 0.0,\n",
       "    'recurrent_dropout': 0.0,\n",
       "    'implementation': 1}},\n",
       "  {'class_name': 'Dense',\n",
       "   'config': {'name': 'dense_2',\n",
       "    'trainable': True,\n",
       "    'units': 3,\n",
       "    'activation': 'softmax',\n",
       "    'use_bias': True,\n",
       "    'kernel_initializer': {'class_name': 'VarianceScaling',\n",
       "     'config': {'scale': 1.0,\n",
       "      'mode': 'fan_avg',\n",
       "      'distribution': 'uniform',\n",
       "      'seed': None}},\n",
       "    'bias_initializer': {'class_name': 'Zeros', 'config': {}},\n",
       "    'kernel_regularizer': None,\n",
       "    'bias_regularizer': None,\n",
       "    'activity_regularizer': None,\n",
       "    'kernel_constraint': None,\n",
       "    'bias_constraint': None}}]}"
      ]
     },
     "execution_count": 612,
     "metadata": {},
     "output_type": "execute_result"
    }
   ],
   "source": [
    "loaded_model.get_config()"
   ]
  },
  {
   "cell_type": "code",
   "execution_count": 609,
   "metadata": {},
   "outputs": [
    {
     "data": {
      "text/plain": [
       "[array([[-1.4814555e-02, -7.0990920e-02, -3.2678440e-02, ...,\n",
       "          6.6268643e-05,  2.6511319e-02,  1.8564420e-02],\n",
       "        [-5.8634742e-03, -8.0630267e-03,  4.5843553e-02, ...,\n",
       "         -3.6102872e-02,  5.7366147e-04, -2.1946477e-02],\n",
       "        [ 1.4203023e-02,  2.0055093e-03,  3.1055035e-02, ...,\n",
       "         -2.0873638e-02,  2.2636548e-02, -1.9933138e-02],\n",
       "        ...,\n",
       "        [ 1.7747533e-02,  8.0367923e-03, -7.7347383e-03, ...,\n",
       "          3.6570851e-02,  6.7873225e-03, -3.4554947e-02],\n",
       "        [ 4.7164265e-02,  9.0373158e-03,  3.2883096e-02, ...,\n",
       "          2.1295141e-02, -2.7189447e-02, -7.1400888e-03],\n",
       "        [ 1.6689721e-02,  8.3700642e-03,  2.3182873e-02, ...,\n",
       "         -2.6961327e-02, -3.8510703e-02,  8.5013397e-03]], dtype=float32),\n",
       " array([[[ 8.38470012e-02, -3.46458480e-02,  3.25711668e-02, ...,\n",
       "           1.86912473e-02,  1.48910243e-04,  5.17928461e-03],\n",
       "         [-4.28870991e-02, -1.04978770e-01,  4.34218012e-02, ...,\n",
       "          -6.35644346e-02, -9.04853493e-02, -1.06131919e-01],\n",
       "         [-4.84840758e-02, -1.51481569e-01, -1.92586094e-01, ...,\n",
       "          -6.10990003e-02,  9.13021043e-02, -8.88086259e-02],\n",
       "         ...,\n",
       "         [-1.01308540e-01,  1.78601332e-02,  3.37872319e-02, ...,\n",
       "           8.01714808e-02, -1.00826107e-01,  6.94139600e-02],\n",
       "         [ 1.33574992e-01, -1.30579144e-01,  2.70242523e-02, ...,\n",
       "           4.98121418e-02, -5.30311987e-02,  3.59065980e-02],\n",
       "         [ 7.59993866e-02, -5.90616325e-03,  7.27085695e-02, ...,\n",
       "          -5.69113670e-03,  8.65777507e-02,  1.94186583e-01]],\n",
       " \n",
       "        [[ 1.38874963e-01, -8.23671296e-02, -4.99253646e-02, ...,\n",
       "           8.08940455e-03, -2.25596815e-01, -7.38120973e-02],\n",
       "         [ 5.26821576e-02,  3.12704705e-02, -1.39986593e-02, ...,\n",
       "          -1.41078860e-01,  1.52689097e-02,  1.37176797e-01],\n",
       "         [ 6.59766346e-02,  7.02881366e-02, -7.15262666e-02, ...,\n",
       "           8.97490904e-02,  1.58141360e-01,  2.06911325e-01],\n",
       "         ...,\n",
       "         [-1.87854975e-01,  1.12502925e-01,  1.15234666e-01, ...,\n",
       "           6.98134527e-02,  5.14698029e-02,  7.59591907e-02],\n",
       "         [-1.07292071e-01, -1.77808300e-01, -4.10492644e-02, ...,\n",
       "          -4.94528785e-02, -7.61830620e-03, -5.06040305e-02],\n",
       "         [-4.88391099e-03, -3.12189292e-02, -2.57758261e-03, ...,\n",
       "          -5.01944721e-02, -1.06528014e-01, -2.81948615e-02]],\n",
       " \n",
       "        [[-5.18297330e-02, -5.26756868e-02, -9.10532773e-02, ...,\n",
       "          -4.04466577e-02,  7.60245919e-02,  5.66493394e-03],\n",
       "         [ 3.13900933e-02,  1.76558882e-01,  4.53570262e-02, ...,\n",
       "          -4.10531275e-02,  5.13230264e-02,  1.35022476e-01],\n",
       "         [ 7.44870231e-02,  1.52785167e-01, -1.70960113e-01, ...,\n",
       "          -5.25013097e-02, -4.10274193e-02,  1.13557890e-01],\n",
       "         ...,\n",
       "         [-5.45706227e-02, -7.29268119e-02,  8.28118250e-02, ...,\n",
       "          -5.67630976e-02, -8.07773694e-02, -1.97509855e-01],\n",
       "         [ 1.21985234e-01, -2.11858526e-02,  5.69571033e-02, ...,\n",
       "          -1.27602443e-01, -1.91810533e-01, -4.40009125e-02],\n",
       "         [ 1.30194589e-01, -6.63891584e-02, -9.44184810e-02, ...,\n",
       "           9.08757672e-02, -2.91636940e-02,  1.58000086e-02]],\n",
       " \n",
       "        [[ 1.07493952e-01, -1.35680482e-01, -1.55859426e-01, ...,\n",
       "          -5.35892099e-02, -4.88825403e-02, -6.97604101e-03],\n",
       "         [ 2.02621073e-01, -2.53407024e-02,  2.81741738e-01, ...,\n",
       "           3.80084217e-02, -1.45487860e-01,  1.61446743e-02],\n",
       "         [ 3.26445997e-02,  2.69947741e-02, -1.63766071e-01, ...,\n",
       "           1.06383450e-02,  2.11239532e-02,  4.43670340e-02],\n",
       "         ...,\n",
       "         [-5.91390580e-02, -6.53921813e-02, -4.02369276e-02, ...,\n",
       "          -7.85947517e-02,  9.77409407e-02, -1.53796896e-01],\n",
       "         [-5.44680394e-02,  1.00026488e-01, -6.71212077e-02, ...,\n",
       "          -1.63887553e-02, -7.70677328e-02,  3.93315330e-02],\n",
       "         [ 7.31235966e-02, -1.03840306e-01, -1.92509055e-01, ...,\n",
       "          -2.61313934e-02, -6.60460666e-02,  5.49991876e-02]],\n",
       " \n",
       "        [[ 3.28879692e-02, -1.32523090e-01, -6.47170376e-03, ...,\n",
       "          -2.93131396e-02,  4.84573543e-02,  7.46502057e-02],\n",
       "         [ 1.81910649e-01,  2.18532179e-02, -1.55101657e-01, ...,\n",
       "          -4.98380810e-02,  2.55247205e-01,  2.68097758e-01],\n",
       "         [ 4.00436930e-02, -6.23949207e-02, -1.02086663e-01, ...,\n",
       "          -6.10741414e-02,  5.69783114e-02, -6.55777305e-02],\n",
       "         ...,\n",
       "         [ 3.34629603e-02,  1.60418466e-01,  3.33723892e-03, ...,\n",
       "           9.61738154e-02, -5.96169475e-03, -1.69157550e-01],\n",
       "         [-1.82820037e-02,  5.34682162e-02, -3.97687331e-02, ...,\n",
       "          -2.29783982e-01, -1.49247460e-02,  2.73181684e-02],\n",
       "         [ 1.28174173e-02, -1.34214852e-02, -5.13576828e-02, ...,\n",
       "          -4.85710017e-02,  1.36288367e-02,  6.91339150e-02]]],\n",
       "       dtype=float32),\n",
       " array([-0.03890239, -0.01382392, -0.06049077, -0.005143  , -0.0622082 ,\n",
       "        -0.03417867,  0.00033821, -0.05731187, -0.08495484, -0.02518412,\n",
       "        -0.0962858 , -0.03189642, -0.10481329, -0.07419249, -0.02213419,\n",
       "        -0.05789821, -0.05635283, -0.05419809, -0.06610728, -0.02469124,\n",
       "        -0.12109898, -0.03988104, -0.03676504, -0.04354522, -0.03888894,\n",
       "        -0.01254995, -0.01025177, -0.05876774, -0.06735311, -0.02316521,\n",
       "        -0.0385768 , -0.02538246, -0.03610079, -0.01348578, -0.00740162,\n",
       "        -0.02639245, -0.03672434, -0.0645526 , -0.04120032, -0.00209865,\n",
       "        -0.02186025, -0.03541959, -0.02002294, -0.08817159, -0.10188072,\n",
       "        -0.07578312, -0.02932364, -0.0181848 , -0.02115321, -0.05113718,\n",
       "        -0.01984507, -0.01118051, -0.04489728, -0.0357994 , -0.06045274,\n",
       "        -0.03827259, -0.01819575, -0.08106419, -0.01881058, -0.06507932,\n",
       "         0.00214465, -0.06063592,  0.00377867, -0.01862902], dtype=float32),\n",
       " array([[ 1.92708790e-01, -1.05900727e-01, -2.95248032e-01, ...,\n",
       "          7.19406456e-02, -2.09928118e-02, -1.67017192e-01],\n",
       "        [ 1.03895724e-01, -2.95558069e-02, -2.41110265e-01, ...,\n",
       "         -7.18672499e-02, -1.66947260e-01, -5.99023066e-02],\n",
       "        [ 5.16289920e-02, -2.69563068e-02, -1.49321154e-01, ...,\n",
       "          5.98445982e-02, -2.74786483e-02, -1.90231532e-01],\n",
       "        ...,\n",
       "        [ 1.30627707e-01, -5.36991581e-02, -2.59692580e-01, ...,\n",
       "         -1.20342605e-01,  1.27416250e-04, -4.41590920e-02],\n",
       "        [ 1.66243926e-01, -3.56410891e-02, -2.09379867e-01, ...,\n",
       "         -1.76452228e-03, -1.58393458e-01, -4.97485921e-02],\n",
       "        [ 1.40387490e-01, -2.17386201e-01, -2.99270719e-01, ...,\n",
       "          7.50170946e-02, -1.58488840e-01,  4.02839817e-02]], dtype=float32),\n",
       " array([[-0.08930094,  0.03591486,  0.0201129 , ..., -0.02690514,\n",
       "          0.03459917,  0.08591383],\n",
       "        [-0.12958442, -0.09053495, -0.06001656, ...,  0.08502368,\n",
       "         -0.08842414,  0.0112187 ],\n",
       "        [-0.00717873,  0.05010516,  0.02778995, ...,  0.02838193,\n",
       "         -0.03882053,  0.04913194],\n",
       "        ...,\n",
       "        [ 0.01399408,  0.02136361, -0.12828638, ...,  0.02715945,\n",
       "         -0.04830792, -0.01313345],\n",
       "        [-0.13643375,  0.06996498, -0.12233198, ..., -0.06463567,\n",
       "         -0.16970807,  0.12939708],\n",
       "        [ 0.02243154, -0.02896387,  0.00408009, ..., -0.04953079,\n",
       "          0.09986714,  0.05626971]], dtype=float32),\n",
       " array([ 6.72969744e-02, -2.25078031e-01, -2.71648645e-01, -1.57066882e-01,\n",
       "        -1.32552564e-01, -1.09135266e-02, -1.70045216e-02,  1.56615376e-01,\n",
       "        -1.39649371e-02, -5.59963146e-03, -8.77644122e-02, -5.95392706e-03,\n",
       "        -5.78345805e-02,  2.44864151e-01, -3.88263874e-02, -1.92640647e-02,\n",
       "        -2.08650902e-02, -3.15688290e-02, -4.30141203e-02, -2.44867243e-02,\n",
       "        -6.50012493e-02,  1.69384014e-03,  5.75077012e-02, -7.68997222e-02,\n",
       "         5.04983924e-02, -1.16781676e-02, -9.07699764e-02, -8.49940721e-03,\n",
       "        -3.72635089e-02, -8.43044370e-02,  1.58736750e-01, -9.64967161e-03,\n",
       "        -2.43376166e-01, -1.28656209e-01, -2.29838863e-01, -8.76654387e-02,\n",
       "        -2.17949301e-01, -2.02353280e-02,  7.99734816e-02,  6.28523678e-02,\n",
       "        -4.94070090e-02, -3.07227951e-03,  8.01281556e-02, -5.99265052e-03,\n",
       "        -1.93394452e-01, -1.06040619e-01,  9.01867077e-02, -3.72838303e-02,\n",
       "        -1.02511123e-01,  1.31195951e-02, -5.03437109e-02, -7.53671303e-02,\n",
       "        -6.49698600e-02,  2.21776552e-02,  3.65319103e-02, -1.37888148e-01,\n",
       "         6.43051043e-02, -2.07045469e-02, -8.94154012e-02, -5.03918789e-02,\n",
       "         7.71814361e-02,  1.40294641e-01,  5.88266738e-02, -6.18862920e-02,\n",
       "        -1.08466439e-01,  1.00288866e-02, -1.98840424e-02,  1.25524342e-01,\n",
       "        -1.78337753e-01, -2.71852650e-02,  7.08536059e-02, -5.12011466e-04,\n",
       "        -5.23291230e-02,  1.03099830e-01, -2.35364269e-02,  2.78097410e-02,\n",
       "        -7.11657479e-02, -1.88932762e-01, -2.08443239e-01, -8.30729026e-03,\n",
       "        -1.04870729e-01, -1.15637437e-01, -8.64905119e-02, -5.55430949e-02,\n",
       "         1.87976309e-03, -2.83396174e-03,  9.42317490e-03, -1.62645340e-01,\n",
       "        -8.42731148e-02, -1.03327282e-01, -6.45243004e-02, -1.14764506e-02,\n",
       "        -1.23414747e-01, -9.65334009e-03, -2.13371720e-02, -1.98045336e-02,\n",
       "        -4.48012576e-02, -1.23613616e-02, -2.67039333e-02, -9.58781093e-02,\n",
       "         8.91455114e-01,  7.93174565e-01,  7.48090506e-01,  9.69288528e-01,\n",
       "         8.50873351e-01,  1.02734196e+00,  1.05637217e+00,  8.64564657e-01,\n",
       "         1.06518507e+00,  1.06878090e+00,  8.57802272e-01,  1.02241242e+00,\n",
       "         1.00593913e+00,  9.07347143e-01,  1.02482247e+00,  1.05153561e+00,\n",
       "         9.43608582e-01,  1.02534735e+00,  8.40070903e-01,  8.35440159e-01,\n",
       "         9.75480556e-01,  9.86820102e-01,  1.01366878e+00,  1.00078714e+00,\n",
       "         9.94516492e-01,  9.99619782e-01,  9.32240307e-01,  1.06052399e+00,\n",
       "         8.28127801e-01,  9.53805864e-01,  8.50181520e-01,  8.96250784e-01,\n",
       "         7.43234634e-01,  8.98949921e-01,  7.46873438e-01,  9.20565426e-01,\n",
       "         7.43754327e-01,  8.76805961e-01,  8.71491432e-01,  8.18065941e-01,\n",
       "         1.03785586e+00,  9.67161715e-01,  8.90822887e-01,  9.71260607e-01,\n",
       "         8.15254748e-01,  9.12815809e-01,  9.09377813e-01,  9.87164676e-01,\n",
       "         8.86679947e-01,  1.08442891e+00,  8.19813251e-01,  8.65623772e-01,\n",
       "         8.51790190e-01,  9.46280479e-01,  9.25406992e-01,  7.94273734e-01,\n",
       "         8.11770499e-01,  1.06323326e+00,  8.12309146e-01,  1.01145840e+00,\n",
       "         9.61799979e-01,  7.87297547e-01,  8.77110839e-01,  9.62370396e-01,\n",
       "         6.68913722e-01,  1.08259642e+00,  1.05169904e+00,  8.01541805e-01,\n",
       "         7.45969832e-01,  1.06716895e+00,  8.70325387e-01,  9.41063046e-01,\n",
       "         1.03282225e+00,  8.66935730e-01,  8.49388182e-01,  8.95370424e-01,\n",
       "         9.90615368e-01,  8.23492587e-01,  7.72820413e-01,  1.05296159e+00,\n",
       "         8.51905048e-01,  9.16691124e-01,  9.68898952e-01,  9.87208664e-01,\n",
       "         1.01238918e+00,  1.05653787e+00,  7.11361766e-01,  8.49752128e-01,\n",
       "         9.90145683e-01,  8.15895975e-01,  8.72401297e-01,  1.04264688e+00,\n",
       "         8.17835212e-01,  1.05480635e+00,  8.73571932e-01,  1.05652297e+00,\n",
       "         1.01477480e+00,  1.06702089e+00,  9.31286812e-01,  8.21048975e-01,\n",
       "         1.14185158e-02, -2.09197705e-03,  9.79654957e-03, -2.28452701e-02,\n",
       "        -1.03225680e-02,  1.41660161e-02, -1.27137210e-02,  1.21320207e-02,\n",
       "         1.58517417e-02,  8.70142947e-04, -1.09206354e-02, -1.50183477e-02,\n",
       "        -4.54766164e-03,  1.77333709e-02,  6.27910392e-03, -7.95394834e-03,\n",
       "        -5.05546946e-03,  1.63604214e-03,  4.77770157e-03,  6.97328337e-03,\n",
       "        -9.03113000e-03, -1.67170260e-02,  1.11862235e-02,  2.53647240e-03,\n",
       "         1.92969069e-02, -1.47473847e-03,  7.97015149e-03,  1.29642738e-02,\n",
       "         3.49276350e-03,  4.45274776e-03,  1.30553683e-02, -1.05329594e-02,\n",
       "         8.91545415e-03,  1.60447676e-02,  3.50370631e-03,  1.11047435e-03,\n",
       "         7.39362836e-03,  1.67364976e-03, -6.45934278e-03, -1.11739412e-02,\n",
       "        -1.42844627e-02, -1.27733303e-02,  1.93234924e-02,  7.72553496e-03,\n",
       "         3.96200735e-03,  4.28434694e-03, -8.09861906e-03, -3.64310434e-03,\n",
       "        -5.23068011e-03,  3.74170742e-03, -1.33929774e-02,  1.60300662e-03,\n",
       "         3.56899691e-03, -4.81130835e-03,  3.83865787e-03,  1.10665504e-02,\n",
       "        -1.05988216e-02,  1.55362589e-02, -1.05039007e-03,  2.99844309e-04,\n",
       "         1.44160641e-02, -1.88509340e-03,  1.77401036e-03, -6.17827801e-03,\n",
       "         1.21827750e-03,  1.15148760e-02, -4.74320538e-03, -1.41924871e-02,\n",
       "         7.40633113e-03,  1.29057812e-02, -4.20846697e-03, -6.24917541e-03,\n",
       "         2.15101149e-03,  2.23046783e-02,  5.60621498e-03, -9.47985239e-03,\n",
       "        -7.57979508e-03,  1.17620332e-02, -5.92341181e-03, -9.79239680e-03,\n",
       "        -6.98914472e-03, -1.41709680e-02,  3.24599561e-03,  3.95742292e-03,\n",
       "        -5.10720070e-03,  2.28937692e-03, -1.28575619e-02, -2.32875906e-03,\n",
       "         2.38245062e-04,  9.98208951e-03,  2.83042551e-04, -5.62000740e-03,\n",
       "        -2.42053391e-03,  1.29263848e-02, -7.04702106e-04,  6.33489713e-03,\n",
       "        -2.31464463e-03, -3.51336622e-03, -6.70667365e-03, -6.64169062e-03,\n",
       "         5.45070246e-02, -2.21497193e-01, -2.63579458e-01, -1.00903600e-01,\n",
       "        -1.32142901e-01,  5.26887700e-02,  1.47597250e-02,  2.30563030e-01,\n",
       "         8.07274412e-03,  1.90355219e-02, -9.44574326e-02,  3.18918354e-03,\n",
       "        -6.12339452e-02,  2.92734593e-01, -4.07994017e-02, -2.48215767e-03,\n",
       "        -2.81401388e-02, -2.85121128e-02, -4.29316163e-02, -2.91932616e-02,\n",
       "        -6.87209815e-02,  3.14042196e-02,  7.09582940e-02, -8.20423812e-02,\n",
       "         1.39213517e-01,  1.65005052e-03, -9.51569825e-02,  8.50667059e-03,\n",
       "        -3.78243886e-02, -9.17252749e-02,  1.30839124e-01, -7.23200431e-03,\n",
       "        -2.47617617e-01, -1.36248723e-01, -2.31936678e-01, -9.29065421e-02,\n",
       "        -2.25887507e-01, -2.28143502e-02,  8.26856568e-02,  6.23378605e-02,\n",
       "        -6.32314943e-03, -1.21667152e-02,  7.67378658e-02,  1.04163345e-02,\n",
       "        -1.87861249e-01, -1.08660072e-01,  1.33302301e-01, -3.60164680e-02,\n",
       "        -1.02650277e-01,  3.11446395e-02, -4.39042859e-02, -8.79863501e-02,\n",
       "        -6.75321072e-02,  1.58848315e-02,  4.59718108e-02, -1.39970988e-01,\n",
       "         8.52871090e-02, -5.94621408e-04, -9.23764408e-02, -4.63727638e-02,\n",
       "         9.44095924e-02,  1.72542840e-01,  5.62307872e-02, -6.85406476e-02,\n",
       "        -1.01926573e-01,  2.32259482e-02, -1.42369941e-02,  1.16171919e-01,\n",
       "        -1.87956959e-01, -5.53980097e-03,  7.63810277e-02, -1.17960768e-02,\n",
       "        -3.97894718e-02,  7.31588230e-02, -2.63968091e-02,  2.70769987e-02,\n",
       "        -7.01515824e-02, -1.86367676e-01, -2.08228901e-01,  3.08540126e-04,\n",
       "        -9.97776985e-02, -1.14769161e-01, -9.31130722e-02, -6.26610219e-02,\n",
       "         2.39475667e-02,  6.17185188e-03,  2.70601898e-03, -1.55235574e-01,\n",
       "        -8.39479193e-02, -1.07157543e-01, -7.20223561e-02, -7.95360748e-03,\n",
       "        -1.20261818e-01, -2.96958629e-03, -1.85355116e-02, -1.17065646e-02,\n",
       "        -4.96913046e-02,  3.64174368e-03, -3.49824019e-02, -1.07438982e-01],\n",
       "       dtype=float32),\n",
       " array([[ 2.64020920e-01,  3.30436945e-01, -2.79269725e-01],\n",
       "        [ 2.45993212e-01,  1.44108161e-02, -2.28464846e-02],\n",
       "        [-6.76769465e-02,  8.48150626e-02, -8.75140503e-02],\n",
       "        [ 2.56384611e-01, -1.69880707e-02,  1.55552551e-01],\n",
       "        [-2.44128361e-01, -3.01044554e-01, -1.18400648e-01],\n",
       "        [-2.53044546e-01,  4.19208080e-01,  7.87773430e-02],\n",
       "        [ 2.96618193e-01, -2.47275800e-01,  2.33846769e-01],\n",
       "        [ 2.39533901e-01,  3.54908377e-01, -3.23383421e-01],\n",
       "        [-9.09285024e-02,  3.94088030e-01, -1.88581899e-01],\n",
       "        [ 2.92108744e-01, -3.73701602e-01,  6.21485338e-02],\n",
       "        [ 1.53089657e-01, -2.16957927e-01, -1.94180325e-01],\n",
       "        [-2.37577900e-01,  2.63352484e-01, -3.41257811e-01],\n",
       "        [-1.24801695e-01, -3.48322034e-01, -1.71591952e-01],\n",
       "        [ 2.82675326e-01,  3.41764361e-01, -4.06017393e-01],\n",
       "        [ 9.28473752e-03, -3.44829448e-02, -2.73543000e-01],\n",
       "        [-3.02040279e-01,  1.93807885e-01, -1.52652070e-01],\n",
       "        [-2.90506393e-01,  2.23947719e-01,  3.26434262e-02],\n",
       "        [-2.62297243e-01,  2.80861169e-01, -5.83858639e-02],\n",
       "        [ 3.61788452e-01, -1.85621664e-01, -4.20607515e-02],\n",
       "        [ 2.13068038e-01, -5.68098798e-02, -2.71816313e-01],\n",
       "        [-4.97842033e-04, -1.15392163e-01,  1.38054341e-01],\n",
       "        [-2.72839040e-01,  4.64027822e-01, -2.25058675e-01],\n",
       "        [-2.71328777e-01,  4.50062335e-01, -2.50418395e-01],\n",
       "        [-1.49821207e-01, -6.97359517e-02,  7.91125279e-03],\n",
       "        [ 3.87685388e-01, -3.90381203e-04, -3.46535504e-01],\n",
       "        [-3.13360155e-01,  3.34319770e-01,  1.11509979e-01],\n",
       "        [ 2.06625760e-01,  1.40705556e-01,  2.51168888e-02],\n",
       "        [-2.64359452e-02,  2.82649040e-01, -2.17357561e-01],\n",
       "        [ 2.81233579e-01, -3.31627429e-01, -2.07461447e-01],\n",
       "        [-7.13481456e-02,  1.59013599e-01, -1.07219238e-02],\n",
       "        [ 3.37714046e-01, -4.90993768e-01,  1.99103191e-01],\n",
       "        [ 1.00565851e-01, -4.15125161e-01, -1.20854065e-01],\n",
       "        [-2.13923547e-02, -1.48422703e-01,  1.48097828e-01],\n",
       "        [-2.34565198e-01, -1.36654273e-01,  6.06403723e-02],\n",
       "        [-7.15431795e-02, -1.22987561e-01,  8.72696862e-02],\n",
       "        [ 1.69145852e-01,  1.54723987e-01, -7.80425072e-02],\n",
       "        [-3.90525395e-03,  2.86813695e-02, -1.36604950e-01],\n",
       "        [-2.27164418e-01,  3.60469460e-01,  1.83228552e-01],\n",
       "        [ 6.22420851e-03,  3.85663778e-01, -3.42919946e-01],\n",
       "        [ 7.60295317e-02, -3.67510915e-01,  3.16773027e-01],\n",
       "        [ 9.86545458e-02, -4.05313998e-01, -1.85737908e-02],\n",
       "        [-1.66040868e-01, -8.32669437e-02,  3.32173198e-01],\n",
       "        [ 1.29948258e-01,  4.43005145e-01, -1.51807517e-01],\n",
       "        [-2.62270689e-01,  2.74628431e-01, -2.44597912e-01],\n",
       "        [-1.43885434e-01,  9.09740403e-02,  8.47412944e-02],\n",
       "        [ 1.68656558e-01,  1.60321653e-01,  1.87328681e-01],\n",
       "        [-3.08310628e-01, -8.77766386e-02,  4.02841479e-01],\n",
       "        [ 4.14144322e-02, -2.27055281e-01,  2.80303746e-01],\n",
       "        [ 2.20042974e-01, -1.30164638e-01,  4.18954939e-02],\n",
       "        [-6.69414923e-02,  3.11426640e-01, -3.10514450e-01],\n",
       "        [ 2.31426805e-01, -1.12320483e-01,  2.39233777e-01],\n",
       "        [ 3.03984612e-01,  1.43430427e-01, -1.24087960e-01],\n",
       "        [-5.13453409e-02, -3.32938373e-01, -8.35777540e-03],\n",
       "        [ 1.75539583e-01, -3.02452177e-01,  1.10326692e-01],\n",
       "        [ 2.62570560e-01, -3.71756661e-03, -3.25324744e-01],\n",
       "        [-6.55506179e-02,  1.02058180e-01, -2.92218864e-01],\n",
       "        [-2.43185341e-01, -4.06980403e-02,  3.31822485e-01],\n",
       "        [-1.90821618e-01,  3.73451531e-01,  7.80266151e-02],\n",
       "        [ 6.63634911e-02, -2.49050617e-01,  5.78438714e-02],\n",
       "        [ 1.99023515e-01, -1.70851484e-01,  5.42132035e-02],\n",
       "        [ 3.70511115e-01, -2.87677437e-01, -3.29863936e-01],\n",
       "        [-8.96029733e-03, -2.82447934e-01,  4.46677297e-01],\n",
       "        [ 2.76261389e-01,  3.00557703e-01, -3.33688706e-01],\n",
       "        [-1.82498172e-01,  3.84857655e-02, -1.38781190e-01],\n",
       "        [-3.27550977e-01, -1.77311763e-01,  1.58821151e-01],\n",
       "        [-2.87281182e-02,  2.93283314e-01, -1.62523344e-01],\n",
       "        [ 8.84428248e-02, -2.36224964e-01, -6.87216595e-02],\n",
       "        [-2.59717219e-02, -3.78965795e-01,  2.02017814e-01],\n",
       "        [ 2.39770755e-01,  2.34462902e-01, -1.53402267e-02],\n",
       "        [-2.52745807e-01, -2.40594838e-02, -2.45563701e-01],\n",
       "        [ 2.33887538e-01, -4.02633578e-01,  2.45635375e-01],\n",
       "        [-2.15130657e-01,  1.70478567e-01,  2.94211984e-01],\n",
       "        [-3.90711762e-02, -1.34066567e-01,  2.03075364e-01],\n",
       "        [ 3.70381236e-01, -3.81996483e-01, -2.63890207e-01],\n",
       "        [ 1.02759913e-01, -9.47325751e-02, -3.38084638e-01],\n",
       "        [ 2.25495487e-01, -1.90108553e-01,  2.34017625e-01],\n",
       "        [ 1.18863098e-01, -6.76980615e-02,  6.04673587e-02],\n",
       "        [-7.58069605e-02, -2.38673389e-01, -5.56679629e-02],\n",
       "        [-1.68640867e-01, -6.77163824e-02, -3.17376778e-02],\n",
       "        [ 8.77365544e-02, -2.85777837e-01,  1.08769797e-01],\n",
       "        [ 1.85806081e-01, -1.60476744e-01, -2.33095542e-01],\n",
       "        [ 1.68953836e-01,  7.36718103e-02,  1.12944059e-01],\n",
       "        [ 9.27796811e-02,  1.06653653e-01,  1.13837555e-01],\n",
       "        [ 1.39345512e-01,  1.02588996e-01, -2.08685845e-01],\n",
       "        [ 3.82662982e-01, -1.38527036e-01, -2.42929738e-02],\n",
       "        [ 1.54771343e-01, -3.75517517e-01,  1.52359769e-01],\n",
       "        [ 1.31074190e-02, -2.60523051e-01,  2.43302554e-01],\n",
       "        [-4.15149033e-02,  2.27186114e-01,  1.90686464e-01],\n",
       "        [ 1.71923935e-01,  2.11367328e-02, -4.62269597e-02],\n",
       "        [ 5.56182787e-02,  2.82207072e-01, -3.44568416e-02],\n",
       "        [ 1.09101780e-01, -2.53165632e-01,  6.50554299e-02],\n",
       "        [ 1.57066107e-01, -3.55971217e-01,  1.38052791e-01],\n",
       "        [-3.13794285e-01,  1.25892863e-01,  1.74384773e-01],\n",
       "        [ 1.16734974e-01,  2.80174643e-01, -2.89916158e-01],\n",
       "        [ 2.12451681e-01, -2.99223602e-01, -1.47573009e-01],\n",
       "        [-1.53697670e-01, -4.42188233e-03, -2.97648937e-01],\n",
       "        [-1.26024425e-01,  1.09520838e-01, -2.64259856e-02],\n",
       "        [-1.44608393e-01,  3.43225032e-01, -3.90572883e-02],\n",
       "        [ 1.72544092e-01, -1.13303728e-01, -2.22016498e-01],\n",
       "        [-3.29620838e-02, -2.65426170e-02, -3.39837909e-01]], dtype=float32),\n",
       " array([ 0.01183015,  0.02619905, -0.03702314], dtype=float32)]"
      ]
     },
     "execution_count": 609,
     "metadata": {},
     "output_type": "execute_result"
    }
   ],
   "source": [
    "loaded_model.get_weights()"
   ]
  },
  {
   "cell_type": "code",
   "execution_count": null,
   "metadata": {},
   "outputs": [],
   "source": [
    "# predict\n",
    "preds = loaded_model.predict(np.array(X_test.values.tolist()))"
   ]
  },
  {
   "cell_type": "code",
   "execution_count": 533,
   "metadata": {},
   "outputs": [
    {
     "name": "stderr",
     "output_type": "stream",
     "text": [
      "/home/raymondleemids/anaconda3/lib/python3.6/site-packages/ipykernel_launcher.py:2: SettingWithCopyWarning:\n",
      "\n",
      "\n",
      "A value is trying to be set on a copy of a slice from a DataFrame.\n",
      "Try using .loc[row_indexer,col_indexer] = value instead\n",
      "\n",
      "See the caveats in the documentation: http://pandas.pydata.org/pandas-docs/stable/indexing.html#indexing-view-versus-copy\n",
      "\n"
     ]
    }
   ],
   "source": [
    "# downsampled_csv['8K_Content'].iloc[:50].str.split()\n",
    "downsampled_csv['8K_Content_length'] = downsampled_csv['8K_Content'].str.split().str.len()"
   ]
  },
  {
   "cell_type": "code",
   "execution_count": 534,
   "metadata": {},
   "outputs": [
    {
     "data": {
      "text/plain": [
       "2          1722\n",
       "4          1406\n",
       "6          1277\n",
       "7          1353\n",
       "12          438\n",
       "13          356\n",
       "30          841\n",
       "31          152\n",
       "37          446\n",
       "40          288\n",
       "41         1269\n",
       "43        35421\n",
       "45          248\n",
       "51        22217\n",
       "53          713\n",
       "59         1470\n",
       "69         1805\n",
       "70          376\n",
       "76        13834\n",
       "80         4858\n",
       "85         2564\n",
       "88         2312\n",
       "90          238\n",
       "93         1839\n",
       "94        12225\n",
       "97         1171\n",
       "99         1661\n",
       "102         144\n",
       "105        3345\n",
       "107         476\n",
       "          ...  \n",
       "107324     1089\n",
       "107326     1862\n",
       "107327     1996\n",
       "107334      255\n",
       "107342      679\n",
       "107349     3680\n",
       "107359     1350\n",
       "107360     2330\n",
       "107367      521\n",
       "107369      509\n",
       "107376     6535\n",
       "107377      780\n",
       "107378     1255\n",
       "107381    55371\n",
       "107384      732\n",
       "107385    16671\n",
       "107391      213\n",
       "107395     5994\n",
       "107405      518\n",
       "107406      452\n",
       "107407     2958\n",
       "107412     1824\n",
       "107421     2050\n",
       "107425     2480\n",
       "107431    53156\n",
       "107432    47041\n",
       "107440     1965\n",
       "107445      299\n",
       "107449    47820\n",
       "107454     2724\n",
       "Name: 8K_Content_length, Length: 26728, dtype: int64"
      ]
     },
     "execution_count": 534,
     "metadata": {},
     "output_type": "execute_result"
    }
   ],
   "source": [
    "downsampled_csv['8K_Content_length']"
   ]
  },
  {
   "cell_type": "code",
   "execution_count": null,
   "metadata": {},
   "outputs": [],
   "source": []
  },
  {
   "cell_type": "code",
   "execution_count": 551,
   "metadata": {},
   "outputs": [
    {
     "data": {
      "text/plain": [
       "144981927"
      ]
     },
     "execution_count": 551,
     "metadata": {},
     "output_type": "execute_result"
    }
   ],
   "source": [
    "downsampled_csv['8K_Content_length'].sum()"
   ]
  },
  {
   "cell_type": "code",
   "execution_count": 555,
   "metadata": {},
   "outputs": [
    {
     "data": {
      "text/plain": [
       "5424.346266087998"
      ]
     },
     "execution_count": 555,
     "metadata": {},
     "output_type": "execute_result"
    }
   ],
   "source": [
    "downsampled_csv['8K_Content_length'].mean()"
   ]
  },
  {
   "cell_type": "code",
   "execution_count": 556,
   "metadata": {},
   "outputs": [
    {
     "data": {
      "text/plain": [
       "14917.307474981979"
      ]
     },
     "execution_count": 556,
     "metadata": {},
     "output_type": "execute_result"
    }
   ],
   "source": [
    "downsampled_csv['8K_Content_length'].std()"
   ]
  },
  {
   "cell_type": "code",
   "execution_count": 586,
   "metadata": {},
   "outputs": [
    {
     "data": {
      "text/plain": [
       "1471.0"
      ]
     },
     "execution_count": 586,
     "metadata": {},
     "output_type": "execute_result"
    }
   ],
   "source": [
    "downsampled_csv['8K_Content_length'].median()"
   ]
  },
  {
   "cell_type": "code",
   "execution_count": 557,
   "metadata": {},
   "outputs": [
    {
     "data": {
      "text/plain": [
       "303411"
      ]
     },
     "execution_count": 557,
     "metadata": {},
     "output_type": "execute_result"
    }
   ],
   "source": [
    "max(downsampled_csv['8K_Content_length'])"
   ]
  },
  {
   "cell_type": "code",
   "execution_count": 561,
   "metadata": {},
   "outputs": [
    {
     "data": {
      "text/plain": [
       "1722"
      ]
     },
     "execution_count": 561,
     "metadata": {},
     "output_type": "execute_result"
    }
   ],
   "source": [
    "int(downsampled_csv['8K_Content_length'].iloc[0])"
   ]
  },
  {
   "cell_type": "code",
   "execution_count": 571,
   "metadata": {},
   "outputs": [
    {
     "data": {
      "text/plain": [
       "3343"
      ]
     },
     "execution_count": 571,
     "metadata": {},
     "output_type": "execute_result"
    }
   ],
   "source": [
    "sum(downsampled_csv['8K_Content_length'].astype(dtype='int32') < 300)"
   ]
  },
  {
   "cell_type": "code",
   "execution_count": 575,
   "metadata": {},
   "outputs": [
    {
     "data": {
      "text/plain": [
       "26728"
      ]
     },
     "execution_count": 575,
     "metadata": {},
     "output_type": "execute_result"
    }
   ],
   "source": [
    "downsampled_csv.shape[0]"
   ]
  },
  {
   "cell_type": "code",
   "execution_count": 576,
   "metadata": {},
   "outputs": [
    {
     "data": {
      "text/plain": [
       "0.12601017659383418"
      ]
     },
     "execution_count": 576,
     "metadata": {},
     "output_type": "execute_result"
    }
   ],
   "source": [
    "sum(downsampled_csv['8K_Content_length'] <= 300) / downsampled_csv.shape[0]"
   ]
  },
  {
   "cell_type": "code",
   "execution_count": 589,
   "metadata": {},
   "outputs": [
    {
     "data": {
      "text/plain": [
       "0.18156988925471415"
      ]
     },
     "execution_count": 589,
     "metadata": {},
     "output_type": "execute_result"
    }
   ],
   "source": [
    "sum(downsampled_csv['8K_Content_length'] <= 400) / downsampled_csv.shape[0]"
   ]
  },
  {
   "cell_type": "code",
   "execution_count": 590,
   "metadata": {},
   "outputs": [
    {
     "data": {
      "text/plain": [
       "0.2219769530080814"
      ]
     },
     "execution_count": 590,
     "metadata": {},
     "output_type": "execute_result"
    }
   ],
   "source": [
    "sum(downsampled_csv['8K_Content_length'] <= 500) / downsampled_csv.shape[0]"
   ]
  },
  {
   "cell_type": "code",
   "execution_count": 577,
   "metadata": {},
   "outputs": [
    {
     "data": {
      "text/plain": [
       "0.2596527985633044"
      ]
     },
     "execution_count": 577,
     "metadata": {},
     "output_type": "execute_result"
    }
   ],
   "source": [
    "sum(downsampled_csv['8K_Content_length'] <= 600) / downsampled_csv.shape[0]"
   ]
  },
  {
   "cell_type": "code",
   "execution_count": 578,
   "metadata": {},
   "outputs": [
    {
     "data": {
      "text/plain": [
       "0.35416043100868005"
      ]
     },
     "execution_count": 578,
     "metadata": {},
     "output_type": "execute_result"
    }
   ],
   "source": [
    "sum(downsampled_csv['8K_Content_length'] <= 900) / downsampled_csv.shape[0]"
   ]
  },
  {
   "cell_type": "code",
   "execution_count": 579,
   "metadata": {},
   "outputs": [
    {
     "data": {
      "text/plain": [
       "0.4312705776713559"
      ]
     },
     "execution_count": 579,
     "metadata": {},
     "output_type": "execute_result"
    }
   ],
   "source": [
    "sum(downsampled_csv['8K_Content_length'] <= 1200) / downsampled_csv.shape[0]"
   ]
  },
  {
   "cell_type": "code",
   "execution_count": 580,
   "metadata": {},
   "outputs": [
    {
     "data": {
      "text/plain": [
       "0.5074827895839569"
      ]
     },
     "execution_count": 580,
     "metadata": {},
     "output_type": "execute_result"
    }
   ],
   "source": [
    "sum(downsampled_csv['8K_Content_length'] <= 1500) / downsampled_csv.shape[0]"
   ]
  },
  {
   "cell_type": "code",
   "execution_count": 581,
   "metadata": {},
   "outputs": [
    {
     "data": {
      "text/plain": [
       "0.5750523795270877"
      ]
     },
     "execution_count": 581,
     "metadata": {},
     "output_type": "execute_result"
    }
   ],
   "source": [
    "sum(downsampled_csv['8K_Content_length'] <= 1800) / downsampled_csv.shape[0]"
   ]
  },
  {
   "cell_type": "code",
   "execution_count": 582,
   "metadata": {},
   "outputs": [
    {
     "data": {
      "text/plain": [
       "0.6365234959592936"
      ]
     },
     "execution_count": 582,
     "metadata": {},
     "output_type": "execute_result"
    }
   ],
   "source": [
    "sum(downsampled_csv['8K_Content_length'] <= 2100) / downsampled_csv.shape[0]"
   ]
  },
  {
   "cell_type": "code",
   "execution_count": 583,
   "metadata": {},
   "outputs": [
    {
     "data": {
      "text/plain": [
       "0.6875561209218797"
      ]
     },
     "execution_count": 583,
     "metadata": {},
     "output_type": "execute_result"
    }
   ],
   "source": [
    "sum(downsampled_csv['8K_Content_length'] <= 2400) / downsampled_csv.shape[0]"
   ]
  },
  {
   "cell_type": "code",
   "execution_count": 584,
   "metadata": {},
   "outputs": [
    {
     "data": {
      "text/plain": [
       "0.7289733612690811"
      ]
     },
     "execution_count": 584,
     "metadata": {},
     "output_type": "execute_result"
    }
   ],
   "source": [
    "sum(downsampled_csv['8K_Content_length'] <= 2700) / downsampled_csv.shape[0]"
   ]
  },
  {
   "cell_type": "code",
   "execution_count": 585,
   "metadata": {},
   "outputs": [
    {
     "data": {
      "text/plain": [
       "0.7590915893445076"
      ]
     },
     "execution_count": 585,
     "metadata": {},
     "output_type": "execute_result"
    }
   ],
   "source": [
    "sum(downsampled_csv['8K_Content_length'] <= 3000) / downsampled_csv.shape[0]"
   ]
  },
  {
   "cell_type": "code",
   "execution_count": 587,
   "metadata": {},
   "outputs": [
    {
     "data": {
      "text/plain": [
       "0.7813154744088596"
      ]
     },
     "execution_count": 587,
     "metadata": {},
     "output_type": "execute_result"
    }
   ],
   "source": [
    "sum(downsampled_csv['8K_Content_length'] <= 3300) / downsampled_csv.shape[0]"
   ]
  },
  {
   "cell_type": "code",
   "execution_count": 588,
   "metadata": {},
   "outputs": [
    {
     "data": {
      "text/plain": [
       "0.8642996108949417"
      ]
     },
     "execution_count": 588,
     "metadata": {},
     "output_type": "execute_result"
    }
   ],
   "source": [
    "sum(downsampled_csv['8K_Content_length'] <= 6000) / downsampled_csv.shape[0]"
   ]
  },
  {
   "cell_type": "code",
   "execution_count": 558,
   "metadata": {},
   "outputs": [],
   "source": [
    "downsampled_csv['8K_Content_length'].to_csv('test_csv_8K_length.csv')"
   ]
  },
  {
   "cell_type": "code",
   "execution_count": 539,
   "metadata": {},
   "outputs": [
    {
     "data": {
      "image/png": "[encoded data removed]",
      "text/plain": [
       "<Figure size 432x288 with 1 Axes>"
      ]
     },
     "metadata": {},
     "output_type": "display_data"
    }
   ],
   "source": [
    "downsampled_csv_8K_length = downsampled_csv['8K_Content_length'].hist(bins=500)"
   ]
  },
  {
   "cell_type": "code",
   "execution_count": 548,
   "metadata": {},
   "outputs": [
    {
     "data": {
      "text/plain": [
       "[]"
      ]
     },
     "execution_count": 548,
     "metadata": {},
     "output_type": "execute_result"
    }
   ],
   "source": [
    "downsampled_csv_8K_length"
   ]
  },
  {
   "cell_type": "code",
   "execution_count": 530,
   "metadata": {},
   "outputs": [
    {
     "data": {
      "text/plain": [
       "35071"
      ]
     },
     "execution_count": 530,
     "metadata": {},
     "output_type": "execute_result"
    }
   ],
   "source": [
    "len(downsampled_csv['8K_Content'].iloc[46].split()"
   ]
  },
  {
   "cell_type": "code",
   "execution_count": 531,
   "metadata": {},
   "outputs": [
    {
     "data": {
      "text/plain": [
       "' Check the appropriate box below if the Form 8-K filing is intended to simultaneously satisfy the filing obligation of the registrant under any of the following provisions: o           Written communications pursuant to Rule 425 under the Securities Act (17 CFR 230.425) o           Soliciting material pursuant to Rule 14a-12 under the Exchange Act (17 CFR 240.14a-12) o           Pre-commencement communications pursuant to Rule 14d-2(b) under the Exchange Act (17 CFR 240.14d-2(b)) o           Pre-commencement communications pursuant to Rule 13e-4(c) under the Exchange Act (17 CFR 240.13e-4(c))   Item 1.01. Entry into a Material Definitive Agreement. On August 14, 2012, in connection with the previously announced private offering, Prospect Capital Corporation (\"Prospect\", \"Company\", \"we\" or \"our\") issued $200 million in aggregate principal amount of 5.75% Convertible Senior Notes due 2018 (the \"Notes\") under an indenture, dated as of August 14, 2012 (the \"Indenture\"), between the Company and American Stock Transfer & Trust Company, as trustee (the \"Trustee\").  Barclays Capital Inc., as initial purchaser of the Notes, was also granted an option to purchase an additional $30 million aggregate principal amount of the Notes. The Notes will mature on March 15, 2018, unless previously converted in accordance with their terms. The Notes will be general unsecured obligations of Prospect, will rank equally in right of payment with Prospect\\'s existing and future senior unsecured debt (including Prospect\\'s outstanding 6.25% convertible senior notes due 2015, 5.5% convertible senior notes due 2016, 5.375% convertible senior notes due 2017, 6.95% senior notes due 2022, and any Prospect Capital InterNotes outstanding), and will rank senior in right of payment to any potential subordinated debt, should any be issued in the future. The interest rate on the Notes is 5.75% per year, payable semiannually in arrears on March 15 and September 15 of each year, commencing March 15, 2013.  As described in the Indenture, holders may convert their Notes at any time on or prior to the close of business on the business day immediately preceding the maturity date at an initial conversion rate of 82.3451 shares of common stock per $1,000 principal amount of Notes (equivalent to an initial conversion price of approximately $12.14 per share). The conversion rate will be subject to adjustment in certain events. Upon conversion, unless a holder converts after a record date for an interest payment but prior to the corresponding interest payment date, the holder will receive a separate cash payment with respect to the Notes surrendered for conversion representing accrued and unpaid interest to, but not including the conversion date. Any such payment will be made on the settlement date applicable to the relevant conversion on the Notes. No holder of Notes will be entitled to receive shares of our common stock upon conversion to the extent (but only to the extent) that such receipt would cause such converting holder to become, directly or indirectly, a \"beneficial owner\" (within the meaning of Section 13(d) of the Securities Exchange Act of 1934 and the rules and regulations promulgated thereunder) of more than 5.0% of the shares of our common stock outstanding at such time (the \"Limitation\"). Any purported delivery of shares of our common stock upon conversion of Notes shall be void and have no effect to the extent (but only to the extent) that such delivery would result in the converting holder becoming the beneficial owner of more than the Limitation. If any delivery of shares of our common stock owed to a holder upon conversion of Notes is not made, in whole or in part, as a result of the Limitation, our obligation to make such delivery shall not be extinguished and we shall deliver such shares as promptly as practicable after any such converting holder gives notice to us that such delivery would not result in it being the beneficial owner of more than 5.0% of the shares of common stock outstanding at such time. The Limitation shall no longer apply following the effective date of any \"fundamental change\" (as defined in the Indenture). Subject to certain exceptions, holders may require the Company to repurchase, for cash, all or part of their Notes upon a  \"fundamental change\" (as defined in the Indenture) at a price equal to 100% of the principal amount of the Notes being repurchased plus any accrued and unpaid interest up to, but excluding, the \"fundamental change repurchase date\" (as defined in the Indenture). The Indenture contains certain events of default, the occurrence of which may lead to the Notes being due and payable immediately.  The events of default contained in the Indenture include, without limitation, the following: failure by the Company to pay any interest on the Notes when due and such failure continues for a period of 30 calendar days; failure by the Company to pay principal of the Notes when due at the maturity date, or failure by the Company to pay the repurchase price payable, in respect of any Notes when due; failure by the Company to deliver shares of common stock upon the conversion of any Notes and such failure continues for five calendar days following the scheduled settlement date for such conversion; failure by the Company to issue a \"fundamental change company notice\" (as defined in the Indenture) on a timely basis in accordance with the Indenture; a failure to pay principal when due (whether at stated maturity or otherwise), or an uncured default that results in the acceleration of maturity, of any indebtedness for borrowed money of the Company or any of its \"significant subsidiaries\" (asdefined in the Indenture) in an aggregate amount in excess of $20,000,000 (or its foreign currency equivalent), unless such indebtedness is discharged, or such acceleration is rescinded, stayed or annulled, within a period of 30 calendar days after written notice of such failure or uncured default is given to the Company by the Trustee or to the Company and the Trustee by the holders of at least 25% in aggregate principal amount of the Notes then outstanding; default in the performance, or breach, of any covenant or warranty of the Company in the Indenture with respect to any Note (other than certain covenants or warranties as described in the Indenture), and continuance of such default or breach for a period of 60 days after there has been given, by registered or certified mail, to the Company by the Trustee or to the Company and the Trustee by the holders of at least 25% in principal amount of the outstanding securities of that series a written notice specifying such default or breach and requiring it to be remedied and stating that such notice is a \"notice of default\" (as defined in the Indenture); and certain events in bankruptcy, insolvency or reorganization of the Company or its \"significant subsidiaries\" (as defined in the Indenture). The foregoing summary of the Indenture set forth above is qualified in its entirety by reference to the full text of the Indenture, a copy of which is attached to this Current Report on Form 8-K (\"Form 8-K\") as Exhibit 4.1 and incorporated herein by reference. Item 2.03. Creation of a Direct Financial Obligation or an Obligation Under an Off-Balance Sheet Arrangement of a Registrant. The information set forth under Item 1.01 of this Form 8-K is incorporated herein by reference. Item 3.02. Unregistered Sales of Equity Securities. The information set forth under Item 1.01 of this Form 8-K is incorporated herein by reference. The Company offered and sold the Notes to the Initial Purchaser in reliance on the exemption from registration provided by Section 4(2) of the Securities Act of 1933, as amended (the \"Securities Act\"), for resale by the Initial Purchaser to qualified institutional buyers pursuant to the exemption from registration provided by Rule 144A under the Securities Act. The Company relied on these exemptions from registration based in part on representations made by the Initial Purchaser in a Purchase Agreement. The Notes and the underlying common stock issuable upon conversion of the Notes have not been registered under the Securities Act and may not be offered or sold in the United States absent registration or an applicable exemption from registration requirements. Item 8.01. Other Events. On August 14, 2012, Prospect issued a press release announcing the closing of the private offering of the Notes. Item 9.01. Financial Statements and Exhibits (d) Exhibits Pursuant to the requirements of the Securities Exchange Act of 1934, as amended, the Registrant has duly caused this Current Report on Form 8-K to be signed on its behalf by the undersigned hereunto duly authorized.Exhibit 4.1 Execution Version  INDENTURE, dated as of August 14, 2012 (this \"\"), between , a corporation organized under the laws of Maryland, as issuer (the \"\"), and , , a New York limited liability trust company, as trustee hereunder (the \"\").IndenturePROSPECT CAPITAL CORPORATIONCompanyAMERICAN STOCK TRANSFER & TRUST COMPANYLLCTrustee WHEREAS, the Company has duly authorized the execution and delivery of this Indenture to provide for the issuance of its 5.75% Senior Convertible Notes due 2018 (the \"\"), initially in an aggregate principal amount not to exceed $230,000,000; andNotes WHEREAS, all acts and things necessary to make the Notes, when executed by the Company and authenticated and delivered by the Trustee, as provided in this Indenture, the valid and binding obligations of the Company, and to make this Indenture the valid and binding agreement of each of the Company and the Trustee in accordance with the terms hereof, have been done and performed. For and in consideration of the premises and of the covenants contained herein, the Company and the Trustee covenant and agree, for the equal and proportionate benefit of all Holders (as defined below) of the Notes issued on or after the date of this Indenture, as follows: Section 1.01.          .Definitions For all purposes of this Indenture, except as otherwise expressly provided for or unless the context otherwise requires: \"\" means the 6.25% Senior Convertible Notes due 2015 issued by the Company on December 21, 2010.2010 Notes \"\" means the 5.50% Senior Convertible Notes due 2016 issued by the Company on February 18, 2011.2011 Notes \"2012 Notes\"means the 5.375% Senior Convertible Notes due 2017 issued by the Company on April 16, 2012. \"2022 Notes\"means the 6.95% Senior Unsecured Notes due 2022 issued by the Company on May 1, 2012. \"\" shall have the meaning specified in .Additional InterestSection 5.13(a) \"\" shall have the meaning specified in .Additional Interest PeriodSection 5.13(a) \"\" shall have the meaning specified in .Additional NotesSection 2.11 \"\" shall have the meaning specified in .Additional SharesSection 10.01(b)(1) \"\" of any specified Person means any other Person directly or indirectly controlling or controlled by or under direct or indirect common control with such specified Person. For the purposes of this definition, \"control\" when used with respect to any specified Person means the power to direct the management and policies of such Person, directly or indirectly, whether through the ownership of voting securities, by contract or otherwise; and the terms \"controlling\" and \"controlled\" have meanings correlative to the foregoing.Affiliate \"\" means, with respect to any conversion, repurchase, transfer or exchange of beneficial ownership interests in a Global Note, the rules and procedures of the Depositary, to the extent applicable to such conversion, transfer or exchange.Applicable Procedures \"\" shall have the meaning specified in .Authenticating AgentSection 2.12 \"\" shall have the meaning specified in .Averaging PeriodSection 10.04(e) \" means Title 11, U.S. Code or any similar Federal or state law for the relief of debtors.Bankruptcy Law\" \"\" means either (i) the Board of Directors of the Company, the executive committee or any other committee or director of that board duly authorized to act for it in respect hereof, or (ii) one or more duly authorized officers of the Company to whom the Board of Directors of the Company or a committee thereof has delegated the authority to act with respect to the matters contemplated by this Indenture.Board of Directors \"\" means (i) a copy of a resolution certified by the Secretary or an Assistant Secretary of the Company to have been duly adopted by the Board of Directors or a committee thereof, and to be in full force and effect on the date of such certification, and delivered to the Trustee or (ii) a certificate signed by the authorized officer or officers of the Company to whom the Board of Directors of the Company or a committee thereof has delegated its authority (as described in the definition of Board of Directors), and in each case, delivered to the Trustee.Board Resolution \"\" means any day, other than a Saturday, a Sunday or a day on which the Federal Reserve Bank of New York is authorized or required by law or executive order to close or be closed.Business Day \"\" means, with respect to any Person, any capital stock (including preferred stock), shares, interest, participations or other ownership interests (howeverCapital Stockdesignated) of such Person and any rights (other than debt securities convertible into or exchangeable for corporate stock), warrants or options to purchase any of the foregoing. \"\" means 5:00 p.m. (New York City time).Close of Business \"\" means the U.S. Securities and Exchange Commission.Commission \"\" means, subject to , shares of common stock of the Company, par value $0.001 per share, at the date of this Indenture or shares of any class or classes resulting from any reclassification or reclassifications thereof and that have no preference in respect of dividends or of amounts payable in the event of any voluntary or involuntary liquidation, dissolution or winding up of the Company and that are not subject to redemption by the Company; that if at any time there shall be more than one such resulting class, the shares of each such class then so issuable shall be substantially in the proportion which the total number of shares of such class resulting from all such reclassifications bears to the total number of shares of all such classes resulting from all such reclassifications.Common StockSection 10.06provided \"\" means only the Person named as the \"Company\" in the first paragraph of this Indenture until a successor corporation shall have become such pursuant to the applicable provisions of this Indenture, and thereafter \"Company\" shall mean such successor corporation.Company \"\" and \"\" mean, respectively, a written request or order signed in the name of the Company by the President or a Vice President of the Company, or by the Treasurer, an Assistant Treasurer, the Secretary or an Assistant Secretary of the Company, and delivered to the Trustee.Company RequestCompany Order \"\" means the Trustee or any successor office or agency where the Notes may be surrendered for conversion.Conversion Agent \"\" shall have the meaning specified in .Conversion DateSection 10.02(b) \"\" shall have the meaning specified in .Conversion NoticeSection 10.02(b)(i) \"\" shall have the meaning specified in .Conversion ObligationSection 10.01(a) \"\" means, as of any date, $1,000 divided by the Conversion Rate as of such date.Conversion Price \"\" shall have the meaning specified in .Conversion RateSection 10.01(a) \"\" means the office of the Trustee at which at any time its corporate trust business shall be administered, which office at the date hereof is located at American Stock Transfer & Trust Company, LLC59 Maiden Lane, New York, New York 10038, Attention:  Corporate Trust Services/Prospect Capital Corporation, or such other address as the Trustee may designate from time to time by notice to the Holders and the Company, or the principal corporate trust office of any successor Trustee (or such other address as such successor Trustee may designate from time to time by notice to the Holders and the Company).Corporate Trust Office,\"\" means any receiver, trustee, assignee, liquidator or other similar official under any Bankruptcy Law.Custodian \"\" means an event that is, or after notice or passage of time, or both, would be an Event of Default with respect to the Notes.Default \"\" shall have the meaning specified in .Defaulted InterestSection 2.10 \"\" shall have the meaning specified in .Delayed DistributionSection 10.04(d) \"\" means, with respect to the Notes issuable or issued in whole or in part in global form, the Person specified in the Notes as the Depositary with respect to such Notes, until a successor shall have been appointed, and thereafter, \"\" shall mean or include such successor.DepositaryDepositary \"\" shall have the meaning specified in Section 10.04(c)(i).Distributed Property \"\" or \"\" means a dollar or other equivalent unit in such coin or currency of the United States of America as at the time shall be legal tender for payment of public and private debts.Dollar$ \"\" shall have the meaning specified in Section 10.01(b)(2).Effective Date \"\" means, with respect to the Notes, any event specified in , after such event has continued the period of time, if any, and after the giving of notice, if any, therein designated.Event of DefaultSection 5.01 \"\" means the Securities Exchange Act of 1934, as amended, and the rules and regulations promulgated thereunder.Exchange Act \"\" shall have the meaning specified in .Filing Additional InterestSection 5.01 \"\" shall have the meaning specified in .Filing FailureSection 5.01 \"\" will be deemed to have occurred when any of the following has occurred:Fundamental Change (a)           the consummation of any transaction (including, without limitation, any merger or consolidation other than those excluded under clause (c) below) the result of which is that any \"person\" becomes the \"beneficial owner\" (as these terms are defined in Rule 13d-3 and Rule 13d-5 under the Exchange Act), directly or indirectly, of more than 50% of the Capital Stock of the Company that is at that time entitled to vote by the holder thereof in the election of the Board of Directors (or comparable body); (b)           the stockholders of the Company approve any plan or proposal for the liquidation or dissolution of the Company;(c)           the consolidation or merger of the Company with or into any other Person, or the sale, lease, transfer, conveyance or other disposition, in one or a series of related transactions, of all or substantially all of the assets of the Company and those of its Subsidiaries taken as a whole to any \"person\" (as this term is used in Section 13(d)(3) of the Exchange Act); other than: (i)            any transaction that does not result in any reclassification, conversion, exchange or cancellation of all or substantially all of the outstanding shares of Capital Stock of the Company; (ii)           any changes resulting from a subdivision or combination or change solely in par value; (iii)          any transaction pursuant to which the holders of 50% or more of the total voting power of all shares of Capital Stock of the Company entitled to vote generally in elections of directors immediately prior to such transaction have the right to exercise, directly or indirectly, 50% or more of the total voting power of all shares of Capital Stock of the continuing or surviving Person entitled to vote generally in elections of directors immediately after giving effect to such transaction; or (iv)          any merger primarily for the purpose of changing the jurisdiction of incorporation of the Company and resulting in a reclassification, conversion or exchange of outstanding shares of Common Stock solely into shares of common stock of the surviving entity; or (d)           the termination of trading of Common Stock, which will be deemed to have occurred if the Common Stock or other common stock into which the Notes are convertible is not listed for trading on any of the New York Stock Exchange, the NASDAQ Global Market or the NASDAQ Global Select Market (or any of their respective successors). Notwithstanding the foregoing, any transaction or event described above also will not constitute a Fundamental Change if, in connection with such transaction or event, or as a result therefrom, a transaction described in clauses (a) or (c) above occurs (without regard to any exclusion contained in clause (c)), and at least 90% of the consideration paid for Common Stock (excluding cash payments for fractional shares, cash payments made pursuant to dissenters\\' appraisal rights and cash dividends) consists of shares of common stock (or depositary receipts in respect thereof) traded on any of the New York Stock Exchange, the NASDAQ Global Market or the NASDAQ Global Select Market (or any of their respective successors) (or will be so traded or quoted immediately following the completion of the merger or consolidation or such other transaction) and, as a result of such transaction, the Notes become convertible into the Reference Property. \"\" shall have the meaning specified in .Fundamental Change Company NoticeSection 11.01(b) \"\" shall have the meaning specified in .Fundamental Change Repurchase DateSection 11.01(a)\"\" shall have the meaning specified in .Fundamental Change Repurchase NoticeSection 11.01(a)(i) \"\" shall have the meaning specified in .Fundamental Change Repurchase PriceSection 11.01(a) \"\" means generally accepted accounting principles as used in the United States applied on a consistent basis as in effect from time to time.GAAP \"\" shall have the meaning specified in .Global NoteSection 2.07(f) \"\" means this Indenture, as amended or supplemented from time to time.Indenture \"\" means the Notes issued on the date of this Indenture.Initial Notes \"\" means, when used with reference to the Notes, any interest payable under the terms of the Notes.interest \"\" means March 15 and September 15 of each year, beginning on March 15, 2013.Interest Payment Date \"\" means, with respect to Common Stock or any other security for which a Last Reported Sale Price must be determined, on any date, the closing sale price per share of Common Stock or unit of such other security (or, if no closing sale price is reported, the average of the last bid and last ask prices or, if more than one in either case, the average of the average last bid and the average last ask prices) on such date as reported in composite transactions for the principal U.S. securities exchange on which Common Stock or such other security is traded.  If the Common Stock or such other security are not listed for trading on a United States national or regional securities exchange on the relevant date, the Last Reported Sale Price shall be the last quoted bid price per share of Common Stock or such other security in the over-the-counter market on the relevant date, as reported by OTC Markets Group Inc. or a similar organization.  If the Common Stock or such other security are not so quoted, the Last Reported Sale Price shall be the average of the mid-point of the last bid and ask prices for the Common Stock or such other security on the relevant date from each of at least three nationally recognized independent investment banking firms selected from time to time by the Board of Directors of the Company for that purpose.  The Last Reported Sale Price shall be determined without reference to extended or after hours trading.Last Reported Sale Price \"\" means any security interest, pledge, lien or other encumbrance.Lien \"\" shall have the meaning specified in .LimitationSection 10.03(d) \"\" means March 15, 2018.Maturity Date \"\" shall have the meaning specified in .Merger EventSection 10.06(a) \"\" shall have the meaning specified in Section 10.01(b)(1).Non-Stock Change of Control\"\" or \"\" shall have the meaning specified in the first paragraph of the recitals of this Indenture, and shall include any Additional Notes issued pursuant to .NoteNotesSection 2.11 \"\" shall have the meaning specified in .Note RegisterSection 2.04 \"\" or \"\" or \",\" as applied to any Note, or other similar terms (but excluding the term \"beneficial holder\"), means any Person in whose name at the time a particular Note is registered on the Note Register.NoteholderHolderholder \"\" means a certificate signed by the Chief Executive Officer, President or a Vice President and by the Treasurer, an Assistant Treasurer, the Secretary or an Assistant Secretary, of the Company, and delivered to the Trustee.  Each such certificate shall include the statements provided for in , if and to the extent required by the provisions of .Officers\\' CertificateSection 12.03Section 12.02 \"\" means 9:00 a.m. (New York City time).Opening of Business \"\" means a written opinion reasonably acceptable to the Trustee from legal counsel, who may be an employee of or counsel to the Company; , , that counsel that is an employee of, or counsel to, the Company shall be acceptable to the Trustee.  Each such opinion shall include the statements provided for in , if and to the extent required by the provisions of .Opinion of CounselprovidedhoweverSection 12.03Section 12.02 \"\", when used with respect to Notes, means, as of the date of determination, all Notes theretofore authenticated and delivered under this Indenture, except:Outstanding (a)           Notes theretofore cancelled by the Trustee or delivered to the Trustee for cancellation (including Notes converted and cancelled pursuant to this Indenture); (b)           Notes for whose payment money in the necessary amount has been theretofore deposited with the Trustee or any Paying Agent (other than the Company) in trust or set aside and segregated in trust by the Company (if the Company shall act as its own Paying Agent) for the Holders of such Notes; and (c)           Notes which have been paid pursuant to or in exchange for or in lieu of which other Notes have been authenticated and delivered pursuant to this Indenture, other than any such Notes in respect of which there shall have been presented to the Trustee proof satisfactory to it that such Notes are held by a bona fide purchaser in whose hands such Notes are valid obligations of the Company;Section 2.08 provided, , that in determining whether the Holders of the requisite principal amount of the Outstanding Notes have given, made or taken any request, demand, authorization, direction, notice, consent, waiver or other action hereunder, Notes owned by the Company or any other obligor upon the Notes or any Affiliate of the Company or of such other obligor shall be disregarded and deemed not to be Outstanding, except that, in determining whether the Trustee shall be protected in relying upon any such request, demand, authorization, direction, notice, consent, waiver or other action, only Notes which a Responsible Officer of the Trustee actually knows to be so owned shall be so disregarded. Notes so owned which have been pledged in goodhoweverfaith may be regarded as Outstanding if the pledgee establishes to the satisfaction of the Trustee the pledgee\\'s right so to act with respect to such Notes and that the pledgee is not the Company or any other obligor upon the Notes or any Affiliate of the Company or of such other obligor. \"\" means the office or agency designated by the Company where Notes may be presented for payment, initially the Trustee.Paying Agent \"\" means any individual, corporation, partnership, limited liability company, joint venture, association, joint stock company, trust, unincorporated organization or government or any agency or political subdivision thereof.Person \"\" of any particular Note means every previous Note evidencing all or a portion of the same debt as that evidenced by such particular Note; and, for the purposes of this definition, any Note authenticated and delivered under in exchange for or in lieu of a mutilated, destroyed, lost or stolen Note.Predecessor SecuritySection 2.08 \"\" means up to $500 million of Prospect Capital InterNotes that may be sold from time to time pursuant to the Selling Agent Agreement with Incapital LLC, as purchasing agent, or additional agents as may be appointed by the Company from time to time.Prospect Capital InterNotes \",\" with respect to the payment of interest on any Interest Payment Date, shall have the meaning specified in .Record DateSection 2.03 \"\" shall have the meaning specified in .Reference PropertySection 10.06(a) \"\" shall have the meaning specified in .Resale Restriction Termination DateSection 2.07(b) \"\" means, when used with respect to the Trustee, any officer within the corporate trust department of the Trustee (or any successor of the Trustee), including any vice president, assistant vice president, assistant secretary, assistant treasurer, trust officer or any other officer of the Trustee who customarily performs functions similar to those performed by the Persons who at the time shall be such officers, respectively, or to whom any corporate trust matter is referred because of such person\\'s knowledge of and familiarity with the particular subject and who shall have direct responsibility for the administration of this Indenture.Responsible Officer \"\" means the legend set forth in hereto.Restricted Common Stock LegendExhibit E \"\" means the restricted legend set forth in hereto.Restricted Note LegendExhibit A \"\" shall have the meaning specified in .Restricted SecuritiesSection 2.07(a) \"\" means Rule 144 under the Securities Act, or any similar successor rule or regulation, as amended from time to time.Rule 144 \"\" means the Securities Act of 1933, as amended, and the rules and regulations promulgated thereunder.Securities Act\"\" means the office or agency maintained by the Company where Notes may be presented for registration of transfer or exchange, initially the Trustee.Security Registrar \"\" means any Subsidiary which is a \"significant subsidiary\" (within the meaning specified in Rule 1-02(w) of Regulation S-X, promulgated under the Securities Act) of the Company, excluding any Subsidiary of the Company which is (a) a non-recourse or limited recourse subsidiary, (b) a bankruptcy remote special purpose vehicle, or (c) that is not consolidated with the Company for purposes of GAAP.Significant Subsidiary \"\" shall have the meaning specified in .Special Record DateSection 2.10(1) \"\" shall have the meaning specified in .Spin-OffSection 10.04(c)(ii) \"\", when used with respect to the Notes, means March 15, 2018.Stated Maturity \"\" means the price paid per share of Common Stock in connection with a Fundamental Change pursuant to which Additional Shares shall be added to the Conversion Rate as set forth in  hereof.  If holders of Common Stock receive only cash in such Fundamental Change transaction, then the Stock Price shall be the cash amount paid per share. Otherwise, the Stock Price shall be equal to the average of the Last Reported Sale Prices of the Common Stock over the 5 consecutive Trading Day period ending on, and including, the Trading Day immediately preceding the Effective Date of the Fundamental Change.Stock PriceSection 10.01(b) \"\" means, with respect to any Person, any corporation or other entity of which a majority of (i) the voting power of the voting equity securities or (ii) the outstanding equity interests of which are owned, directly or indirectly, by such Person. For the purposes of this definition, \"\" means equity securities having voting power for the election of directors, whether at all times or only so long as no senior class of security has such voting power by reason of any contingency.Subsidiaryvoting equity securities \"\" means a day during which (i) trading in Common Stock generally occurs and (ii) a Last Reported Sale Price for Common Stock (other than a Last Reported Sale Price referred to in the next to last sentence of such definition) is available for such day; that if shares of Common Stock are not admitted for trading or quotation on or by any exchange, bureau or other organization referred to in the definition of Last Reported Sale Price (excluding the next to last sentence of that definition), Trading Day shall mean any Business Day.Trading Dayprovided \"\" shall have the meaning specified in .Trigger EventSection 10.04(c)(ii) \"\" or \"\" means the U.S. Trust Indenture Act of 1939, as amended and as in effect from time to time.Trust Indenture ActTIA \"\" means the Person named as the \"Trustee\" in the first paragraph of this Indenture until a successor Trustee shall have become such pursuant to the applicable provisions of this Indenture, and thereafter \"Trustee\" shall mean or include each Person who is then a Trustee hereunder.Trustee \"\" means the United States of America (including the states and the DistrictUnited Statesof Columbia), its territories, its possessions and other areas subject to its jurisdiction.\"\" shall have the meaning specified inValuation PeriodSection 10.04(c)(ii) All other terms used in this Indenture, which are defined in the Trust Indenture Act or which are by reference therein defined in the Securities Act (except as herein otherwise expressly provided or unless the context otherwise requires) shall have the meanings assigned to such terms in said Trust Indenture Act and in said Securities Act as in force at the date of the execution of this Indenture.  The words \"herein,\" \"hereof,\" \"hereunder,\" and words of similar import refer to this Indenture as a whole and not to any particular Article, Section or other subdivision.  The terms defined in this Article include the plural as well as the singular. Section 2.01.         Designation and Amount.  The Notes shall be designated as the \"5.75% Senior Convertible Notes due 2018.\"  The aggregate principal amount of Notes that may be authenticated and delivered under this Indenture is initially limited to $230,000,000, subject to , and except for Notes authenticated and delivered upon registration or transfer of, or in exchange for, or in lieu of other Notes pursuant to , , and hereof.Section 2.11Section 2.07Section 10.02Section 11.01Section 2.08 Section 2.02.         Form of Notes.  The Notes and the Trustee\\'s certificate of authentication to be borne by such Notes shall be substantially in the form set forth in hereto.Exhibit A Any of the Notes may have such letters, numbers or other marks of identification and such notations, legends or endorsements as the officersexecuting the same may approve (execution thereof to be conclusive evidence of such approval) and that are not inconsistent with the provisions of this Indenture, or as may be required by the Depositary, as may be required to comply with any law or with any rule or regulation made pursuant thereto or with any rule or regulation of any securities exchange or automated quotation system on which the Notes may be listed or designated for issuance, or to conform to usage or to indicate any special limitations or restrictions to which any particular Notes are subject. A Global Note shall represent such principal amount of the Outstanding Notes as shall be specified therein and shall provide that it shall represent the aggregate principal amount of Outstanding Notes from time to time endorsed thereon and that the aggregate principal amount of Outstanding Notes represented thereby may from time to time be increased or reduced to reflect repurchases, conversions, transfers or exchanges permitted hereby.  Any endorsement of a Global Note to reflect the amount of any increase or decrease in the amount of Outstanding Notes represented thereby shall be made by the Trustee or the Custodian, at the direction of the Trustee, in such manner and upon instructions given by the Holder of such Notes in accordance with this Indenture.  Payment of principal and accrued and unpaid interest on a Global Note shall be made to the Holder of such Note on the date of payment, unless a Record Date or other means of determining Holders eligible to receive payment is provided for herein. The terms and provisions contained in the form of Note attached as hereto areExhibit Aincorporated herein and shall constitute, and are hereby expressly made, a part of this Indenture and to the extent applicable, the Company and the Trustee, by their execution and delivery of this Indenture, expressly agree to such terms and provisions and to be bound thereby.Section 2.03.         Date and Denomination of Notes; Payments of Interest.  The Notes shall be issuable in registered form without coupons in denominations of $1,000 principal amount and integral multiples thereof.  Each Note shall be dated the date of its authentication and shall bear interest from the date specified on the face of the form of Note attached as hereto.  Interest on the Notes shall be computed on the basis of a 360-day year comprised of twelve 30-day months.  The initial interest payment on the Notes on March 15, 2013 Interest Payment Date shall be equal to $33.7014 per $1,000 principal amount of Notes.  If an Interest Payment Date, a Fundamental Change Repurchase Date or Maturity Date is not a Business Day, payment will be made on the next succeeding Business Day, and no additional interest will accrue thereon as a result thereof.Exhibit A The Person in whose name any Note (or its Predecessor Security) is registered on the Note Register at the Close of Business on any Record Date with respect to any Interest Payment Date shall be entitled to receive the accrued and unpaid interest payable on such Interest Payment Date, subject to  hereof.  Interest shall be payable at the office of the Company maintained by the Company for such purposes in the Borough of Manhattan, City of New York, which shall initially be an office or agency of the Trustee.  The Company shall pay interest (i) on any Notes in certificated form by check mailed to the address of the Person entitled thereto as it appears in the Note Register (or upon written application by such Person to the Security Registrar not later than the relevant Record Date, by wire transfer in immediately available funds to such Person\\'s account within the United States, if such Person is entitled to interest on an aggregate principal in excess of $2,000,000) or (ii) on any Global Note by wire transfer of immediately available funds to the account of the Depositary or its nominee.  The term \"\" with respect to any Interest Payment Date shall mean the March 1 or September 1 preceding the applicable March 15 or September 15 Interest Payment Date, respectively.Section 4.01(b)Record Date Section 2.04.         Security Registrar, Conversion Agent and Paying Agent.  The Trustee shall initially serve as the Security Registrar, Conversion Agent and Paying Agent for the Notes.  The Security Registrar, the Conversion Agent and the Paying Agent shall each maintain an office or agency in the Borough of Manhattan, New York City.  The Security Registrar shall keep a register of the Notes and of their transfer and exchange (the \"\").  The Company may have one or more co-registrars and one or more additional conversion agents and paying agents.  The term Paying Agent includes any additional paying agents, the term Conversion Agent includes any additional conversion agents and the term Security Registrar includes any co-registrar.  The Company may appoint and change any Paying Agent, Conversion Agent or Security Registrar without prior notice to any Holder.Note Register The Company shall enter into an appropriate agency agreement with any Security Registrar, Conversion Agent or Paying Agent that is not a party to this Indenture.  The agreement shall implement the provisions of this Indenture that relate to such agent.  The Company shall notify the Trustee in writing of the name and address of each such agent.  If the Company fails to maintain a Security Registrar, Conversion Agent or Paying Agent, the Trustee shall act as suchand shall be entitled to appropriate compensation therefor pursuant to .  The Company or any of its domestically incorporated Subsidiaries may act as Paying Agent, Conversion Agent or Security Registrar.Section 6.07The Company may remove any Security Registrar, Conversion Agent or Paying Agent upon written notice to such Security Registrar, Conversion Agent or Paying Agent and to the Trustee; , , that no such removal shall become effective until (i) acceptance of any appointment by a successor as evidenced by an appropriate agreement entered into by the Company and such successor Security Registrar, Conversion Agent or Paying Agent, as the case may be, and such agreement is delivered to the Trustee or (ii) notification to the Trustee that the Trustee shall serve as Security Registrar, Conversion Agent or Paying Agent until the appointment of a successor in accordance with clause (i) above.  The Security Registrar, Conversion Agent or Paying Agent may resign at any time upon written notice to the Company and the Trustee.providedhowever Section 2.05.         Conversion Agent and Paying Agent to Hold Money and Property in Trust.  Except as otherwise provided herein, on or prior to 1:00 p.m. (New York City time) on each due date of payment or settlement date of conversion in respect of any Note, the Company shall deposit with the Paying Agent or Conversion Agent, as applicable, a sum of money (in immediately available funds) and any property due upon conversion sufficient to make such payments or conversion when due.  The Company shall require each Paying Agent or Conversion Agent (other than the Trustee) to agree in writing that such Paying Agent or Conversion Agent shall hold in trust for the benefit of Holders or the Trustee all money or property held by such Paying Agent or Conversion Agent for the payment of principal of, interest on, and other payments and conversion in respect of the Notes, and shall notify the Trustee in writing of any Default by the Company in making any such payment or conversion.  If the Company or a Subsidiary acts as Paying Agent or Conversion Agent, it shall segregate the money or property held by it as Paying Agent or Conversion Agent and hold it as a separate trust fund for the benefit of the Holders of the Notes.  The Company at any time may require a Paying Agent or Conversion Agent (other than the Trustee) to pay all money or property held by it to the Trustee and to account for any funds disbursed by such Paying Agent or Conversion Agent.  Upon complying with this , the Paying Agent or Conversion Agent (if other than the Company or a Subsidiary) shall have no further liability for the money or property delivered to the Trustee.  Upon any bankruptcy, reorganization or similar proceeding with respect to the Company, the Trustee shall serve as Paying Agent and Conversion Agent for the Notes.Section 2.05 Section 2.06.         Holder Lists.  The Trustee shall preserve in as current a form as is reasonably practicable the most recent list available to it of the names and addresses of Holders.  If the Trustee is not the Security Registrar, the Company, on its own behalf, shall furnish to the Trustee, in writing, at least seven Business Days before each Interest Payment Date and at such other times as the Trustee may reasonably request in writing upon at least 15 days\\' prior written request, a list in such form and as of such date as the Trustee may reasonably require of the names and addresses of Holders.Section 2.07.         Exchange and Registration of Transfer of Notes; Restrictions on Transfer; Depositary.(a)          Every Note (and all securities issued in exchange therefor or in substitution thereof) that bears, or is required under this to bear, the Restricted Note Legend (together with any Common Stock issued upon conversion of the Notes that bears, or is required under this to bear, the Restricted Common Stock Legend, collectively, the \"\") shall be subject to the restrictions on transfer set forth in this (including those set forth in the Restricted Note Legend and the Restricted Common Stock Legend, as applicable), unless such restrictions on transfer shall be eliminated or otherwise waived by written consent of the Company following receipt of legal advice satisfactory to the Company in its sole discretion, supporting the permissibility of the waiver of such transfer restrictions, and the Holder of each such Note or shareholder of such Common Stock, as applicable, by such Holder\\'s or shareholder\\'s acceptance thereof, agrees to be bound by all such restrictions on transfer. As used in this , the term \"transfer\" means any sale, pledge, loan, transfer or other disposition whatsoever of any Restricted Security or any interest therein.Section 2.07Section 2.07Restricted SecuritiesSection 2.07Section 2.07 (b)          Until the date that is one year after the last date of the original issuance of the Notes or such later date, if any, as may be required by applicable laws (such applicable date, the \"\"):  (i) each certificate evidencing a Note shall bear the Restricted Note Legend and (ii) each certificate evidencing shares of Common Stock issued upon conversion of the Notes shall bear the Restricted Common Stock Legend; unless such Restricted Security has been sold pursuant to a registration statement that has been declared effective under the Securities Act (and which continues to be effective at the time of such transfer) or sold pursuant to Rule 144, or unless otherwise agreed by the Company in writing as set forth above, with written notice thereof to the Trustee.Resale Restriction Termination Date (c)          In connection with any transfer of the Notes prior to the Resale Restriction Termination Date, the holder must complete and deliver the Form of Assignment and Transfer attached hereto as , with the appropriate box checked, to the Trustee (or any successor Trustee, as applicable).Exhibit D (d)          Any Notes that are Outstanding following the Resale Restriction Termination Date and any Notes as to which the conditions for the removal of the Restricted Note Legend set forth thereon have been satisfied may, upon surrender of such Notes to the Security Registrar for exchange in accordance with the provisions of this , be exchanged for a new Note or Notes, of like tenor and aggregate principal amount, which shall not bear the Restricted Note Legend.  The Company will cause the removal of the legends required by  from any Global Note promptly following the Resale Restriction Termination Date by: (i) instructing the Trustee in writing to remove such legends from such Global Note; (ii) providing to the Trustee and the Depositary written notice to change the CUSIP number for the Notes to the applicable unrestricted CUSIP number; and (iii) complying with any Applicable Procedures for delegending or otherwise exchanging such Global Note for a Global Note not bearing the restrictive legend (including DTC\\'s mandatory exchange process, if applicable); whereupon any legends otherwise required by Section 2.07(b) shall be deemed removed from any Global Notes without any further action on the part of the Holders.Section 2.07Section 2.07(b) Prior to the Resale Restriction Termination Date, any Notes purchased or owned by the Company or any Subsidiary thereof may not be resold by the Company or such Subsidiary unless registered under the Securities Act or resold pursuant to an exemption from theregistration requirements of the Securities Act in a transaction which results in such Notes no longer being \"restricted securities\" (as defined under Rule 144). (e)          The Trustee shall have no obligation or duty to monitor, determine or inquire as to compliance with any restrictions on transfer imposed under this instrument or under applicable law with respect to any transfer of any interest in any Note other than to require delivery of such certificates and other documentation or evidence as are expressly required by, and to do so if and when expressly required by, the terms of this instrument, and to examine the same to determine substantial compliance as to form with the express requirements hereof. (f)           So long as the Notes are eligible for book-entry settlement with the Depositary, unless otherwise required by law, all Notes shall be represented by one or more Notes in global form (each, a \"\") registered in the name of the Depositary or the nominee of the Depositary.  The transfer and exchange of beneficial interests in a Global Note, which does not involve the issuance of a definitive Note, shall be effected through the Depositary (but not the Trustee or the Custodian) in accordance with this Indenture (including the restrictions on transfer set forth herein) and the procedures of the Depositary therefor.Global Note Section 2.08.         Mutilated, Destroyed, Lost or Stolen Notes. If any mutilated Note is surrendered to the Trustee or the Company, together with such security or indemnity as may be required by the Company or the Trustee to save each of them or any agent of either of them harmless, the Company shall execute and the Trustee shall authenticate and deliver in exchange therefor a new Note of the same series and principal amount, containing identical terms and provisions and bearing a number not contemporaneously outstanding. If there shall be delivered to the Company and to the Trustee (i) evidence to their satisfaction of the destruction, loss or theft of any Note, and (ii) such security or indemnity as may be required by them to save each of them and any agent of either of them harmless, then, in the absence of actual notice to the Company or the Trustee that such Note has been acquired by a bona fide purchaser, the Company shall execute and upon its written request the Trustee shall authenticate and deliver, in lieu of any such destroyed, lost or stolen Note, a new Note of the same series and principal amount, containing identical terms and provisions and bearing a number not contemporaneously outstanding. Notwithstanding the provisions of the previous two paragraphs, in case any such mutilated, destroyed, lost or stolen Note has become or is about to become due and payable, the Company in its discretion may, instead of issuing a new Note, pay the amount due and payable with respect to such Note. Upon the issuance of any new Note under this Section, the Company may require the payment of a sum sufficient to cover any tax or other governmental charge that may be imposed in relation thereto and any other expenses (including the fees and expenses of the Trustee) connected therewith. Every new Note issued pursuant to this Section in lieu of any mutilated, destroyed, lost or stolen Note shall constitute an original additional contractual obligation of the Company,whether or not the mutilated, destroyed, lost or stolen Note shall be at any time enforceable by anyone, and shall be entitled to all the benefits of this Indenture equally and proportionately with any and all other Notes duly issued hereunder.The provisions of this Section are exclusive and shall preclude (to the extent lawful) all other rights and remedies with respect to the replacement or payment of mutilated, destroyed, lost or stolen Notes. Section 2.09.         Cancellation. To the extent permitted by law, the Company may from time to time repurchase any Notes in the open market or by tender offer at any price or by private agreement without giving prior notice to Holders.  The Company may, at its option, surrender any Notes repurchased by it to the Trustee for cancellation, but may not reissue or resell such Notes. The Company at any time may deliver Notes to the Trustee for cancellation.  The Security Registrar, the Paying Agent and the Conversion Agent shall forward to the Trustee any Notes surrendered to them for registration of transfer, exchange, payment or conversion.  The Trustee and no one else shall cancel and dispose of them in accordance with its customary procedures and upon written request of the Company shall return to the Company all Notes surrendered for registration of transfer, exchange, payment, purchase, conversion or cancellation.  All Notes so delivered to the Trustee may not be reissued or resold and shall be cancelled promptly by the Trustee.  The Company may not issue new Notes to replace Notes it has paid or delivered to the Trustee for cancellation. At such time as all beneficial interests in a Global Note have either been exchanged for definitive Notes, transferred, paid, repurchased, redeemed, converted or canceled, such Global Note shall be returned by the Depositary or the Custodian to the Trustee for cancellation or retained and canceled by the Trustee.  At any time prior to such cancellation, if any beneficial interest in a Global Note is exchanged for definitive Notes, transferred in exchange for an interest in another Global Note, paid, repurchased, redeemed, converted or canceled, the principal amount of Notes represented by such Global Note shall be reduced and an adjustment shall be made on the Global Note and on the books and records of the Trustee (if it is then the Custodian for such Global Note) with respect to such Global Note, by the Trustee or the Custodian, to reflect such reduction. Section 2.10.         Payment of Interest; Defaulted Interest. Subject to , interest on any Note that is payable, and is punctually paid or duly provided for, on any Interest Payment Date shall be paid to the Person in whose name that Note (or one or more Predecessor Securities) is registered at the Close of Business on the Record Date for such interest at the office or agency of the Company maintained for such purpose pursuant to .Section 4.01Section 2.04 Subject to , any interest on any Note that is payable, but is not punctually paid or duly provided for, on any Interest Payment Date shall forthwith cease to be payable to the registered Holder thereof on the relevant Record Date by virtue of having been such Holder, and such defaulted interest and, if applicable, interest on such defaulted interest (to the extent lawful)Section 4.01at the rate or formula specified in the Notes of such series (such defaulted interest and, if applicable, interest thereon herein collectively called \"\") may be paid by the Company, at its election in each case, as provided in clause (1) or (2) below:Defaulted Interest(1)          The Company may elect to make payment of any Defaulted Interest to the Persons in whose names the Notes (or their respective Predecessor Securities) are registered at the Close of Business on a Special Record Date for the payment of such Defaulted Interest, which shall be fixed in the following manner. The Company shall notify the Trustee in writing of the amount of Defaulted Interest proposed to be paid on each Note and the date of the proposed payment (which shall not be less than 20 days after such notice is received by the Trustee), and at the same time the Company shall deposit with the Trustee an amount of money equal to the aggregate amount proposed to be paid in respect of such Defaulted Interest or shall make arrangements satisfactory to the Trustee for such deposit on or prior to the date of the proposed payment, such money when deposited to be held in trust for the benefit of the Persons entitled to such Defaulted Interest as in this clause provided. Thereupon the Trustee shall fix a record date (the \"\") for the payment of such Defaulted Interest which shall be not more than 15 days and not less than 10 days prior to the date of the proposed payment and not less than 10 days after the receipt by the Trustee of the notice of the proposed payment. The Trustee shall promptly notify the Company of such Special Record Date and, in the name and at the expense of the Company, shall cause notice (which notice shall be prepared by the Company) of the proposed payment of such Defaulted Interest and the Special Record Date therefor to be mailed, first-class postage prepaid, to each Holder of Notes at his address as it appears in the Note Register not less than 10 days prior to such Special Record Date. Notice of the proposed payment of such Defaulted Interest and the Special Record Date therefor having been mailed as aforesaid, such Defaulted Interest shall be paid to the Persons in whose names the Notes (or their respective Predecessor Securities) are registered at the Close of Business on such Special Record Date and shall no longer be payable pursuant to the following clause (2).Special Record Date (2)          The Company may make payment of any Defaulted Interest on the Notes in any other lawful manner not inconsistent with the requirements of any securities exchange on which such Notes may be listed, and upon such notice as may be required by such exchange, if, after notice given by the Company, in writing, to the Trustee of the proposed payment pursuant to this clause, such manner of payment shall be deemed practicable by the Trustee. Subject to the foregoing provisions of this , each Note delivered under this Indenture upon registration of transfer of or in exchange for or in lieu of any other Note shall carry the rights to interest accrued and unpaid, and to accrue, which were carried by such other Note.Section 2.10 Section 2.11.         Additional Notes. The Company may, without the consent of the Noteholders and notwithstanding , increase the principal amount of the Notes by issuing additional Notes (\"\") of the same series as the Initial Notes in the future in an unlimited aggregate principal amount on the same terms and conditions, except for any differences in the issue price and interest accrued prior to the issue date of the Additional Notes and, at the option of the Company,Section 2.01Additional Notesthe first payment of interest following the issue date of such Additional Notes; that such differences do not cause the Additional Notes to constitute a different class of securities than the Notes for U.S. federal income tax purposes.  The Notes and any Additional Notes shall rank equally and ratably and shall be treated as a single class for all purposes under this Indenture including, without limitation, for purposes of any waivers, supplements or amendments to the Indenture requiring the approval of Holders of the Notes and any offers to purchase the Notes. All provisions of the Indenture shall be construed and interpreted to permit the issuance of such Additional Notes and to allow such Additional Notes to become fungible and interchangeable with the Initial Notes issued under the Indenture.  No Additional Notes may be issued if an Event of Default has occurred with respect to the Notes and is continuing.providedSection 2.12.         Execution, Authentication, Delivery and Dating. The Notes shall be executed on behalf of the Company by its President or a Vice President and attested by its Secretary or an Assistant Secretary. The signature of any of these officers on the Notes may be manual or facsimile signatures of the present or any future such authorized officer and may be imprinted or otherwise reproduced on the Notes. Notes bearing the manual or facsimile signatures of individuals who were at any time the proper officers of the Company shall bind the Company, notwithstanding that such individuals or any of them have ceased to hold such offices prior to the authentication and delivery of such Notes or did not hold such offices at the date of such Notes. A Note shall not be valid until an authorized signatory of the Trustee manually authenticates the Note.  The signature of the Trustee on a Note shall be conclusive evidence that such Note has been duly and validly authenticated and issued under this Indenture. The Trustee will, upon receipt of a Company Order, authenticate Notes, including any Additional Notes, in an unlimited aggregate principal amount, subject to the provisions of this Indenture.  Each Company Order will specify the amount of Notes to be authenticated, the date on which the Notes are to be authenticated and, in the case of Additional Notes, the issue price of such Notes. The Trustee may appoint an agent (the \"\") reasonably acceptable to the Company to authenticate the Notes.  Unless limited by the terms of such appointment, any such Authenticating Agent may authenticate Notes whenever the Trustee may do so.  Each reference in this Indenture to authentication by the Trustee includes authentication by such Authenticating Agent.Authenticating Agent In case the Company pursuant to Article IX shall be consolidated or merged with or into any other Person or shall convey, transfer, lease or otherwise dispose of its properties and assets substantially as an entirety to any Person, and the successor Person resulting from such consolidation, or surviving such merger, or into which the Company shall have been merged, or the Person that shall have received a conveyance, transfer, lease or other disposition as aforesaid, shall have executed an indenture supplemental hereto with the Trustee pursuant to Article VIII, any of the Notes authenticated or delivered prior to such consolidation, merger, conveyance, transfer, lease or other disposition may, from time to time, at the request of the successor Person, be exchanged for other Notes executed in the name of the successor Person with such changes inphraseology and form as may be appropriate, but otherwise in substance of like tenor as the Notes surrendered for such exchange and of like principal amount; and the Trustee, upon Company Order of the successor Person, shall authenticate and deliver Notes as specified in such order for the purpose of such exchange.  If Notes shall at any time be authenticated and delivered in any new name of a successor Person pursuant to this in exchange or substitution for or upon registration of transfer of any Notes, such successor Person, at the option of the Holders but without expense to them, shall provide for the exchange of all Notes at the time Outstanding for Notes authenticated and delivered in such new name.Section 2.12Section 2.13.         No Sinking Fund.  No sinking fund is provided for the Notes. Section 2.14.         Ranking.  The Notes constitute a senior general unsecured obligation of the Company, ranking equally in right of payment with all of the existing and future senior unsecured indebtedness of the Company (including the 2010 Notes, 2011 Notes, 2012 Notes, 2022 Notes and Prospect Capital InterNotes) and ranking senior in right of payment to any future indebtedness of the Company that is expressly made subordinate to the Notes by the terms of such indebtedness. Section 2.15.         CUSIP Numbers.  The Company in issuing the Notes and Common Stock upon conversion of the Notes may use CUSIP numbers (if then generally in use).  The Trustee shall not be responsible for the use of CUSIP numbers, and the Trustee makes no representation as to their correctness as printed on any Note, certificate of Common Stock or notice to Holders and that reliance may be placed only on the other identification numbers printed on the Notes.  The Company shall promptly notify the Trustee in writing of any change in the CUSIP numbers. Section 3.01.         No Right to Redeem.  The Notes shall not be redeemable before their Stated Maturity at the option of the Company. Section 4.01.         Payment of Notes. (a)          The Company covenants and agrees for the benefit of the Holders of the Notes that it will duly and punctually pay the principal of and interest on the Notes in accordance with the terms of such Notes and this Indenture.  Interest on any Note that is payable, and is punctually paid or duly provided for, on any Interest Payment Date shall be paid pursuant to .Section 2.03 (b)          Except as otherwise provided in this , a Holder of any Notes at the Close of Business, on a Record Date shall be entitled to receive interest on such Notes on the corresponding Interest Payment Date.  A Holder of any Notes as of a Record Date that are converted after Close of Business on such Record Date and prior to the Opening of Business onSection 4.01the corresponding Interest Payment Date shall be entitled to receive accrued and unpaid interest on the principal amount of such Notes, notwithstanding the conversion of such Notes prior to such Interest Payment Date.(c)          On the Maturity Date, the Company will pay accrued and unpaid interest to the Person to whom the Company pays the principal amount of the Notes. Section 4.02.         Maintenance of Office or Agency. The Company will maintain in the Borough of Manhattan, New York City, an office or agency (which may be an office of the Trustee or an Affiliate of the Trustee, Security Registrar or co-registrar) where Notes may be surrendered for registration of transfer, exchange or conversion and where notices and demands to or upon the Company in respect of the Notes and this Indenture may be served.  The Company will give prompt written notice to the Trustee of the location, and any change in the location, of such office or agency.  If at any time the Company fails to maintain any such required office or agency or fails to furnish the Trustee with the address thereof, such presentations, surrenders, notices and demands may be made or served at the Corporate Trust Office of the Trustee. The Company may also from time to time designate one or more other offices or agencies where the Notes may be presented or surrendered for any or all such purposes and may from time to time rescind such designations; , , that no such designation or rescission will in any manner relieve the Company of its obligation to maintain an office or agency in the Borough of Manhattan, New York City, for such purposes.  The Company will give prompt written notice to the Trustee of any such designation or rescission and of any change in the location of any such other office or agency.providedhowever The Company hereby designates the Corporate Trust Office of the Trustee as one such office or agency of the Company. Section 4.03.         Compliance Certificate, Notice of Default. The Company shall deliver to the Trustee within 120 calendar days after the end of each fiscal year of the Company an Officers\\' Certificate, one of the signatories of which shall be the chief executive officer, chief financial officer or chief accounting officer of the Company, stating that in the course of the performance by the signer of his or her duties as an officer of the Company, he or she would normally have knowledge of any Default and whether or not such signer knows of any Default that occurred during such period.  If such signer does have knowledge of a Default, the certificate shall describe the Default, its status and what action the Company is taking or proposes to take with respect thereto. The Company shall deliver to the Trustee, promptly and in any event within five calendar days after the Company becomes aware of the occurrence of any Default or Event of Default, an Officers\\' Certificate setting forth the details of such Default or Event of Default and the action that the Company is taking or proposes to take with respect thereto. Section 4.04.         Reservation of Common Stock. The Company shall at all times reserve and keep available, free from preemptive rights, out of its authorized but unissued Common Stock or shares held in treasury by the Company, for the purpose of effecting the conversion of Notes, the full number of shares of Common Stock then issuable upon the conversion of all Outstanding Notes. Section 4.05.         Issuance of Shares. All shares of Common Stock delivered upon conversion of the Notes shall be newly issued shares or shares held in treasury by the Company, shall have been duly authorized and validly issued and shall be fully paid and nonassessable, and shall be free from preemptive rights and free of any Lien or adverse claim. Section 4.06.         Transfer Taxes. If a Holder converts Notes into shares of Common Stock, the Company will pay any and all documentary, stamp or similar issue or transfer tax due on the issue of shares of Common Stock upon the conversion.  The Company shall not, however, be required to pay any tax or duty that may be payable in respect of any transfer involved in the issue and delivery of shares of Common Stock in a name other than that of the Holder of the Note or Notes to be converted, and no such issue or delivery shall be made unless and until the Person requesting such issue has paid to the Company the amount of any such tax or duty, or has established to the satisfaction of the Company that such tax or duty has been paid. Section 4.07.         Reports by Company; 144A Information. (a)          The Company shall deliver to the Trustee, within 15 days after filing with the Commission, copies of the annual reports and of the information, documents and other reports (or copies of such portions of any of the foregoing as the Commission may by rules and regulations prescribe) that it is required to file with the Commission pursuant to Section 13 or 15(d) of the Exchange Act.  All required reports, information and documents referred to in this  shall be deemed to be delivered to the Trustee at the time such reports, information and documents are publicly filed with the Commission via the Commission\\'s EDGAR and/or IDEA filing system (or any successor system).Section 4.07(a) (b)          The Company covenants and agrees that it shall, during any period in which it is not subject to Section 13 or 15(d) under the Exchange Act, make available to any Holder or beneficial holder of Notes or any holder of Common Stock issued upon conversion thereof which continue to be Restricted Securities and any prospective purchaser of Notes or such Common Stock designated by such Holder or beneficial holder, the information, if any, required pursuant to Rule 144A(d)(4) under the Securities Act upon the request of any such Holder or beneficial holder of the Notes or such Common Stock, until such time as such securities are no longer \"restricted securities\" within the meaning of Rule 144, assuming such Notes have not been owned or beneficially owned by an \"affiliate\" (as defined in Rule 144) of the Company. (c)          Delivery of such reports, information and documents to the Trustee is for informational purposes only, and the Trustee\\'s receipt of such shall not constitute constructive notice of any information contained therein or determinable from information contained therein,including the Company\\'s compliance with any of its covenants hereunder (as to which the Trustee is entitled to conclusively rely exclusively on an Officers\\' Certificate).  Notwithstanding anything to the contrary in this , the Company, to the extent permitted under the Trust Indenture Act, shall not be required to deliver to the Trustee or the Holders any material for which the Company has sought and received confidential treatment by the Commission.Section 4.07 Section 5.01.         Events of Default.  Each of the following shall be Events of Default with respect to the Notes: (a)          failure by the Company to pay any interest (including Additional Interest and Filing Additional Interest, if any) on the Notes when due and such failure continues for a period of 30 calendar days; (b)          failure by the Company to pay principal of the Notes when due at the Maturity Date, or failure by the Company to pay the Fundamental Change Repurchase Price payable, in respect of any Notes when due; (c)          failure by the Company to deliver shares of Common Stock upon the conversion of any Notes and such failure continues for five calendar days following the scheduled settlement date for such conversion; (d)          failure by the Company to issue a Fundamental Change Company Notice on a timely basis in accordance with when due;Section 11.01 (e)          a failure to pay principal when due (whether at stated maturity or otherwise) or an uncured Default that results in the acceleration of maturity, of any indebtedness for borrowed money of the Company or any of its Significant Subsidiaries in an aggregate amount in excess of $20,000,000 (or its foreign currency equivalent), unless such indebtedness is discharged, or such acceleration is rescinded, stayed or annulled, within a period of 30 calendar days after written notice of such failure or uncured Default is given to the Company by the Trustee or to the Company and the Trustee by the Holders of at least 25% in aggregate principal amount of the Notes then Outstanding; (f)           Default in the performance, or breach, of any covenant or warranty of the Company in this Indenture with respect to any Note (other than a covenant or warranty a Default in whose performance or whose breach is elsewhere in this Section specifically dealt with), and continuance of such Default or breach for a period of 60 days after there has been given, by registered or certified mail, to the Company by the Trustee or to the Company and the Trustee by the Holders of at least 25% in principal amount of the Notes a written notice specifying such Default or breach and requiring it to be remedied and stating that such notice is a \"Notice of Default\" hereunder; (g)          the Company or any Significant Subsidiary pursuant to or within the meaning of any Bankruptcy Law:(i)           commences a voluntary case, (ii)          consents to the entry of an order for relief against it in an involuntary case, (iii)         consents to the appointment of a Custodian of it or for all or substantially all of its property, or (iv)         makes a general assignment for the benefit of its creditors; (h)          a court of competent jurisdiction enters an order or decree under any Bankruptcy Law that: (i)           is for relief against the Company or any Significant Subsidiary in an involuntary case, (ii)          appoints a Custodian of the Company or any Significant Subsidiary, or for all or substantially all of either of its property, or (iii)         orders the liquidation of the Company or any Significant Subsidiary, and the order or decree remains unstayed and in effect for 90 days. The Company shall be required to notify the Trustee promptly upon becoming aware of the occurrence of any Default under this Indenture with respect to the Notes.  Notwithstanding anything to the contrary in this Indenture, the sole remedy for the failure by the Company to comply with , and for any failure to comply with the requirements of Section 314(a)(1) of the Trust Indenture Act, if applicable (each, a \"\"), will, at the Company\\'s option, for the 365 days after the occurrence an Event of Default relating to such Filing Failure consist of the right to receive additional interest on the Notes (\"\") at an annual rate equal to 0.50% of the principal amount of the Notes.  In the event the Company does not elect to pay the Filing Additional Interest upon the occurrence of an Event of Default relating to a Filing Failure or such Filing Failure continues for more than 365 days after the occurrence of the Event of Default related thereto, the Notes will be subject to acceleration in accordance with .  The Filing Additional Interest will be in addition to, and will be payable in the same manner as, any Additional Interest that may accrue on the Notes, and will accrue on all Outstanding Notes from and including the date on which the Event of Default relating to Filing Failure first occurs to but not including the 365th day thereafter (or such earlier date on which the Filing Failure shall have been cured or waived).  On such 365th day (or such earlier date on which the Filing Failure shall have been cured or waived), the Filing Additional Interest shall cease to accrue.Section 4.07Filing FailureFiling Additional InterestSection 5.02 Section 5.02.         Acceleration. (a)          In the case of an Event of Default specified in clause (g) or (h)  of hereof with respect to the Company, all Outstanding Notes will become due and payable immediately without further action or notice by the Trustee or any Holder.  Subject to , if any other Event of Default occurs and is continuing, the Trustee or the Holders of at least 25% in aggregate principal amount of the then Outstanding Notes may declare all the Notes to beSection 5.01Section 5.01due and payable immediately.  Upon any such declaration, the Notes shall become due and payable immediately. (b)          Notwithstanding the foregoing, if an Event of Default specified in clause (e) of occurs resulting in a declaration of acceleration of the Notes, such declaration of acceleration shall be automatically annulled if such Event of Default triggering such declaration of acceleration pursuant to clause (e) of shall have been remedied or cured by the Company or any of its Subsidiaries or waived by the holders of the relevant indebtedness within 60 days of the declaration of acceleration with respect thereto and if (i) the annulment of the acceleration of the Notes would not conflict with any judgment or decree of a court of competent jurisdiction and (ii) all existing Events of Default, except nonpayment of principal or interest on the Notes that became due and payable solely because of the acceleration of the Notes, have been cured or waived.Section 5.01Section 5.01 (c)          At any time after a declaration of acceleration with respect to the Notes as described in this , the Holders of a majority in aggregate principal amount of the Outstanding Notes may rescind and cancel such declaration and its consequences:  (i) if the rescission would not conflict with any judgment or decree of a court of competent jurisdiction; (ii) if all existing Events of Default have been cured or waived except nonpayment of principal or interest that has become due solely because of the acceleration; (iii) to the extent the payment of such interest is lawful, interest on overdue installments of interest and overdue principal, which has become due otherwise than by such declaration of acceleration, has been paid; and (iv) if the Company has paid (or deposited with the Trustee a sum sufficient to pay) the Trustee its reasonable compensation and reimbursed the Trustee for its expenses, disbursements and advances (including, but not limited to, reasonable attorneys\\' fees and expenses).  No such rescission shall affect any subsequent Default or impair any right consequent thereto.Section 5.02 Section 5.03.         Other Remedies. If an Event of Default occurs and is continuing, the Trustee may pursue any available remedy to collect the payment of principal and interest on the Notes or to enforce the performance of any provision of the Notes or this Indenture. The Trustee may maintain a proceeding even if it does not possess any of the Notes or does not produce any of them in the proceeding.  A delay or omission by the Trustee or any Holder of a Note in exercising any right or remedy accruing upon an Event of Default shall not impair the right or remedy or constitute a waiver of or acquiescence in the Event of Default.  All remedies are cumulative to the extent permitted by law. Section 5.04.         [RESERVED] Section 5.05.         Waiver of Past Defaults. The Holders of not less than a majority in principal amount of the Notes Outstanding may, on behalf of the Holders of all the Notes, consent to the waiver of any past Default or Event of Default under this Indenture and its consequences, except:(1)          failure by the Company to pay principal of or interest (including Additional Interest or Filing Additional Interest, if any) on the Notes when due; (2)          failure by the Company to deliver shares of Common Stock upon the conversion of any Notes; (3)          failure by the Company to pay the Fundamental Change Repurchase Price on the Fundamental Change Repurchase Date in connection with a Holder of Notes exercising its repurchase rights in accordance with this Indenture; or (4)          failure of the Company to comply with a covenant or provision of this Indenture which under Article VIII cannot be modified or amended without the consent of the Holder of each Outstanding Note affected thereby. Upon any such waiver, such Default shall cease to exist, and any Event of Default arising therefrom shall be deemed to have been cured, for every purpose of this Indenture and the Notes; but no such waiver shall extend to any subsequent or other Default or Event of Default or impair any right consequent thereon. Section 5.06.         Control by Majority. Holders of a majority in aggregate principal amount of the then Outstanding Notes may direct the time, method and place of conducting any proceeding for exercising any remedy available to the Trustee or exercising any trust or power conferred on it.  However, the Trustee may refuse to follow any direction that conflicts with law or this Indenture that the Trustee determines in good faith may be unduly prejudicial to the rights of other Holders of Notes or that may involve the Trustee in personal liability. Section 5.07.         Limitation on Suits. A Holder may pursue a remedy with respect to this Indenture or the Notes only if: (a)          such Holder gives to the Trustee written notice that an Event of Default is continuing; (b)          Holders of at least 25% in aggregate principal amount of the then Outstanding Notes make a written request to the Trustee to pursue the remedy as Trustee; (c)          such Holder or Holders offer and, if requested, provide to the Trustee security or indemnity reasonably satisfactory to the Trustee against any loss, liability or expense; (d)          the Trustee does not comply with the request within 60 calendar days after receipt of the request and the offer of security or indemnity; and (e)          during such 60-day period, Holders of a majority in aggregate principal amount of the then Outstanding Notes do not give the Trustee a direction inconsistent with such request.A Holder of a Note may not use this Indenture to prejudice the rights of another Holder of a Note or to obtain a preference or priority over another Holder of a Note. Section 5.08.         Rights of Holders of Notes to Receive Payment or Effect Conversion. Notwithstanding any other provision of this Indenture, the right of any Holder of a Note to receive payment of principal and interest on the Note, on or after the respective due dates expressed in the Note (including in connection with an offer to purchase), or to bring suit for the enforcement of any such payment on or after such respective dates or the right to convert Notes in accordance with Article X of this Indenture, shall not be impaired or affected without the consent of such Holder. Section 5.09.         Collection Suit by Trustee. If an Event of Default specified in  or (b) hereof occurs and is continuing, the Trustee is authorized to recover judgment in its own name and as trustee of an express trust against the Company, and to enforce such judgment and collect the monies adjudicated or decreed to be payable, for the whole amount of principal of and interest remaining unpaid on the Notes, interest on overdue principal and, to the extent lawful, interest and such further amount as shall be sufficient to cover the costs and expenses of collection, including the reasonable compensation, expenses, disbursements and advances of the Trustee, its agents and counsel.Section 5.01(a) Section 5.10.         Trustee May File Proofs of Claim. The Trustee is authorized to file such proofs of claim and other papers or documents as may be necessary or advisable in order to have the claims of the Trustee (including any claim for the reasonable compensation, expenses, disbursements and advances of the Trustee, its agents and counsel) and the Holders of the Notes allowed in any judicial proceedings relative to the Company (or any other obligor upon the Notes), its creditors or its property and shall be entitled and empowered to collect, receive and distribute any money or other property payable or deliverable on any such claims and any custodian in any such judicial proceeding is hereby authorized by each Holder to make such payments to the Trustee, and in the event that the Trustee shall consent to the making of such payments directly to the Holders, to pay to the Trustee any amount due to it for the reasonable compensation, expenses, disbursements and advances of the Trustee, its agents and counsel, and any other amounts due the Trustee under .  To the extent that the payment of any such compensation, expenses, disbursements and advances of the Trustee, its agents and counsel, and any other amounts due the Trustee under out of the estate in any such proceeding, shall be denied for any reason, payment of the same shall be secured by a Lien on, and shall be paid out of, any and all distributions, dividends, money, securities and other properties that the Holders may be entitled to receive in such proceeding whether in liquidation or under any plan of reorganization or arrangement or otherwise.  Nothing herein contained shall be deemed to authorize the Trustee to authorize or consent to or accept or adopt on behalf of any Holder any plan of reorganization, arrangement, adjustment or composition affecting the Notes or the rights of any Holder, or to authorize the Trustee to vote in respect of the claim of any Holder in any such proceeding.Section 6.07Section 6.07Section 5.11.         Priorities. If the Trustee collects any money pursuant to this Article V, it shall pay out the money in the following order: First: to the Trustee (or any predecessor Trustee), its agents and attorneys for amounts due under , including payment of all reasonable compensation, expenses and liabilities incurred, and all advances made, by the Trustee and the costs and expenses of collection;Section 6.07 Second: to Holders of Notes for amounts due and unpaid on the Notes for principal and interest, ratably, without preference or priority of any kind, according to the amounts due and payable on the Notes for principal and interest, respectively; and Third: to the Company or such party as a court of competent jurisdiction shall direct. The Trustee may fix a record date and payment date for any payment to Holders of Notes pursuant to this .  If a record date is fixed, the Trustee shall send, by first class mail, electronically or by any other means approved by the Trustee to the Holders of the Notes of record a notice at least 30 days but not more than 60 days before the payment date.  Such notice shall state: (1) that a payment is being made pursuant to this , (2) the relevant Default and the circumstances giving rise to the collection of money pursuant to this , (3) the payment date and (4) the amount of such payment per $1,000 of Notes.Section 5.11Section 5.11Section 5.11 Section 5.12.         Undertaking for Costs. All parties to this Indenture agree, and each Holder of any Note by his acceptance thereof shall be deemed to have agreed, in any suit for the enforcement of any right or remedy under this Indenture or in any suit against the Trustee for any action taken or omitted by it as a Trustee, a court in its discretion may require the filing by any party litigant in the suit of an undertaking to pay the costs of the suit, and the court in its discretion may assess reasonable costs, including reasonable attorneys\\' fees and expenses, against any party litigant in the suit, having due regard to the merits and good faith of the claims or defenses made by the party litigant.  This does not apply to a suit by the Trustee, a suit by a Holder of a Note pursuant to hereof, or a suit by Holders of more than 10% in aggregate principal amount of the then Outstanding Notes.Section 5.12Section 5.07 Section 5.13.         Restricted Securities; Additional Interest. (a)          If, at any time during the six-month period beginning on, and including, the date which is six months after the date hereof (the \"\"), the Company fails to timely file any document or report that the Company is required to file with the Commission pursuant to Section 13 or 15(d) of the Exchange Act (taking into account the extension pursuant to Rule 12b-25 under the Exchange Act), other than current reports on Form 8-K (after giving effect to all applicable grace periods thereunder), the Company shall pay additional interest (\"\") on the Notes, which will be in addition to any Filing Additional Interest that may accrue on the Notes, and which shall accrue on the Notes at a rate of 0.50% per annum of the principal amount of Notes Outstanding for each day during the Additional Interest Period for which the Company\\'s failure to file, as described above, has occurred and is continuing.Additional Interest PeriodAdditional Interest(b)          Additional Interest payable in accordance with  shall be payable in arrears on each Interest Payment Date for the Notes following accrual in the same manner as regular interest on the Notes.Section 5.13(a) (c)          Notwithstanding anything to the contrary contained in this , no Additional Interest shall accrue following the end of the Additional Interest Period, regardless of whether any failure to file as described in  has occurred or is continuing.Section 5.13Section 5.13(a) Section 6.01.         Duties of Trustee. (a)          If an Event of Default has occurred and is continuing, the Trustee shall exercise the rights and powers vested in it by this Indenture and use the same degree of care and skill in its exercise as a prudent Person would exercise or use under the circumstances in the conduct of such Person\\'s own affairs; , to the extent permitted by the TIA, that if an Event of Default occurs and is continuing, the Trustee will be under no obligation to exercise any of the rights or powers under this Indenture at the request or direction of any of the Holders unless such Holders have provided the Trustee indemnity or security reasonably satisfactory to the Trustee against loss, liability or expense.provided (b)          Except during the continuance of an Event of Default: (i)           the Trustee undertakes to perform such duties and only such duties as are specifically set forth in this Indenture and no implied covenants or obligations shall be read into this Indenture against the Trustee; and (ii)          in the absence of bad faith on its part, the Trustee may conclusively rely, as to the truth of the statements and the correctness of the opinions expressed therein, upon certificates, directions, notices or opinions furnished to the Trustee and conforming to the requirements of this Indenture.  However, in the case of any such certificates, directions, notices or opinions which by any provisions hereof are specifically required to be furnished to the Trustee, the Trustee shall examine such certificates and opinions to determine whether or not they conform to the requirements of this Indenture (but need not confirm or investigate the accuracy of mathematical calculations or other facts stated therein). (c)          The Trustee may not be relieved from liability for its own negligent action, its own negligent failure to act or its own willful misconduct, except that: (i)           this paragraph does not limit the effect of paragraph (b) of this Section; (ii)          the Trustee shall not be liable for any error of judgment made in good faith by a Responsible Officer unless it is proved that the Trustee was negligent in ascertaining the pertinent facts; and(iii)         the Trustee shall not be liable with respect to any action it takes or omits to take in good faith in accordance with a direction received by it pursuant to .Section 5.06 (d)          The Trustee shall not be liable for interest on any money received by it except as the Trustee may agree in writing with the Company. (e)          Money held in trust by the Trustee need not be segregated from other funds except to the extent required by law. (f)           No provision of this Indenture shall require the Trustee to expend or risk its own funds or otherwise incur any financial liability in the performance of any of its duties hereunder or in the exercise of any of its rights or powers, if it shall have reasonable grounds to believe that repayment of such funds or adequate indemnity against such risk or liability is not reasonably assured to it. (g)          Every provision of this Indenture relating to the conduct or affecting the liability of or affording protection to the Trustee shall be subject to the provisions of this and to the provisions of the TIA.Section 6.01 (h)          The Trustee shall be under no obligation to exercise any of the rights or powers vested in it by this Indenture at the request or direction of any of the Holders unless such Holders shall have provided to the Trustee security or indemnity reasonably satisfactory to it against the costs, expenses (including reasonable attorneys\\' fees and expenses) and liabilities that might be incurred by it in compliance with such request or direction. Section 6.02.         Rights of Trustee. (a)          The Trustee may conclusively rely and shall be protected in acting or refraining from acting upon any paper or document believed by it to be genuine and to have been signed or presented by the proper Person or Persons.  The Trustee need not investigate any fact or matter stated in the document. (b)          Before the Trustee acts or refrains from acting, it may require an Officers\\' Certificate or an Opinion of Counsel.  The Trustee shall not be liable for any action it takes or omits to take in good faith in reliance on the Officers\\' Certificate or Opinion of Counsel. (c)          The Trustee may act through its attorneys and agents and shall not be responsible for the misconduct or negligence of any attorney or agent appointed with due care. (d)          The Trustee shall not be liable for any action it takes or omits to take in good faith which it believes to be authorized or within its rights or powers; , , that the Trustee\\'s conduct does not constitute willful misconduct or negligence.providedhowever (e)          The Trustee may consult with counsel of its selection, and the advice or opinion of such counsel appointed with due care with respect to legal matters relating to this Indenture and the Notes shall be full and complete authorization and protection from liability inrespect to any action taken, omitted or suffered by it hereunder in good faith and in accordance with the advice or opinion of such counsel. (f)           The Trustee shall not be bound to make any investigation into the facts or matters stated in any resolution, certificate, statement, instrument, opinion, notice, request, direction, consent, order, bond or other paper or document; but the Trustee, in its discretion, may make such further inquiry or investigation into such facts or matters as it may see fit and, if the Trustee shall determine to make such further inquiry or investigation, it shall be entitled to examine the books, records and premises of the Company at reasonable times, in a reasonable manner and upon reasonable advance notice, personally or by agent or attorney at the sole cost of the Company and shall incur no liability or additional liability of any kind by reason of such inquiry or investigation. (g)          The Trustee shall not be deemed to have knowledge of any Default or Event of Default except, (i) during any period it is serving as Security Registrar and Paying Agent for the Notes, any Event of Default occurring pursuant to Sections 5.01(a), 5.01(b) or 5.01(c) or (ii) any Default or Event of Default of which a Responsible Officer shall have received written notification or obtained actual knowledge.  The term \"actual knowledge\" shall mean the actual fact or statement of knowing by a Responsible Officer without independent investigation with respect thereto. (h)          Delivery of the reports, information and documents to the Trustee is for informational purposes only and the Trustee\\'s receipt of such shall not constitute constructive notice of any information contained therein or determinable from information contained therein, including the Company\\'s compliance with any of its covenants hereunder (as to which the Trustee is entitled to rely exclusively on Officers\\' Certificates). (i)           In no event shall the Trustee be responsible or liable for special, indirect, or consequential loss or damage of any kind whatsoever (including, but not limited to, loss of profit) irrespective of whether the Trustee has been advised of the likelihood of such loss or damage and regardless of the form of action. (j)           The rights, privileges, protections, immunities and benefits given to the Trustee, including its right to be indemnified, are extended to, and shall be enforceable by, the Trustee in each of its capacities hereunder, and each agent, custodian and other Person employed to act hereunder. (k)          The Trustee may request that the Company deliver an Officers\\' Certificate setting forth the names of individuals and/or titles of officers authorized at such time to take specified actions pursuant to this Indenture, which Officers\\' Certificate may be signed by any Person authorized to sign an Officers\\' Certificate, including any Person specified as so authorized in any such certificate previously delivered and not superseded. Section 6.03.         Individual Rights of Trustee. The Trustee in its individual or any other capacity may become the owner or pledgee of Notes and may otherwise deal with the Company or its Affiliates with the same rights it would have if it were not Trustee.  Any Paying Agent, Conversion Agent, Security Registrar, co-registrar or co-paying agent may do the same with like rights.  However, the Trustee must comply with Sections 6.01 and 6.10.  In addition, the Trustee shall be permitted to engage in transactions with the Company; , , that if the Trustee acquires any conflicting interest (as such term is defined in Section 310(b) of the TIA) the Trustee must (i) eliminate such conflict within 90 days of acquiring such conflicting interest, (ii) apply to the Commission for permission to continue acting as Trustee or (iii) resign as Trustee hereunder.providedhowever Section 6.04.         Trustee\\'s Disclaimer. The Trustee shall not be responsible for and makes no representation as to the validity or adequacy of this Indenture or the Notes, it shall not be accountable for the Company\\'s use of the Notes or the proceeds from the Notes, and it shall not be responsible for any statement of the Company in this Indenture or in any document issued or offering circular (or similar document) used in connection with the sale of the Notes or in the Notes other than the Trustee\\'s certificate of authentication or for the use or application of any funds received by any Paying Agent other than the Trustee. Section 6.05.         Notice of Defaults. If a Default or Event of Default occurs and is continuing and if a Responsible Officer has actual knowledge thereof, the Trustee shall, except as provided in the next paragraph, mail to each Holder notice of the Default or Event of Default within 90 days of being notified by the Company pursuant to of this Indenture unless such Default or Event of Default has been cured or waived.Section 4.03 Except in the case of a Default or Event of Default in payment of principal or interest on any Note (including Additional Interest and Filing Additional Interest, if any, and payments pursuant to the required repurchase provisions of such Note, if any), the Trustee may withhold the notice if and so long as its board of directors, a committee of its board of directors or a committee of its Responsible Officers and/or a Responsible Officer in good faith determines that withholding the notice is in the interests of registered Holders. Section 6.06.         Reports by Trustee to Holders. As promptly as practicable after each March 1 beginning with the March 1 following the date of this Indenture, and in any event prior to September 1 in each year, the Trustee shall mail to each Holder a brief report dated as of such March 1 that complies with TIA  313(a), if and to the extent such report may be required by the TIA.  The Trustee also shall comply with TIA  313(b).  The Trustee shall also transmit by mail all reports required by TIA  313(c). A copy of each report at the time of its mailing to Holders shall be filed with the Commission and each stock exchange (if any) on which the Notes are listed.  The Company agrees to notify promptly the Trustee in writing whenever the Notes become listed on any stock exchange and of any delisting thereof. Section 6.07.         Compensation and Indemnity. The Company covenants and agrees: (a) to pay to the Trustee from time to time, and the Trustee shall be entitled to such compensation for all services rendered by it hereunder as shall be agreed by the Company and the Trustee in writing (which shall not be limited by any provision of law in regard to the compensation of a trustee of an express trust); (b) to reimburse the Trustee and each predecessor Trustee upon its request for all reasonable expenses, fees, disbursements and advances incurred or made by or on behalf of it in accordance with any of the provisions of this Indenture (including the reasonable compensation, fees, and the expenses and disbursements of its counsel and of all agents and other Persons not regularly in its employ), except any such reasonable expense, disbursement or advance as shall be determined to have been caused by its own negligence or willful misconduct; and (c) to indemnify the Trustee and each predecessor Trustee for, and to hold it harmless against, any loss, liability, damage, claim or expense, including taxes, if any (other than taxes based upon, determined by or measured by the income of the Trustee), incurred without negligence or willful misconduct on its part, arising out of or in connection with the acceptance or administration of this Indenture or the trusts hereunder and its duties hereunder, including enforcement of this .  The obligations of the Company under this to compensate and indemnify the Trustee and each predecessor Trustee and to pay or reimburse the Trustee and each predecessor Trustee for expenses, fees, disbursements and advances shall constitute an additional obligation hereunder and shall survive the satisfaction and discharge of this Indenture, the resignation or removal of the Trustee or the termination of this Indenture.  To secure the obligations of the Company to the Trustee under this , the Trustee shall have a prior Lien upon all property and funds held or collected by the Trustee as such, except funds and property paid by the Company and held in trust for the benefit of the Holders of particular Notes.  When the Trustee incurs expenses or renders services after an Event of Default specified in  or (h) occurs, such expenses and compensation for services are intended to constitute expenses of administration under Bankruptcy Law.Section 6.07Section 6.07Section 6.07Section 5.01(g) Section 6.08.                            Replacement of Trustee. The Trustee may resign at any time by so notifying the Company.  The Holders of a majority in principal amount of the Notes may remove the Trustee by so notifying the Company and the Trustee in writing and the Company may appoint a successor Trustee.  The Company shall remove the Trustee if: (a)                                 the Trustee fails to comply with Section 6.10; (b)                                the Trustee is adjudged bankrupt or insolvent; (c)                                 a receiver or other public officer takes charge of the Trustee or its property; or (d)                                the Trustee otherwise becomes incapable of acting. If the Trustee resigns or is removed by the Company or by the Holders of a majority in principal amount of the Notes and the Company does not reasonably promptly appoint a successor Trustee, or if a vacancy exists in the office of Trustee for any reason (the Trustee in such event being referred to herein as the retiring Trustee), the Holders of a majority in aggregate principal amount of the Notes may appoint a successor Trustee.A successor Trustee shall deliver a written acceptance of its appointment to the retiring Trustee and to the Company.  Thereupon the resignation or removal of the retiring Trustee shall become effective, and the successor Trustee shall have all the rights, powers and duties of the Trustee under this Indenture.  The successor Trustee shall mail a notice of its succession to Holders.  The retiring Trustee shall upon payment of its charges hereunder promptly transfer all property held by it as Trustee to the successor Trustee, upon payment of any fees and expenses due and owing to it hereunder. If the Company has not appointed a successor Trustee within 60 days after the retiring Trustee resigns or is removed, the retiring Trustee or the Holders of 10% in principal amount of the Notes may petition, at the expense of the Company, any court of competent jurisdiction for the appointment of a successor Trustee. If the Trustee fails to comply with , any Holder may petition any court of competent jurisdiction for the removal of the Trustee and the appointment of a successor Trustee.Section 6.10 Notwithstanding the replacement of the Trustee pursuant to this , the Company\\'s obligations under shall continue for the benefit of the retiring Trustee.Section 6.08Section 6.07 Section 6.09.                            Successor Trustee by Merger. If the Trustee consolidates with, merges or converts into, or transfers all or substantially all its corporate trust business or assets to, another corporation or banking association, the resulting, surviving or transferee corporation without any further act shall be the successor Trustee. In case at the time such successor or successors by merger, conversion or consolidation to the Trustee shall succeed to the trusts created by this Indenture, any of the Notes shall have been authenticated but not delivered, any such successor to the Trustee may adopt the certificate of authentication of any predecessor Trustee, and deliver such Notes so authenticated; and in case at that time any of the Notes shall not have been authenticated, any successor to the Trustee may authenticate such Notes either in the name of any predecessor hereunder or in the name of the successor to the Trustee; and in all such cases such certificates shall have the full force which it is anywhere in the Notes or in this Indenture provided that the certificate of the Trustee shall have. Section 6.10.                            Eligibility; Disqualification. There shall at all times be a Trustee hereunder which shall be eligible to act as Trustee under Trust Indenture Act Sections 310(a)(1) and (2) and which shall have a combined capital and surplus of at least $50,000,000, and have a Corporate Trust Office in the Borough of Manhattan in New York City, State of New York.  If such corporation publishes reports of condition at least annually, pursuant to law or to the requirements of any federal, state, territorial or District of Columbia supervising or examining authority, then for the purposes of this Section, the combined capital and surplus of such corporation shall be deemed to be its combined capital and surplus as set forth in its most recent report of condition so published.  If at any time the Trustee shall cease to be eligible in accordance with the provisions of this , the Trustee shall resign immediately in the manner and with the effect hereinafter specified in thisSection 6.10Article VI. Section 7.01.                            Satisfaction and Discharge of Indenture. When (a) the Company delivers to the Trustee all Outstanding Notes (other than Notes which have been destroyed, lost or stolen and which have been replaced or paid as provided in ) for cancellation or (b) all Outstanding Notes have become due and payable and the Company deposits with the Trustee, the Paying Agent or the Conversion Agent, as applicable, whether at the Stated Maturity or any Fundamental Change Repurchase Date, upon conversion or otherwise, cash or shares of Common Stock (or Reference Property) and cash, as applicable under this Indenture, sufficient to pay all amounts due and owing on all Outstanding Notes (other than Notes which have been destroyed, lost or stolen and which have been replaced or paid as provided in ); and if, in any such case, the Company shall also pay or cause to be paid all other sums payable hereunder by the Company, then this Indenture shall cease to be of further effect, and the Trustee, on demand of the Company accompanied by an Officers\\' Certificate and an Opinion of Counsel, each stating that all conditions precedent relating to the satisfaction and discharge contemplated by this provision have been complied with, and at the cost and expense of the Company, shall execute proper instruments acknowledging such satisfaction and discharging this Indenture.  The Company agrees to reimburse the Trustee for any costs or expenses thereafter reasonably and properly incurred, and to compensate the Trustee for any services thereafter reasonably and properly rendered, by the Trustee in connection with this Indenture or the Notes.Section 2.08Section 2.08 Section 7.02.                            Application of Funds or Securities Deposited for Payment of Notes. All moneys or securities deposited with the Trustee, Paying Agent or Conversion Agent, as applicable, shall be held in trust and applied by it to the payment, either directly or through any Paying Agent or Conversion Agent (other than the Company or any Subsidiary thereof, as applicable), to the Holders of the Notes for the payment of which such moneys or securities have been deposited, of all sums due and to become due thereon, but such money need not be segregated from other funds or securities except to the extent required by law. Section 7.03.                            Repayment by Trustee, Paying Agent or Conversion Agent. In connection with the satisfaction and discharge of this Indenture with respect to the Notes, all moneys or securities then held by any Paying Agent or Conversion Agent under the provisions of this Indenture with respect to the Notes shall, upon demand of the Company, be repaid to it and thereupon such Paying Agent or Conversion Agent shall be released from all further liability with respect to such moneys or securities. Any moneys or securities deposited with or paid to the Trustee, Paying Agent or Conversion Agent, as applicable, for the payment of any amount on the Notes and not applied but remaining unclaimed for two years after the date upon which such amount shall have become due and payable, shall, upon the written request of the Company and unless otherwise requiredby mandatory provisions of applicable escheat or abandoned or unclaimed property law, be repaid to the Company by the Trustee, Paying Agent or Conversion Agent, as applicable, and the Holder of the Notes shall, unless otherwise required by mandatory provisions of applicable escheat or abandoned or unclaimed property laws, thereafter look only to the Company for any payment which such Holder may be entitled to collect, and all liability of the Trustee, Paying Agent or Conversion Agent with respect to such moneys or securities shall thereupon cease; , , that the Trustee, Paying Agent or Conversion Agent, before being required to make any such repayment with respect to moneys or securities deposited with it for any payment in respect of the Notes, shall, at the expense of the Company, mail by first-class mail to Holders of the Notes at their addresses as they shall appear on the Note Register notice that such moneys or securities remain and that, after a date specified therein, which shall not be less than 30 days from the date of such mailing or publication, any unclaimed balance of such money or securities then remaining will be repaid to the Company.providedhowever Section 8.01.                            Without Consent of Noteholders.  Without the consent of any Holders of the Notes, the Company, when authorized by or pursuant to a Board Resolution, and the Trustee, at any time and from time to time, may amend, waive, modify or supplement this Indenture or the Notes for any of the following purposes: (a)                                 to comply with Sections 9.01,10.06 and 11.01; (b)                                to add to the covenants of the Company for the benefit of the Holders of the Notes or to surrender any right or power herein conferred upon the Company; (c)                                 to secure the Notes; (d)                                to provide for the addition or modification of any of the provisions of this Indenture as shall be necessary or desirable to provide for or facilitate the guarantee of the Notes by one or more guarantors; (e)                                 to evidence and provide for the acceptance of appointment hereunder by a successor Trustee with respect to the Notes and to add to or change any of the provisions of this Indenture as shall be necessary to provide for or facilitate the administration of the trusts hereunder by more than one Trustee; (f)                                   to qualify, or maintain qualification of, this Indenture under the TIA; (g)                                to cure any ambiguity or correct or supplement any inconsistent or otherwise defective provision contained in this Indenture; (h)                                to make any provision with respect to matters or questions arising under this Indenture that the Company may deem necessary or desirable and that shall not be inconsistent with provisions of this Indenture provided that such change or modification doesnot, in the good faith opinion of the Company\\'s Board of Directors, adversely affect the interests of the Holders of the Notes in any material respect; (i)                                    to provide for conversion rights of Holders of Notes and the Company\\'s repurchase obligations in connection with a Fundamental Change in the event of any reclassification of the Common Stock, merger or consolidation, or sale, conveyance, transfer or lease of the Company\\'s property and assets substantially as an entirety; (j)                                    to conform the provisions of this Indenture to the \"Description of the Notes\" section contained in the Company\\'s offering memorandum related to the Notes dated April 11, 2012; (k)                                 to increase the Conversion Rate; that the increase will not adversely affect the interest of the Holders of the Notes; andprovided (l)                                    to make such changes as may be necessary or desirable to allow the Company to issue Additional Notes pursuant to Section 2.11; provided that any such change will not materially adversely affect the interests of Holders of the Notes. Section 8.02.                            Modification and Amendment with Consent of Noteholders. With the written consent or the affirmative vote of the Holders of not less than a majority in aggregate principal amount of the Outstanding Notes (including, without limitation, Additional Notes, if any) delivered to the Company and the Trustee, the Company when authorized by a Board Resolution, together with the Trustee, may amend, waive, modify or supplement any other provision of this Indenture or the Notes; , that no such amendment, waiver, modification or supplement may, without the written consent or the affirmative vote of the Holder of each Outstanding Note affected thereby:provided, however (a)                                 change the Stated Maturity of the principal of or any installment of principal of or interest (including Additional Interest and Filing Additional Interest, if any) on, any Note; or reduce the principal amount thereof or the rate or amount of interest (including Additional Interest and Filing Additional Interest, if any) thereon, or adversely affect any right of repayment at the option of the Holder of any Note, or change the currency in which the principal of any Note or the interest thereon is payable, or impair the right to institute suit for the enforcement of any such payment on or after the Stated Maturity thereof (or, in the case of repayment at the option of the Holder, on or after the Fundamental Change Repurchase Date, as the case may be); (b)                                reduce the percentage in principal amount of the Outstanding Notes, the consent of whose Holders is required for any such amendment, waiver, modification or supplemental indenture, or the consent of whose Holders is required for any waiver with respect to such Notes  pursuant to of this Indenture;Section 5.05 (c)                                 make any change that affects the right of any Holder to convert Notes into shares of the Common Stock or reduce the number of shares of Common Stock or any other property receivable upon conversion pursuant to the terms of this Indenture;(d)                                relieve the Company of its obligation to maintain an office or agency in the Borough of Manhattan, New York City; and (e)                                 change the Company\\'s obligation to repurchase any Notes upon a Fundamental Change in a manner adverse to the Holders after the occurrence of a Fundamental Change. Upon the written request of the Company accompanied by a copy of a Board Resolution authorizing the execution of any such supplemental indenture or other agreement, instrument or waiver, and upon the filing with the Trustee of evidence of the consent of Holders as aforesaid, the Trustee shall join with the Company in the execution of such supplemental indenture or other agreement, instrument or waiver. It shall not be necessary for any act of Holders under this Section to approve the particular form of any proposed supplemental indenture or other agreement, instrument or waiver, but it shall be sufficient if such act shall approve the substance thereof. Section 8.03.                            Execution of Supplemental Indentures, Agreements and Waivers. In executing, any supplemental indenture, agreement, instrument or waiver permitted by this Article VIII or the modifications thereby of this Indenture, the Trustee shall, upon request, be provided with, and (subject to hereof) shall be fully protected in relying upon, an Opinion of Counsel and an Officers\\' Certificate from each obligor under the Notes entering into such supplemental indenture, agreement, instrument or waiver, each stating that the execution of such supplemental indenture, agreement, instrument or waiver (a) is authorized or permitted by this Indenture; (b) does not violate the provisions of any agreement or instrument evidencing any other indebtedness of the Company, or any Subsidiary of the Company; and (c) that all conditions precedent in this Indenture relating to such supplemental indenture have been complied with.  The Trustee may, but shall not be obligated to, enter into any such supplemental indenture, agreement, instrument or waiver which affects the Trustee\\'s own rights, duties or immunities under this Indenture, the Notes or otherwise. The Company will notify Holders within a reasonable time of any amendment to this Agreement or of any supplemental indenture entered into.  However, any failure by the Company to give such notice to all of the Holders, or any defect in the notice, will not impair or affect the validity of the modification or amendment.Section 6.01 Section 8.04.                            Effect of Supplemental Indentures. Upon the execution of any supplemental indenture under this Article VIII, this Indenture, the Notes, if applicable, shall be modified in accordance therewith, and such supplemental indenture shall form a part of this Indenture and the Notes, if applicable, as the case may be, for all purposes; and every Holder of Notes theretofore or thereafter authenticated and delivered hereunder shall be bound thereby. Section 8.05.                            Compliance with Trust Indenture Act. Every supplemental indenture or amendment to this Indenture or the Notes shall comply with the TIA as then in effect, to the extent the TIA is applicable to this Indenture or any supplemental indenture hereto.Section 8.06.                            Reference in Notes to Supplemental Indentures. Notes authenticated and delivered after the execution of any supplemental indenture pursuant to this Article VIII may, and shall if required by the Trustee, bear a notation in a form approved by the Trustee as to any matter provided for in such supplemental indenture.  If the Company shall so determine, new Notes so modified as to conform, in the opinion of the Trustee and the Board of Directors of the Company, to any such supplemental indenture may be prepared and executed by the Company and authenticated and delivered by the Trustee, at the expense of the Company, upon a Company Order in exchange for Outstanding Notes. Section 8.07.                            Revocation and Effect of Consents and Waivers. A consent to an amendment or a waiver by a Holder of a Note shall bind the Holder and every subsequent Holder of that Note or portion of the Note that evidences the same debt as the consenting Holder\\'s Note, even if notation of the consent or waiver is not made on the Note.  However, any such Holder or subsequent Holder may revoke the consent or waiver as to such Holder\\'s Note or portion of the Note if the Trustee receives the notice of revocation before the date the amendment or waiver becomes effective.  After an amendment or waiver becomes effective, it shall bind every Holder.  An amendment or waiver made pursuant to shall become effective upon receipt by the Trustee of the requisite number of written consents.Section 8.02 The Company may, but shall not be obligated to, fix a record date for the purpose of determining the Holders entitled to give their consent or take any other action described above or required or permitted to be taken pursuant to this Indenture.  If a record date is fixed, then notwithstanding the immediately preceding paragraph, those Persons who were Holders at such record date (or their duly designated proxies), and only those Persons, shall be entitled to give such consent or to revoke any consent previously given or to take any such action, whether or not such Persons continue to be Holders after such record date.  No such consent shall become valid or effective more than 120 days after such record date. Section 8.08.                            Notation on or Exchange of Notes. If an amendment changes the terms of a Note, the Trustee may require the Holder of the Note to deliver it to the Trustee.  The Trustee may place an appropriate notation on the Note regarding the changed terms and return it to the Holder.  Alternatively, if the Company or the Trustee so determines, the Company in exchange for the Note shall issue and the Trustee, at the expense of the Company, shall authenticate a new Note that reflects the changed terms.  Failure to make the appropriate notation or to issue a new Note shall not affect the validity of such amendment. Section 9.01.                            Consolidation, Merger and Sale of Assets. The Company will not, in a single transaction or a series of related transactions, consolidate with or merge with or into any other Person, or sell, convey, transfer or lease itsproperty and assets substantially as an entirety to another Person, unless: (1)                                 either (a) the Company shall be the continuing corporation or (b) the resulting, surviving or transferee Person (if other than the Company) shall be a corporation or limited liability company organized and existing under the laws of the United States of America, any State thereof or the District of Columbia (the \"\"), and such Successor Company shall expressly assume, by an indenture supplemental to this Indenture in a form reasonably satisfactory to the Trustee, executed and delivered to the Trustee, all the obligations of the Company under the Notes and this Indenture;Successor Company (2)                                 immediately after giving effect to such transaction, no Default or Event of Default has occurred and is continuing; and (3)                                 if so requested by the Trustee, the Company shall have delivered to the Trustee any Officers\\' Certificate and Opinion of Counsel, each stating that such consolidation, merger, conveyance, transfer or lease and, if a supplemental indenture is required in connection with such transaction, such supplemental indenture, comply with this Article IX and that all conditions precedent herein provided for relating to such transaction have been satisfied. Section 9.02.                            Successor Substituted. In the event of any transaction described in and complying with the conditions listed in in which the Company is not the continuing corporation, the Successor Company formed or remaining shall succeed, and be substituted for, and may exercise every right and power of, the Company, and the Company shall be discharged from its obligations, under the Notes and this Indenture.Section 9.01 Section 10.01.                      Conversion Privilege. (a)                                 Upon compliance with the provisions of this Article X, a Holder of Notes shall have the right, at such Holder\\'s option, to convert all or any portion (if the portion to be converted is $1,000 principal amount or an integral multiple thereof) of such Note at any time prior to the Close of Business on the scheduled Business Day immediately preceding the Maturity Date at a rate (the \"\") of 82.3451 shares of Common Stock (subject to adjustment by the Company as provided in ) per $1,000 principal amount of Notes, together with cash in lieu of fractional shares (collectively, the \"\").Conversion RateSection 10.04Conversion Obligation (b)                                (1)                                 If and only to the extent a Noteholder elects to convert Notes prior to the Maturity Date in connection with a transaction described in clause (a), clause (c) (without reference to subclause (iii) thereunder) or clause (d) of the definition of Fundamental Change pursuant to which 10% or more of the consideration for the Common Stock (other than cash payments for fractional shares and cash payments made in respect of dissenters\\' appraisal rights) in such transaction consists of cash or securities (or other property) that are not shares ofcommon stock traded or scheduled to be traded immediately following such transaction on the New York Stock Exchange, the NASDAQ Global Marker or the NASDAQ Global Select Market (or any of their respective successors), referred to herein as a \"\", then the Conversion Rate applicable to each $1,000 principal amount of Notes so converted shall be increased by an additional number of shares of Common Stock (the \"\") as described in Section 10.01(b)(2) below.  The Company shall notify Holders of the anticipated Effective Date of a Non-Stock Change of Control no later than such time that the Non-Stock Change of Control occurs.  Settlement of Notes tendered for conversion to which Additional Shares shall be added to the Conversion Rate as provided in this subsection shall be settled pursuant to below, as applicable.  For purposes of this , a conversion of Notes shall be deemed to be \"in connection with\" a Non-Stock Change of Control to the extent that the related conversion notice is received by the Conversion Agent following the Effective Date of the Non-Stock Change of Control but before the Close of Business on the Business Day immediately preceding the related Fundamental Change Repurchase Date.  Such conversion notice shall indicate that the Holder of Notes has elected to convert Notes in connection with a Non-Stock Change of Control; , , that the failure to so indicate shall not in any way affect the Conversion Obligation or the right of such Holder to receive Additional Shares in connection with such conversion.Non-Stock Change of ControlAdditional SharesSection 10.02Section 10.01(b)providedhowever (2)                                 The number of Additional Shares by which the Conversion Rate will be increased shall be determined by reference to the table attached as Schedule A hereto, based on the date on which the Non-Stock Change of Control occurs or becomes effective (the \"\"), and the Stock Price; , that if the Stock Price is between two Stock Price amounts in the table attached as hereto or the Effective Date is between two Effective Dates in the table attached as hereto, the number of Additional Shares shall be determined by a straight-line interpolation between the number of Additional Shares set forth for the higher and lower Stock Price amounts and the two Effective Dates, as applicable, based on a 360-day year; that if (x) the Stock Price is in excess of $16.00 per share of Common Stock (subject to adjustment in the same manner as set forth in ), no Additional Shares will be added to the Conversion Rate, and (y) the Stock Price is less than $11.04 per share of Common Stock (subject to adjustment in the same manner as set forth in ), no Additional Shares will be added to the Conversion Rate.  Notwithstanding the foregoing, in no event will the total number of shares of Common Stock issuable upon conversion, as adjusted pursuant to this Section 10.01(b)(2), exceed 90.5797 per $1,000 principal amount of the Notes, subject to the same adjustments as the Conversion Rate pursuant to Section 10.04.Effective DateprovidedSchedule ASchedule Aprovided furtherSection 10.04Section 10.04 The number of Additional Shares within the table in hereto shall be adjusted in the same manner as and as of any date on which the Conversion Rate is adjusted as set forth in (other than by operation of an adjustment to the Conversion Rate pursuant to this ). The Stock Prices set forth in the first row of the table attached as hereto (i.e., the column headers) shall be simultaneously adjusted as of any date on which the Conversion Rate is adjusted (other than by operation of an adjustment to the Conversion Rate pursuant to this ).  The adjusted Stock Prices shall equal the Stock Prices applicable immediately prior to such adjustment, multiplied by a fraction, the numerator of which is the Conversion Rate in effect immediately prior to the adjustment giving rise to the Stock Price adjustment and the denominator of which is the Conversion Rate as so adjusted.Schedule ASection 10.04Section 10.01(b)Schedule ASection 10.01(b) Section 10.02.                      Conversion Procedures. (a)                                 Each Note shall be convertible at the office of the Conversion Agent and, if applicable, in accordance with the Applicable Procedures. (b)                                In order to exercise the conversion privilege with respect to any interest in a Global Note, the Holder must complete the appropriate instruction form for conversion pursuant to the Depositary\\'s book-entry conversion program, furnish appropriate endorsements and transfer documents if required by the Company or the Conversion Agent, pay all taxes or duties, if any, for which the Holder is responsible pursuant to , and the Conversion Agent must be informed of the conversion in accordance with the customary practice of the Depositary.  In order to exercise the conversion privilege with respect to any certificated Notes, the Holder of any such Notes to be converted, in whole or in part, shall:Section 4.06 (i)                                    complete and manually sign the conversion notice provided on the back of the Note and attached hereto as (the \"\") or a facsimile of the Conversion Notice;Exhibit BConversion Notice (ii)                                 deliver the completed Conversion Notice, which is irrevocable, and the Note to the Conversion Agent; (iii)                              if required, furnish appropriate endorsements and transfer documents; and (iv)                             if required, pay all taxes or duties pursuant to .Section 4.06 The date on which the Holder satisfies all of the applicable requirements set forth in this  is the \".\"  The Conversion Agent will provide the Company with notice of any conversion by a Holder of the Notes on the Conversion Date (which, for the avoidance of doubt, shall be the next Business Day if the applicable requirements are satisfied after the Close of Business on a Business Day and prior to the open of Business on the next Business Day).Section 10.02(b)Conversion Date (c)                                 Each Conversion Notice shall state the name or names (with address or addresses) in which any certificate or certificates for shares of Common Stock which shall be issuable upon such conversion shall be issued.  All such Notes surrendered for conversion shall, unless the shares of Common Stock issuable upon conversion are to be issued in the same name as the registration of such Notes, be duly endorsed by, or be accompanied by instruments of transfer in form satisfactory to the Company duly executed by, the Holder or his duly authorized attorney. (d)                                In case any certificated Notes of a denomination greater than $1,000 shall be surrendered for partial conversion, the Company shall execute and the Trustee shall authenticate and deliver to the Holder of the Notes so surrendered, without charge, new Notes in authorized denominations in an aggregate principal amount equal to the unconverted portion of the surrendered Notes. Each conversion shall be deemed to have been effected as to any such Notes (or portionthereof) surrendered for conversion immediately prior to the Close of Business on the relevant Conversion Date.  The person in whose name the certificate or certificates for the number of shares of Common Stock that shall be issuable upon such conversion shall become the holder of record of such shares of Common Stock as of the Close of Business on such Conversion Date.  Notwithstanding the foregoing and anything contained in this Indenture to the contrary, in no event shall a Holder be entitled to the benefit of a Conversion Rate adjustment pursuant to the provisions of hereof in respect of Notes surrendered for conversion if, by virtue of being deemed the record holder of the shares of Common Stock issuable upon such conversion pursuant to the foregoing sentence, such Holder participates, as a result of being such holder of record, in the transaction or event that would otherwise give rise to such Conversion Rate adjustment to the same extent and in the same manner as holders of shares of Common Stock generally.Article X (e)                                 Upon the conversion of an interest in Global Notes, the Trustee (or other Conversion Agent appointed by the Company) shall make a notation on such Global Notes as to the reduction in the principal amount represented thereby.  The Company shall notify the Trustee in writing of any conversions of Notes effected through any Conversion Agent other than the Trustee. (f)                                   Notwithstanding the foregoing, a Note in respect of which a Holder has delivered a Fundamental Change Repurchase Notice exercising such Holder\\'s option to require the Company to purchase such Note may be converted only if such Fundamental Change Repurchase Notice is withdrawn in accordance with  hereof.Section 11.01(c) Section 10.03.                      Payments Upon Conversion. (a)                                 Upon any conversion of any Notes, on the third Business Day immediately following the Conversion Date, the Company shall deliver to the converting Holder a number of shares of Common Stock equal to (i) the aggregate principal amount of such Notes to be converted divided by $1,000, multiplied by (ii) the Conversion Rate in effect as of such Conversion Date, together with any cash payment for any fractional share of Common Stock as described in .Section 10.03(c) (b)                                Notwithstanding anything to the contrary in this Indenture, upon the conversion of any Notes, unless the Holder converts after a Record Date for an interest payment but prior to the corresponding Interest Payment Date, the Holder will also receive a separate cash payment representing accrued and unpaid interest (including Additional Interest and Filing Additional Interest, if any) to, but not including, the Conversion Date.  Any such payment will be made on the settlement date applicable to the relevant conversion of the Notes. (c)                                 The Company shall not issue fractional shares of Common Stock upon conversion of Notes.  If multiple Notes shall be surrendered for conversion at one time by the same Holder, the number of full shares which shall be issuable upon conversion shall be computed on the basis of the aggregate principal amount of the Notes (or specified portions thereof to the extent permitted hereby) so surrendered.  If any fractional share of Common Stock would be issuable upon the conversion of any Notes, the Company shall make payment thereforin cash in lieu of fractional shares of Common Stock based on the Last Reported Sale Price of the Common Stock on the relevant Conversion Date. (d)                                Notwithstanding anything to the contrary in this Indenture, no Holder of Notes will be entitled to receive shares of Common Stock upon conversion to the extent (but only to the extent) that such receipt would cause such converting Holder to become, directly or indirectly, a \"beneficial owner\" (within the meaning of Section 13(d) of the Exchange Act and the rules and regulations promulgated thereunder) of more than 5.0% of the Common Stock outstanding at such time (the \"\").  Any purported delivery of shares of Common Stock upon conversion of Notes shall be void and have no effect to the extent (but only to the extent) that such delivery would result in the converting Holder becoming the beneficial owner of more than 5.0% of the shares of Common Stock outstanding at such time.  If any delivery of shares of Common Stock owed to a Holder upon conversion of Notes is not made, in whole or in part, as a result of the Limitation, the Company\\'s obligation to make such delivery shall not be extinguished and the Company shall deliver such shares as promptly as practicable after any such converting Holder gives notice to the Company that such delivery would not result in it being the beneficial owner of more than 5.0% of the shares of Common Stock outstanding at such time.  The Limitation shall no longer apply following the Effective Date of any Fundamental Change.Limitation Section 10.04.                      Adjustment of Conversion Rate. The Conversion Rate shall be adjusted from time to time by the Company as follows: (a)                                 If the Company issues shares of Common Stock as a dividend or distribution on shares of Common Stock, or effects a share split or share combination, then the Conversion Rate shall be adjusted based on the following formula: where CR1                          =                                        the Conversion Rate in effect immediately prior to the Opening of Business on the record date for such dividend or distribution or the effective date of such share split or combination, as the case may be; CR0                          =                                        the Conversion Rate in effect at Close of Business on the Trading Day immediately preceding the record date for such dividend or distribution or the effective date of such share split or combination, as the case may be; OS0                          =                                        the number of shares of Common Stock outstanding at Close of Business on the Trading Day immediately preceding the record date for such dividend or distribution or the effective date of such share split or combination; andOS1                          =                                        the number of shares of Common Stock that would be outstanding immediately after, and solely as a result of, such dividend, distribution, share split or combination, as the case may be. Such adjustment shall become effective immediately prior to the Opening of Business on the record date for such dividend or distribution or the effective date of such share split or combination, as the case may be.  If any dividend or distribution of the type described in this  is declared but not so paid or made, or the outstanding shares of Common Stock are not subdivided or combined, as the case may be, the Conversion Rate shall be immediately readjusted, effective as of the date the Board of Directors determines not to pay such dividend or distribution, or subdivide or combine the outstanding shares of Common Stock, as the case may be, to the Conversion Rate that would then be in effect if such dividend, distribution, subdivision or combination had not been declared.Section 10.04(a) (b)                                In case the Company shall issue to all or substantially all holders of Common Stock any rights or warrants (other than rights issued pursuant to a shareholders\\' rights plan) entitling them for a period of not more than 60 days from the issuance date for such distribution to subscribe for or purchase shares of Common Stock, at a price per share less than the Last Reported Sale Price of the Common Stock on the Trading Day immediately preceding the declaration date of such distribution, then the Conversion Rate shall be increased based on the following formula: where CR1                          =                                        the Conversion Rate in effect immediately prior to the Opening of Business on the record date for such distribution; CR0                          =                                        the Conversion Rate in effect at the Close of Business on the Trading Day immediately preceding the record date for such distribution; OS0                          =                                        the number of shares of Common Stock outstanding at the Close of Business on the Trading Day immediately preceding the record date for such distribution; X                                      =                                        the total number of shares of Common Stock issuable pursuant to such rights or warrants; and Y                                       =                                        the number of shares of Common Stock equal to the aggregate price payable to exercise such rights or warrants, divided by the average of the Last Reported Sale Prices of Common Stock over the 10 consecutive Trading Day period ending on the Trading Day immediately preceding the record date for such distribution.Such adjustment shall be successively made whenever any such rights or warrants are issued and shall become effective immediately prior to the Opening of Business on the record date for such distribution.  If such rights or warrants are not issued or to the extent they are not so exercised prior to their expiration, the Conversion Rate shall again be adjusted to be the Conversion Rate that would then be in effect if such record date for such distribution had not been fixed. In determining whether any rights or warrants entitle the holder thereof to subscribe for or purchase shares of Common Stock at a price per share less than the Last Reported Sale Price of the Common Stock on the Trading Day immediately preceding the declaration date of such distribution, and in determining the aggregate offering price of such Common Stock, there shall be taken into account any consideration received by the Company for such rights or warrants and any amount payable on exercise or conversion thereof, where the value of such consideration, if other than cash, shall be determined by the Board of Directors. (c)                                 (i)                                    In case the Company shall distribute shares of Capital Stock, evidences of indebtedness or other assets or property to all or substantially all holders of Common Stock (excluding dividends and distributions covered by , , , and distributions described below in  with respect to Spin-Offs (as defined below)) (any of such shares of Capital Stock, evidences of indebtedness or other asset or property hereinafter in this  called the \"\"), then, in each such case the Conversion Rate shall be increased based on the following formula:Section 10.04(a)Section 10.04(b)Section 10.04(d)Section 10.04(c)(ii)Section 10.04(c)Distributed Property where CR1                          =                                        the Conversion Rate in effect immediately prior to the Opening of Business on the record date for such distribution; CR0                          =                                        the Conversion Rate in effect at the Close of Business on the Trading Day immediately preceding the record date for such distribution; SP0                            =                                        the average of the Last Reported Sale Prices of the Common Stock over the 10 consecutive Trading Day period ending on the Trading Day immediately preceding the record date for such distribution; and FMV                    =                                        the fair market value (as determined by the Board of Directors or a committee thereof) of the Distributed Property distributed with respect to each outstanding share of Common Stock as of the Opening of Business on the record date for such distribution.Such adjustment shall become effective immediately prior to the Opening of Business on the record date for shareholders entitled to receive such distribution; that (1) if the then fair market value (as so determined) of the portion of the Distributed Property so distributed applicable to one share of Common Stock is equal to or greater than SPprovided0as set forth above or (2) if SP0 exceeds the fair market value of the Distributed Property by less than $0.01, in lieu of the foregoing adjustment, adequate provision shall be made so that each Noteholder shall have the right to receive, for each $1,000 principal amount of Notes upon conversion, the amount of Distributed Property such Holder would have received had such Holder converted such Notes immediately prior to the record date for determining the shareholders of the Company entitled to receive the Distributed Property.  If such dividend or distribution is not so paid or made, the Conversion Rate shall again be adjusted to be the Conversion Rate that would then be in effect if such dividend or distribution had not been declared.  If such dividend or distribution consists of rights or warrants, the Conversion Rate shall be readjusted to the extent that such rights or warrants are not exercised prior to their expiration.  If the Board of Directors determines the fair market value of any distribution for purposes of this Section 10.04(c)(i) by reference to the actual or when issued trading market for any securities, it must in doing so consider the prices in such market over the same period used in determining SP0 above. (ii)                                 With respect to an adjustment pursuant to this  where there has been a payment of a dividend or other distribution on the Common Stock in shares of Capital Stock of any class or series, or similar equity interest, of or relating to a Subsidiary or other business unit of the Company that are listed on a national or regional securities exchange (a \"\"), then the Conversion Rate will be increased based on the following formula:Section 10.04(c)Spin-Off  where CR1                          =                                        the Conversion Rate in effect immediately prior to the Opening of Business on the record date for the Spin-Off; CR0                          =                                        the Conversion Rate in effect at the Close of Business, on the Trading Day immediately preceding the record date for the Spin-Off; FMV                    =                                        the average of the Last Reported Sale Prices of the Capital Stock or other similar equity interest distributed to holders of Common Stock applicable to one share of Common Stock over the first 10 consecutive Trading Day period immediately following, and including, the third Trading Day after the record date for such Spin-Off (such period, the \"\"); andValuation Period MP0                       =                                        the average of the Last Reported Sale Prices of Common Stock over the Valuation Period.Such adjustment shall occur immediately after the Opening of Business on the day after the last day of the Valuation Period but will be given effect as of the Opening of Business on the record date for the Spin-Off; that in respect of any conversion within the ten Trading Days following any Spin-Off, references within this  to ten Trading Days shall be deemed replaced with such lesser number of Trading Days as have elapsed between such Spin-Off and the Conversion Date in determining the applicable Conversion Rate.  Because the Company will make the adjustment to the Conversion Rate at the end of the Valuation Period with retroactive effect, the Company will delay the settlement of any Notes where the Conversion Date occurs during the Valuation Period.  In such event, the Company will deliver shares of Common Stock and any cash in lieu thereof (based on the adjusted Conversion Rate) on the third Business Day following the last day of the Valuation Period.providedSection 10.04(c)(ii) Rights or warrants distributed by the Company to all holders of Common Stock, entitling the holders thereof to subscribe for or purchase Capital Stock (either initially or under certain circumstances), which rights or warrants, until the occurrence of a specified event or events (\"\"):  (i) are deemed to be transferred with such Common Stock; (ii) are not exercisable; and (iii) are also issued in respect of future issuances of Common Stock, shall be deemed not to have been distributed for purposes of this  (and no adjustment to the Conversion Rate under this  will be required) until the occurrence of the earliest Trigger Event, whereupon such rights and warrants shall be deemed to have been distributed and an appropriate adjustment (if any is required) to the Conversion Rate shall be made under this .  If any such right or warrant, including any such existing rights or warrants distributed prior to the date of this Indenture, are subject to events, upon the occurrence of which such rights or warrants become exercisable to purchase different securities, evidences of indebtedness or other assets, then the date of the occurrence of any and each such event shall be deemed to be the date of distribution and record date with respect to new rights or warrants with such rights (and a termination or expiration of the existing rights or warrants without exercise by any of the holders thereof).  In addition, in the event of any distribution (or deemed distribution) of rights or warrants, or any Trigger Event or other event (of the type described in the preceding sentence) with respect thereto that was counted for purposes of calculating a distribution amount for which an adjustment to the Conversion Rate under this was made, (1) in the case of any such rights or warrants that shall all have been redeemed or repurchased without exercise by any holders thereof, the Conversion Rate shall be readjusted upon such final redemption or repurchase to give effect to such distribution or Trigger Event, as the case may be, as though it were a cash distribution, equal to the per share redemption or repurchase price received by a holder or holders of Common Stock with respect to such rights or warrants (assuming such holder had retained such rights or warrants), made to all holders of Common Stock as of the date of such redemption or repurchase, and (2) in the case of such rights or warrants that shall have expired or been terminated without exercise by any holders thereof, the Conversion Rate shall be readjusted as if such rights and warrants had not been issued.Trigger EventSection 10.04(c)Section 10.04(c)Section 10.04(c)Section 10.04 For purposes of this  and  and , any dividend or distribution to which this  is applicable that also includes a dividend or distribution of Common Stock to which  applies or a dividend or distribution of rights or warrants to subscribe for or purchase Common Stock to which  or  applies (or both), shall be deemed instead to be (1) a dividend or distribution ofSection 10.04(c)Section 10.04(a)Section 10.04(b)Section 10.04(c)Section 10.04(a)Section 10.04(a)Section 10.04(b)the evidences of indebtedness, assets or shares of Capital Stock other than such Common Stock or rights or warrants to which this  applies, and any Conversion Rate adjustment required by this  with respect to such dividend or distribution shall then be made, immediately followed by (2) a dividend or distribution of such Common Stock or such rights or warrants (and any further Conversion Rate adjustment required by  and  with respect to such dividend or distribution shall then be made), except (A) the record date of such dividend or distribution shall be substituted as \"the record date\" and \"the date fixed for such determination\" within the meaning of  and  and (B) any Common Stock included in such dividend or distribution shall not be deemed outstanding \"at Close of Business on the Trading Day immediately preceding the record date for such dividend or distribution or the effective date of such share split or combination\" within the meaning of  or \"at Close of Business on the Trading Day immediately preceding the record for such distribution\" within the meaning of .Section 10.04(c)Section 10.04(c)Section 10.04(a)Section 10.04(b)Section 10.04(a)Section 10.04(b)Section 10.04(a)Section 10.04(b) (d)                                In case the Company shall pay any cash dividends or make distributions paid exclusively in cash to all or substantially all holders of Common Stock (other than dividends or distributions made in connection with the dissolution, liquidation or winding-up of the Company or distributions to which applies), then the Conversion Rate will be increased based on the following formula:Section 10.06  where CR1                          =                                        the Conversion Rate in effect immediately prior to the Opening of Business on the record date for such dividend or distribution; CR0                          =                                        the Conversion Rate in effect at the Close of Business, on the Trading Day immediately preceding the record date for such distribution; SP0                            =                                        the average of the Last Reported Sale Prices of the Common Stock over the 10 consecutive Trading Day period ending on the Trading Day immediately preceding the record date for such distribution; DTA                    =                                        the dividend threshold amount, which will initially be equal to $0.1016per share in any month; that if there is not a record date for a dividend in any month, the DTA may be carried forward by the Company to the next subsequent month, and to the extent the aggregate amount of any dividends with record dates in such subsequent month is less than $0.1016 such difference may be carried forward to the second subsequent month, subject to a maximum DTA at any time of $0.3048; andprovidedC                                       =                                        the amount in cash per share that the Company distributes to holders of Common Stock in any dividend. Such adjustment shall become effective immediately prior to the Opening of Business on the record date for such dividend or distribution. The dividend threshold amount is subject to adjustment on an inversely proportional basis whenever the Conversion Rate is adjusted other than pursuant to this .  If an adjustment is required to be made as set forth in this  as a result of a distribution that is not a regular monthly or quarterly dividend, the dividend threshold amount will be deemed to be zero.  For the avoidance of doubt, a distribution that relates to a prior monthly or quarterly period during which the record date for a regular distribution did not occur (such distribution, a \"\") shall constitute a regular monthly or quarterly dividend (whether paid separately or together with the regular monthly or quarterly distribution with respect to the period in which such Delayed Distribution occurs), notwithstanding the fact that the record date for such Delayed Distribution occurs after the monthly or quarterly period to which the Delayed Distribution relates.Section 10.04(d)Section 10.04(d)Delayed Distribution If \"C\" (as defined above) is equal to or greater than \"SP0\" (as defined above), or if the difference between \"SP0\" and \"C\" is less than $0.01, in lieu of the foregoing increase, each Holder of a Note shall receive, in respect of each $1,000 principal amount thereof, at the same time and upon the same terms as holders of shares of Common Stock, the amount of cash that such Holder would have received as if such Holder owned a number of shares of Common Stock equal to the Conversion Rate on the record date for such cash dividend or distribution. For the avoidance of doubt, for purposes of this , in the event of any reclassification of the Common Stock, as aresult of which the Notes become convertible into more than one class of Common Stock, if an adjustment to the Conversion Rate is required pursuant to this , references in this  to one share of Common Stock or Last Reported Sale Price of one share of Common Stock shall be deemed to refer to a unit or to the price of a unit consisting of the number of shares of each class of Common Stock into which the Notes are then convertible equal to the number of shares of such class issued in respect of one share of Common Stock in such reclassification.  The above provisions of this paragraph shall similarly apply to successive reclassifications.Section 10.04(d)Section 10.04(d)Section 10.04(d) (e)                                 In case the Company or any of its Subsidiaries makes a payment in respect of a tender offer or exchange offer for Common Stock, to the extent that the cash and value of any other consideration included in the payment per share of Common Stock exceeds the Last Reported Sale Price of the Common Stock on the Trading Day next succeeding the last date on which tenders or exchanges may be made pursuant to such tender or exchange offer, then the Conversion Rate shall be increased based on the following formula: whereCR1                          =                                        the Conversion Rate in effect at the Close of Business on the day such tender offer or exchange offer expires; CR0                          =                                        the Conversion Rate in effect immediately prior to the Opening of Business on the Trading Day immediately following the day such tender offer or exchange offer expires; AC                             =                                        the aggregate value of all cash and any other consideration (as determined by the Board of Directors or a committee thereof) paid or payable for shares purchased in such tender or exchange offer; SP1                            =                                        the average of the Last Reported Sale Prices of Common Stock over the 10 consecutive Trading Day period commencing on, and including, the Trading Day next succeeding the day such tender or exchange offer expires (the \"\");Averaging Period OS1                          =                                        the number of shares of Common Stock outstanding immediately after the Close of Business on the day such tender or exchange offer expires (after giving effect to such tender offer or exchange offer); and OS0                          =                                        the number of shares of Common Stock outstanding immediately prior to the date such tender or exchange offer expires (prior to giving effect to such tender offer or exchange offer). Such adjustment shall become effective immediately prior to the Opening of Business on the day following the last day of the Averaging Period, but will be given effect as of the Opening of Business on the Trading Day next succeeding the date such tender offer or exchange offer expires.  Because the Company will make the adjustment to the Conversion Rate at the end of the Averaging Period with retroactive effect, the Company will delay the settlement of any Notes where the Conversion Date occurs during the Averaging Period.  In such event, the Company will deliver shares of Common Stock and any cash in lieu thereof (based on the adjusted Conversion Rate) on the third Business Day immediately following the last day of the Averaging Period. (f)                                   Notwithstanding any other provision of this , no adjustments to the Conversion Rate pursuant to this will be made:Section 10.04Section 10.04 (i)                                    upon the issuance of any shares of Common Stock pursuant to any present or future plan or similar arrangement providing for the reinvestment of dividends or interest payable on the Company\\'s securities and the investment of additional optional amounts in shares of Common Stock under any such plan or arrangement; (ii)                                 upon the issuance of any shares of Common Stock or options or rights to purchase such shares pursuant to any present or future employee, director or consultant benefit plan or program or similar arrangement of, or assumed by, the Company or any of its Subsidiaries;(iii)                              upon the issuance of any shares of Common Stock pursuant to any option, warrant, right or exercisable, exchangeable or convertible security not described in clause (ii) of this  and outstanding as of the date the Notes were first issued;Section 10.04(f) (iv)                             for a change in the par value of the Common Stock; or (v)                                for accrued and unpaid interest (including Additional Interest and Filing Additional Interest, if any). (g)                                To the extent a transaction qualifies under two or more of , , ,  and , the Conversion Rate shall be adjusted pursuant to Section 10.04(c)(i).Section 10.04(a)Section 10.04(b)Section 10.04(c)Section 10.04(d)Section 10.04(e) (h)                                For purposes of this the term \"\" shall mean, with respect to any dividend, distribution or other transaction or event in which the holders of shares of Common Stock have the right to receive any cash, securities or other property or in which the shares of Common Stock (or other applicable security) is exchanged for or converted into any combination of cash, securities or other property, the date fixed for determination of shareholders of the Company entitled to receive such cash, securities or other property (whether such date is fixed by the Board of Directors or by statute, contract or otherwise).Section 10.04record date (i)                                    All calculations and other determinations under this shall be made by the Company in accordance with hereof and shall be made to the nearest cent or to the nearest one-ten thousandth (1/10,000) of a share, as the case may be.  No adjustment shall be made for the Company\\'s issuance of Common Stock or any securities convertible into or exchangeable for Common Stock, or the right to purchase Common Stock or such convertible or exchangeable securities, other than as provided in this .  No adjustment shall be made to the Conversion Rate unless such adjustment would require a change of at least 1% in the Conversion Rate then in effect at such time.  The Company shall carry forward any adjustments that are less than 1% of the Conversion Rate, take such carried-forward adjustments into account in any subsequent adjustment, and make such carried forward adjustments, regardless of whether the aggregate adjustment is less than 1%, (i) annually on the anniversary of the first date of issue of the Notes and otherwise, (ii) upon any conversion of the Notes, and (iii) (1) 10 Business Days prior to the Maturity Date of the Notes (whether at Stated Maturity or otherwise) or (2) 10 Business Days prior to any Fundamental Change Repurchase Date, unless such adjustment has already been made.Article XSection 12.15Section 10.04 (j)                                    Whenever the Conversion Rate is adjusted as herein provided, the Company shall promptly file with the Trustee and any Conversion Agent other than the Trustee an Officers\\' Certificate setting forth the Conversion Rate after such adjustment and setting forth a brief statement of the facts requiring such adjustment.  The Trustee and Conversion Agent may conclusively rely on the accuracy of the Conversion Rate adjustment provided by the Company.  Unless and until a Responsible Officer of the Trustee shall have received such Officers\\' Certificate, the Trustee shall not be deemed to have knowledge of any adjustment of the Conversion Rate and may assume without inquiry that the last Conversion Rate of which it has knowledge is still in effect.  Promptly after delivery of such certificate, the Company shallprepare a notice of such adjustment of the Conversion Rate setting forth the adjusted Conversion Rate and the date on which each adjustment becomes effective and provide notice to Holders of such adjustment. (k)                                 For purposes of this , the number of shares of Common Stock at any time outstanding shall not include shares held in the treasury of the Company but shall include shares issuable in respect of scrip certificates issued in lieu of fractions of shares of Common Stock.Section 10.04 (l)                                    The Company will not take any action that would result in an adjustment to the Conversion Rate pursuant to the provisions of this without complying with NASDAQ Listing Rule 5635, if applicable.Section 10.04 Section 10.05.                      Shares to be Fully Paid. Subject to , the Company shall provide, free from preemptive rights, sufficient Common Stock to provide for conversion of the Notes from time to time as such Notes are presented for conversion.Section 10.03(c) Section 10.06.                      Effect of ReclassificationConsolidationMerger or Sale,,. (a)                                 If the Company: (i)                                    reclassifies or changes its Common Stock (other than changes resulting from a subdivision or combination); or (ii)                                 consolidates or merges with or into any Person or sells, leases, transfers, conveys or otherwise disposes of all or substantially all of its assets and those of its Subsidiaries taken as a whole to another Person; and in either case holders of Common Stock receive stock, other securities or other property or assets (including cash or any combination thereof) with respect to or in exchange for their Common Stock (any such event, a \"\"), then from and after the effective date of such Merger Event, the Company or the successor or purchasing Person, as the case may be, shall execute with the Trustee a supplemental indenture (which shall comply with the Trust Indenture Act as in force at the date of execution of such supplemental indenture if such supplemental indenture is then required to so comply) providing that at and after the effective time of such Merger Event, each Outstanding Note will, without the consent of Holders of the Notes, become convertible in accordance with this Indenture into the consideration the holders of Common Stock received in such reclassification, change, consolidation, merger, sale, lease, transfer, conveyance or other disposition (such consideration, the \"\").  If the transaction causes the Common Stock to be converted into the right to receive more than a single type of consideration (determined based in part upon any form of shareholder election), the Reference Property into which the Notes will become convertible will be deemed to be the kind and amount of consideration elected to be received by a majority of shares of Common Stock which voted for such an election (if electing between two types of consideration) or a plurality of shares of Common Stock which voted for such an election (if electing between more than twoMerger EventReference Propertytypes of consideration), as the case may be.  The Company shall not become a party to any such Merger Event unless its terms are consistent with this in all material respects.Section 10.06 (b)                                The Company shall cause notice of the execution of such supplemental indenture to be mailed to each Holder, at the address of such Holder as it appears on the Note Register, within 20 days after execution thereof.  Failure to deliver such notice shall not affect the legality or validity of such supplemental indenture.  The above provisions of this shall similarly apply to successive reclassifications, changes, consolidations, mergers, combinations, sales and conveyances.  If this applies to any Merger Event, shall not apply.Section 10.06Section 10.06Section 10.04 Section 10.07.                      Notice to Holders Prior to Certain Actions. In case: (a)                                 the Company shall declare a dividend (or any other distribution) on its Common Stock that would require an adjustment in the Conversion Rate pursuant to Section 10.04; or (b)                                the Company shall authorize the granting to all of the holders of its Common Stock of rights or warrants to subscribe for or purchase any share of any class or any other rights or warrants; (c)                                 of any reclassification of Common Stock (other than a subdivision or combination of the outstanding Common Stock, or a change in par value, or from par value to no par value, or from no par value to par value), or of any consolidation or merger to which the Company is a party and for which approval of any shareholders of the Company is required, or of the sale or transfer of all or substantially all of the assets of the Company; or (d)                                of the voluntary or involuntary dissolution, liquidation or winding-up of the Company, the Company shall cause to be filed with the Trustee and to be mailed to each Noteholder at his address appearing on the Note Register at least 10 days before the applicable date specified in clause (x) or (y) below, as the case may be, a notice stating (x) the date on which a record is to be taken for the purpose of such dividend, distribution or rights or warrants, or, if a record is not to be taken, the date as of which the holders of Common Stock of record to be entitled to such dividend, distribution or rights are to be determined, or (y) the date on which such reclassification, consolidation, merger, sale, transfer, dissolution, liquidation or winding-up is expected to become effective or occur, and the date as of which it is expected that holders of Common Stock of record shall be entitled to convert their Common Stock for securities or other property deliverable upon such reclassification, consolidation, merger, sale, transfer, dissolution, liquidation or winding-up.  Failure to give such notice, or any defect therein, shall not affect the legality or validity of such dividend, distribution, reclassification, consolidation, merger, sale, transfer, dissolution, liquidation or winding-up. Section 10.08.                      Shareholder Rights Plans.  To the extent that any future shareholders\\' rights plan adopted by the Company is in effect upon conversion of the Notes into CommonStock, Holders shall receive, in addition to any Common Stock issuable upon such conversion, the rights under the applicable rights agreement unless the rights have separated from the Common Stock at the time of conversion of the Notes, in which case, the Conversion Rate will be adjusted as if the Company distributed to all holders of its Common Stock shares of its Capital Stock, evidences of indebtedness or assets as described in Section 10.04(c)(i), subject to readjustment in the event of the expiration, termination or redemption of such rights. If, and only if, the Holders receive rights under such shareholders\\' rights plan as described in the preceding sentence upon conversion of their Notes, then no other adjustment pursuant to this shall be made in connection with such shareholders\\' rights plan.Article X Section 11.01.                      Repurchase at Option of Holders Upon a Fundamental Change. (a)                                 If a Fundamental Change occurs at any time prior to the Maturity Date, then each Noteholder shall have the right, at such Holder\\'s option, to require the Company to repurchase all of such Holder\\'s Notes or any portion thereof that is a multiple of $1,000 principal amount, for cash on or after the Close of Business on the date (the \"\") specified by the Company that is not less than twenty (20) calendar days and not more than thirty-five (35) calendar days after the date of the Fundamental Change Company Notice (as defined below) at a repurchase price equal to 100% of the principal amount thereof, together with accrued and unpaid interest thereon (including Additional Interest and Filing Additional Interest, if any) to, but excluding, the Fundamental Change Repurchase Date (collectively, the \"\").  Notwithstanding the foregoing, if the Fundamental Change Repurchase Date is after a Record Date and on or prior to the corresponding Interest Payment Date, the accrued and unpaid interest (including Additional Interest and Filing Additional Interest, if any) will be paid on the Fundamental Change Repurchase Date to the Holder of record on the Record Date.Fundamental Change Repurchase DateFundamental Change Repurchase Price Repurchases of Notes under this shall be made, at the option of the Holder thereof, upon:Section 11.01 (i)                                    delivery to the Trustee (or other Paying Agent appointed by the Company) by a Holder of a duly completed notice (the \"\") in the form set forth on the reverse of the Note at any time prior the Close of Business on the Fundamental Change Repurchase Date; andFundamental Change Repurchase Notice (ii)                                 delivery or book-entry transfer of the Notes to the Trustee (or other Paying Agent appointed by the Company) at any time after delivery of the Fundamental Change Repurchase Notice (together with all necessary endorsements) at the Corporate Trust Office of the Trustee (or other Paying Agent appointed by the Company) in the Borough of Manhattan, such delivery being a condition to receipt by the Holder of the Fundamental Change Repurchase Price therefor; that such Fundamental Change Repurchase Price shall be so paid pursuant to this only if the Note so delivered to the Trustee (or other Paying Agent appointed by the Company) shallprovidedSection 11.01conform in all respects to the description thereof in the related Fundamental Change Repurchase Notice. The Fundamental Change Repurchase Notice shall state: (A)                             if certificated, the certificate numbers of Notes to be delivered for repurchase; (B)                               the portion of the principal amount of Notes to be repurchased, which must be $1,000 or an integral multiple thereof; (C)                               that the Notes are to be repurchased by the Company pursuant to the applicable provisions of the Notes and this Indenture; and (D)                              if such Fundamental Change Repurchase Notice is delivered prior to the occurrence of a Fundamental Change pursuant to a definitive agreement giving rise to a Fundamental Change, that the Holder acknowledges that the Company\\'s offer is conditioned on the occurrence of such Fundamental Change. provided, , that if the Notes are not in certificated form, the Fundamental Change Repurchase Notice must comply with Applicable Procedures.however Any repurchase by the Company contemplated pursuant to the provisions of this shall be consummated by the delivery of the consideration to be received by the Holder promptly following the later of the Fundamental Change Repurchase Date and the time of the book-entry transfer or delivery of the Note.Section 11.01 The Trustee (or other Paying Agent appointed by the Company) shall promptly notify the Company of the receipt by it of any Fundamental Change Repurchase Notice or written notice of withdrawal thereof in accordance with the provisions of .Section 11.01(c) Any Note that is to be repurchased only in part shall be surrendered to the Trustee (with, if the Company or the Trustee so requires, due endorsement by, or a written instrument of transfer in form satisfactory to the Company and the Trustee duly executed by the Holder thereof or his attorney duly authorized in writing), and the Company shall execute, and the Trustee shall authenticate and make available for delivery to the Holder of such Note without service charge, a new Note or Notes, containing identical terms and conditions, each in an authorized denomination in aggregate principal amount equal to and in exchange for the unrepurchased portion of the principal of the Note so surrendered. (b)                                On or before the fifth (5th) calendar day after the occurrence of a Fundamental Change, the Company shall provide to all Holders of record of the Notes as of the date of the Fundamental Change Company Notice at their addresses shown in the Note Register (and to beneficial owners to the extent required by applicable law) and the Trustee and Paying Agent a written notice (the \"\") of the occurrence of such Fundamental Change and of the repurchase right at the option of the Holders arising as a result thereof.  Such mailing shall be by first class mail.  Simultaneously with providing such Fundamental Change Company Notice, the Company shall publish a notice containing theFundamental Change Company Noticeinformation included therein once in a newspaper of general circulation in The City of New York or publish such information on the Company\\'s website or through such other public medium as the Company may use at such time. Each Fundamental Change Company Notice shall specify: (i)                                    the events causing the Fundamental Change; (ii)                                 the date of the Fundamental Change; (iii)                              that the Holder must exercise the repurchase right prior to the Close of Business on the Fundamental Change Repurchase Date; (iv)                             the Fundamental Change Repurchase Price; (v)                                the Fundamental Change Repurchase Date; (vi)                             the name and address of the Paying Agent and the Conversion Agent; (vii)                          the applicable Conversion Rate and any adjustments to the applicable Conversion Rate; (viii)                       that the Notes with respect to which a Fundamental Change Repurchase Notice has been delivered by a Holder may be converted only if the Holder withdraws the Fundamental Change Repurchase Notice in accordance with the terms of this Indenture; and (ix)                               the procedures that Holders must follow to require the Company to repurchase their Notes. No failure of the Company to give the foregoing notices and no defect therein shall limit the Noteholders\\' repurchase rights or affect the validity of the proceedings for the repurchase of the Notes pursuant to this .Section 11.01 (c)                                 A Fundamental Change Repurchase Notice may be withdrawn by delivering a written notice of withdrawal to the Paying Agent in accordance with the Fundamental Change Company Notice at any time prior to the Close of Business on the Fundamental Change Repurchase Date, specifying: (i)                                    the principal amount of the Notes with respect to which such notice of withdrawal is being submitted; (ii)                                 the principal amount, if any, of such Notes that remains subject to the original Fundamental Change Repurchase Notice, which portion must be in principal amounts of $1,000 or an integral multiple of $1,000; and(iii)                              if certificated Notes have been issued, the certificate numbers of the withdrawn Notes; provided, , that if the Notes are not in certificated form, the notice must comply with Applicable Procedures.  The Paying Agent will promptly return to the respective Holders thereof any certificated Notes with respect to which a Fundamental Change Repurchase Notice has been withdrawn in compliance with the provisions of this . If the Notes are not in certificated form, such return must comply with the appropriate procedures of the Depositary.  If a Fundamental Change Repurchase Notice is given and then subsequently withdrawn in accordance with this , then the Company shall not be obligated to repurchase any Notes listed in such Fundamental Change Repurchase Notice.howeverSection 11.01(c)Section 11.01(c) (d)                                On or prior to 1:00 p.m. (local time in The City of New York) on the Business Day following the Fundamental Change Repurchase Date, the Company will deposit with the Trustee (or other Paying Agent appointed by the Company) or if the Company is acting as its own Paying Agent, set aside, segregate and hold in trust in accordance with this Indenture an amount of money or securities sufficient to repurchase as of the Fundamental Change Repurchase Date all of the Notes to be repurchased as of such date at the Fundamental Change Repurchase Price.  Subject to receipt of funds and/or Notes by the Trustee (or other Paying Agent appointed by the Company and subject to extension if necessary to comply with the provisions of the Investment Company Act of 1940), payment for Notes surrendered for repurchase (and not withdrawn) prior to the Close of Business on the Fundamental Change Repurchase Date will be made promptly after the later of (x) the Fundamental Change Repurchase Date with respect to such Note ( the Holder has satisfied the conditions to the payment of the Fundamental Change Repurchase Price in this ), and (y) the time of book-entry transfer or the delivery of such Note to the Trustee (or other Paying Agent appointed by the Company) by the Holder thereof in the manner required by this by mailing checks for the amount payable to the Holders of such Notes entitled thereto as they shall appear in the Note Register (in the case of certificated Notes) by wire transfer of immediately available funds to the account of the Depositary or its nominee (if the Notes are not in certificated form).  The Trustee shall, promptly after such payment return to the Company any funds in excess of the Fundamental Change Repurchase Price.providedSection 11.01Section 11.01 (e)                                 If the Trustee (or other Paying Agent appointed by the Company) holds money or securities sufficient to repurchase as of the Fundamental Change Repurchase Date all the Notes or portions thereof that are to be purchased as of the Business Day following the Fundamental Change Repurchase Date, then on and after the Fundamental Change Repurchase Date (i) such Notes will cease to be Outstanding, (ii) interest (including Additional Interest and Filing Additional Interest, if any) will cease to accrue on such Notes, whether or not book-entry transfer of the Notes has been made or the Notes have been delivered to the Trustee or Paying Agent, as the case may be, and (iii) all other rights of the Holders of such Notes will terminate other than the right to receive the Fundamental Change Repurchase Price upon delivery or transfer of such Notes. Section 11.02.                      No Payment Following Acceleration of the Notes. There shall be no purchase of any Notes pursuant to this if the principalArticle IXamount of the Notes has been accelerated, and such acceleration has not been rescinded on or prior to the Fundamental Change Purchase Date. The Trustee (or other Paying Agent appointed by the Company) will promptly return to the respective Holders thereof any certificated Notes held by it following acceleration of the Notes and shall deem canceled any instructions for book-entry transfer of the Notes in compliance with the procedures of the Depositary, in which case, upon such return and cancellation, the Fundamental Change Repurchase Notice with respect thereto shall be deemed to have been withdrawn. Section 11.03.                      Compliance with Tender Offer Rules. In connection with any offer to purchase Notes under hereof, the Company shall, in each case if required, (a) comply with Rule 13e-4, Rule 14e-1 and any other tender offer rules under the Exchange Act that may then be applicable, (b) file a Schedule TO or any other required schedule under the Exchange Act and (c) otherwise comply with all federal and state securities laws so as to permit the rights and obligations under to be exercised in the time and in the manner specified in .Section 11.01Section 11.01Section 11.01 Section 12.01.                      Trust Indenture Act Controls. This Indenture is hereby made subject to, and shall be governed by, the provisions of the TIA required to be part of and to govern indentures qualified under the TIA upon such qualification regardless of whether this Indenture shall ever be so qualified; that this shall not constitute any admission or acknowledgment by any party hereto that any such qualification is required prior to the time such qualification is in fact required under the terms of the TIA. If any provision hereof limits, qualifies or conflicts with another provision hereof that is required to be included in an indenture qualified under the TIA, such required provision shall control.providedSection 12.01 Section 12.02.                      Certificate and Opinion as to Conditions Precedent. Upon any request or application by the Company to the Trustee to take or refrain from taking any action under this Indenture, the Company shall, upon request, deliver to the Trustee an Officers\\' Certificate stating that all conditions precedent (including covenants compliance with which constitutes a condition precedent), if any, provided for in this Indenture relating to the proposed action have been complied with and, upon request, an Opinion of Counsel stating that in the opinion of such counsel, all such conditions precedent (including covenants compliance with which constitutes a condition precedent), if any, have been complied with. Section 12.03.                      Statements Required in Certificate or Opinion. Each certificate or opinion with respect to compliance with a covenant or condition provided for in this Indenture (other than Officers\\' Certificates provided for in ) shall include:Section 4.03(a)                                 a statement that the individual making such certificate or opinion has read such covenant or condition; (b)                                a brief statement as to the nature and scope of the examination or investigation upon which the statements or opinions contained in such certificate or opinion are based; (c)                                 a statement that, in the opinion of such individual, he has made such examination or investigation as is necessary to enable him to express an informed opinion as to whether or not such covenant or condition has been complied with; and (d)                                a statement as to whether or not, in the opinion of such individual, such covenant or condition has been complied with. In giving an Opinion of Counsel, counsel may rely as to factual matters on an Officers\\' Certificate or such other certificates of officer(s) of the Company as it may deem appropriate and on certificates of public officials. Section 12.04.                      Successors. All the covenants, stipulations, promises and agreements of the Company contained in this Indenture and the Notes shall bind its successors and assigns whether so expressed or not.  All agreements of the Trustee in this Indenture shall bind its successors and assigns whether so expressed or not. Section 12.05.                      Official Acts by Successor Corporation. Any act or proceeding by any provision of this Indenture authorized or required to be done or performed by any board, committee or officer of the Company shall and may be done and performed with like force and effect by the like board, committee or officer of any corporation or entity that shall at the time be the lawful sole successor of the Company. Section 12.06.                      Addresses for NoticesEtc, . Any notice or demand which by any provision of this Indenture is required or permitted to be given or served by the Trustee or by the Noteholders on the Company shall be deemed to have been sufficiently given or made, for all purposes if given or served by being deposited postage prepaid by registered or certified mail in a post office letter box addressed (until another address is filed by the Company with the Trustee) to the Company, 10 East 40th Street, New York, New York 10016, Attention Joseph Ferraro.  Any notice, direction, request or demand hereunder to or upon the Trustee shall be deemed to have been sufficiently given or made, for all purposes, if given or served by being deposited postage prepaid by registered or certified mail in a post office letter box addressed to American Stock Transfer and Trust Company, LLC 59 Maiden Lane, New York, New York 10038, Attention:  Corporate Trust Services/Prospect Capital Corporation., The Trustee, by notice to the Company, may designate additional or different addresses for subsequent notices or communications.Any notice or communication mailed to a Noteholder shall be mailed to him by first class mail, postage prepaid, at his address as it appears on the Note Register and shall be sufficiently given to him if so mailed within the time prescribed. Failure to mail a notice or communication to a Noteholder or any defect in it shall not affect its sufficiency with respect to other Noteholders.  If a notice or communication is mailed in the manner provided above, it is duly given, whether or not the addressee receives it. Section 12.07.                      Governing Law. THIS INDENTURE AND THE NOTES SHALL BE GOVERNED BY AND CONSTRUED IN ACCORDANCE WITH THE LAWS OF THE STATE OF NEW YORK WITHOUT REGARD TO CONFLICT OF LAWS PRINCIPLES OF SUCH STATE OTHER THAN NEW YORK GENERAL OBLIGATIONS LAW SECTION 5-1401.  THIS INDENTURE IS SUBJECT TO THE PROVISIONS OF THE TIA THAT ARE REQUIRED TO BE A PART OF THIS INDENTURE AND SHALL, TO THE EXTENT APPLICABLE, BE GOVERNED BY SUCH PROVISIONS. Section 12.08.                      Benefits of Indenture. Nothing in this Indenture or in the Notes, expressed or implied, shall give to any person, other than the parties hereto, any Paying Agent, any authenticating agent, any Security Registrar and their successors hereunder, the Noteholders, any benefit or any legal or equitable right, remedy or claim under this Indenture. Section 12.09.                      Table of ContentsHeadingsEtc,, . The table of contents and the titles and headings of the articles and sections of this Indenture have been inserted for convenience of reference only, are not to be considered a part hereof, and shall in no way modify or restrict any of the terms or provisions hereof. Section 12.10.                      Counterparts. This Indenture may be executed and delivered in any number of counterparts, each of which when so executed and delivered shall be deemed to be an original, and all such counterparts shall together constitute but one and the same instrument. Section 12.11.                      Trustee. The Trustee makes no representations as to the validity or sufficiency of this Indenture.  The statements and recitals herein are deemed to be those of the Company and not of the Trustee. Section 12.12.                      Further Instruments and Acts. Upon request of the Trustee, the Company will execute and deliver such further instruments and do such further acts as may be reasonably necessary or proper to carry out more effectively the purposes of this Indenture.Section 12.13.                      Waiver of Jury Trial. EACH OF THE COMPANY AND THE TRUSTEE HEREBY IRREVOCABLY WAIVES, TO THE FULLEST EXTENT PERMITTED BY APPLICABLE LAW, ANY AND ALL RIGHT TO TRIAL BY JURY IN ANY LEGAL PROCEEDING ARISING OUT OF OR RELATING TO THIS INDENTURE, THE NOTES OR THE TRANSACTION CONTEMPLATED HEREBY. Section 12.14.                      Force Majeure. In no event shall the Trustee or Conversion Agent be responsible or liable for any failure or delay in the performance of its obligations hereunder arising out of or caused by, directly or indirectly, forces beyond its control, including, without limitation, strikes, work stoppages, accidents, acts of war or terrorism, civil or military disturbances, nuclear or natural catastrophes or other acts of God, and interruptions, loss or malfunction of utilities, communications or computer (software or hardware) services; it being understood that the Trustee and the Conversion Agent shall use reasonable efforts which are consistent with accepted practices in the banking industry to resume performance as soon as practicable under the circumstances. Section 12.15.                      Calculations. Except as otherwise provided in this Indenture, the Company shall be responsible for making all calculations called for under the Notes. These calculations include, but are not limited to, determinations of the Last Reported Sale Price of Common Stock, accrued interest payable on the Notes and the Conversion Rate and Conversion Price. The Company or its agents shall make all these calculations in good faith and, absent manifest error, such calculations will be final and binding on Holders of the Notes. The Company shall provide a schedule of these calculations to each of the Trustee and the Conversion Agent, and each of the Trustee and Conversion Agent is entitled to rely upon the accuracy of the Company\\'s calculations without independent verification. The Trustee will forward these calculations to any Holder of the Note upon the request of that Holder.IN WITNESS WHEREOF, the parties hereto have caused this Indenture to be duly executed by their respective officers hereunto duly authorized, all as of the day and year first above written.  RIDER A Make-Whole Table: EXHIBIT A[UNLESS THIS CERTIFICATE IS PRESENTED BY AN AUTHORIZED REPRESENTATIVE OF THE DEPOSITORY TRUST COMPANY, A NEW YORK CORPORATION (\"DTC\"), TO THE COMPANY OR ITS AGENT FOR REGISTRATION OF TRANSFER, EXCHANGE, OR PAYMENT, AND ANY CERTIFICATE ISSUED IS REGISTERED IN THE NAME OF CEDE & CO. OR IN SUCH OTHER NAME AS IS REQUESTED BY AN AUTHORIZED REPRESENTATIVE OF DTC (AND ANY PAYMENT IS MADE TO CEDE & CO. OR TO SUCH OTHER ENTITY AS IS REQUESTED BY AN AUTHORIZED REPRESENTATIVE OF DTC), ANY TRANSFER, PLEDGE, OR OTHER USE HEREOF FOR VALUE OR OTHERWISE BY OR TO ANY PERSON IS WRONGFUL INASMUCH AS THE REGISTERED OWNER HEREOF, CEDE & CO., HAS AN INTEREST HEREIN.] [Restricted Note Legend] THE NOTES AND THE COMMON STOCK, IF ANY, ISSUABLE UPON CONVERSION OF THIS NOTE HAVE NOT BEEN REGISTERED UNDER THE SECURITIES ACT OF 1933, AS AMENDED (THE \"SECURITIES ACT\"), OR ANY STATE SECURITIES LAWS. NEITHER THIS SECURITY NOR ANY INTEREST OR PARTICIPATION HEREIN OR THEREIN MAY BE REOFFERED, SOLD, ASSIGNED, TRANSFERRED, PLEDGED, ENCUMBERED OR OTHERWISE DISPOSED OF IN THE ABSENCE OF SUCH REGISTRATION OR UNLESS SUCH TRANSACTION IS EXEMPT FROM, AND NOT SUBJECT TO, REGISTRATION. BY ITS ACQUISITION HEREOF OR OF A BENEFICIAL INTEREST HEREIN, THE ACQUIRER: 1.              REPRESENTS THAT IT AND ANY ACCOUNT FOR WHICH IT IS ACTING IS A \"QUALIFIED INSTITUTIONAL BUYER\" (WITHIN THE MEANING OF RULE 144A UNDER THE SECURITIES ACT) AND THAT IT EXERCISES SOLE INVESTMENT DISCRETION WITH RESPECT TO EACH SUCH ACCOUNT, AND 2.              AGREES FOR THE BENEFIT OF PROSPECT CAPITAL CORPORATION (THE \"COMPANY\") THAT IT WILL NOT OFFER, SELL, ASSIGN, TRANSFER, PLEDGE, ENCUMBER OR OTHERWISE DISPOSE OF THIS SECURITY OR ANY BENEFICIAL INTEREST HEREIN PRIOR TO THE DATE THAT IS THE LATER OF (X) ONE YEAR AFTER THE LAST ORIGINAL ISSUE DATE HEREOF OR SUCH SHORTER PERIOD OF TIME AS PERMITTED BY RULE 144 UNDER THE SECURITIES ACT OR ANY SUCCESSOR PROVISION THEREUNDER, AND (Y) SUCH LATER DATE,IF ANY, AS MAY BE REQUIRED BY APPLICABLE LAW, EXCEPT: (A) TO THE COMPANY OR ANY OF ITS SUBSIDIARIES, OR (B) PURSUANT TO A REGISTRATION STATEMENT WHICH HAS BECOME EFFECTIVE UNDER THE SECURITIES ACT, OR (C) TO A QUALIFIED INSTITUTIONAL BUYER IN COMPLIANCE WITH RULE 144A UNDER THE SECURITIES ACT, OR (D) PURSUANT TO AN EXEMPTION FROM REGISTRATION PROVIDED BY RULE 144 UNDER THE SECURITIES ACT OR ANY OTHER AVAILABLE EXEMPTION FROM THE REGISTRATION REQUIREMENTS OF THE SECURITIES ACT. PRIOR TO THE REGISTRATION OF ANY TRANSFER IN ACCORDANCE WITH CLAUSE (2)(D) ABOVE, THE COMPANY, AND THE TRANSFER AGENT, IN THE CASE OF ANY COMMON STOCK ISSUED UPON THE CONVERSION OF THE NOTES, AND THE TRUSTEE RESERVE THE RIGHT TO REQUIRE THE DELIVERY OF SUCH LEGAL OPINIONS, CERTIFICATIONS OR OTHER EVIDENCE AS MAY REASONABLY BE REQUIRED IN ORDER TO DETERMINE THAT THE PROPOSED TRANSFER IS BEING MADE IN COMPLIANCE WITH THE SECURITIES ACT AND APPLICABLE STATE SECURITIES LAWS. NO REPRESENTATION IS MADE AS TO THE AVAILABILITY OF ANY EXEMPTION FROM THE REGISTRATION REQUIREMENTS OF THE SECURITIES ACT. NO AFFILIATE (AS DEFINED IN RULE 144 UNDER THE SECURITIES ACT) OF THE COMPANY OR PERSON THAT HAS BEEN AN AFFILIATE (AS DEFINED IN RULE 144 UNDER THE SECURITIES ACT) OF THE COMPANY DURING THE THREE IMMEDIATELY PRECEDING MONTHS MAY PURCHASE OR OTHERWISE ACQUIRE THIS NOTE OR A BENEFICIAL INTEREST HEREIN. THIS NOTE HAS BEEN ISSUED WITH \"ORIGINAL ISSUE DISCOUNT\" (WITHIN THE MEANING OF SECTION 1272 OF THE INTERNAL REVENUE CODE OF 1986, AS AMENDED). UPON WRITTEN REQUEST, THE ISSUER WILL PROMPTLY MAKE AVAILABLE TO ANY HOLDER OF THIS NOTE THE FOLLOWING INFORMATION: (1) THE ISSUE PRICE AND DATE OF THE NOTE, (2) THE AMOUNT OF ORIGINAL ISSUE DISCOUNT ON THE NOTE AND (3) THE YIELD TO MATURITY OF THE NOTE. HOLDERS SHOULD CONTACT BRIAN OSWALD AT PROSPECT CAPITAL CORPORATION, 10 EAST 40THSTREET, NEW YORK, NEW YORK, 10016. Prospect Capital Corporation, a corporation organized under the laws of Maryland (herein called the \",\" which term includes any successor corporation under the Indenture referred to on the reverse hereof), for value received hereby promises to pay to [CEDE & CO., or registered assigns (the \"\")](1), the principal sum of [        ] ($[        ])[, or such other principal amount as shall be set forth on the Schedule I hereto,](2) on March 15, 2018, unless earlier converted or repurchased.CompanyDepositary This Note shall bear interest at the rate of 5.75% per year from August 14, 2012, or from the most recent date to which interest had been paid or provided.  Interest on this Note shall be computed on the basis of a 360-day year comprised of twelve 30-day months.  Except as otherwise provided in the Indenture, interest is payable semi-annually in arrears on each March 15 and September 15, commencing March 15, 2013, to Holders of record at the Close of Business on the preceding March 1 and September 1, respectively.  Interest payable on each Interest Payment Date shall equal the amount of interest accrued from, and including the immediately preceding Interest Payment Date (or from and including August 14, 2012, if no interest has been paid hereon) to but excluding such Interest Payment Date.  To the extent lawful, payments of principal or interest (including Additional Interest and Filing Additional Interest, if any) on the Notes that are not made when due will accrue interest at the annual rate of 1.0% above the then-applicable interest rate borne by the Notes from the required payment date in accordance with the provisions of the Indenture. Payment of the principal and interest on this Note will be made at the office or agency of the Company maintained for that purpose in the Borough of Manhattan, City of New York, or elsewhere as provided in the Indenture, in such coin or currency of the United States of America as at the time of payment is legal tender for payment of public and private debts; , , that at the option of the Company, payment of interest, may be made by (i) check mailed to the address of the Person entitled thereto as such address shall appear in the Note Register or (ii) wire transfer to an account of the Person entitled thereto located inside the United States; , , that, with respect to any Holder of Notes with an aggregate principal amount in excess of $2,000,000, at the application of such Holder in writing to the Company, interest on such Holder\\'s Notes shall be paid by wire transfer in immediately available funds to such Holder\\'s account in the United States supplied by such Holder from time to time to the Trustee and Paying Agent (if different from the Trustee) not later than the applicable Record Date.  Notwithstanding the foregoing, payment of interest in respect of Notes held in global form shall be made in accordance with procedures required by the Depositary.providedhoweverprovidedfurtherhowever (1)  Use bracketed language for a Global Note. (2)  Use bracketed language for a Global Note.Reference is made to the further provisions of this Note set forth on the reverse hereof, including, without limitation, provisions giving the Holder of this Note the right to convert this Note into Common Stock on the terms and subject to the limitations referred to on the reverse hereof and as more fully specified in the Indenture.  Such further provisions shall for all purposes have the same effect as though fully set forth at this place. This Note shall be governed by and construed in accordance with the laws of the State of New York. This Note shall not be valid or become obligatory for any purpose until the certificate of authentication hereon shall have been manually signed by the Trustee or a duly authorized authenticating agent under the Indenture.IN WITNESS WHEREOF, the Company has caused this instrument to be duly executed by the undersigned officer.TRUSTEE\\'S CERTIFICATE OF AUTHENTICATION: This is one of the Notes of the series designated therein referred to in the within-mentioned Indenture.This Note is one of a duly authorized issue of Notes of the Company, designated as its 5.75% Senior Convertible Notes due 2018 (herein called the \"\"), issued under and pursuant to an Indenture dated as of August 14, 2012 (herein called the \"\") between the Company and American Stock Transfer & Trust Company, LLC (herein called the \"\"), to which Indenture and all indentures supplemental thereto reference is hereby made for a description of the rights, limitations of rights, obligations, duties and immunities thereunder of the Trustee, the Company and the Holders of the Notes.  Additional Notes may be issued in an unlimited aggregate principal amount, subject to certain conditions specified in the Indenture.  Capitalized terms used but not defined in this Note shall have the meanings ascribed to them in the Indenture.NotesIndentureTrustee In case an Event of Default, as defined in the Indenture, shall have occurred and be continuing, the principal of and interest on all Notes may be declared, and upon said declaration shall become, due and payable, in the manner, with the effect and subject to the conditions provided in the Indenture. Subject to the terms and conditions of the Indenture, the Company will make all payments and deliveries in respect of the Fundamental Change Repurchase Price and the principal amount on the Maturity Date, as the case may be, to the Holder who surrenders a Note to a Paying Agent to collect such payments in respect of the Note.  The Company will pay cash amounts in money of the United States that at the time of payment is legal tender for payment of public and private debts. The Indenture contains provisions permitting the Company and the Trustee in certain circumstances, without the consent of the Holders of the Notes, and in other circumstances, with the consent of the Holders of not less than a majority in principal amount of the Notes at the time Outstanding, evidenced as in the Indenture provided, to execute supplemental indentures adding any provisions to or changing in any manner or eliminating any of the provisions of the Indenture or of any supplemental indenture or modifying in any manner the rights of the Holders of the Notes; , , that no such supplemental indenture shall make any of the changes set forth in Section 8.02 of the Indenture, without the consent of each Holder of an Outstanding Note affected thereby.  It is also provided in the Indenture that, prior to any declaration accelerating the maturity of the Notes, the Holders of a majority in principal amount of the Notes at the time Outstanding may on behalf of the Holders of all of the Notes waive any past Default or Event of Default under the Indenture and its consequences except as provided in the Indenture.  Any such consent or waiver by the Holder of this Note (unless revoked as provided in the Indenture) shall be conclusive and binding upon such Holder and upon all future Holders and owners of this Note and any securities which may be issued in exchange or substitution hereof, irrespective of whether or not any notation thereof is made upon this Note or such other securities.providedhoweverNo reference herein to the Indenture and no provision of this Note or of the Indenture shall alter or impair the obligation of the Company, which is absolute and unconditional, to pay the principal of and accrued and unpaid interest on this Note at the place, at the respective times, at the rate and in the lawful money herein prescribed. The Notes are issuable in registered form without coupons in denominations of $1,000 principal amount and integral multiples thereof.  At the office or agency of the Company referred to on the face hereof, and in the manner and subject to the limitations provided in the Indenture, without payment of any service charge but with payment of a sum sufficient to cover any tax or other governmental charge that may be imposed in connection with any registration of transfer or exchange of Notes (except as otherwise provided in the Indenture), Notes may be exchanged for a like aggregate principal amount of Notes of other authorized denominations. The Notes are not subject to redemption and will not be entitled to the benefit of any sinking fund. Upon the occurrence of a Fundamental Change, the Holder has the right, at such Holder\\'s option, to require the Company to repurchase all of such Holder\\'s Notes or any portion thereof (in principal amounts of $1,000 or integral multiples thereof) in accordance with the provisions of the Indenture on the Fundamental Change Repurchase Date at a price equal to 100% of the principal amount of the Notes such holder elects to require the Company to repurchase, together with accrued and unpaid interest (including Additional Interest and Filing Additional Interest, if any) to but excluding the Fundamental Change Repurchase Date.  The Company shall mail to all Holders of record of the Notes a notice of the occurrence of a Fundamental Change and of the repurchase right arising as a result thereof at any time following the Company entering into a definitive agreement that, if consummated, would give rise to a Fundamental Change, but in any event not later than the fifth (5th) calendar day after the occurrence of a Fundamental Change. Subject to and upon compliance with the provisions of the Indenture, the Holder may surrender for conversion all or any portion of this Note that is in an integral multiple of $1,000.  Upon conversion, the Holder shall be entitled to receive the consideration specified in the Indenture.  No fractional share of Common Stock shall be issued upon conversion of a Note.  Instead, the Company shall pay cash in lieu of such fractional share of Common Stock as provided in the Indenture.  The initial Conversion Rate shall be 82.3451 shares of Common Stock per $1,000 principal amount of Notes, subject to adjustment in accordance with the provisions of the Indenture.  If a Holder converts all or a part of this Note in connection with the occurrence of certain Fundamental Change transactions, the Conversion Rate shall be increased in the manner and to the extent described in the Indenture. Upon due presentment for registration of transfer of this Note at the office or agency of the Company in the Borough of Manhattan, City of New York, a new Note or Notes of authorized denominations for an equal aggregate principal amount will be issued to the transferee in exchange thereof, subject to the limitations provided in the Indenture, without charge except for any tax, assessments or other governmental charge imposed in connection with any registration of transfer or exchange of Notes (except as otherwise set forth in the Indenture).The Company, the Trustee, any authenticating agent, any Paying Agent, any Conversion Agent and any Security Registrar may deem and treat the registered Holder hereof as the absolute owner of this Note (whether or not this Note shall be overdue and notwithstanding any notation of ownership or other writing hereon), for the purpose of receiving payment hereof, or on account hereof, for the conversion hereof and for all other purposes, and neither the Company nor the Trustee nor any other authenticating agent nor any Paying Agent nor any other Conversion Agent nor any Security Registrar shall be affected by any notice to the contrary.  All payments made to or upon the order of such registered Holder shall, to the extent of the sum or sums paid, satisfy and discharge liability for monies payable on this Note. Customary abbreviations may be used in the name of a Holder or an assignee, such as TEN COM (=tenants in common), TENANT (=tenants by the entireties), JT TEN (=joint tenants with right of survivorship and not as tenants in common), CUST (=custodian), and U/G/M/A (=Uniform gift to Minors Act).Schedule I(3)No.                                  (3)  For Global Notes only EXHIBIT B To:  Prospect Capital Corporation The undersigned registered owner of this Note hereby exercises the option to convert this Note, or the portion hereof (which is $1,000 principal amount or an integral multiple thereof) below designated into shares of Common Stock in accordance with the terms of the Indenture referred to in this Note, and directs that the shares of Common Stock issuable and deliverable upon such conversion, together with any check in payment for fractional shares of Common Stock, and any Notes representing any unconverted principal amount hereof, be issued and delivered to the registered holder hereof unless a different name has been indicated below.  If shares or any portion of this Note not converted are to be issued in the name of a person other than the undersigned, the undersigned will pay all transfer taxes and duties payable with respect thereto.  Any amount required to be paid to the undersigned on account of interest accompanies this Note.  EXHIBIT C To:  Prospect Capital Corporation The undersigned registered owner of this Note hereby acknowledges receipt of a notice from Prospect Capital Corporation (the \"\") as to the occurrence of a Fundamental Change with respect to the Company and requests and instructs the Company to repay the entire principal amount of this Note, or the portion thereof (which is $1,000 principal amount or an integral multiple thereof) below designated, in accordance with the terms of the Indenture referred to in this Note, to the registered holder hereof.Company EXHIBIT D For value received                              hereby sell(s), assign(s) and transfer(s) unto                            (Please insert social security or Taxpayer Identification Number of assignee) the within Note, and hereby irrevocably constitutes and appoints                          attorney to transfer the said Note on the books of the Company, with full power of substitution in the premises. In connection with any transfer of the Notes prior to the Resale Restriction Termination Date of the original issuance of the Notes, the undersigned confirms that such Notes are being transferred:                  To Prospect Capital Corporation or a subsidiary thereof; or                 To a \"qualified institutional buyer\" in compliance with Rule 144A under the Securities Act of 1933, as amended; or                 Pursuant to and in compliance with Rule 144 under the Securities Act of 1933, as amended; or                 Pursuant to a Registration Statement which has been declared effective under the Securities Act of 1933, as amended, and which continues to be effective at the time of transfer; and unless the Notes has been transferred to Prospect Capital Corporation or a subsidiary thereof, the undersigned confirms that such Notes are not being transferred to an \"affiliate\" of the Company as defined in Rule 144 under the Securities Act of 1933, as amended. Capitalized terms used but not defined herein shall have the respective meanings assigned to them in the Indenture between Prospect Capital Corporation and American Stock Transfer & Trust Company, LLC, as Trustee. Unless one of the boxes is checked, the Trustee shall refuse to register any of the Notes evidenced by this certificate in the name of any person other than the registered holder thereof.  NOTICE:  The signature on the conversion notice, the option to elect repurchase upon a Fundamental Change, or the assignment must correspond with the name as written upon the face of the Note in every particular without alteration or enlargement or any change whatever.EXHIBIT E THIS SECURITY (OR ITS PREDECESSOR) WAS ORIGINALLY ISSUED IN A TRANSACTION EXEMPT FROM REGISTRATION UNDER THE UNITED STATES SECURITIES ACT OF 1933, AS AMENDED (THE SECURITIES ACT ), AND THIS SECURITY MAY NOT BE OFFERED, SOLD OR OTHERWISE TRANSFERRED IN THE ABSENCE OF SUCH REGISTRATION OR AN APPLICABLE EXEMPTION THEREFROM. THE HOLDER OF THIS SECURITY AGREES FOR THE BENEFIT OF THE COMPANY THAT (A) THIS SECURITY MAY BE OFFERED, RESOLD, PLEDGED OR OTHERWISE TRANSFERRED, ONLY (I) PURSUANT TO AN EXEMPTION FROM THE REGISTRATION REQUIREMENTS OF THE SECURITIES ACT, INCLUDING THE EXEMPTION PROVIDED BY RULE 144 UNDER THE SECURITIES ACT (IF AVAILABLE), SUBJECT TO THE ISSUER\\'S AND THE TRUSTEE\\'S RIGHT PRIOR TO ANY SUCH OFFER, SALE OR TRANSFER PURSUANT TO THIS CLAUSE (I) TO REQUIRE THE DELIVERY OF AN OPINION OF COUNSEL, CERTIFICATION AND/OR OTHER INFORMATION SATISFACTORY TO EACH OF THEM THAT ANY SUCH EXEMPTION IS AVAILABLE TO THE HOLDER, (II) PURSUANT TO AN EFFECTIVE REGISTRATION STATEMENT UNDER THE SECURITIES ACT OR (III) TO THE COMPANY OR ANY OF ITS SUBSIDIARIES, IN EACH OF CASES (I) THROUGH (III) IN ACCORDANCE WITH ANY APPLICABLE SECURITIES LAWS OF ANY STATE OF THE UNITED STATES, AND (B) THE HOLDER WILL, AND EACH SUBSEQUENT HOLDER IS REQUIRED TO, NOTIFY ANY SUBSEQUENT PURCHASER OF THIS SECURITY FROM IT OF THE RESALE RESTRICTIONS REFERRED TO IN (A) ABOVE.Exhibit 99.1 Prospect Capital Closes Private Offering of $200 Million of 5.75% 5.5-Year Unsecured Convertible Senior Notes NEW YORK  (Market Wire) August 14, 2012  Prospect Capital Corporation (NASDAQ: PSEC, \"Prospect\" or \"Company\") announced today that it has closed a private placement of 5.5-year unsecured 5.75% Senior Convertible Notes Due 2018 (the \"Notes\"). A total of $200 million aggregate principal amount of the Notes were issued at the closing with net proceeds to the Company of approximately $193.6 million.  The Company has also granted the initial purchaser of the Notes an option to purchase up to an additional $30 million in aggregate principal amount of the Notes. The Notes are convertible into shares of Prospect\\'s common stock based on an initial conversion rate of 82.3451 shares of Prospect\\'s common stock per $1,000 principal amount of Notes, which is equivalent to an initial conversion price of approximately $12.14 per share of common stock, representing an approximately 10% conversion premium over the last reported sale price of Prospect\\'s common stock on August 8, 2012, which was $11.04 per share. The conversion price for the Notes will be reduced for monthly cash dividends paid to common shares at more than 10.16 cents per share, subject to adjustment. The Notes will bear interest at an annual rate of 5.75%, payable semiannually in arrears on March 15 and September 15 of each year, beginning March 15, 2013. The Notes will mature on March 15, 2018, unless previously converted in accordance with their terms. The Notes will be general unsecured obligations of Prospect, will rank equally in right of payment with Prospect\\'s existing and future senior unsecured debt (including Prospect\\'s outstanding 6.25% convertible senior notes due 2015, 5.5% convertible senior notes due 2016, 5.375% convertible senior notes due 2017, 6.95% senior notes due 2022 and any Prospect Capital InterNotes outstanding), and will rank senior in right of payment to any potential subordinated debt, should any be issued in the future. Prospect intends to use the net proceeds from the sale of the Notes to maintain balance sheet liquidity, including repayment of debt under its credit facility and investments in high quality short-term debt instruments, or a combination thereof, and thereafter to make long-term investments in accordance with Prospect\\'s investment objectives. The Notes have no restrictions related to the type and security of assets in which Prospect might invest. The Notes and the shares of common stock issuable upon conversion of the Notes have not been registered under the Securities Act of 1933, as amended (the \"Securities Act\"), or any applicable state securities laws. The Notes were offered only to qualified institutional buyers pursuant to Rule 144A promulgated under the Securities Act. This press release is for informational purposed only and shall not constitute an offer to sell or the solicitation of an offer to buy the Notes, nor shall there be any sale of these securities, in any state in which such offer, solicitation or sale would be unlawful prior to registration or qualification under the securities laws of any state.ABOUT PROSPECT CAPITAL CORPORATIONProspect Capital Corporation is a closed-end investment company that lends to and invests in private and microcap public businesses. Our investment objective is to generate both current income and long-term capital appreciation through debt and equity investments. We have elected to be treated as a business development company under the Investment Company Act of 1940 (\"1940 Act\"). We are required to comply with a series of regulatory requirements under the 1940 Act as well as applicable NASDAQ, federal and state rules and regulations. We have elected to be treated as a regulated investment company under the Internal Revenue Code of 1986. Failure to comply with any of the laws and regulations that apply to us could have an adverse effect on us and our shareholders. This press release contains forward-looking statements within the meaning of the Private Securities Litigation Reform Act of 1995, whose safe harbor for forward-looking statements does not apply to business development companies. Any such statements, other than statements of historical fact, are highly likely to be affected by other unknowable future events and conditions, including elements of the future that are or are not under our control, and that we may or may not have considered; accordingly, such statements cannot be guarantees or assurances of any aspect of future performance. Actual developments and results are highly likely to vary materially from these statements. Such statements speak only as of the time when made, and we undertake no obligation to update any such statement now or in the future. For further information, contact:Grier Eliasek, President and Chief Operating Officergrier@prospectstreet.com(212) 448-9577'"
      ]
     },
     "execution_count": 531,
     "metadata": {},
     "output_type": "execute_result"
    }
   ],
   "source": [
    "downsampled_csv['8K_Content'].iloc[46]"
   ]
  },
  {
   "cell_type": "code",
   "execution_count": 515,
   "metadata": {},
   "outputs": [
    {
     "data": {
      "text/plain": [
       "2         [Check, the, appropriate, box, below, if, the,...\n",
       "4         [Check, the, appropriate, box, below, if, the,...\n",
       "6         [Check, the, appropriate, box, below, if, the,...\n",
       "7         [UNITED, STATESSECURITIES, AND, EXCHANGE, COMM...\n",
       "12        [UNITED, STATESSECURITIES, AND, EXCHANGE, COMM...\n",
       "13        [Check, the, appropriate, box, below, if, the,...\n",
       "30        [Check, the, appropriate, box, below, if, the,...\n",
       "31        [Check, the, appropriate, box, below, if, the,...\n",
       "37        [Check, the, appropriate, box, below, if, the,...\n",
       "40        [Check, the, appropriate, box, below, if, the,...\n",
       "41        [Check, the, appropriate, box, below, if, the,...\n",
       "43        [Check, the, appropriate, box, below, if, the,...\n",
       "45        [UNITED, STATESSECURITIES, AND, EXCHANGE, COMM...\n",
       "51        [Check, the, appropriate, box, below, if, the,...\n",
       "53        [SECURITIES, AND, EXCHANGE, COMMISSIONWASHINGT...\n",
       "59        [Check, the, appropriate, box, below, if, the,...\n",
       "69        [Check, the, appropriate, box, below, if, the,...\n",
       "70        [Check, the, appropriate, box, below, if, the,...\n",
       "76        [Check, the, appropriate, box, below, if, the,...\n",
       "80        [Check, the, appropriate, box, below, if, the,...\n",
       "85        [UNITED, STATESSECURITIES, AND, EXCHANGE, COMM...\n",
       "88        [UNITED, STATESSECURITIES, AND, EXCHANGE, COMM...\n",
       "90        [Check, the, appropriate, box, below, if, the,...\n",
       "93        [Check, the, appropriate, box, below, if, the,...\n",
       "94        [Check, the, appropriate, box, below, if, the,...\n",
       "97        [UNITED, STATESSECURITIES, AND, EXCHANGE, COMM...\n",
       "99        [Check, the, appropriate, box, below, if, the,...\n",
       "102       [Check, the, appropriate, box, below, if, the,...\n",
       "105       [Check, the, appropriate, box, below, if, the,...\n",
       "107       [Check, the, appropriate, box, below, if, the,...\n",
       "                                ...                        \n",
       "107324    [Check, the, appropriate, line, below, if, the...\n",
       "107326    [SECURITIES, AND, EXCHANGE, COMMISSIONWashingt...\n",
       "107327    [UNITED, STATESSECURITIES, AND, EXCHANGE, COMM...\n",
       "107334    [Check, the, appropriate, box, below, if, the,...\n",
       "107342    [Check, the, appropriate, box, below, if, the,...\n",
       "107349    [Item, 2.02., Results, of, Operations, and, Fi...\n",
       "107359    [Check, the, appropriate, box, below, if, the,...\n",
       "107360    [UNITED, STATES, SECURITIES, AND, EXCHANGE, CO...\n",
       "107367    [[], Written, communication, pursuant, to, Rul...\n",
       "107369    [[], Written, communication, pursuant, to, Rul...\n",
       "107376    [Check, the, appropriate, box, below, if, the,...\n",
       "107377    [Check, the, appropriate, box, below, if, the,...\n",
       "107378    [Check, the, appropriate, box, below, if, the,...\n",
       "107381    [Check, the, appropriate, box, below, if, the,...\n",
       "107384    [Check, the, appropriate, box, below, if, the,...\n",
       "107385    [Check, the, appropriate, box, below, if, the,...\n",
       "107391    [Check, the, appropriate, box, below, if, the,...\n",
       "107395    [Check, the, appropriate, box, below, if, the,...\n",
       "107405    [Check, the, appropriate, box, below, if, the,...\n",
       "107406    [Check, the, appropriate, box, below, if, the,...\n",
       "107407    [Check, the, appropriate, box, below, if, the,...\n",
       "107412    [Check, the, appropriate, box, below, if, the,...\n",
       "107421    [UNITED, STATESSECURITIES, AND, EXCHANGE, COMM...\n",
       "107425    [Check, the, appropriate, box, below, if, the,...\n",
       "107431    [Check, the, appropriate, box, below, if, the,...\n",
       "107432    [UNITED, STATESSECURITIES, AND, EXCHANGE, COMM...\n",
       "107440    [Check, the, appropriate, box, below, if, the,...\n",
       "107445    [UNITED, STATESSECURITIES, AND, EXCHANGE, COMM...\n",
       "107449    [Check, the, appropriate, box, below, if, the,...\n",
       "107454    [UNITED, STATESSECURITIES, AND, EXCHANGE, COMM...\n",
       "Name: 8K_Content, Length: 26728, dtype: object"
      ]
     },
     "execution_count": 515,
     "metadata": {},
     "output_type": "execute_result"
    }
   ],
   "source": [
    "downsampled_csv['8K_Content'].str.split()"
   ]
  },
  {
   "cell_type": "code",
   "execution_count": 507,
   "metadata": {},
   "outputs": [
    {
     "data": {
      "text/plain": [
       "300"
      ]
     },
     "execution_count": 507,
     "metadata": {},
     "output_type": "execute_result"
    }
   ],
   "source": [
    "len(downsampled_csv['8K_Content_sequences'].iloc[0])"
   ]
  },
  {
   "cell_type": "code",
   "execution_count": 502,
   "metadata": {},
   "outputs": [
    {
     "data": {
      "text/plain": [
       "'              Check the appropriate box below if the Form 8-K filing is intended to simultaneously satisfy the filing obligation of the registrant under any of the following provisions (see General Instruction A.2. below):       On February 27, 2012, Career Education Corporation (the \"Registrant\") issued a press release describing the Registrant\\'s financial results for the quarter and fiscal year ended December 31, 2011.A copy of the press release is being furnished as Exhibit 99.1, and the information contained therein is incorporated herein by reference. The information contained in Item 2.02 of this Form 8-K, including the exhibit, shall not be deemed \"filed\" for purposes of Section 18 of the Securities Exchange Act of 1934, as amended, and the information shall not be deemed incorporated by reference into any filing under the Securities Act of 1933, as amended, except as shall be expressly set forth by specific reference in such a filing.    Pursuant to the requirements of the Securities Exchange Act of 1934, the Registrant has duly caused this report to be signed on its behalf by the undersigned hereunto duly authorized. Dated: February 27, 2012   Exhibit 99.1 Schaumburg, Ill. (February 27, 2012)  Career Education Corporation (NASDAQ: CECO) today reported total revenue of $439.5 million, and a net loss of $120.4 million, or ($1.64) per diluted share, for the fourth quarter of 2011 compared to total revenue of $531.6 million and net income of $12.1 million, or $0.15 per diluted share, for the fourth quarter of 2010. For the full year 2011, total revenue of $1.88 billion, and net income of $18.6 million, or $0.25 per diluted share decreased from total revenue of $2.09 billion and net income of $157.8 million, or $1.95 per diluted share, for the full year 2010.\"In the past four months, we have taken steps to help move the company forward,\" President, Chairman and CEO Steven H. Lesnik said. \"The company-wide independent review into our placement rate practices, ordered by our Board of Directors, has been completed. We have reported to accreditors what we should; implemented extensive corrective measures to address any issues found; and have now closed the door on the review.\"\"While we expect a challenging business and reputational year ahead, we have put a new strategy in place to deal with our current challenges and position ourselves for success beyond 2012. It\\'s time for Career Education to reinvent itself for the future and resume a leadership position in higher education,\" Lesnik said.The Company believes it is useful to present non-GAAP financial measures, which exclude certain significant items, as a means to understand the performance of its core business. On a non-GAAP basis, earnings per diluted share from continuing operations were $0.31 in the fourth quarter 2011 as compared to $0.74 in the fourth quarter of 2010. For the years ended December 31, 2011 and 2010, earnings per diluted share from continuing operations (non-GAAP basis) were $2.16 and $2.89, respectively. (See tables below and the GAAP to non-GAAP reconciliation attached to this press release for further details.)CONSOLIDATED RESULTSQuarter Ended December 31, 2011    CEC ANNOUNCES 4Q11 RESULTS PG 2    Year Ended December 31, 2011   CEC ANNOUNCES 4Q11 RESULTS PG 3    CONSOLIDATED CASH FLOWS AND FINANCIAL POSITIONCash Flows  Financial Position Stock Repurchase ProgramDuring the quarter ended December 31, 2011, the Company repurchased 1.8 million shares of its common stock for approximately $13.4 million at an average price of $7.41 per share. During 2011, the Company repurchased approximately 8.1 million shares of its common stock for approximately $150.4 million at an average price of $18.67 per share. Under the Company\\'s previously authorized stock repurchase program, stock repurchases may be made on the open market or in privately negotiated transactions from time to time, depending on factors including market conditions and corporate and regulatory requirements. As of December 31, 2011, approximately $239.8 million was available under the Company\\'s stock repurchase program.During January 2012, the Company repurchased an additional 6.1 million shares of its common stock for $56.4 million at an average price of $9.29 per share through the Company\\'s 10b5-1 repurchase program announced by the Company on November 21, 2011. As a result, approximately $183.3 million was available under our previously authorized stock repurchase program to repurchase outstanding shares of our common stock as of January 31, 2012.CEC ANNOUNCES 4Q11 RESULTS PG 4STUDENT POPULATION AND NEW STUDENT STARTSStudent PopulationTotal student population by reportable segment as of December 31, 2011 and 2010, was as follows: New Student StartsNew student starts by reportable segment for the quarters ended December 31, 2011 and 2010, were as follows:  CONFERENCE CALL INFORMATIONCareer Education Corporation will host a conference call on Tuesday, February 28, 2012 at 10:00 a.m. Eastern time. In addition to discussing the results of operations for the fourth quarter and year-to-date, the Company will address the status of the independent review of student placement rates and other regulatory matters, including the 90-10 Rule on its conference call.Interested parties can access the live webcast of the conference call at www.careered.com in the Investor Relations section of the website. Participants can also listen to the conference call by dialing 800-580-9478 (domestic) or 630-691-2769 (international) and citing code 31668922. Please log-in or dial-in at least 10 minutes prior to the start time to ensure a connection. An archived version of the webcast will be accessible for 90 days at www.careered.com in the Investor Relations section of the website. A replay of the call will also be available for seven days by calling 888-843-7419 (domestic) or 630-652-3042 (international) and citing code 31668922.CEC ANNOUNCES 4Q11 RESULTS PG 5ABOUT CAREER EDUCATION CORPORATIONThe colleges, schools and universities that are part of the Career Education Corporation (\"CEC\") family offer high-quality education to a diverse student population of approximately 100,000 students across the world in a variety of career-oriented disciplines through online, on-ground and hybrid learning program offerings. The more than 90 campuses that serve these students are located throughout the United States and in France, the United Kingdom and Monaco, and offer doctoral, master\\'s, bachelor\\'s and associate degrees and diploma and certificate programs.CEC is an industry leader whose institutions are recognized globally. Those institutions include, among others, American InterContinental University (\"AIU\"); Brooks Institute; Colorado Technical University (\"CTU\"); Harrington College of Design; INSEEC Group (\"INSEEC\") Schools; International University of Monaco (\"IUM\"); International Academy of Design & Technology (\"IADT\"); Le Cordon Bleu North America (\"LCB\"); and Sanford-Brown Institutes and Colleges. Through its schools, CEC is committed to providing high-quality education, enabling students to graduate and pursue rewarding career opportunities.For more information, see CEC\\'s website at www.careered.com. The website includes a detailed listing of individual campus locations and web links to CEC\\'s colleges, schools and universities.Except for the historical and present factual information contained herein, the matters set forth in this release, including statements identified by words such as \"anticipate,\" \"believe,\" \"plan,\" \"expect,\" \"intend,\" \"project,\" \"will,\" \"potential\" and similar expressions, are forward-looking statements as defined in Section 21E of the Securities Exchange Act of 1934, as amended. These statements are based on information currently available to us and are subject to various risks, uncertainties and other factors that could cause our actual growth, results of operations, financial condition, cash flows, performance, business prospects and opportunities to differ materially from those expressed in, or implied by, these statements. Except as expressly required by the federal securities laws, we undertake no obligation to update such factors or to publicly announce the results of any of the forward-looking statements contained herein to reflect future events, developments or changed circumstances, or for any other reason. These risks and uncertainties, the outcomes of which could materially and adversely affect our financial condition and operations, include, but are not limited to, the following: availability of Title IV and other student financial aid or loans for our students; Congress\\' willingness or ability to maintain or increase funding for Title IV Programs; our ability to maintain continued eligibility to participate in Title IV Programs, including under the \"90-10 Rule\" under the Higher Education Act of 1965, as amended; the impacts of the U.S. Department of Education\\'s regulations addressing certain aspects of administration of Title IV federal financial aid programs, (including among other matters, gainful employment, the 90-10 Rule and limits on cohort default rates, certain compensation related to recruiting and admission of students, more stringent state approval criteria that may affect current state approval and licensing processes applicable to postsecondary education institutions and distance learning programs, and misrepresentation liability) on our business model, marketing strategies and practices, costs of compliance, costs of developing and implementing changes in operations, student recruitment or enrollments, student and program mix and program offerings; increased competition; other regulatory developments; the effectiveness of our regulatory compliance efforts; the outcome of any state attorney general investigations, including those under way in Florida, Illinois and New York; any claims, sanctions, operational limitations or adverse accreditation or regulatory action initiated as a result of any adverse findings from our investigation into the determination and reporting of placement rates at our domestic schools; our ability to successfully attract and retain qualified personnel to fill key senior management positions, including the positions of president and chief executive officer; changes in the overall U.S. or global economy; any further impairment of goodwill and other intangible assets as we continue to redefine the company and manage our brands and marketing to improve effectiveness and reduce costs; charges and expenses associated with exiting excess facility space; our ability to comply with accrediting agency requirements or obtain accrediting agency approvals for existing or new programs; the outcome of any reviews and audits conducted by accrediting, state and federal agencies; our dependence on information technology systems; our ownership or use of intellectual property; costs and impacts of regulatory, legal and administrative actions, proceedings and investigations, governmental regulation, and class action and other lawsuits; our ability to manage growth; and other factors discussed in our Annual Report on Form 10-K for the year ended December 31, 2011, and from time to time in our current reports filed with the Securities and Exchange Commission.CONTACT                       Non-GAAP financial measures when viewed in a reconciliation to corresponding GAAP financial measures, provides an additional way of viewing the Company\\'s results of operations and the factors and trends affecting the Company\\'s business. Non-GAAP financial measures should be considered as a supplement to, and not as a substitute for, or superior to, the corresponding financial results presented in accordance with GAAP.    '"
      ]
     },
     "execution_count": 502,
     "metadata": {},
     "output_type": "execute_result"
    }
   ],
   "source": [
    "downsampled_csv['8K_Content'].iloc[0]"
   ]
  },
  {
   "cell_type": "code",
   "execution_count": 500,
   "metadata": {},
   "outputs": [
    {
     "data": {
      "text/plain": [
       "2       11786\n",
       "4        9500\n",
       "6        8718\n",
       "7        9349\n",
       "12       2891\n",
       "13       2432\n",
       "30       5889\n",
       "31        977\n",
       "37       3006\n",
       "40       1862\n",
       "41       8784\n",
       "43     225180\n",
       "45       1828\n",
       "51     134628\n",
       "53       5155\n",
       "59      10188\n",
       "69      11406\n",
       "70       2468\n",
       "76      85619\n",
       "80      33951\n",
       "85      17938\n",
       "88      15681\n",
       "90       1658\n",
       "93      13255\n",
       "94      73806\n",
       "97       8625\n",
       "99      11084\n",
       "102       940\n",
       "105     21699\n",
       "107      3180\n",
       "110     22252\n",
       "126      5824\n",
       "130     14757\n",
       "136      5021\n",
       "142     17608\n",
       "145     53852\n",
       "156      9641\n",
       "158     44145\n",
       "162       689\n",
       "174      6149\n",
       "175      8704\n",
       "176      1910\n",
       "189      6849\n",
       "190     13720\n",
       "191     14031\n",
       "193      6095\n",
       "195    221446\n",
       "197     13221\n",
       "201     18218\n",
       "206     15035\n",
       "Name: 8K_Content, dtype: int64"
      ]
     },
     "execution_count": 500,
     "metadata": {},
     "output_type": "execute_result"
    }
   ],
   "source": [
    "downsampled_csv['8K_Content'].iloc[:50].str.len()"
   ]
  },
  {
   "cell_type": "code",
   "execution_count": 492,
   "metadata": {},
   "outputs": [
    {
     "data": {
      "text/plain": [
       "array([[0.24205616, 0.08703232, 0.6709115 ],\n",
       "       [0.49730492, 0.11157771, 0.39111742],\n",
       "       [0.4114454 , 0.12579481, 0.46275976],\n",
       "       ...,\n",
       "       [0.12276173, 0.647173  , 0.23006532],\n",
       "       [0.0200537 , 0.95937234, 0.02057386],\n",
       "       [0.42816988, 0.13673027, 0.4350998 ]], dtype=float32)"
      ]
     },
     "execution_count": 492,
     "metadata": {},
     "output_type": "execute_result"
    }
   ],
   "source": [
    "preds"
   ]
  },
  {
   "cell_type": "code",
   "execution_count": 428,
   "metadata": {},
   "outputs": [
    {
     "data": {
      "text/html": [
       "<div>\n",
       "<style scoped>\n",
       "    .dataframe tbody tr th:only-of-type {\n",
       "        vertical-align: middle;\n",
       "    }\n",
       "\n",
       "    .dataframe tbody tr th {\n",
       "        vertical-align: top;\n",
       "    }\n",
       "\n",
       "    .dataframe thead tr th {\n",
       "        text-align: left;\n",
       "    }\n",
       "\n",
       "    .dataframe thead tr:last-of-type th {\n",
       "        text-align: right;\n",
       "    }\n",
       "</style>\n",
       "<table border=\"1\" class=\"dataframe\">\n",
       "  <thead>\n",
       "    <tr>\n",
       "      <th></th>\n",
       "      <th>Tag</th>\n",
       "    </tr>\n",
       "    <tr>\n",
       "      <th></th>\n",
       "      <th>count</th>\n",
       "    </tr>\n",
       "    <tr>\n",
       "      <th>Industry</th>\n",
       "      <th></th>\n",
       "    </tr>\n",
       "  </thead>\n",
       "  <tbody>\n",
       "    <tr>\n",
       "      <th>Consumer Discretionary</th>\n",
       "      <td>6235</td>\n",
       "    </tr>\n",
       "    <tr>\n",
       "      <th>Consumer Staples</th>\n",
       "      <td>1463</td>\n",
       "    </tr>\n",
       "    <tr>\n",
       "      <th>Energy</th>\n",
       "      <td>1764</td>\n",
       "    </tr>\n",
       "    <tr>\n",
       "      <th>Financials</th>\n",
       "      <td>4674</td>\n",
       "    </tr>\n",
       "    <tr>\n",
       "      <th>Health Care</th>\n",
       "      <td>3586</td>\n",
       "    </tr>\n",
       "    <tr>\n",
       "      <th>Industrials</th>\n",
       "      <td>3995</td>\n",
       "    </tr>\n",
       "    <tr>\n",
       "      <th>Information Technology</th>\n",
       "      <td>7433</td>\n",
       "    </tr>\n",
       "    <tr>\n",
       "      <th>Materials</th>\n",
       "      <td>1764</td>\n",
       "    </tr>\n",
       "    <tr>\n",
       "      <th>Telecommunication Services</th>\n",
       "      <td>298</td>\n",
       "    </tr>\n",
       "    <tr>\n",
       "      <th>Utilities</th>\n",
       "      <td>1038</td>\n",
       "    </tr>\n",
       "  </tbody>\n",
       "</table>\n",
       "</div>"
      ],
      "text/plain": [
       "                             Tag\n",
       "                           count\n",
       "Industry                        \n",
       "Consumer Discretionary      6235\n",
       "Consumer Staples            1463\n",
       "Energy                      1764\n",
       "Financials                  4674\n",
       "Health Care                 3586\n",
       "Industrials                 3995\n",
       "Information Technology      7433\n",
       "Materials                   1764\n",
       "Telecommunication Services   298\n",
       "Utilities                   1038"
      ]
     },
     "execution_count": 428,
     "metadata": {},
     "output_type": "execute_result"
    }
   ],
   "source": [
    "# hist_by_industry"
   ]
  },
  {
   "cell_type": "code",
   "execution_count": 487,
   "metadata": {},
   "outputs": [
    {
     "data": {
      "text/plain": [
       "2572"
      ]
     },
     "execution_count": 487,
     "metadata": {},
     "output_type": "execute_result"
    }
   ],
   "source": [
    "downsampled_csv['down'].sum()"
   ]
  },
  {
   "cell_type": "code",
   "execution_count": 488,
   "metadata": {},
   "outputs": [
    {
     "data": {
      "text/plain": [
       "21635"
      ]
     },
     "execution_count": 488,
     "metadata": {},
     "output_type": "execute_result"
    }
   ],
   "source": [
    "downsampled_csv['stay'].sum()"
   ]
  },
  {
   "cell_type": "code",
   "execution_count": 489,
   "metadata": {},
   "outputs": [
    {
     "data": {
      "text/plain": [
       "2521"
      ]
     },
     "execution_count": 489,
     "metadata": {},
     "output_type": "execute_result"
    }
   ],
   "source": [
    "downsampled_csv['up'].sum()"
   ]
  },
  {
   "cell_type": "code",
   "execution_count": 491,
   "metadata": {},
   "outputs": [
    {
     "data": {
      "text/plain": [
       "0.8094507632445376"
      ]
     },
     "execution_count": 491,
     "metadata": {},
     "output_type": "execute_result"
    }
   ],
   "source": [
    "21635 / downsampled_csv['down'].count()"
   ]
  },
  {
   "cell_type": "code",
   "execution_count": 468,
   "metadata": {},
   "outputs": [],
   "source": [
    "\n",
    "# from sklearn.metrics import precision_recall_fscore_support as score\n",
    "\n",
    "# predicted = pred_upd\n",
    "# y_test = downsampled_csv['stock_overnight_movement_tag']['Tag' == 'test']\n",
    "\n",
    "# precision, recall, fscore, support = score(predicted, y_test)\n",
    "\n",
    "# print('precision: {}'.format(precision))\n",
    "# print('recall: {}'.format(recall))\n",
    "# print('fscore: {}'.format(fscore))\n",
    "# print('support: {}'.format(support))"
   ]
  },
  {
   "cell_type": "markdown",
   "metadata": {},
   "source": [
    "# Downsampled decreased seq len cleaned"
   ]
  },
  {
   "cell_type": "code",
   "execution_count": 25,
   "metadata": {},
   "outputs": [
    {
     "data": {
      "text/plain": [
       "(107456, 34)"
      ]
     },
     "execution_count": 25,
     "metadata": {},
     "output_type": "execute_result"
    }
   ],
   "source": [
    "original_csv.shape"
   ]
  },
  {
   "cell_type": "code",
   "execution_count": 26,
   "metadata": {},
   "outputs": [],
   "source": [
    "from nltk.corpus import stopwords \n",
    "df = original_csv\n",
    "stop_words = set(stopwords.words('english'))\n",
    "month = ['january', 'february', 'march', 'april', 'may', 'june', 'july','august', 'september', 'october','november', 'december']\n",
    "\n",
    "# remove stop words\n",
    "stop_words_removed_8K = []\n",
    "\n",
    "list_of_original_content = list(df[\"8K_Content\"])\n",
    "\n",
    "for i in range(len(list_of_original_content)):\n",
    "    list_to_append = []\n",
    "    split_content = list_of_original_content[i].split()\n",
    "#     print(split_content)\n",
    "    for j in range(len(split_content)):\n",
    "#         print(split_content[j])\n",
    "        if split_content[j].lower() not in stop_words and split_content[j].lower() not in month:\n",
    "            list_to_append += [split_content[j]]\n",
    "#     print(list_to_append)\n",
    "    list_to_append = \" \".join(list_to_append)\n",
    "    stop_words_removed_8K.append(list_to_append)\n",
    "\n",
    "        \n",
    "tokenizer = Tokenizer(num_words=30000, filters='!\"#$%&()*+,-./:;<=>?@[\\]^_`{|}~ 123456789', lower=True, split=' ', char_level=False, oov_token=None, document_count=0)\n",
    "tokenizer.fit_on_texts(stop_words_removed_8K)\n",
    "\n",
    "\n",
    "seq_len = 300 # set sequence length\n",
    "sequences = tokenizer.texts_to_sequences(stop_words_removed_8K)\n",
    "data = pad_sequences(sequences, \n",
    "                     maxlen=seq_len, padding='post', \n",
    "                     truncating='post') # takes about 5-10 mins"
   ]
  },
  {
   "cell_type": "code",
   "execution_count": 27,
   "metadata": {},
   "outputs": [
    {
     "data": {
      "text/plain": [
       "644924"
      ]
     },
     "execution_count": 27,
     "metadata": {},
     "output_type": "execute_result"
    }
   ],
   "source": [
    "# vocab size\n",
    "vocabulary_size = max(tokenizer.word_index.values())\n",
    "vocabulary_size"
   ]
  },
  {
   "cell_type": "code",
   "execution_count": 28,
   "metadata": {},
   "outputs": [],
   "source": [
    "original_csv['8K_Content_sequences'] = data.tolist()"
   ]
  },
  {
   "cell_type": "code",
   "execution_count": 29,
   "metadata": {},
   "outputs": [],
   "source": [
    "original_csv_test = original_csv[original_csv['Year'] >= 2011]"
   ]
  },
  {
   "cell_type": "code",
   "execution_count": 30,
   "metadata": {},
   "outputs": [
    {
     "data": {
      "text/plain": [
       "(26728, 34)"
      ]
     },
     "execution_count": 30,
     "metadata": {},
     "output_type": "execute_result"
    }
   ],
   "source": [
    "original_csv_test.shape"
   ]
  },
  {
   "cell_type": "code",
   "execution_count": 31,
   "metadata": {},
   "outputs": [],
   "source": [
    "X_test = original_csv_test['8K_Content_sequences']\n",
    "y_test = original_csv_test[['down','stay','up']]"
   ]
  },
  {
   "cell_type": "code",
   "execution_count": null,
   "metadata": {},
   "outputs": [],
   "source": []
  },
  {
   "cell_type": "code",
   "execution_count": null,
   "metadata": {},
   "outputs": [],
   "source": []
  },
  {
   "cell_type": "code",
   "execution_count": null,
   "metadata": {},
   "outputs": [],
   "source": []
  },
  {
   "cell_type": "code",
   "execution_count": null,
   "metadata": {},
   "outputs": [],
   "source": []
  },
  {
   "cell_type": "code",
   "execution_count": null,
   "metadata": {},
   "outputs": [],
   "source": []
  },
  {
   "cell_type": "code",
   "execution_count": null,
   "metadata": {},
   "outputs": [],
   "source": []
  },
  {
   "cell_type": "markdown",
   "metadata": {},
   "source": [
    "# LSTM"
   ]
  },
  {
   "cell_type": "code",
   "execution_count": 32,
   "metadata": {},
   "outputs": [],
   "source": [
    "# set model # for saving the model and weights to json and h5\n",
    "model_num = 4"
   ]
  },
  {
   "cell_type": "code",
   "execution_count": 33,
   "metadata": {},
   "outputs": [
    {
     "name": "stdout",
     "output_type": "stream",
     "text": [
      "Loaded model from disk:  model_lstm_4_cleaned.json and model_lstm_4_cleaned.h5\n"
     ]
    }
   ],
   "source": [
    "# load model\n",
    "# note: latest file updated 11/30. 3,000 word sequence.\n",
    "\n",
    "# load json and create model\n",
    "json_file = open('model_lstm_%d_cleaned.json' %model_num, 'r')\n",
    "loaded_model_json = json_file.read()\n",
    "json_file.close()\n",
    "loaded_model = model_from_json(loaded_model_json)\n",
    "\n",
    "# load weights into new model\n",
    "loaded_model.load_weights(\"model_lstm_%d_cleaned.h5\" %model_num)\n",
    "print(\"Loaded model from disk: \", 'model_lstm_%d_cleaned.json and model_lstm_%d_cleaned.h5' %(model_num, model_num))"
   ]
  },
  {
   "cell_type": "code",
   "execution_count": 34,
   "metadata": {},
   "outputs": [
    {
     "name": "stdout",
     "output_type": "stream",
     "text": [
      "acc: 53.70%\n"
     ]
    }
   ],
   "source": [
    "# evaluate loaded model on test data\n",
    "loaded_model.compile(loss='categorical_crossentropy', optimizer='adam', metrics=['accuracy'])\n",
    "# loaded_model.compile(loss='categorical_crossentropy', optimizer='adam', metrics=['accuracy'])\n",
    "score = loaded_model.evaluate(np.array(X_test.values.tolist()), \n",
    "                              np.array(y_test.values.tolist()), verbose=0)\n",
    "print(\"%s: %.2f%%\" % (loaded_model.metrics_names[1], score[1]*100))"
   ]
  },
  {
   "cell_type": "code",
   "execution_count": 35,
   "metadata": {},
   "outputs": [],
   "source": [
    "# predictions \n",
    "preds = loaded_model.predict(np.array(X_test.values.tolist()))"
   ]
  },
  {
   "cell_type": "code",
   "execution_count": 36,
   "metadata": {},
   "outputs": [
    {
     "name": "stdout",
     "output_type": "stream",
     "text": [
      "Saved predictions to disk:  predictions_lstm_4_cleaned.csv\n"
     ]
    }
   ],
   "source": [
    "# predictions to csv\n",
    "np.savetxt('predictions_lstm_%d_cleaned.csv' %model_num, preds, delimiter=',')\n",
    "print(\"Saved predictions to disk: \", 'predictions_lstm_%d_cleaned.csv' %model_num)"
   ]
  },
  {
   "cell_type": "code",
   "execution_count": null,
   "metadata": {},
   "outputs": [],
   "source": []
  },
  {
   "cell_type": "code",
   "execution_count": null,
   "metadata": {},
   "outputs": [],
   "source": []
  },
  {
   "cell_type": "markdown",
   "metadata": {},
   "source": [
    "# CNN"
   ]
  },
  {
   "cell_type": "code",
   "execution_count": null,
   "metadata": {},
   "outputs": [],
   "source": []
  },
  {
   "cell_type": "code",
   "execution_count": 37,
   "metadata": {},
   "outputs": [
    {
     "name": "stdout",
     "output_type": "stream",
     "text": [
      "Loaded model from disk:  model_conv_4_cleaned.json and model_conv_4_cleaned.h5\n"
     ]
    }
   ],
   "source": [
    "# load model\n",
    "\n",
    "# load json and create model\n",
    "json_file = open('model_conv_%d_cleaned.json' %model_num, 'r')\n",
    "loaded_model_json = json_file.read()\n",
    "json_file.close()\n",
    "loaded_model = model_from_json(loaded_model_json)\n",
    "\n",
    "# load weights into new model\n",
    "loaded_model.load_weights(\"model_conv_%d_cleaned.h5\" %model_num)\n",
    "print(\"Loaded model from disk: \", 'model_conv_%d_cleaned.json and model_conv_%d_cleaned.h5' %(model_num, model_num))"
   ]
  },
  {
   "cell_type": "code",
   "execution_count": 38,
   "metadata": {},
   "outputs": [
    {
     "name": "stdout",
     "output_type": "stream",
     "text": [
      "acc: 57.53%\n"
     ]
    }
   ],
   "source": [
    "# evaluate loaded model on test data\n",
    "loaded_model.compile(loss='categorical_crossentropy', optimizer='adam', metrics=['accuracy'])\n",
    "#loaded_model.compile(loss='categorical_crossentropy', optimizer='adam', metrics=['accuracy'])\n",
    "score = loaded_model.evaluate(np.array(X_test.values.tolist()), \n",
    "                              np.array(y_test.values.tolist()), verbose=0)\n",
    "print(\"%s: %.2f%%\" % (loaded_model.metrics_names[1], score[1]*100))"
   ]
  },
  {
   "cell_type": "code",
   "execution_count": 39,
   "metadata": {},
   "outputs": [],
   "source": [
    "# predictions \n",
    "preds = loaded_model.predict(np.array(X_test.values.tolist()))"
   ]
  },
  {
   "cell_type": "code",
   "execution_count": 40,
   "metadata": {},
   "outputs": [
    {
     "name": "stdout",
     "output_type": "stream",
     "text": [
      "Saved predictions to disk:  predictions_conv_4_cleaned.csv\n"
     ]
    }
   ],
   "source": [
    "# predictions to csv\n",
    "np.savetxt('predictions_conv_%d_cleaned.csv' %model_num, preds, delimiter=',')\n",
    "print(\"Saved predictions to disk: \", 'predictions_conv_%d_cleaned.csv' %model_num)"
   ]
  },
  {
   "cell_type": "code",
   "execution_count": null,
   "metadata": {},
   "outputs": [],
   "source": []
  },
  {
   "cell_type": "code",
   "execution_count": null,
   "metadata": {},
   "outputs": [],
   "source": []
  },
  {
   "cell_type": "code",
   "execution_count": null,
   "metadata": {},
   "outputs": [],
   "source": []
  },
  {
   "cell_type": "code",
   "execution_count": null,
   "metadata": {},
   "outputs": [],
   "source": []
  },
  {
   "cell_type": "code",
   "execution_count": null,
   "metadata": {},
   "outputs": [],
   "source": []
  },
  {
   "cell_type": "code",
   "execution_count": null,
   "metadata": {},
   "outputs": [],
   "source": []
  },
  {
   "cell_type": "code",
   "execution_count": null,
   "metadata": {},
   "outputs": [],
   "source": []
  },
  {
   "cell_type": "code",
   "execution_count": null,
   "metadata": {},
   "outputs": [],
   "source": []
  },
  {
   "cell_type": "code",
   "execution_count": null,
   "metadata": {},
   "outputs": [],
   "source": []
  },
  {
   "cell_type": "code",
   "execution_count": null,
   "metadata": {},
   "outputs": [],
   "source": []
  },
  {
   "cell_type": "code",
   "execution_count": null,
   "metadata": {},
   "outputs": [],
   "source": []
  },
  {
   "cell_type": "code",
   "execution_count": null,
   "metadata": {},
   "outputs": [],
   "source": []
  },
  {
   "cell_type": "code",
   "execution_count": null,
   "metadata": {},
   "outputs": [],
   "source": []
  },
  {
   "cell_type": "code",
   "execution_count": null,
   "metadata": {},
   "outputs": [],
   "source": []
  },
  {
   "cell_type": "code",
   "execution_count": null,
   "metadata": {},
   "outputs": [],
   "source": []
  },
  {
   "cell_type": "code",
   "execution_count": null,
   "metadata": {},
   "outputs": [],
   "source": []
  },
  {
   "cell_type": "code",
   "execution_count": null,
   "metadata": {},
   "outputs": [],
   "source": []
  },
  {
   "cell_type": "code",
   "execution_count": null,
   "metadata": {},
   "outputs": [],
   "source": []
  },
  {
   "cell_type": "markdown",
   "metadata": {},
   "source": [
    "# Model_Downsampled_DecreaseSeqLen_IncreaseEpochs.ipynb"
   ]
  },
  {
   "cell_type": "markdown",
   "metadata": {},
   "source": [
    "# LSTM"
   ]
  },
  {
   "cell_type": "code",
   "execution_count": 18,
   "metadata": {},
   "outputs": [],
   "source": [
    "# set model # for saving the model and weights to json and h5\n",
    "model_num = 5"
   ]
  },
  {
   "cell_type": "code",
   "execution_count": 19,
   "metadata": {},
   "outputs": [
    {
     "ename": "ValueError",
     "evalue": "Dimension 0 in both shapes must be equal, but are 926395 and 370849. Shapes are [926395,100] and [370849,100]. for 'Assign_14' (op: 'Assign') with input shapes: [926395,100], [370849,100].",
     "output_type": "error",
     "traceback": [
      "\u001b[0;31m---------------------------------------------------------------------------\u001b[0m",
      "\u001b[0;31mInvalidArgumentError\u001b[0m                      Traceback (most recent call last)",
      "\u001b[0;32m~/anaconda3/lib/python3.6/site-packages/tensorflow/python/framework/ops.py\u001b[0m in \u001b[0;36m_create_c_op\u001b[0;34m(graph, node_def, inputs, control_inputs)\u001b[0m\n\u001b[1;32m   1575\u001b[0m   \u001b[0;32mtry\u001b[0m\u001b[0;34m:\u001b[0m\u001b[0;34m\u001b[0m\u001b[0m\n\u001b[0;32m-> 1576\u001b[0;31m     \u001b[0mc_op\u001b[0m \u001b[0;34m=\u001b[0m \u001b[0mc_api\u001b[0m\u001b[0;34m.\u001b[0m\u001b[0mTF_FinishOperation\u001b[0m\u001b[0;34m(\u001b[0m\u001b[0mop_desc\u001b[0m\u001b[0;34m)\u001b[0m\u001b[0;34m\u001b[0m\u001b[0m\n\u001b[0m\u001b[1;32m   1577\u001b[0m   \u001b[0;32mexcept\u001b[0m \u001b[0merrors\u001b[0m\u001b[0;34m.\u001b[0m\u001b[0mInvalidArgumentError\u001b[0m \u001b[0;32mas\u001b[0m \u001b[0me\u001b[0m\u001b[0;34m:\u001b[0m\u001b[0;34m\u001b[0m\u001b[0m\n",
      "\u001b[0;31mInvalidArgumentError\u001b[0m: Dimension 0 in both shapes must be equal, but are 926395 and 370849. Shapes are [926395,100] and [370849,100]. for 'Assign_14' (op: 'Assign') with input shapes: [926395,100], [370849,100].",
      "\nDuring handling of the above exception, another exception occurred:\n",
      "\u001b[0;31mValueError\u001b[0m                                Traceback (most recent call last)",
      "\u001b[0;32m<ipython-input-19-73dd9cb7479b>\u001b[0m in \u001b[0;36m<module>\u001b[0;34m()\u001b[0m\n\u001b[1;32m      9\u001b[0m \u001b[0;34m\u001b[0m\u001b[0m\n\u001b[1;32m     10\u001b[0m \u001b[0;31m# load weights into new model\u001b[0m\u001b[0;34m\u001b[0m\u001b[0;34m\u001b[0m\u001b[0m\n\u001b[0;32m---> 11\u001b[0;31m \u001b[0mloaded_model\u001b[0m\u001b[0;34m.\u001b[0m\u001b[0mload_weights\u001b[0m\u001b[0;34m(\u001b[0m\u001b[0;34m\"model_lstm_%d.h5\"\u001b[0m \u001b[0;34m%\u001b[0m\u001b[0mmodel_num\u001b[0m\u001b[0;34m)\u001b[0m\u001b[0;34m\u001b[0m\u001b[0m\n\u001b[0m\u001b[1;32m     12\u001b[0m \u001b[0mprint\u001b[0m\u001b[0;34m(\u001b[0m\u001b[0;34m\"Loaded model from disk: \"\u001b[0m\u001b[0;34m,\u001b[0m \u001b[0;34m'model_lstm_%d.json and model_lstm_%d.h5'\u001b[0m \u001b[0;34m%\u001b[0m\u001b[0;34m(\u001b[0m\u001b[0mmodel_num\u001b[0m\u001b[0;34m,\u001b[0m \u001b[0mmodel_num\u001b[0m\u001b[0;34m)\u001b[0m\u001b[0;34m)\u001b[0m\u001b[0;34m\u001b[0m\u001b[0m\n",
      "\u001b[0;32m~/anaconda3/lib/python3.6/site-packages/keras/engine/network.py\u001b[0m in \u001b[0;36mload_weights\u001b[0;34m(self, filepath, by_name, skip_mismatch, reshape)\u001b[0m\n\u001b[1;32m   1164\u001b[0m             \u001b[0;32melse\u001b[0m\u001b[0;34m:\u001b[0m\u001b[0;34m\u001b[0m\u001b[0m\n\u001b[1;32m   1165\u001b[0m                 saving.load_weights_from_hdf5_group(\n\u001b[0;32m-> 1166\u001b[0;31m                     f, self.layers, reshape=reshape)\n\u001b[0m\u001b[1;32m   1167\u001b[0m \u001b[0;34m\u001b[0m\u001b[0m\n\u001b[1;32m   1168\u001b[0m     \u001b[0;32mdef\u001b[0m \u001b[0m_updated_config\u001b[0m\u001b[0;34m(\u001b[0m\u001b[0mself\u001b[0m\u001b[0;34m)\u001b[0m\u001b[0;34m:\u001b[0m\u001b[0;34m\u001b[0m\u001b[0m\n",
      "\u001b[0;32m~/anaconda3/lib/python3.6/site-packages/keras/engine/saving.py\u001b[0m in \u001b[0;36mload_weights_from_hdf5_group\u001b[0;34m(f, layers, reshape)\u001b[0m\n\u001b[1;32m   1056\u001b[0m                              ' elements.')\n\u001b[1;32m   1057\u001b[0m         \u001b[0mweight_value_tuples\u001b[0m \u001b[0;34m+=\u001b[0m \u001b[0mzip\u001b[0m\u001b[0;34m(\u001b[0m\u001b[0msymbolic_weights\u001b[0m\u001b[0;34m,\u001b[0m \u001b[0mweight_values\u001b[0m\u001b[0;34m)\u001b[0m\u001b[0;34m\u001b[0m\u001b[0m\n\u001b[0;32m-> 1058\u001b[0;31m     \u001b[0mK\u001b[0m\u001b[0;34m.\u001b[0m\u001b[0mbatch_set_value\u001b[0m\u001b[0;34m(\u001b[0m\u001b[0mweight_value_tuples\u001b[0m\u001b[0;34m)\u001b[0m\u001b[0;34m\u001b[0m\u001b[0m\n\u001b[0m\u001b[1;32m   1059\u001b[0m \u001b[0;34m\u001b[0m\u001b[0m\n\u001b[1;32m   1060\u001b[0m \u001b[0;34m\u001b[0m\u001b[0m\n",
      "\u001b[0;32m~/anaconda3/lib/python3.6/site-packages/keras/backend/tensorflow_backend.py\u001b[0m in \u001b[0;36mbatch_set_value\u001b[0;34m(tuples)\u001b[0m\n\u001b[1;32m   2463\u001b[0m                 assign_placeholder = tf.placeholder(tf_dtype,\n\u001b[1;32m   2464\u001b[0m                                                     shape=value.shape)\n\u001b[0;32m-> 2465\u001b[0;31m                 \u001b[0massign_op\u001b[0m \u001b[0;34m=\u001b[0m \u001b[0mx\u001b[0m\u001b[0;34m.\u001b[0m\u001b[0massign\u001b[0m\u001b[0;34m(\u001b[0m\u001b[0massign_placeholder\u001b[0m\u001b[0;34m)\u001b[0m\u001b[0;34m\u001b[0m\u001b[0m\n\u001b[0m\u001b[1;32m   2466\u001b[0m                 \u001b[0mx\u001b[0m\u001b[0;34m.\u001b[0m\u001b[0m_assign_placeholder\u001b[0m \u001b[0;34m=\u001b[0m \u001b[0massign_placeholder\u001b[0m\u001b[0;34m\u001b[0m\u001b[0m\n\u001b[1;32m   2467\u001b[0m                 \u001b[0mx\u001b[0m\u001b[0;34m.\u001b[0m\u001b[0m_assign_op\u001b[0m \u001b[0;34m=\u001b[0m \u001b[0massign_op\u001b[0m\u001b[0;34m\u001b[0m\u001b[0m\n",
      "\u001b[0;32m~/anaconda3/lib/python3.6/site-packages/tensorflow/python/ops/variables.py\u001b[0m in \u001b[0;36massign\u001b[0;34m(self, value, use_locking)\u001b[0m\n\u001b[1;32m    643\u001b[0m       \u001b[0mthe\u001b[0m \u001b[0massignment\u001b[0m \u001b[0mhas\u001b[0m \u001b[0mcompleted\u001b[0m\u001b[0;34m.\u001b[0m\u001b[0;34m\u001b[0m\u001b[0m\n\u001b[1;32m    644\u001b[0m     \"\"\"\n\u001b[0;32m--> 645\u001b[0;31m     \u001b[0;32mreturn\u001b[0m \u001b[0mstate_ops\u001b[0m\u001b[0;34m.\u001b[0m\u001b[0massign\u001b[0m\u001b[0;34m(\u001b[0m\u001b[0mself\u001b[0m\u001b[0;34m.\u001b[0m\u001b[0m_variable\u001b[0m\u001b[0;34m,\u001b[0m \u001b[0mvalue\u001b[0m\u001b[0;34m,\u001b[0m \u001b[0muse_locking\u001b[0m\u001b[0;34m=\u001b[0m\u001b[0muse_locking\u001b[0m\u001b[0;34m)\u001b[0m\u001b[0;34m\u001b[0m\u001b[0m\n\u001b[0m\u001b[1;32m    646\u001b[0m \u001b[0;34m\u001b[0m\u001b[0m\n\u001b[1;32m    647\u001b[0m   \u001b[0;32mdef\u001b[0m \u001b[0massign_add\u001b[0m\u001b[0;34m(\u001b[0m\u001b[0mself\u001b[0m\u001b[0;34m,\u001b[0m \u001b[0mdelta\u001b[0m\u001b[0;34m,\u001b[0m \u001b[0muse_locking\u001b[0m\u001b[0;34m=\u001b[0m\u001b[0;32mFalse\u001b[0m\u001b[0;34m)\u001b[0m\u001b[0;34m:\u001b[0m\u001b[0;34m\u001b[0m\u001b[0m\n",
      "\u001b[0;32m~/anaconda3/lib/python3.6/site-packages/tensorflow/python/ops/state_ops.py\u001b[0m in \u001b[0;36massign\u001b[0;34m(ref, value, validate_shape, use_locking, name)\u001b[0m\n\u001b[1;32m    214\u001b[0m     return gen_state_ops.assign(\n\u001b[1;32m    215\u001b[0m         \u001b[0mref\u001b[0m\u001b[0;34m,\u001b[0m \u001b[0mvalue\u001b[0m\u001b[0;34m,\u001b[0m \u001b[0muse_locking\u001b[0m\u001b[0;34m=\u001b[0m\u001b[0muse_locking\u001b[0m\u001b[0;34m,\u001b[0m \u001b[0mname\u001b[0m\u001b[0;34m=\u001b[0m\u001b[0mname\u001b[0m\u001b[0;34m,\u001b[0m\u001b[0;34m\u001b[0m\u001b[0m\n\u001b[0;32m--> 216\u001b[0;31m         validate_shape=validate_shape)\n\u001b[0m\u001b[1;32m    217\u001b[0m   \u001b[0;32mreturn\u001b[0m \u001b[0mref\u001b[0m\u001b[0;34m.\u001b[0m\u001b[0massign\u001b[0m\u001b[0;34m(\u001b[0m\u001b[0mvalue\u001b[0m\u001b[0;34m,\u001b[0m \u001b[0mname\u001b[0m\u001b[0;34m=\u001b[0m\u001b[0mname\u001b[0m\u001b[0;34m)\u001b[0m\u001b[0;34m\u001b[0m\u001b[0m\n\u001b[1;32m    218\u001b[0m \u001b[0;34m\u001b[0m\u001b[0m\n",
      "\u001b[0;32m~/anaconda3/lib/python3.6/site-packages/tensorflow/python/ops/gen_state_ops.py\u001b[0m in \u001b[0;36massign\u001b[0;34m(ref, value, validate_shape, use_locking, name)\u001b[0m\n\u001b[1;32m     58\u001b[0m     _, _, _op = _op_def_lib._apply_op_helper(\n\u001b[1;32m     59\u001b[0m         \u001b[0;34m\"Assign\"\u001b[0m\u001b[0;34m,\u001b[0m \u001b[0mref\u001b[0m\u001b[0;34m=\u001b[0m\u001b[0mref\u001b[0m\u001b[0;34m,\u001b[0m \u001b[0mvalue\u001b[0m\u001b[0;34m=\u001b[0m\u001b[0mvalue\u001b[0m\u001b[0;34m,\u001b[0m \u001b[0mvalidate_shape\u001b[0m\u001b[0;34m=\u001b[0m\u001b[0mvalidate_shape\u001b[0m\u001b[0;34m,\u001b[0m\u001b[0;34m\u001b[0m\u001b[0m\n\u001b[0;32m---> 60\u001b[0;31m         use_locking=use_locking, name=name)\n\u001b[0m\u001b[1;32m     61\u001b[0m     \u001b[0m_result\u001b[0m \u001b[0;34m=\u001b[0m \u001b[0m_op\u001b[0m\u001b[0;34m.\u001b[0m\u001b[0moutputs\u001b[0m\u001b[0;34m[\u001b[0m\u001b[0;34m:\u001b[0m\u001b[0;34m]\u001b[0m\u001b[0;34m\u001b[0m\u001b[0m\n\u001b[1;32m     62\u001b[0m     \u001b[0m_inputs_flat\u001b[0m \u001b[0;34m=\u001b[0m \u001b[0m_op\u001b[0m\u001b[0;34m.\u001b[0m\u001b[0minputs\u001b[0m\u001b[0;34m\u001b[0m\u001b[0m\n",
      "\u001b[0;32m~/anaconda3/lib/python3.6/site-packages/tensorflow/python/framework/op_def_library.py\u001b[0m in \u001b[0;36m_apply_op_helper\u001b[0;34m(self, op_type_name, name, **keywords)\u001b[0m\n\u001b[1;32m    785\u001b[0m         op = g.create_op(op_type_name, inputs, output_types, name=scope,\n\u001b[1;32m    786\u001b[0m                          \u001b[0minput_types\u001b[0m\u001b[0;34m=\u001b[0m\u001b[0minput_types\u001b[0m\u001b[0;34m,\u001b[0m \u001b[0mattrs\u001b[0m\u001b[0;34m=\u001b[0m\u001b[0mattr_protos\u001b[0m\u001b[0;34m,\u001b[0m\u001b[0;34m\u001b[0m\u001b[0m\n\u001b[0;32m--> 787\u001b[0;31m                          op_def=op_def)\n\u001b[0m\u001b[1;32m    788\u001b[0m       \u001b[0;32mreturn\u001b[0m \u001b[0moutput_structure\u001b[0m\u001b[0;34m,\u001b[0m \u001b[0mop_def\u001b[0m\u001b[0;34m.\u001b[0m\u001b[0mis_stateful\u001b[0m\u001b[0;34m,\u001b[0m \u001b[0mop\u001b[0m\u001b[0;34m\u001b[0m\u001b[0m\n\u001b[1;32m    789\u001b[0m \u001b[0;34m\u001b[0m\u001b[0m\n",
      "\u001b[0;32m~/anaconda3/lib/python3.6/site-packages/tensorflow/python/util/deprecation.py\u001b[0m in \u001b[0;36mnew_func\u001b[0;34m(*args, **kwargs)\u001b[0m\n\u001b[1;32m    452\u001b[0m                 \u001b[0;34m'in a future version'\u001b[0m \u001b[0;32mif\u001b[0m \u001b[0mdate\u001b[0m \u001b[0;32mis\u001b[0m \u001b[0;32mNone\u001b[0m \u001b[0;32melse\u001b[0m \u001b[0;34m(\u001b[0m\u001b[0;34m'after %s'\u001b[0m \u001b[0;34m%\u001b[0m \u001b[0mdate\u001b[0m\u001b[0;34m)\u001b[0m\u001b[0;34m,\u001b[0m\u001b[0;34m\u001b[0m\u001b[0m\n\u001b[1;32m    453\u001b[0m                 instructions)\n\u001b[0;32m--> 454\u001b[0;31m       \u001b[0;32mreturn\u001b[0m \u001b[0mfunc\u001b[0m\u001b[0;34m(\u001b[0m\u001b[0;34m*\u001b[0m\u001b[0margs\u001b[0m\u001b[0;34m,\u001b[0m \u001b[0;34m**\u001b[0m\u001b[0mkwargs\u001b[0m\u001b[0;34m)\u001b[0m\u001b[0;34m\u001b[0m\u001b[0m\n\u001b[0m\u001b[1;32m    455\u001b[0m     return tf_decorator.make_decorator(func, new_func, 'deprecated',\n\u001b[1;32m    456\u001b[0m                                        _add_deprecated_arg_notice_to_docstring(\n",
      "\u001b[0;32m~/anaconda3/lib/python3.6/site-packages/tensorflow/python/framework/ops.py\u001b[0m in \u001b[0;36mcreate_op\u001b[0;34m(***failed resolving arguments***)\u001b[0m\n\u001b[1;32m   3153\u001b[0m           \u001b[0minput_types\u001b[0m\u001b[0;34m=\u001b[0m\u001b[0minput_types\u001b[0m\u001b[0;34m,\u001b[0m\u001b[0;34m\u001b[0m\u001b[0m\n\u001b[1;32m   3154\u001b[0m           \u001b[0moriginal_op\u001b[0m\u001b[0;34m=\u001b[0m\u001b[0mself\u001b[0m\u001b[0;34m.\u001b[0m\u001b[0m_default_original_op\u001b[0m\u001b[0;34m,\u001b[0m\u001b[0;34m\u001b[0m\u001b[0m\n\u001b[0;32m-> 3155\u001b[0;31m           op_def=op_def)\n\u001b[0m\u001b[1;32m   3156\u001b[0m       \u001b[0mself\u001b[0m\u001b[0;34m.\u001b[0m\u001b[0m_create_op_helper\u001b[0m\u001b[0;34m(\u001b[0m\u001b[0mret\u001b[0m\u001b[0;34m,\u001b[0m \u001b[0mcompute_device\u001b[0m\u001b[0;34m=\u001b[0m\u001b[0mcompute_device\u001b[0m\u001b[0;34m)\u001b[0m\u001b[0;34m\u001b[0m\u001b[0m\n\u001b[1;32m   3157\u001b[0m     \u001b[0;32mreturn\u001b[0m \u001b[0mret\u001b[0m\u001b[0;34m\u001b[0m\u001b[0m\n",
      "\u001b[0;32m~/anaconda3/lib/python3.6/site-packages/tensorflow/python/framework/ops.py\u001b[0m in \u001b[0;36m__init__\u001b[0;34m(self, node_def, g, inputs, output_types, control_inputs, input_types, original_op, op_def)\u001b[0m\n\u001b[1;32m   1729\u001b[0m           op_def, inputs, node_def.attr)\n\u001b[1;32m   1730\u001b[0m       self._c_op = _create_c_op(self._graph, node_def, grouped_inputs,\n\u001b[0;32m-> 1731\u001b[0;31m                                 control_input_ops)\n\u001b[0m\u001b[1;32m   1732\u001b[0m \u001b[0;34m\u001b[0m\u001b[0m\n\u001b[1;32m   1733\u001b[0m     \u001b[0;31m# Initialize self._outputs.\u001b[0m\u001b[0;34m\u001b[0m\u001b[0;34m\u001b[0m\u001b[0m\n",
      "\u001b[0;32m~/anaconda3/lib/python3.6/site-packages/tensorflow/python/framework/ops.py\u001b[0m in \u001b[0;36m_create_c_op\u001b[0;34m(graph, node_def, inputs, control_inputs)\u001b[0m\n\u001b[1;32m   1577\u001b[0m   \u001b[0;32mexcept\u001b[0m \u001b[0merrors\u001b[0m\u001b[0;34m.\u001b[0m\u001b[0mInvalidArgumentError\u001b[0m \u001b[0;32mas\u001b[0m \u001b[0me\u001b[0m\u001b[0;34m:\u001b[0m\u001b[0;34m\u001b[0m\u001b[0m\n\u001b[1;32m   1578\u001b[0m     \u001b[0;31m# Convert to ValueError for backwards compatibility.\u001b[0m\u001b[0;34m\u001b[0m\u001b[0;34m\u001b[0m\u001b[0m\n\u001b[0;32m-> 1579\u001b[0;31m     \u001b[0;32mraise\u001b[0m \u001b[0mValueError\u001b[0m\u001b[0;34m(\u001b[0m\u001b[0mstr\u001b[0m\u001b[0;34m(\u001b[0m\u001b[0me\u001b[0m\u001b[0;34m)\u001b[0m\u001b[0;34m)\u001b[0m\u001b[0;34m\u001b[0m\u001b[0m\n\u001b[0m\u001b[1;32m   1580\u001b[0m \u001b[0;34m\u001b[0m\u001b[0m\n\u001b[1;32m   1581\u001b[0m   \u001b[0;32mreturn\u001b[0m \u001b[0mc_op\u001b[0m\u001b[0;34m\u001b[0m\u001b[0m\n",
      "\u001b[0;31mValueError\u001b[0m: Dimension 0 in both shapes must be equal, but are 926395 and 370849. Shapes are [926395,100] and [370849,100]. for 'Assign_14' (op: 'Assign') with input shapes: [926395,100], [370849,100]."
     ]
    }
   ],
   "source": [
    "# load model\n",
    "# note: latest file updated 11/30. 3,000 word sequence.\n",
    "\n",
    "# load json and create model\n",
    "json_file = open('model_lstm_%d.json' %model_num, 'r')\n",
    "loaded_model_json = json_file.read()\n",
    "json_file.close()\n",
    "loaded_model = model_from_json(loaded_model_json)\n",
    "\n",
    "# load weights into new model\n",
    "loaded_model.load_weights(\"model_lstm_%d.h5\" %model_num)\n",
    "print(\"Loaded model from disk: \", 'model_lstm_%d.json and model_lstm_%d.h5' %(model_num, model_num))"
   ]
  },
  {
   "cell_type": "code",
   "execution_count": null,
   "metadata": {},
   "outputs": [],
   "source": [
    "# evaluate loaded model on test data\n",
    "loaded_model.compile(loss='categorical_crossentropy', optimizer='adam', metrics=['accuracy'])\n",
    "# loaded_model.compile(loss='categorical_crossentropy', optimizer='adam', metrics=['accuracy'])\n",
    "score = loaded_model.evaluate(np.array(X_test.values.tolist()), \n",
    "                              np.array(y_test.values.tolist()), verbose=0)\n",
    "print(\"%s: %.2f%%\" % (loaded_model.metrics_names[1], score[1]*100))"
   ]
  },
  {
   "cell_type": "code",
   "execution_count": null,
   "metadata": {},
   "outputs": [],
   "source": [
    "# predictions \n",
    "preds = loaded_model.predict(np.array(X_test.values.tolist()))\n"
   ]
  },
  {
   "cell_type": "code",
   "execution_count": null,
   "metadata": {},
   "outputs": [],
   "source": []
  },
  {
   "cell_type": "code",
   "execution_count": null,
   "metadata": {},
   "outputs": [],
   "source": []
  },
  {
   "cell_type": "code",
   "execution_count": null,
   "metadata": {},
   "outputs": [],
   "source": [
    "# save predictions to csv\n",
    "np.savetxt('predictions_lstm_%d.csv' %model_num, preds, delimiter=',')\n",
    "print(\"Saved predictions to disk: \", 'predictions_lstm_%d.csv' %model_num)"
   ]
  },
  {
   "cell_type": "markdown",
   "metadata": {},
   "source": [
    "# CNN"
   ]
  },
  {
   "cell_type": "code",
   "execution_count": null,
   "metadata": {},
   "outputs": [],
   "source": []
  },
  {
   "cell_type": "code",
   "execution_count": null,
   "metadata": {},
   "outputs": [],
   "source": [
    "# load model\n",
    "# note: latest file updated 11/30. 3,000 word sequence.\n",
    "\n",
    "# load json and create model\n",
    "json_file = open('model_conv_%d.json' %model_num, 'r')\n",
    "loaded_model_json = json_file.read()\n",
    "json_file.close()\n",
    "loaded_model = model_from_json(loaded_model_json)\n",
    "\n",
    "# load weights into new model\n",
    "loaded_model.load_weights(\"model_conv_%d.h5\" %model_num)\n",
    "print(\"Loaded model from disk: \", 'model_conv_%d.json and model_conv_%d.h5' %(model_num, model_num))"
   ]
  },
  {
   "cell_type": "code",
   "execution_count": null,
   "metadata": {},
   "outputs": [],
   "source": [
    "# evaluate loaded model on test data\n",
    "loaded_model.compile(loss='categorical_crossentropy', optimizer='adam', metrics=['accuracy'])\n",
    "# loaded_model.compile(loss='categorical_crossentropy', optimizer='adam', metrics=['accuracy'])\n",
    "score = loaded_model.evaluate(np.array(X_test.values.tolist()), \n",
    "                              np.array(y_test.values.tolist()), verbose=0)\n",
    "print(\"%s: %.2f%%\" % (loaded_model.metrics_names[1], score[1]*100))"
   ]
  },
  {
   "cell_type": "code",
   "execution_count": null,
   "metadata": {},
   "outputs": [],
   "source": [
    "# predictions \n",
    "preds = loaded_model.predict(np.array(X_test.values.tolist()))\n"
   ]
  },
  {
   "cell_type": "code",
   "execution_count": null,
   "metadata": {},
   "outputs": [],
   "source": []
  },
  {
   "cell_type": "code",
   "execution_count": null,
   "metadata": {},
   "outputs": [],
   "source": []
  },
  {
   "cell_type": "code",
   "execution_count": null,
   "metadata": {},
   "outputs": [],
   "source": [
    "# save predictions to csv\n",
    "np.savetxt('predictions_conv_%d.csv' %model_num, preds, delimiter=',')\n",
    "print(\"Saved predictions to disk: \", 'predictions_conv_%d.csv' %model_num)"
   ]
  },
  {
   "cell_type": "code",
   "execution_count": null,
   "metadata": {},
   "outputs": [],
   "source": []
  },
  {
   "cell_type": "code",
   "execution_count": null,
   "metadata": {},
   "outputs": [],
   "source": []
  },
  {
   "cell_type": "code",
   "execution_count": null,
   "metadata": {},
   "outputs": [],
   "source": []
  },
  {
   "cell_type": "code",
   "execution_count": null,
   "metadata": {},
   "outputs": [],
   "source": []
  },
  {
   "cell_type": "code",
   "execution_count": null,
   "metadata": {},
   "outputs": [],
   "source": []
  },
  {
   "cell_type": "markdown",
   "metadata": {},
   "source": [
    "# Model_Downsampled_DecreaseSeqLen_IncreaseEpochs_IncreaseDropout.ipynb"
   ]
  },
  {
   "cell_type": "code",
   "execution_count": 209,
   "metadata": {},
   "outputs": [],
   "source": [
    "final_csv = pd.read_csv('final_shuffled.csv')"
   ]
  },
  {
   "cell_type": "code",
   "execution_count": 210,
   "metadata": {},
   "outputs": [],
   "source": [
    "# tokenize text. update this when you update sequence length\n",
    "\n",
    "tokenizer = Tokenizer()\n",
    "tokenizer.fit_on_texts(final_csv['8K_Content'])\n",
    "\n",
    "\n",
    "seq_len = 300 # set sequence length\n",
    "sequences = tokenizer.texts_to_sequences(final_csv['8K_Content'])\n",
    "data = pad_sequences(sequences, \n",
    "                     maxlen=seq_len, padding='post', \n",
    "                     truncating='post') # takes about 5-10 mins"
   ]
  },
  {
   "cell_type": "code",
   "execution_count": 211,
   "metadata": {},
   "outputs": [
    {
     "data": {
      "text/plain": [
       "926395"
      ]
     },
     "execution_count": 211,
     "metadata": {},
     "output_type": "execute_result"
    }
   ],
   "source": [
    "# vocab size\n",
    "vocabulary_size = max(tokenizer.word_index.values())\n",
    "vocabulary_size"
   ]
  },
  {
   "cell_type": "code",
   "execution_count": 212,
   "metadata": {},
   "outputs": [],
   "source": [
    "final_csv['8K_Content_sequences'] = data.tolist()"
   ]
  },
  {
   "cell_type": "code",
   "execution_count": 213,
   "metadata": {},
   "outputs": [],
   "source": [
    "backup_csv = final_csv"
   ]
  },
  {
   "cell_type": "code",
   "execution_count": 214,
   "metadata": {},
   "outputs": [],
   "source": [
    "original_csv_test = final_csv[final_csv['Year'] >= 2011]"
   ]
  },
  {
   "cell_type": "code",
   "execution_count": 215,
   "metadata": {},
   "outputs": [
    {
     "data": {
      "text/plain": [
       "(26728, 34)"
      ]
     },
     "execution_count": 215,
     "metadata": {},
     "output_type": "execute_result"
    }
   ],
   "source": [
    "original_csv_test.shape"
   ]
  },
  {
   "cell_type": "code",
   "execution_count": 216,
   "metadata": {},
   "outputs": [],
   "source": [
    "X_test = original_csv_test['8K_Content_sequences']\n",
    "y_test = original_csv_test[['down','stay','up']]"
   ]
  },
  {
   "cell_type": "code",
   "execution_count": null,
   "metadata": {},
   "outputs": [],
   "source": []
  },
  {
   "cell_type": "markdown",
   "metadata": {},
   "source": [
    "# LSTM"
   ]
  },
  {
   "cell_type": "code",
   "execution_count": 217,
   "metadata": {},
   "outputs": [],
   "source": [
    "# set model # for saving the model and weights to json and h5\n",
    "model_num = 6"
   ]
  },
  {
   "cell_type": "code",
   "execution_count": 218,
   "metadata": {},
   "outputs": [
    {
     "name": "stdout",
     "output_type": "stream",
     "text": [
      "Loaded model from disk:  model_lstm_6.json and model_lstm_6.h5\n"
     ]
    }
   ],
   "source": [
    "# load model\n",
    "# note: latest file updated 11/30. 3,000 word sequence.\n",
    "\n",
    "# load json and create model\n",
    "json_file = open('model_lstm_%d.json' %model_num, 'r')\n",
    "loaded_model_json = json_file.read()\n",
    "json_file.close()\n",
    "loaded_model = model_from_json(loaded_model_json)\n",
    "\n",
    "# load weights into new model\n",
    "loaded_model.load_weights(\"model_lstm_%d.h5\" %model_num)\n",
    "print(\"Loaded model from disk: \", 'model_lstm_%d.json and model_lstm_%d.h5' %(model_num, model_num))"
   ]
  },
  {
   "cell_type": "code",
   "execution_count": 219,
   "metadata": {},
   "outputs": [
    {
     "name": "stdout",
     "output_type": "stream",
     "text": [
      "acc: 55.08%\n"
     ]
    }
   ],
   "source": [
    "# evaluate loaded model on test data\n",
    "loaded_model.compile(loss='categorical_crossentropy', optimizer='adam', metrics=['accuracy'])\n",
    "# loaded_model.compile(loss='categorical_crossentropy', optimizer='adam', metrics=['accuracy'])\n",
    "score = loaded_model.evaluate(np.array(X_test.values.tolist()), \n",
    "                              np.array(y_test.values.tolist()), verbose=0)\n",
    "print(\"%s: %.2f%%\" % (loaded_model.metrics_names[1], score[1]*100))"
   ]
  },
  {
   "cell_type": "code",
   "execution_count": 220,
   "metadata": {},
   "outputs": [],
   "source": [
    "# predictions \n",
    "preds = loaded_model.predict(np.array(X_test.values.tolist()))"
   ]
  },
  {
   "cell_type": "code",
   "execution_count": 221,
   "metadata": {},
   "outputs": [
    {
     "name": "stdout",
     "output_type": "stream",
     "text": [
      "Saved predictions to disk:  predictions_lstm_6.csv\n"
     ]
    }
   ],
   "source": [
    "# predictions to csv\n",
    "np.savetxt('predictions_lstm_%d.csv' %model_num, preds, delimiter=',')\n",
    "print(\"Saved predictions to disk: \", 'predictions_lstm_%d.csv' %model_num)"
   ]
  },
  {
   "cell_type": "code",
   "execution_count": null,
   "metadata": {},
   "outputs": [],
   "source": []
  },
  {
   "cell_type": "markdown",
   "metadata": {},
   "source": [
    "# CNN"
   ]
  },
  {
   "cell_type": "code",
   "execution_count": 222,
   "metadata": {},
   "outputs": [
    {
     "name": "stdout",
     "output_type": "stream",
     "text": [
      "Loaded model from disk:  model_conv_6.json and model_conv_6.h5\n"
     ]
    }
   ],
   "source": [
    "# load model\n",
    "\n",
    "# load json and create model\n",
    "json_file = open('model_conv_%d.json' %model_num, 'r')\n",
    "loaded_model_json = json_file.read()\n",
    "json_file.close()\n",
    "loaded_model = model_from_json(loaded_model_json)\n",
    "\n",
    "# load weights into new model\n",
    "loaded_model.load_weights(\"model_conv_%d.h5\" %model_num)\n",
    "print(\"Loaded model from disk: \", 'model_conv_%d.json and model_conv_%d.h5' %(model_num, model_num))"
   ]
  },
  {
   "cell_type": "code",
   "execution_count": 223,
   "metadata": {},
   "outputs": [
    {
     "name": "stdout",
     "output_type": "stream",
     "text": [
      "acc: 51.19%\n"
     ]
    }
   ],
   "source": [
    "# evaluate loaded model on test data\n",
    "loaded_model.compile(loss='categorical_crossentropy', optimizer='adam', metrics=['accuracy'])\n",
    "#loaded_model.compile(loss='categorical_crossentropy', optimizer='adam', metrics=['accuracy'])\n",
    "score = loaded_model.evaluate(np.array(X_test.values.tolist()), \n",
    "                              np.array(y_test.values.tolist()), verbose=0)\n",
    "print(\"%s: %.2f%%\" % (loaded_model.metrics_names[1], score[1]*100))"
   ]
  },
  {
   "cell_type": "code",
   "execution_count": 224,
   "metadata": {},
   "outputs": [],
   "source": [
    "# predictions \n",
    "preds = loaded_model.predict(np.array(X_test.values.tolist()))"
   ]
  },
  {
   "cell_type": "code",
   "execution_count": 225,
   "metadata": {},
   "outputs": [
    {
     "name": "stdout",
     "output_type": "stream",
     "text": [
      "Saved predictions to disk:  predictions_conv_6.csv\n"
     ]
    }
   ],
   "source": [
    "# predictions to csv\n",
    "np.savetxt('predictions_conv_%d.csv' %model_num, preds, delimiter=',')\n",
    "print(\"Saved predictions to disk: \", 'predictions_conv_%d.csv' %model_num)"
   ]
  },
  {
   "cell_type": "code",
   "execution_count": 226,
   "metadata": {},
   "outputs": [
    {
     "data": {
      "text/plain": [
       "(107456, 34)"
      ]
     },
     "execution_count": 226,
     "metadata": {},
     "output_type": "execute_result"
    }
   ],
   "source": [
    "final_csv.shape"
   ]
  },
  {
   "cell_type": "code",
   "execution_count": 230,
   "metadata": {},
   "outputs": [
    {
     "data": {
      "text/plain": [
       "(26728, 3)"
      ]
     },
     "execution_count": 230,
     "metadata": {},
     "output_type": "execute_result"
    }
   ],
   "source": [
    "preds.shape"
   ]
  },
  {
   "cell_type": "code",
   "execution_count": null,
   "metadata": {},
   "outputs": [],
   "source": [
    "original_csv"
   ]
  },
  {
   "cell_type": "markdown",
   "metadata": {},
   "source": []
  },
  {
   "cell_type": "markdown",
   "metadata": {},
   "source": []
  },
  {
   "cell_type": "markdown",
   "metadata": {},
   "source": []
  },
  {
   "cell_type": "markdown",
   "metadata": {},
   "source": []
  },
  {
   "cell_type": "markdown",
   "metadata": {},
   "source": []
  }
 ],
 "metadata": {
  "kernelspec": {
   "display_name": "Python 3",
   "language": "python",
   "name": "python3"
  },
  "language_info": {
   "codemirror_mode": {
    "name": "ipython",
    "version": 3
   },
   "file_extension": ".py",
   "mimetype": "text/x-python",
   "name": "python",
   "nbconvert_exporter": "python",
   "pygments_lexer": "ipython3",
   "version": "3.6.5"
  }
 },
 "nbformat": 4,
 "nbformat_minor": 2
}
